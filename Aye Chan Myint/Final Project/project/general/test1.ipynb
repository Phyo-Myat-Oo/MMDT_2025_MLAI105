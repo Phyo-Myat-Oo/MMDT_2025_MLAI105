{
 "cells": [
  {
   "cell_type": "code",
   "execution_count": 21,
   "id": "72f70e7e",
   "metadata": {},
   "outputs": [
    {
     "ename": "ModuleNotFoundError",
     "evalue": "No module named 'matplotlib'",
     "output_type": "error",
     "traceback": [
      "\u001b[1;31m---------------------------------------------------------------------------\u001b[0m",
      "\u001b[1;31mModuleNotFoundError\u001b[0m                       Traceback (most recent call last)",
      "Cell \u001b[1;32mIn[21], line 5\u001b[0m\n\u001b[0;32m      3\u001b[0m \u001b[38;5;28;01mimport\u001b[39;00m\u001b[38;5;250m \u001b[39m\u001b[38;5;21;01mcollections\u001b[39;00m\n\u001b[0;32m      4\u001b[0m \u001b[38;5;28;01mfrom\u001b[39;00m\u001b[38;5;250m \u001b[39m\u001b[38;5;21;01mio\u001b[39;00m\u001b[38;5;250m \u001b[39m\u001b[38;5;28;01mimport\u001b[39;00m StringIO\n\u001b[1;32m----> 5\u001b[0m \u001b[38;5;28;01mimport\u001b[39;00m\u001b[38;5;250m \u001b[39m\u001b[38;5;21;01mmatplotlib\u001b[39;00m\u001b[38;5;21;01m.\u001b[39;00m\u001b[38;5;21;01mpyplot\u001b[39;00m\u001b[38;5;250m \u001b[39m\u001b[38;5;28;01mas\u001b[39;00m\u001b[38;5;250m \u001b[39m\u001b[38;5;21;01mplt\u001b[39;00m\n",
      "\u001b[1;31mModuleNotFoundError\u001b[0m: No module named 'matplotlib'"
     ]
    }
   ],
   "source": [
    "from datasets import load_dataset\n",
    "import pandas as pd\n",
    "import collections\n",
    "from io import StringIO\n",
    "import matplotlib.pyplot as plt"
   ]
  },
  {
   "cell_type": "code",
   "execution_count": 8,
   "id": "5085f298",
   "metadata": {},
   "outputs": [
    {
     "name": "stdout",
     "output_type": "stream",
     "text": [
      "                                                text\n",
      "0          အမိမှန်ပေမယ့်  အဖမမှန်ရင်  မျိုးမစစ်နိုင်\n",
      "1  aphကျိ မိ တဲ့ မျတ်လုံး ကို ဖဲ ရဖောက် ထုတ်ပစ် က...\n",
      "2  ထင်သလို နိပ် စက်ယုတ်မာ လိမ်လည် ကောက်ကျစ် လို့ ...\n",
      "3  Company တွေ မှား နေ ရင် တောင်ဝန်ကြီး တွေ ပြော ...\n",
      "4  တကယ် အံ့ဩ ပါ တယ် က ဘာ မှာ မြေစား တဲ့ သူ တွေ လည...\n"
     ]
    }
   ],
   "source": [
    "dataset = load_dataset(\"simbolo-ai/burmese-hate-speech-small\")\n",
    "\n",
    "df = pd.DataFrame(dataset['train'])\n",
    "print(df.head())\n",
    "df.to_csv('data.csv',index=False)\n",
    "\n"
   ]
  },
  {
   "cell_type": "code",
   "execution_count": null,
   "id": "aabe4aac",
   "metadata": {},
   "outputs": [],
   "source": [
    "dataset2= load_dataset(\"simbolo-ai/encrypted-burmese-hate-speech\")\n",
    "df2 = pd.DataFrame(dataset2['train'])\n",
    "df2.to_csv('data_encrypt.csv',index=False)"
   ]
  },
  {
   "cell_type": "code",
   "execution_count": null,
   "id": "0dda1409",
   "metadata": {},
   "outputs": [],
   "source": []
  },
  {
   "cell_type": "code",
   "execution_count": 17,
   "id": "ed322a94",
   "metadata": {},
   "outputs": [
    {
     "name": "stdout",
     "output_type": "stream",
     "text": [
      "Class distribution in the dataset:\n",
      "  - ab: 5664\n",
      "  - no: 1834\n",
      "  - re: 101\n",
      "  - po: 1032\n",
      "  - se: 291\n",
      "  - bo: 542\n",
      "  - le: 323\n",
      "  - ed: 226\n",
      "  - ra: 122\n",
      "  - : 2\n",
      "  - Tataungsrr/ab တွေ ရယ် မီး ပေး တာ မှ 9 နာရီ က နေ 1 နာရီ ထိ လေး ပဲ လာ ပေး တာ လာ ပေး တဲ့ အချိန် မှာ တောင် ခိုး တဲ့ ဟာ တွေ ခဏခဏ ဖျက် နေ တာ အခု လည်း 11: 1\n",
      "  - /ab: 1\n",
      "  - ab ‌: 1\n",
      "\n",
      "Total number of samples: 10140\n"
     ]
    }
   ],
   "source": [
    "# Replace 'myHateSpeech_ver1.0.txt' with the actual path to your file\n",
    "with open('myHateSpeech_ver1.0.txt', 'r', encoding='utf-8') as file:\n",
    "    file_content = file.read()\n",
    "# Split the content into individual lines\n",
    "lines = file_content.strip().split('\\n')\n",
    "\n",
    "# Initialize a counter to store the class frequencies\n",
    "class_counts = collections.Counter()\n",
    "\n",
    "# Iterate over each line to extract the label\n",
    "for line in lines:\n",
    "    # Skip any empty lines\n",
    "    if not line.strip():\n",
    "        continue\n",
    "    \n",
    "    # Split the line by the tab character\n",
    "    parts = line.split('\\t')\n",
    "    \n",
    "    # The label is the last part of the split string\n",
    "    # Some lines may have multiple labels separated by '|', we'll handle this.\n",
    "    # We take the last part of the line, and then split by '|' if it exists.\n",
    "    last_part = parts[-1]\n",
    "    \n",
    "    # Check if there are multiple labels\n",
    "    if '|' in last_part:\n",
    "        # Split by '|' and get the last label\n",
    "        label = last_part.split('|')[-1]\n",
    "    else:\n",
    "        label = last_part\n",
    "    \n",
    "    # Remove any leading/trailing whitespace from the label\n",
    "    label = label.strip()\n",
    "    \n",
    "    # Update the counter for the extracted label\n",
    "    class_counts[label] += 1\n",
    "\n",
    "# Print the results\n",
    "print(\"Class distribution in the dataset:\")\n",
    "for label, count in class_counts.items():\n",
    "    print(f\"  - {label}: {count}\")\n",
    "\n",
    "print(f\"\\nTotal number of samples: {sum(class_counts.values())}\")"
   ]
  },
  {
   "cell_type": "code",
   "execution_count": null,
   "id": "9bea878d",
   "metadata": {},
   "outputs": [
    {
     "name": "stdout",
     "output_type": "stream",
     "text": [
      "Successfully loaded myHateSpeech_ver1.0.txt\n",
      "\n",
      "DataFrame with top 3 classes saved to 'top_3_hate_speech_data.csv'\n",
      "Top 3 classes distribution:\n",
      "label\n",
      "ab    5664\n",
      "no    1834\n",
      "po    1032\n",
      "Name: count, dtype: int64\n",
      "\n",
      "Successfully loaded data.csv\n",
      "Unlabeled DataFrame head:\n",
      "                                                text\n",
      "0          အမိမှန်ပေမယ့်  အဖမမှန်ရင်  မျိုးမစစ်နိုင်\n",
      "1  aphကျိ မိ တဲ့ မျတ်လုံး ကို ဖဲ ရဖောက် ထုတ်ပစ် က...\n",
      "2  ထင်သလို နိပ် စက်ယုတ်မာ လိမ်လည် ကောက်ကျစ် လို့ ...\n",
      "3  Company တွေ မှား နေ ရင် တောင်ဝန်ကြီး တွေ ပြော ...\n",
      "4  တကယ် အံ့ဩ ပါ တယ် က ဘာ မှာ မြေစား တဲ့ သူ တွေ လည...\n",
      "\n",
      "Unlabeled DataFrame info:\n",
      "<class 'pandas.core.frame.DataFrame'>\n",
      "RangeIndex: 5000 entries, 0 to 4999\n",
      "Data columns (total 1 columns):\n",
      " #   Column  Non-Null Count  Dtype \n",
      "---  ------  --------------  ----- \n",
      " 0   text    5000 non-null   object\n",
      "dtypes: object(1)\n",
      "memory usage: 39.2+ KB\n",
      "\n",
      "Bar chart saved as 'top_3_classes_distribution.png'\n"
     ]
    },
    {
     "data": {
      "image/png": "[encoded data removed]",
      "text/plain": [
       "<Figure size 1000x600 with 1 Axes>"
      ]
     },
     "metadata": {},
     "output_type": "display_data"
    }
   ],
   "source": [
    "\n",
    "\n",
    "# --- PART 1: Process the labeled myHateSpeech_ver1.0.txt data ---\n",
    "\n",
    "# Load the myHateSpeech_ver1.0.txt file\n",
    "# We'll use a tab delimiter and manually provide column names as there is no header.\n",
    "try:\n",
    "    hate_speech_df = pd.read_csv(\n",
    "        'myHateSpeech_ver1.0.txt',\n",
    "        sep='\\t',\n",
    "        header=None,\n",
    "        names=['text', 'label'],\n",
    "        # Set the correct encoding to handle Myanmar script\n",
    "        encoding='utf-8'\n",
    "    )\n",
    "    print(\"Successfully loaded myHateSpeech_ver1.0.txt\")\n",
    "except Exception as e:\n",
    "    print(f\"Error loading file: {e}\")\n",
    "    # Handle potential inconsistent separators by splitting manually\n",
    "    with open('myHateSpeech_ver1.0.txt', 'r', encoding='utf-8') as f:\n",
    "        content = f.read()\n",
    "    rows = [line.split('\\t') for line in content.splitlines() if '\\t' in line]\n",
    "    hate_speech_df = pd.DataFrame(rows, columns=['text', 'label'])\n",
    "\n",
    "# Clean up the labels to handle trailing spaces or inconsistent characters\n",
    "hate_speech_df['label'] = hate_speech_df['label'].str.strip()\n",
    "\n",
    "# Get the top 3 most frequent labels\n",
    "label_counts = hate_speech_df['label'].value_counts()\n",
    "top_3_labels = label_counts.nlargest(3).index.tolist()\n",
    "\n",
    "# Filter the DataFrame to keep only the top 3 classes\n",
    "top_3_df = hate_speech_df[hate_speech_df['label'].isin(top_3_labels)].copy()\n",
    "\n",
    "# Save the top 3 data to a new CSV file\n",
    "top_3_df.to_csv('top_3_hate_speech_data.csv', index=False)\n",
    "print(\"\\nDataFrame with top 3 classes saved to 'top_3_hate_speech_data.csv'\")\n",
    "print(\"Top 3 classes distribution:\")\n",
    "print(top_3_df['label'].value_counts())\n",
    "\n",
    "\n",
    "# --- PART 2: Process the unlabeled data.csv file ---\n",
    "\n",
    "# Load the data.csv file, which only has a 'text' column\n",
    "try:\n",
    "    unlabeled_df = pd.read_csv('data.csv', encoding='utf-8')\n",
    "    print(\"\\nSuccessfully loaded data.csv\")\n",
    "    print(\"Unlabeled DataFrame head:\")\n",
    "    print(unlabeled_df.head())\n",
    "    print(\"\\nUnlabeled DataFrame info:\")\n",
    "    unlabeled_df.info()\n",
    "except Exception as e:\n",
    "    print(f\"Error loading data.csv: {e}\")\n",
    "\n",
    "\n",
    "# --- PART 3: Visualize the Top 3 Classes Distribution ---\n",
    "\n",
    "# Create a bar chart to visualize the distribution of the top 3 classes\n",
    "\n",
    "\n",
    "# Count the number of instances for each of the top 3 labels\n",
    "top_3_counts = top_3_df['label'].value_counts()\n",
    "\n",
    "# Create a figure and axes for the plot\n",
    "plt.figure(figsize=(10, 6))\n",
    "\n",
    "# Plot the bar chart\n",
    "top_3_counts.plot(kind='bar', color='skyblue')\n",
    "\n",
    "# Add titles and labels for clarity\n",
    "plt.title('Distribution of Top 3 Hate Speech Classes')\n",
    "plt.xlabel('Classes')\n",
    "plt.ylabel('Number of Instances')\n",
    "plt.xticks(rotation=45) # Rotate x-axis labels for better readability\n",
    "\n",
    "# Add a grid for easier comparison of bar heights\n",
    "plt.grid(axis='y', linestyle='--', alpha=0.7)\n",
    "\n",
    "# Adjust layout to prevent labels from being cut off\n",
    "plt.tight_layout()\n",
    "\n",
    "# Save the plot to a file\n",
    "plt.savefig('top_3_classes_distribution.png')\n",
    "print(\"\\nBar chart saved as 'top_3_classes_distribution.png'\")\n"
   ]
  }
 ],
 "metadata": {
  "kernelspec": {
   "display_name": "nlp_myanmar",
   "language": "python",
   "name": "python3"
  },
  "language_info": {
   "codemirror_mode": {
    "name": "ipython",
    "version": 3
   },
   "file_extension": ".py",
   "mimetype": "text/x-python",
   "name": "python",
   "nbconvert_exporter": "python",
   "pygments_lexer": "ipython3",
   "version": "3.10.18"
  }
 },
 "nbformat": 4,
 "nbformat_minor": 5
}
