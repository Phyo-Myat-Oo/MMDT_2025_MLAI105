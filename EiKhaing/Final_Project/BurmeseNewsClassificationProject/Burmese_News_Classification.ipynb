{
 "cells": [
  {
   "cell_type": "markdown",
   "id": "2bfa7110",
   "metadata": {},
   "source": [
    "## Import the required libraries"
   ]
  },
  {
   "cell_type": "code",
   "execution_count": 2,
   "id": "04b487e6",
   "metadata": {},
   "outputs": [
    {
     "name": "stdout",
     "output_type": "stream",
     "text": [
      "WARNING:tensorflow:From c:\\Users\\Ellen\\AppData\\Local\\Programs\\Python\\Python310\\lib\\site-packages\\keras\\src\\losses.py:2976: The name tf.losses.sparse_softmax_cross_entropy is deprecated. Please use tf.compat.v1.losses.sparse_softmax_cross_entropy instead.\n",
      "\n"
     ]
    }
   ],
   "source": [
    "import os, random, unicodedata\n",
    "import numpy as np\n",
    "import pandas as pd\n",
    "import matplotlib.pyplot as plt\n",
    "import pyidaungsu as pds\n",
    "import re, json, pickle, joblib\n",
    "\n",
    "from sklearn.model_selection import train_test_split\n",
    "from sklearn.feature_extraction.text import TfidfVectorizer\n",
    "from sklearn.naive_bayes import MultinomialNB\n",
    "from sklearn.pipeline import Pipeline\n",
    "from sklearn.preprocessing import LabelEncoder\n",
    "from sklearn.metrics import classification_report, accuracy_score, f1_score, confusion_matrix\n",
    "from sklearn.utils.class_weight import compute_class_weight\n",
    "\n",
    "import tensorflow as tf\n",
    "from tensorflow.keras.preprocessing.text import Tokenizer\n",
    "from tensorflow.keras.preprocessing.sequence import pad_sequences\n",
    "from tensorflow.keras.utils import to_categorical\n",
    "from tensorflow.keras import layers, models\n",
    "\n",
    "\n",
    "import warnings\n",
    "warnings.filterwarnings(\"ignore\", category=UserWarning, module=\"keras\")"
   ]
  },
  {
   "cell_type": "markdown",
   "id": "efe9d95e",
   "metadata": {},
   "source": [
    "## Step 1: Setup & Data Load"
   ]
  },
  {
   "cell_type": "code",
   "execution_count": 2,
   "id": "c8685004",
   "metadata": {},
   "outputs": [
    {
     "name": "stdout",
     "output_type": "stream",
     "text": [
      "Shape: (1024, 2)\n",
      "                                                News  Category\n",
      "0  တီကျစ်ကျောက် မီးသွေးဓာတ်အားပေး စက်ရုံကို သက်တမ...  business\n",
      "1  ရန်ကုန်တိုင်းအစိုးရ အစီအစဉ်ဖြင့် ရောင်းချမည့် ...  business\n",
      "2  ရန်ကုန်မြို့သစ်စီမံကိန်း အတွက် လမ်းကြောင်းကွန်...  business\n",
      "\n",
      "Class distribution:\n",
      "Category\n",
      "Sports           210\n",
      "entertainment    205\n",
      "crime            204\n",
      "politic          203\n",
      "business         202\n",
      "Name: count, dtype: int64\n"
     ]
    },
    {
     "data": {
      "image/png": "[encoded data removed]",
      "text/plain": [
       "<Figure size 640x480 with 1 Axes>"
      ]
     },
     "metadata": {},
     "output_type": "display_data"
    }
   ],
   "source": [
    "# ---- Reproducibility ----\n",
    "SEED = 42\n",
    "random.seed(SEED)\n",
    "np.random.seed(SEED)\n",
    "\n",
    "# ---- Load Dataset ----\n",
    "DATA_PATH = \"Data/Burmese_News_Dataset.csv\"\n",
    "\n",
    "if not os.path.exists(DATA_PATH):\n",
    "    raise FileNotFoundError(f\"DATA_PATH not found: {DATA_PATH}\")\n",
    "\n",
    "df = pd.read_csv(DATA_PATH, encoding=\"utf-8\")\n",
    "\n",
    "# Keep only what I need and clean up\n",
    "df = df[[\"News\", \"Category\"]].copy()\n",
    "df[\"News\"] = df[\"News\"].astype(str).str.strip() # Convert to strings and trim whitespace to avoids surprises like integers/NaNs sneaking in as types.\n",
    "df[\"Category\"] = df[\"Category\"].astype(str).str.strip()\n",
    "\n",
    "# Drop empty / null\n",
    "df = df.replace({\"News\": {\"\": np.nan}}).dropna(subset=[\"News\", \"Category\"]).reset_index(drop=True)\n",
    "\n",
    "print(\"Shape:\", df.shape)\n",
    "print(df.head(3))\n",
    "\n",
    "# ----- Class distribution -----\n",
    "counts = df[\"Category\"].value_counts()\n",
    "print(\"\\nClass distribution:\")\n",
    "print(counts)\n",
    "\n",
    "ax = counts.plot(kind=\"bar\", rot=0, title=\"Class Counts\")\n",
    "for i, v in enumerate(counts.values):\n",
    "    plt.text(i, v + 0.5, str(v), ha=\"center\")\n",
    "plt.tight_layout() # to prevent label cut-offs.\n",
    "plt.show()"
   ]
  },
  {
   "cell_type": "markdown",
   "id": "9b14138e",
   "metadata": {},
   "source": [
    "## Step 2: Data Preprocessing"
   ]
  },
  {
   "cell_type": "markdown",
   "id": "92c4d5aa",
   "metadata": {},
   "source": [
    "#### Tokenization, Unicode Normalization and Stopword Removal"
   ]
  },
  {
   "cell_type": "code",
   "execution_count": 3,
   "id": "43e7cf99",
   "metadata": {},
   "outputs": [
    {
     "name": "stdout",
     "output_type": "stream",
     "text": [
      "Loaded 395 stopwords from: stopwords.txt\n"
     ]
    }
   ],
   "source": [
    "# %pip install pyidaungsu scikit-learn joblib\n",
    "\n",
    "### Load custom Burmese stopwords and integrate with tokenizer\n",
    "STOPWORDS_FILE = \"stopwords.txt\"\n",
    "def load_stopwords(path):\n",
    "    import os, unicodedata\n",
    "    sw = set()\n",
    "    if os.path.exists(path):\n",
    "        with open(path, \"r\", encoding=\"utf-8\", errors=\"ignore\") as f:\n",
    "            for line in f:\n",
    "                w = unicodedata.normalize(\"NFC\", line.strip().lower())  # Unicode normalization\n",
    "                if w:  # skip blanks\n",
    "                    sw.add(w)\n",
    "        print(f\"Loaded {len(sw)} stopwords from: {path}\")\n",
    "    else:\n",
    "        print(f\"WARNING: stopwords file not found at {path}. Proceeding without stopword removal.\")\n",
    "    return sw\n",
    "\n",
    "STOPWORDS = load_stopwords(STOPWORDS_FILE)\n",
    "\n",
    "### Text cleaning + tokenization \n",
    "'''\n",
    "My Regex explanation: finds all runs of whitespace characters\n",
    " - \\s → matches any whitespace (spaces, tabs, newlines).\n",
    " - \\u00A0 → matches the non-breaking space (common in copied text, HTML, PDFs).\n",
    " - + → matches one or more in a row. \n",
    "'''\n",
    "_WHITESPACE_RE = re.compile(r\"[\\s\\u00A0]+\")\n",
    "\n",
    "def normalize_unicode(text: str) -> str:\n",
    "    return unicodedata.normalize(\"NFC\", text or \"\")\n",
    "\n",
    "def clean_text(text: str) -> str:\n",
    "    t = normalize_unicode(text)\n",
    "    t = _WHITESPACE_RE.sub(\" \", t).strip() # To replace all runs of whitespace with a single space.\n",
    "    return t\n",
    "\n",
    "def tokenize_burmese(text: str) -> list[str]:\n",
    "    t = clean_text(text)\n",
    "    toks = pds.tokenize(t, form=\"word\")   # To do the burmese word segmentation using pyidaungsu library\n",
    "    toks = [tok.lower().strip() for tok in toks if tok.strip()] # Lowercase tokens (I belive it will be useful for mixed English)\n",
    "    # To remove custom stopwords\n",
    "    if STOPWORDS:\n",
    "        toks = [tok for tok in toks if tok not in STOPWORDS]\n",
    "    return toks\n",
    "\n",
    "\n"
   ]
  },
  {
   "cell_type": "markdown",
   "id": "2ea76043",
   "metadata": {},
   "source": [
    "#### Select Features and Target"
   ]
  },
  {
   "cell_type": "code",
   "execution_count": 4,
   "id": "a735fb96",
   "metadata": {},
   "outputs": [
    {
     "name": "stdout",
     "output_type": "stream",
     "text": [
      "Train size: 819 | Test size: 205\n"
     ]
    }
   ],
   "source": [
    "# --- Train/Test split (stratified) ---\n",
    "X = df[\"News\"].astype(str).values\n",
    "y = df[\"Category\"].astype(str).values\n",
    "\n",
    "X_train, X_test, y_train, y_test = train_test_split(\n",
    "            X, y, test_size=0.2, random_state=42, stratify=y)\n",
    "\n",
    "print(f\"Train size: {len(X_train)} | Test size: {len(X_test)}\")"
   ]
  },
  {
   "cell_type": "markdown",
   "id": "45ead97f",
   "metadata": {},
   "source": [
    "## Step 3: Model Training"
   ]
  },
  {
   "cell_type": "markdown",
   "id": "dc8ebfd6",
   "metadata": {},
   "source": [
    "#### Baseline pipeline: TF-IDF (uni/bi-grams) + Naive Bayes"
   ]
  },
  {
   "cell_type": "code",
   "execution_count": 5,
   "id": "e8dc7ca1",
   "metadata": {},
   "outputs": [
    {
     "name": "stdout",
     "output_type": "stream",
     "text": [
      "\n",
      "[NB] Accuracy:  0.8634\n",
      "[NB] Macro-F1:  0.8606\n",
      "\n",
      "Classification Report (NB):\n",
      "               precision    recall  f1-score   support\n",
      "\n",
      "       Sports       0.84      0.64      0.73        42\n",
      "     business       0.89      0.97      0.93        40\n",
      "        crime       0.83      0.95      0.89        41\n",
      "entertainment       0.81      0.85      0.83        41\n",
      "      politic       0.95      0.90      0.93        41\n",
      "\n",
      "     accuracy                           0.86       205\n",
      "    macro avg       0.86      0.87      0.86       205\n",
      " weighted avg       0.86      0.86      0.86       205\n",
      "\n"
     ]
    },
    {
     "data": {
      "image/png": "[encoded data removed]",
      "text/plain": [
       "<Figure size 600x500 with 1 Axes>"
      ]
     },
     "metadata": {},
     "output_type": "display_data"
    },
    {
     "name": "stdout",
     "output_type": "stream",
     "text": [
      "Saved -> nb_tfidf.joblib\n"
     ]
    }
   ],
   "source": [
    "### Baseline pipeline: TF-IDF (uni/bi-grams) + Naive Bayes ###\n",
    "nb_pipeline = Pipeline([\n",
    "        (\"tfidf\", TfidfVectorizer(\n",
    "            tokenizer = tokenize_burmese,\n",
    "            token_pattern = None, # since I am using my custom tokenizer, I just set as 'None' to avoid warning msg.\n",
    "            ngram_range = (1, 2),\n",
    "            min_df = 3,\n",
    "            max_df = 0.95\n",
    "        )),\n",
    "        (\"clf\", MultinomialNB())\n",
    "    ])\n",
    "\n",
    "nb_pipeline.fit(X_train, y_train)\n",
    "nb_preds = nb_pipeline.predict(X_test)\n",
    "\n",
    "# --- Metrics ---\n",
    "nb_acc = accuracy_score(y_test, nb_preds)\n",
    "nb_f1  = f1_score(y_test, nb_preds, average=\"macro\")\n",
    "print(f\"\\n[NB] Accuracy:  {nb_acc:.4f}\")\n",
    "print(f\"[NB] Macro-F1:  {nb_f1:.4f}\\n\")\n",
    "print(\"Classification Report (NB):\")\n",
    "print(classification_report(y_test, nb_preds))\n",
    "\n",
    "### Confusion matrix plot ###\n",
    "classes = sorted(df[\"Category\"].unique())\n",
    "cm = confusion_matrix(y_test, nb_preds, labels=classes)\n",
    "\n",
    "fig, ax = plt.subplots(figsize=(6, 5))\n",
    "im = ax.imshow(cm, interpolation=\"nearest\")\n",
    "ax.set_title(\"Confusion Matrix (Naive Bayes)\")\n",
    "ax.set_xticks(range(len(classes))); ax.set_xticklabels(classes, rotation=45, ha=\"right\")\n",
    "ax.set_yticks(range(len(classes))); ax.set_yticklabels(classes)\n",
    "for i in range(cm.shape[0]):\n",
    "    for j in range(cm.shape[1]):\n",
    "        ax.text(j, i, cm[i, j], ha=\"center\", va=\"center\")\n",
    "plt.tight_layout()\n",
    "plt.show()\n",
    "\n",
    "# --- Save baseline for later inference ---\n",
    "joblib.dump(nb_pipeline, \"models/nb_tfidf.joblib\")\n",
    "print(\"Saved -> nb_tfidf.joblib\")"
   ]
  },
  {
   "cell_type": "markdown",
   "id": "3280a88a",
   "metadata": {},
   "source": [
    "#### BiLSTM Model"
   ]
  },
  {
   "cell_type": "markdown",
   "id": "32e192bc",
   "metadata": {},
   "source": [
    "##### Prepare data (Tokenize → sequences → pad (train/test))"
   ]
  },
  {
   "cell_type": "code",
   "execution_count": 6,
   "id": "e175faa9",
   "metadata": {},
   "outputs": [
    {
     "name": "stdout",
     "output_type": "stream",
     "text": [
      "Using MAX_LEN = 350\n",
      "Vocab size (capped): 16709 | Train: (819, 350) | Test: (205, 350)\n"
     ]
    }
   ],
   "source": [
    "##### Prepare data (Tokenize → sequences → pad (train/test))\n",
    "\n",
    "#  Tokenized texts -> sequences -> pad \n",
    "\n",
    "# 1) Prepare tokenized text and join them\n",
    "train_tok_texts = [\" \".join(tokenize_burmese(t)) for t in X_train]\n",
    "test_tok_texts  = [\" \".join(tokenize_burmese(t)) for t in X_test]\n",
    "\n",
    "# 2) Label encode -> one-hot\n",
    "# LabelEncoder creates a stable mapping (e.g., Business -> 0, Politics -> 1, …).\n",
    "# One-hot targets are required by softmax + categorical cross-entropy.\n",
    "le = LabelEncoder() \n",
    "y_train_idx = le.fit_transform(y_train)\n",
    "y_test_idx  = le.transform(y_test)\n",
    "num_classes = len(le.classes_)\n",
    "Y_train = to_categorical(y_train_idx, num_classes=num_classes)\n",
    "Y_test  = to_categorical(y_test_idx,  num_classes=num_classes)\n",
    "\n",
    "# 3) Build a Keras tokenizer on TRAIN only\n",
    "'''\n",
    " - Fit on train only to avoid test leakage.\n",
    " - oov_token maps unseen words at inference to <unk> so the model won't crash.\n",
    " - MAX_TOKENS = 40000 caps vocab size to keep the model compact.\n",
    "'''\n",
    "MAX_TOKENS = 40000\n",
    "tok = Tokenizer(num_words=MAX_TOKENS, oov_token=\"<unk>\")\n",
    "tok.fit_on_texts(train_tok_texts)\n",
    "\n",
    "# 4) Text --> Integer Sequences\n",
    "# Each token becomes its index in the vocab (1..MAX_TOKENS).\n",
    "# Replaces each token with its vocab index (1..num_words-1). Tokens outside the top num_words become <unk>.\n",
    "Xtr_seq = tok.texts_to_sequences(train_tok_texts)\n",
    "Xte_seq = tok.texts_to_sequences(test_tok_texts)\n",
    "\n",
    "# 5) Sequence length + padding\n",
    "# lengths = [len(s) for s in Xtr_seq]\n",
    "# p95 = int(np.percentile(lengths, 95))\n",
    "# MAX_LEN = int(min(300, max(120, p95)))\n",
    "# print(f\"95th percentile len = {p95} | Using MAX_LEN = {MAX_LEN}\")\n",
    "\n",
    "MAX_LEN = 350  # Fixed length so batches are rectangular tensors.\n",
    "print(f\"Using MAX_LEN = {MAX_LEN}\")\n",
    "\n",
    "# post padding/truncation keeps the earliest tokens (often most informative for news).\n",
    "Xtr = pad_sequences(Xtr_seq, maxlen=MAX_LEN, padding=\"post\", truncating=\"post\")\n",
    "Xte = pad_sequences(Xte_seq, maxlen=MAX_LEN, padding=\"post\", truncating=\"post\")\n",
    "\n",
    "# 6) Vocab size (no custom emb_matrix; we’ll use Keras default init)\n",
    "vocab_size = min(MAX_TOKENS, len(tok.word_index) + 1)\n",
    "print(\"Vocab size (capped):\", vocab_size, \"| Train:\", Xtr.shape, \"| Test:\", Xte.shape)\n",
    "\n",
    "EMB_DIM = 300  # keep your chosen embedding dimension\n"
   ]
  },
  {
   "cell_type": "markdown",
   "id": "88321f72",
   "metadata": {},
   "source": [
    "##### Build, train, and evaluate BiLSTM"
   ]
  },
  {
   "cell_type": "code",
   "execution_count": 7,
   "id": "6ca5cf14",
   "metadata": {},
   "outputs": [
    {
     "name": "stdout",
     "output_type": "stream",
     "text": [
      "Class weights: {'Sports': 0.975, 'business': 1.011111111111111, 'crime': 1.0049079754601227, 'entertainment': 0.998780487804878, 'politic': 1.011111111111111}\n",
      "WARNING:tensorflow:From c:\\Users\\Ellen\\AppData\\Local\\Programs\\Python\\Python310\\lib\\site-packages\\keras\\src\\backend.py:1398: The name tf.executing_eagerly_outside_functions is deprecated. Please use tf.compat.v1.executing_eagerly_outside_functions instead.\n",
      "\n",
      "Model: \"model\"\n",
      "_________________________________________________________________\n",
      " Layer (type)                Output Shape              Param #   \n",
      "=================================================================\n",
      " input_1 (InputLayer)        [(None, 350)]             0         \n",
      "                                                                 \n",
      " embed (Embedding)           (None, 350, 300)          5012700   \n",
      "                                                                 \n",
      " bidirectional (Bidirection  (None, 350, 256)          439296    \n",
      " al)                                                             \n",
      "                                                                 \n",
      " dropout (Dropout)           (None, 350, 256)          0         \n",
      "                                                                 \n",
      " global_max_pooling1d (Glob  (None, 256)               0         \n",
      " alMaxPooling1D)                                                 \n",
      "                                                                 \n",
      " dense (Dense)               (None, 128)               32896     \n",
      "                                                                 \n",
      " dropout_1 (Dropout)         (None, 128)               0         \n",
      "                                                                 \n",
      " dense_1 (Dense)             (None, 5)                 645       \n",
      "                                                                 \n",
      "=================================================================\n",
      "Total params: 5485537 (20.93 MB)\n",
      "Trainable params: 5485537 (20.93 MB)\n",
      "Non-trainable params: 0 (0.00 Byte)\n",
      "_________________________________________________________________\n",
      "Epoch 1/20\n",
      "WARNING:tensorflow:From c:\\Users\\Ellen\\AppData\\Local\\Programs\\Python\\Python310\\lib\\site-packages\\keras\\src\\utils\\tf_utils.py:492: The name tf.ragged.RaggedTensorValue is deprecated. Please use tf.compat.v1.ragged.RaggedTensorValue instead.\n",
      "\n",
      "WARNING:tensorflow:From c:\\Users\\Ellen\\AppData\\Local\\Programs\\Python\\Python310\\lib\\site-packages\\keras\\src\\engine\\base_layer_utils.py:384: The name tf.executing_eagerly_outside_functions is deprecated. Please use tf.compat.v1.executing_eagerly_outside_functions instead.\n",
      "\n",
      "12/12 [==============================] - 171s 14s/step - loss: 1.5629 - accuracy: 0.3270 - val_loss: 1.5264 - val_accuracy: 0.5732 - lr: 0.0010\n",
      "Epoch 2/20\n",
      "12/12 [==============================] - 189s 16s/step - loss: 1.2096 - accuracy: 0.6309 - val_loss: 1.0688 - val_accuracy: 0.7195 - lr: 0.0010\n",
      "Epoch 3/20\n",
      "12/12 [==============================] - 211s 17s/step - loss: 0.7752 - accuracy: 0.8033 - val_loss: 0.8217 - val_accuracy: 0.7561 - lr: 0.0010\n",
      "Epoch 4/20\n",
      "12/12 [==============================] - 198s 16s/step - loss: 0.4749 - accuracy: 0.9322 - val_loss: 0.5827 - val_accuracy: 0.8780 - lr: 0.0010\n",
      "Epoch 5/20\n",
      "12/12 [==============================] - 903s 80s/step - loss: 0.2173 - accuracy: 0.9729 - val_loss: 0.4059 - val_accuracy: 0.8902 - lr: 0.0010\n",
      "Epoch 6/20\n",
      "12/12 [==============================] - 219s 18s/step - loss: 0.1088 - accuracy: 0.9824 - val_loss: 0.3220 - val_accuracy: 0.9268 - lr: 0.0010\n",
      "Epoch 7/20\n",
      "12/12 [==============================] - 208s 17s/step - loss: 0.0471 - accuracy: 0.9919 - val_loss: 0.3609 - val_accuracy: 0.9024 - lr: 0.0010\n",
      "Epoch 8/20\n",
      "12/12 [==============================] - 213s 18s/step - loss: 0.0212 - accuracy: 0.9959 - val_loss: 0.3495 - val_accuracy: 0.9024 - lr: 0.0010\n",
      "Epoch 9/20\n",
      "12/12 [==============================] - 213s 18s/step - loss: 0.0209 - accuracy: 0.9973 - val_loss: 0.3925 - val_accuracy: 0.8902 - lr: 5.0000e-04\n",
      "Epoch 10/20\n",
      "12/12 [==============================] - 211s 18s/step - loss: 0.0088 - accuracy: 0.9986 - val_loss: 0.2886 - val_accuracy: 0.9268 - lr: 5.0000e-04\n",
      "\n",
      "[BiLSTM] Accuracy:  0.8976\n",
      "[BiLSTM] Macro-F1:  0.8966\n",
      "\n",
      "Classification Report (BiLSTM):\n",
      "               precision    recall  f1-score   support\n",
      "\n",
      "       Sports       0.86      1.00      0.92        42\n",
      "     business       0.87      0.97      0.92        40\n",
      "        crime       0.94      0.83      0.88        41\n",
      "entertainment       0.97      0.85      0.91        41\n",
      "      politic       0.87      0.83      0.85        41\n",
      "\n",
      "     accuracy                           0.90       205\n",
      "    macro avg       0.90      0.90      0.90       205\n",
      " weighted avg       0.90      0.90      0.90       205\n",
      "\n"
     ]
    },
    {
     "data": {
      "image/png": "[encoded data removed]",
      "text/plain": [
       "<Figure size 600x500 with 1 Axes>"
      ]
     },
     "metadata": {},
     "output_type": "display_data"
    }
   ],
   "source": [
    "##### Build, train, and evaluate BiLSTM\n",
    "\n",
    "# 1) Class weights (Gives rarer classes more weight in the loss.)\n",
    "classes_idx = np.unique(y_train_idx)\n",
    "cw = compute_class_weight(class_weight=\"balanced\", classes=classes_idx, y=y_train_idx)\n",
    "class_weight = {int(c): float(w) for c, w in zip(classes_idx, cw)}\n",
    "print(\"Class weights:\", {le.classes_[k]: v for k, v in class_weight.items()})\n",
    "\n",
    "# 2) Model \n",
    "def build_bilstm(vocab_size, emb_dim, max_len, num_classes):\n",
    "    inp = layers.Input(shape=(max_len,), dtype=\"int32\")\n",
    "    emb = layers.Embedding(\n",
    "            input_dim=vocab_size,\n",
    "            output_dim=emb_dim,\n",
    "            mask_zero=True,\n",
    "            name=\"embed\"\n",
    "        )(inp)\n",
    "\n",
    "    x = layers.Bidirectional(layers.LSTM(128, return_sequences=True))(emb)\n",
    "    x = layers.Dropout(0.35)(x)\n",
    "    x = layers.GlobalMaxPooling1D()(x)\n",
    "    x = layers.Dense(128, activation=\"relu\")(x)\n",
    "    x = layers.Dropout(0.35)(x)\n",
    "    out = layers.Dense(num_classes, activation=\"softmax\")(x)\n",
    "\n",
    "    model = models.Model(inp, out)\n",
    "    model.compile(\n",
    "        optimizer=tf.keras.optimizers.Adam(0.001),\n",
    "        loss=\"categorical_crossentropy\",\n",
    "        metrics=[\"accuracy\"]\n",
    "    )\n",
    "    return model\n",
    "\n",
    "lstm_model = build_bilstm(vocab_size, EMB_DIM, MAX_LEN, num_classes)\n",
    "lstm_model.summary()\n",
    "\n",
    "callbacks = [\n",
    "    tf.keras.callbacks.EarlyStopping(monitor=\"val_accuracy\", patience=4, restore_best_weights=True),\n",
    "    tf.keras.callbacks.ReduceLROnPlateau(monitor=\"val_accuracy\", factor=0.5, patience=2, min_lr=0.00001),\n",
    "]\n",
    "\n",
    "history = lstm_model.fit(\n",
    "    Xtr, Y_train,\n",
    "    validation_split=0.1,\n",
    "    epochs=20,\n",
    "    batch_size=64,\n",
    "    class_weight=class_weight,\n",
    "    callbacks=callbacks,\n",
    "    verbose=1\n",
    ")\n",
    "\n",
    "# 3) Evaluate\n",
    "test_loss, test_acc = lstm_model.evaluate(Xte, Y_test, verbose=0)\n",
    "y_prob = lstm_model.predict(Xte, verbose=0)\n",
    "y_pred = y_prob.argmax(axis=1) # predicted class index\n",
    "y_true = Y_test.argmax(axis=1) # true class index \n",
    "\n",
    "print(f\"\\n[BiLSTM] Accuracy:  {test_acc:.4f}\")\n",
    "print(f\"[BiLSTM] Macro-F1:  {f1_score(y_true, y_pred, average='macro'):.4f}\\n\")\n",
    "print(\"Classification Report (BiLSTM):\")\n",
    "print(classification_report(y_true, y_pred, target_names=le.classes_))\n",
    "\n",
    "cm = confusion_matrix(y_true, y_pred, labels=range(len(le.classes_)))\n",
    "fig, ax = plt.subplots(figsize=(6,5))\n",
    "ax.imshow(cm, interpolation=\"nearest\")\n",
    "ax.set_title(\"Confusion Matrix — BiLSTM\")\n",
    "ax.set_xticks(range(len(le.classes_))); ax.set_xticklabels(le.classes_, rotation=45, ha=\"right\")\n",
    "ax.set_yticks(range(len(le.classes_))); ax.set_yticklabels(le.classes_)\n",
    "for i in range(cm.shape[0]):\n",
    "    for j in range(cm.shape[1]):\n",
    "        ax.text(j, i, cm[i, j], ha=\"center\", va=\"center\")\n",
    "plt.tight_layout(); plt.show()\n"
   ]
  },
  {
   "cell_type": "markdown",
   "id": "0809256a",
   "metadata": {},
   "source": [
    "## Step 4: Save artifacts"
   ]
  },
  {
   "cell_type": "code",
   "execution_count": 8,
   "id": "9908d7fb",
   "metadata": {},
   "outputs": [
    {
     "name": "stdout",
     "output_type": "stream",
     "text": [
      "Saved models + config + metrics to ./models/\n",
      "NB: {'accuracy': 0.8634146341463415, 'macro_f1': 0.8605996255996257}\n",
      "BiLSTM: {'accuracy': 0.8975609756097561, 'macro_f1': 0.896586354821649}\n"
     ]
    }
   ],
   "source": [
    "# --- save models ---\n",
    "tf.keras.models.save_model(lstm_model, \"models/bilstm_mynews.keras\")\n",
    "with open(\"models/keras_tokenizer.pkl\",\"wb\") as f: pickle.dump(tok, f)\n",
    "with open(\"models/label_encoder.pkl\",\"wb\") as f: pickle.dump(le, f)\n",
    "\n",
    "# --- config reflects the new padding length ---\n",
    "cfg = {\"MAX_LEN\": 350, \"classes\": list(le.classes_)}\n",
    "with open(\"models/config.json\",\"w\",encoding=\"utf-8\") as f:\n",
    "    json.dump(cfg, f, ensure_ascii=False, indent=2)\n",
    "\n",
    "# --- save NB baseline too ---\n",
    "joblib.dump(nb_pipeline, \"models/nb_tfidf.joblib\")\n",
    "\n",
    "# --- record metrics on the held-out test set ---\n",
    "nb_preds = nb_pipeline.predict(X_test)\n",
    "nb_metrics = {\n",
    "    \"accuracy\": float(accuracy_score(y_test, nb_preds)),\n",
    "    \"macro_f1\": float(f1_score(y_test, nb_preds, average=\"macro\"))\n",
    "}\n",
    "\n",
    "dl_prob = lstm_model.predict(Xte, verbose=0)\n",
    "dl_metrics = {\n",
    "    \"accuracy\": float((dl_prob.argmax(1) == Y_test.argmax(1)).mean()),\n",
    "    \"macro_f1\": float(f1_score(Y_test.argmax(1), dl_prob.argmax(1), average=\"macro\"))\n",
    "}\n",
    "\n",
    "with open(\"models/metrics.json\",\"w\",encoding=\"utf-8\") as f:\n",
    "    json.dump({\"nb\": nb_metrics, \"bilstm\": dl_metrics}, f, ensure_ascii=False, indent=2)\n",
    "\n",
    "print(\"Saved models + config + metrics to ./models/\")\n",
    "print(\"NB:\", nb_metrics)\n",
    "print(\"BiLSTM:\", dl_metrics)\n"
   ]
  },
  {
   "cell_type": "markdown",
   "id": "da75bf1d",
   "metadata": {},
   "source": [
    "## Step 5: Single-text inference (both models)"
   ]
  },
  {
   "cell_type": "code",
   "execution_count": 12,
   "id": "8de36ebc",
   "metadata": {},
   "outputs": [
    {
     "name": "stdout",
     "output_type": "stream",
     "text": [
      "('Sports', 0.7470835447311401)\n",
      "('Sports', 0.4527711786775616)\n",
      "\n",
      "\n",
      "('Sports', 0.28068408370018005)\n",
      "('business', 0.25222589738119056)\n",
      "\n",
      "\n",
      "('politic', 0.5012542605400085)\n",
      "('politic', 0.5472996689983488)\n"
     ]
    }
   ],
   "source": [
    "# Preprocessing helpers\n",
    "_WS = re.compile(r\"[\\s\\u00A0]+\")\n",
    "def _norm(t): return unicodedata.normalize(\"NFC\", t or \"\")\n",
    "def _clean(t): return _WS.sub(\" \", _norm(t)).strip()\n",
    "def tokenize_burmese(t):\n",
    "    toks = pds.tokenize(_clean(t), form=\"word\")\n",
    "    return [x.lower().strip() for x in toks if x.strip()]\n",
    "\n",
    "class BurmeseNewsPredictor:\n",
    "    def __init__(self, models_dir=\"models\"):\n",
    "        self.nb = joblib.load(os.path.join(models_dir, \"nb_tfidf.joblib\"))\n",
    "        self.model = tf.keras.models.load_model(os.path.join(models_dir, \"bilstm_mynews.keras\"), compile=False)\n",
    "        self.tok = pickle.load(open(os.path.join(models_dir, \"keras_tokenizer.pkl\"), \"rb\"))\n",
    "        self.le  = pickle.load(open(os.path.join(models_dir, \"label_encoder.pkl\"), \"rb\"))\n",
    "        self.cfg = json.load(open(os.path.join(models_dir, \"config.json\"), \"r\", encoding=\"utf-8\"))\n",
    "        self.max_len = int(self.cfg[\"MAX_LEN\"])\n",
    "\n",
    "    def predict_nb(self, text):\n",
    "        #print(self.nb)\n",
    "        proba = self.nb.predict_proba([text])[0]\n",
    "        #print(proba)\n",
    "        i = int(np.argmax(proba))\n",
    "        return self.nb.classes_[i], float(proba[i])\n",
    "\n",
    "    def predict_bilstm(self, text):\n",
    "        toks = \" \".join(tokenize_burmese(text))\n",
    "        seq = self.tok.texts_to_sequences([toks])\n",
    "        pad = pad_sequences(seq, maxlen=self.max_len, padding=\"post\", truncating=\"post\")\n",
    "        probs = self.model.predict(pad, verbose=0)[0]\n",
    "        i = int(np.argmax(probs))\n",
    "        return self.le.classes_[i], float(probs[i])\n",
    "\n",
    "# To make test\n",
    "pred = BurmeseNewsPredictor()\n",
    "print(pred.predict_bilstm(\"အားကစား ပြိုင်ပွဲတွင် အသင်းက ချန်ပီယံ ရရှိခဲ့သည်။\"))\n",
    "print(pred.predict_nb(\"အားကစား ပြိုင်ပွဲတွင် အသင်းက ချန်ပီယံ ရရှိခဲ့သည်။\"))\n",
    "print(\"\\n\")\n",
    "print(pred.predict_bilstm(\"စိတ်ကျရောဂါ နှင့် ကွန်ပျူတာ သုံးစွဲမှု ပေါ်လစီ အစိုးရက အသစ်ထုတ်ပြန်ရှိ\"))\n",
    "print(pred.predict_nb(\"စိတ်ကျရောဂါ နှင့် ကွန်ပျူတာ သုံးစွဲမှု ပေါ်လစီ အစိုးရက အသစ်ထုတ်ပြန်ရှိ\"))\n",
    "print(\"\\n\")\n",
    "print(pred.predict_bilstm(\"တိုက်ပွဲများ ပြင်းထန်နေခြင်းတို့နှင့်အတူ မြန်မာနိုင်ငံ၌ ဖြစ်ပွားနေသည့် ပဋိပက္ခသည် အာဆီယံအတွက် ကိုင်တွယ်ဖြေရှင်းရန် ခက်ခဲသော ပြဿနာဖြစ်နေခဲ့ကြောင်း ဖိလစ်ပိုင်သမ္မတ ဖာဒီနန်မားကို့စ်က ပြောကြားသည်။\"))\n",
    "print(pred.predict_nb(\"တိုက်ပွဲများ ပြင်းထန်နေခြင်းတို့နှင့်အတူ မြန်မာနိုင်ငံ၌ ဖြစ်ပွားနေသည့် ပဋိပက္ခသည် အာဆီယံအတွက် ကိုင်တွယ်ဖြေရှင်းရန် ခက်ခဲသော ပြဿနာဖြစ်နေခဲ့ကြောင်း ဖိလစ်ပိုင်သမ္မတ ဖာဒီနန်မားကို့စ်က ပြောကြားသည်။\"))\n"
   ]
  },
  {
   "cell_type": "code",
   "execution_count": 10,
   "id": "b6a834c4",
   "metadata": {},
   "outputs": [],
   "source": [
    "def run_batch(input_csv, output_csv, text_col=\"News\", model=\"bilstm\"):\n",
    "    pred = BurmeseNewsPredictor()\n",
    "    df = pd.read_csv(input_csv)\n",
    "    texts = df[text_col].astype(str).tolist()\n",
    "    if model in (\"nb\",\"both\"):\n",
    "        nb = [pred.predict_nb(t) for t in texts]\n",
    "        df[\"nb_label\"] = [x[0] for x in nb]; df[\"nb_conf\"] = [x[1] for x in nb]\n",
    "    if model in (\"bilstm\",\"both\"):\n",
    "        dl = [pred.predict_bilstm(t) for t in texts]\n",
    "        df[\"bilstm_label\"] = [x[0] for x in dl]; df[\"bilstm_conf\"] = [x[1] for x in dl]\n",
    "    df.to_csv(output_csv, index=False); print(\"Saved ->\", output_csv)\n"
   ]
  },
  {
   "cell_type": "code",
   "execution_count": 11,
   "id": "200261a6",
   "metadata": {},
   "outputs": [
    {
     "name": "stdout",
     "output_type": "stream",
     "text": [
      "Saved -> Data/Burmese_News_Dataset_Result.csv\n"
     ]
    }
   ],
   "source": [
    "run_batch(\"Data/Burmese_News_Dataset.csv\", \"Data/Burmese_News_Dataset_Result.csv\", text_col=\"News\", model=\"both\")"
   ]
  }
 ],
 "metadata": {
  "kernelspec": {
   "display_name": "Python 3",
   "language": "python",
   "name": "python3"
  },
  "language_info": {
   "codemirror_mode": {
    "name": "ipython",
    "version": 3
   },
   "file_extension": ".py",
   "mimetype": "text/x-python",
   "name": "python",
   "nbconvert_exporter": "python",
   "pygments_lexer": "ipython3",
   "version": "3.10.0"
  }
 },
 "nbformat": 4,
 "nbformat_minor": 5
}
