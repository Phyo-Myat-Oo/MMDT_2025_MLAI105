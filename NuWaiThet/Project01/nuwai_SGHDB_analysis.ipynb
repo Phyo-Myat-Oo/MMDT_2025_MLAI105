{
 "cells": [
  {
   "cell_type": "code",
   "execution_count": 36,
   "metadata": {},
   "outputs": [],
   "source": [
    "#pip install tensorflow\n",
    "# pip uninstall tensorflow -y"
   ]
  },
  {
   "cell_type": "code",
   "execution_count": 3,
   "metadata": {},
   "outputs": [
    {
     "name": "stdout",
     "output_type": "stream",
     "text": [
      "2.13.0\n"
     ]
    }
   ],
   "source": [
    "import tensorflow as tf\n",
    "print(tf.__version__)\n"
   ]
  },
  {
   "cell_type": "code",
   "execution_count": 2,
   "metadata": {},
   "outputs": [
    {
     "name": "stdout",
     "output_type": "stream",
     "text": [
      "Name: tensorflow\n",
      "Version: 2.13.0\n",
      "Summary: TensorFlow is an open source machine learning framework for everyone.\n",
      "Home-page: https://www.tensorflow.org/\n",
      "Author: Google Inc.\n",
      "Author-email: packages@tensorflow.org\n",
      "License: Apache 2.0\n",
      "Location: c:\\users\\nuwai\\anaconda3\\envs\\myenv\\lib\\site-packages\n",
      "Requires: tensorflow-intel\n",
      "Required-by: myTokenize\n",
      "Note: you may need to restart the kernel to use updated packages.\n"
     ]
    }
   ],
   "source": [
    "pip show tensorflow"
   ]
  },
  {
   "cell_type": "code",
   "execution_count": 6,
   "metadata": {},
   "outputs": [
    {
     "name": "stdout",
     "output_type": "stream",
     "text": [
      "c:\\Users\\nuwai\\Anaconda3\\envs\\myenv\\python.exe\n"
     ]
    }
   ],
   "source": [
    "import sys\n",
    "print(sys.executable)"
   ]
  },
  {
   "cell_type": "code",
   "execution_count": 1,
   "metadata": {},
   "outputs": [],
   "source": [
    "import pandas as pd\n",
    "import data_config as cfg\n",
    "import time\n",
    "from tabulate import tabulate"
   ]
  },
  {
   "cell_type": "markdown",
   "metadata": {},
   "source": [
    "### Data Collection. \n",
    "The dataset includes detailed information on resale transactions of HDB flats between January 1, 2017, and March 30, 2024. The dataset contains 180,154 rows and 11 columns and was downloaded on May 23, 2024. \n",
    "\n",
    "**Dataset URL**: [HDB Resale Prices](https://beta.data.gov.sg/datasets/d_8b84c4ee58e3cfc0ece0d773c8ca6abc/view) \n",
    "**HDB RPI URL**:[HDB Resale Prices Index](https://www.hdb.gov.sg/residential/selling-a-flat/overview/resale-statistics)"
   ]
  },
  {
   "cell_type": "code",
   "execution_count": null,
   "metadata": {},
   "outputs": [],
   "source": [
    "# df_raw = pd.read_csv('./data/SGHDB2017-2024.csv')\n",
    "# cfg.save_dataset_info(df_raw, fname='dataset_info.csv')\n",
    "\n",
    "# df = cfg.adjust_resale_price(df_raw, cut_off_date='2024-04-01')\n",
    "# cfg.visualize_adjusted_price(df[['month', 'resale_price', 'adjusted_price']].copy(), fname='adjusted_price.png')\n",
    "\n",
    "# df_clean = cfg.preprocess_data(df)\n",
    "# print(df_raw.shape, df.shape, df_clean.shape)\n",
    "# df_clean.to_csv('./data/SGHDB2017-2024_clean.csv', index=False)"
   ]
  },
  {
   "cell_type": "markdown",
   "metadata": {},
   "source": [
    "Install Required Libraries: \n",
    "Ensure you have the necessary libraries installed. You can install them using pip if they are not already installed.\n",
    "```sgh \n",
    "pip install tensorflow pandas scikit-learn\n",
    "```"
   ]
  },
  {
   "cell_type": "markdown",
   "metadata": {},
   "source": [
    "### Step 1: \n",
    "The project starts by importing the pandas library and loading a cleaned CSV file named {SGHDB2017-2024_clean.csv} into a Pandas DataFrame $df$. Then, the {adjusted_price} column, which represents the housing prices to be predicted, is extracted and stored in the variable $y$ and the remaining columns, which serve as features for the model, are stored in the variable $X$."
   ]
  },
  {
   "cell_type": "code",
   "execution_count": 2,
   "metadata": {},
   "outputs": [],
   "source": [
    "# Step 1: Load the data\n",
    "import pandas as pd\n",
    "df = pd.read_csv('./data/SGHDB2017-2024_clean.csv')\n",
    "y = df['adjusted_price'].values   # Target\n",
    "X = df.drop(columns = 'adjusted_price')  # Features"
   ]
  },
  {
   "cell_type": "code",
   "execution_count": 8,
   "metadata": {},
   "outputs": [
    {
     "name": "stdout",
     "output_type": "stream",
     "text": [
      "<class 'pandas.core.frame.DataFrame'>\n",
      "RangeIndex: 175672 entries, 0 to 175671\n",
      "Data columns (total 52 columns):\n",
      " #   Column                             Non-Null Count   Dtype  \n",
      "---  ------                             --------------   -----  \n",
      " 0   flat_type                          175672 non-null  int64  \n",
      " 1   floor_area_sqm                     175672 non-null  float64\n",
      " 2   adjusted_price                     175672 non-null  float64\n",
      " 3   floor                              175672 non-null  float64\n",
      " 4   remaining_lease_months             175672 non-null  int64  \n",
      " 5   town_ANG MO KIO                    175672 non-null  float64\n",
      " 6   town_BEDOK                         175672 non-null  float64\n",
      " 7   town_BISHAN                        175672 non-null  float64\n",
      " 8   town_BUKIT BATOK                   175672 non-null  float64\n",
      " 9   town_BUKIT MERAH                   175672 non-null  float64\n",
      " 10  town_BUKIT PANJANG                 175672 non-null  float64\n",
      " 11  town_BUKIT TIMAH                   175672 non-null  float64\n",
      " 12  town_CENTRAL AREA                  175672 non-null  float64\n",
      " 13  town_CHOA CHU KANG                 175672 non-null  float64\n",
      " 14  town_CLEMENTI                      175672 non-null  float64\n",
      " 15  town_GEYLANG                       175672 non-null  float64\n",
      " 16  town_HOUGANG                       175672 non-null  float64\n",
      " 17  town_JURONG EAST                   175672 non-null  float64\n",
      " 18  town_JURONG WEST                   175672 non-null  float64\n",
      " 19  town_KALLANG/WHAMPOA               175672 non-null  float64\n",
      " 20  town_MARINE PARADE                 175672 non-null  float64\n",
      " 21  town_PASIR RIS                     175672 non-null  float64\n",
      " 22  town_PUNGGOL                       175672 non-null  float64\n",
      " 23  town_QUEENSTOWN                    175672 non-null  float64\n",
      " 24  town_SEMBAWANG                     175672 non-null  float64\n",
      " 25  town_SENGKANG                      175672 non-null  float64\n",
      " 26  town_SERANGOON                     175672 non-null  float64\n",
      " 27  town_TAMPINES                      175672 non-null  float64\n",
      " 28  town_TOA PAYOH                     175672 non-null  float64\n",
      " 29  town_WOODLANDS                     175672 non-null  float64\n",
      " 30  town_YISHUN                        175672 non-null  float64\n",
      " 31  flat_model_2-room                  175672 non-null  float64\n",
      " 32  flat_model_3Gen                    175672 non-null  float64\n",
      " 33  flat_model_Adjoined flat           175672 non-null  float64\n",
      " 34  flat_model_Apartment               175672 non-null  float64\n",
      " 35  flat_model_DBSS                    175672 non-null  float64\n",
      " 36  flat_model_Improved                175672 non-null  float64\n",
      " 37  flat_model_Improved-Maisonette     175672 non-null  float64\n",
      " 38  flat_model_Maisonette              175672 non-null  float64\n",
      " 39  flat_model_Model A                 175672 non-null  float64\n",
      " 40  flat_model_Model A-Maisonette      175672 non-null  float64\n",
      " 41  flat_model_Model A2                175672 non-null  float64\n",
      " 42  flat_model_Multi Generation        175672 non-null  float64\n",
      " 43  flat_model_New Generation          175672 non-null  float64\n",
      " 44  flat_model_Premium Apartment       175672 non-null  float64\n",
      " 45  flat_model_Premium Apartment Loft  175672 non-null  float64\n",
      " 46  flat_model_Premium Maisonette      175672 non-null  float64\n",
      " 47  flat_model_Simplified              175672 non-null  float64\n",
      " 48  flat_model_Standard                175672 non-null  float64\n",
      " 49  flat_model_Terrace                 175672 non-null  float64\n",
      " 50  flat_model_Type S1                 175672 non-null  float64\n",
      " 51  flat_model_Type S2                 175672 non-null  float64\n",
      "dtypes: float64(50), int64(2)\n",
      "memory usage: 69.7 MB\n"
     ]
    }
   ],
   "source": [
    "df.info()"
   ]
  },
  {
   "cell_type": "code",
   "execution_count": 3,
   "metadata": {},
   "outputs": [
    {
     "data": {
      "text/plain": [
       "(175672, 52)"
      ]
     },
     "execution_count": 3,
     "metadata": {},
     "output_type": "execute_result"
    }
   ],
   "source": [
    "df.shape"
   ]
  },
  {
   "cell_type": "code",
   "execution_count": 9,
   "metadata": {},
   "outputs": [
    {
     "data": {
      "text/html": [
       "<div>\n",
       "<style scoped>\n",
       "    .dataframe tbody tr th:only-of-type {\n",
       "        vertical-align: middle;\n",
       "    }\n",
       "\n",
       "    .dataframe tbody tr th {\n",
       "        vertical-align: top;\n",
       "    }\n",
       "\n",
       "    .dataframe thead th {\n",
       "        text-align: right;\n",
       "    }\n",
       "</style>\n",
       "<table border=\"1\" class=\"dataframe\">\n",
       "  <thead>\n",
       "    <tr style=\"text-align: right;\">\n",
       "      <th></th>\n",
       "      <th>flat_type</th>\n",
       "      <th>floor_area_sqm</th>\n",
       "      <th>adjusted_price</th>\n",
       "      <th>floor</th>\n",
       "      <th>remaining_lease_months</th>\n",
       "      <th>town_ANG MO KIO</th>\n",
       "      <th>town_BEDOK</th>\n",
       "      <th>town_BISHAN</th>\n",
       "      <th>town_BUKIT BATOK</th>\n",
       "      <th>town_BUKIT MERAH</th>\n",
       "      <th>...</th>\n",
       "      <th>flat_model_Multi Generation</th>\n",
       "      <th>flat_model_New Generation</th>\n",
       "      <th>flat_model_Premium Apartment</th>\n",
       "      <th>flat_model_Premium Apartment Loft</th>\n",
       "      <th>flat_model_Premium Maisonette</th>\n",
       "      <th>flat_model_Simplified</th>\n",
       "      <th>flat_model_Standard</th>\n",
       "      <th>flat_model_Terrace</th>\n",
       "      <th>flat_model_Type S1</th>\n",
       "      <th>flat_model_Type S2</th>\n",
       "    </tr>\n",
       "  </thead>\n",
       "  <tbody>\n",
       "    <tr>\n",
       "      <th>0</th>\n",
       "      <td>1</td>\n",
       "      <td>44.0</td>\n",
       "      <td>318285.287528</td>\n",
       "      <td>11.0</td>\n",
       "      <td>736</td>\n",
       "      <td>1.0</td>\n",
       "      <td>0.0</td>\n",
       "      <td>0.0</td>\n",
       "      <td>0.0</td>\n",
       "      <td>0.0</td>\n",
       "      <td>...</td>\n",
       "      <td>0.0</td>\n",
       "      <td>0.0</td>\n",
       "      <td>0.0</td>\n",
       "      <td>0.0</td>\n",
       "      <td>0.0</td>\n",
       "      <td>0.0</td>\n",
       "      <td>0.0</td>\n",
       "      <td>0.0</td>\n",
       "      <td>0.0</td>\n",
       "      <td>0.0</td>\n",
       "    </tr>\n",
       "    <tr>\n",
       "      <th>1</th>\n",
       "      <td>2</td>\n",
       "      <td>67.0</td>\n",
       "      <td>342979.835698</td>\n",
       "      <td>2.0</td>\n",
       "      <td>727</td>\n",
       "      <td>1.0</td>\n",
       "      <td>0.0</td>\n",
       "      <td>0.0</td>\n",
       "      <td>0.0</td>\n",
       "      <td>0.0</td>\n",
       "      <td>...</td>\n",
       "      <td>0.0</td>\n",
       "      <td>1.0</td>\n",
       "      <td>0.0</td>\n",
       "      <td>0.0</td>\n",
       "      <td>0.0</td>\n",
       "      <td>0.0</td>\n",
       "      <td>0.0</td>\n",
       "      <td>0.0</td>\n",
       "      <td>0.0</td>\n",
       "      <td>0.0</td>\n",
       "    </tr>\n",
       "    <tr>\n",
       "      <th>2</th>\n",
       "      <td>2</td>\n",
       "      <td>67.0</td>\n",
       "      <td>359442.867812</td>\n",
       "      <td>2.0</td>\n",
       "      <td>749</td>\n",
       "      <td>1.0</td>\n",
       "      <td>0.0</td>\n",
       "      <td>0.0</td>\n",
       "      <td>0.0</td>\n",
       "      <td>0.0</td>\n",
       "      <td>...</td>\n",
       "      <td>0.0</td>\n",
       "      <td>1.0</td>\n",
       "      <td>0.0</td>\n",
       "      <td>0.0</td>\n",
       "      <td>0.0</td>\n",
       "      <td>0.0</td>\n",
       "      <td>0.0</td>\n",
       "      <td>0.0</td>\n",
       "      <td>0.0</td>\n",
       "      <td>0.0</td>\n",
       "    </tr>\n",
       "    <tr>\n",
       "      <th>3</th>\n",
       "      <td>2</td>\n",
       "      <td>68.0</td>\n",
       "      <td>363558.625840</td>\n",
       "      <td>5.0</td>\n",
       "      <td>745</td>\n",
       "      <td>1.0</td>\n",
       "      <td>0.0</td>\n",
       "      <td>0.0</td>\n",
       "      <td>0.0</td>\n",
       "      <td>0.0</td>\n",
       "      <td>...</td>\n",
       "      <td>0.0</td>\n",
       "      <td>1.0</td>\n",
       "      <td>0.0</td>\n",
       "      <td>0.0</td>\n",
       "      <td>0.0</td>\n",
       "      <td>0.0</td>\n",
       "      <td>0.0</td>\n",
       "      <td>0.0</td>\n",
       "      <td>0.0</td>\n",
       "      <td>0.0</td>\n",
       "    </tr>\n",
       "    <tr>\n",
       "      <th>4</th>\n",
       "      <td>2</td>\n",
       "      <td>67.0</td>\n",
       "      <td>363558.625840</td>\n",
       "      <td>2.0</td>\n",
       "      <td>749</td>\n",
       "      <td>1.0</td>\n",
       "      <td>0.0</td>\n",
       "      <td>0.0</td>\n",
       "      <td>0.0</td>\n",
       "      <td>0.0</td>\n",
       "      <td>...</td>\n",
       "      <td>0.0</td>\n",
       "      <td>1.0</td>\n",
       "      <td>0.0</td>\n",
       "      <td>0.0</td>\n",
       "      <td>0.0</td>\n",
       "      <td>0.0</td>\n",
       "      <td>0.0</td>\n",
       "      <td>0.0</td>\n",
       "      <td>0.0</td>\n",
       "      <td>0.0</td>\n",
       "    </tr>\n",
       "  </tbody>\n",
       "</table>\n",
       "<p>5 rows × 52 columns</p>\n",
       "</div>"
      ],
      "text/plain": [
       "   flat_type  floor_area_sqm  adjusted_price  floor  remaining_lease_months  \\\n",
       "0          1            44.0   318285.287528   11.0                     736   \n",
       "1          2            67.0   342979.835698    2.0                     727   \n",
       "2          2            67.0   359442.867812    2.0                     749   \n",
       "3          2            68.0   363558.625840    5.0                     745   \n",
       "4          2            67.0   363558.625840    2.0                     749   \n",
       "\n",
       "   town_ANG MO KIO  town_BEDOK  town_BISHAN  town_BUKIT BATOK  \\\n",
       "0              1.0         0.0          0.0               0.0   \n",
       "1              1.0         0.0          0.0               0.0   \n",
       "2              1.0         0.0          0.0               0.0   \n",
       "3              1.0         0.0          0.0               0.0   \n",
       "4              1.0         0.0          0.0               0.0   \n",
       "\n",
       "   town_BUKIT MERAH  ...  flat_model_Multi Generation  \\\n",
       "0               0.0  ...                          0.0   \n",
       "1               0.0  ...                          0.0   \n",
       "2               0.0  ...                          0.0   \n",
       "3               0.0  ...                          0.0   \n",
       "4               0.0  ...                          0.0   \n",
       "\n",
       "   flat_model_New Generation  flat_model_Premium Apartment  \\\n",
       "0                        0.0                           0.0   \n",
       "1                        1.0                           0.0   \n",
       "2                        1.0                           0.0   \n",
       "3                        1.0                           0.0   \n",
       "4                        1.0                           0.0   \n",
       "\n",
       "   flat_model_Premium Apartment Loft  flat_model_Premium Maisonette  \\\n",
       "0                                0.0                            0.0   \n",
       "1                                0.0                            0.0   \n",
       "2                                0.0                            0.0   \n",
       "3                                0.0                            0.0   \n",
       "4                                0.0                            0.0   \n",
       "\n",
       "   flat_model_Simplified  flat_model_Standard  flat_model_Terrace  \\\n",
       "0                    0.0                  0.0                 0.0   \n",
       "1                    0.0                  0.0                 0.0   \n",
       "2                    0.0                  0.0                 0.0   \n",
       "3                    0.0                  0.0                 0.0   \n",
       "4                    0.0                  0.0                 0.0   \n",
       "\n",
       "   flat_model_Type S1  flat_model_Type S2  \n",
       "0                 0.0                 0.0  \n",
       "1                 0.0                 0.0  \n",
       "2                 0.0                 0.0  \n",
       "3                 0.0                 0.0  \n",
       "4                 0.0                 0.0  \n",
       "\n",
       "[5 rows x 52 columns]"
      ]
     },
     "execution_count": 9,
     "metadata": {},
     "output_type": "execute_result"
    }
   ],
   "source": [
    "df.head()"
   ]
  },
  {
   "cell_type": "markdown",
   "metadata": {},
   "source": [
    "### Step 2: Prepare the Data:\n",
    "The dataset is well maintained and prepared by the Singapore government's open data portal. There is no missing data, which simplifies the preprocessing steps. \n",
    "Load your dataset and prepare it for training. This includes splitting it into training and testing sets and normalizing the features."
   ]
  },
  {
   "cell_type": "code",
   "execution_count": 10,
   "metadata": {},
   "outputs": [],
   "source": [
    "import numpy as np\n",
    "\n",
    "from sklearn.preprocessing import StandardScaler\n",
    "from sklearn.model_selection import train_test_split\n",
    "# Step 2: Prepare the data\n",
    "X_train, X_test, y_train, y_test = train_test_split(X, y, test_size=0.3, random_state=42)\n",
    "\n",
    "# Standardize continuous features\n",
    "continuous_columns = ['flat_type', 'floor_area_sqm',  'floor', 'remaining_lease_months']\n",
    "binary_columns = df.columns.difference(continuous_columns + ['adjusted_price']).tolist()\n",
    "scaler = StandardScaler()\n",
    "X_train_continuous = scaler.fit_transform(X_train[continuous_columns])\n",
    "X_test_continuous = scaler.transform(X_test[continuous_columns])\n",
    "\n",
    "# Combine scaled continuous features and binary features\n",
    "X_train = np.hstack([X_train_continuous, X_train[binary_columns].values])\n",
    "X_test = np.hstack([X_test_continuous, X_test[binary_columns].values])"
   ]
  },
  {
   "cell_type": "markdown",
   "metadata": {},
   "source": [
    "### Step 3: \n",
    "This step defines a function create_regression_model that constructs a feedforward neural network model for regression using TensorFlow's Keras API. "
   ]
  },
  {
   "cell_type": "code",
   "execution_count": 67,
   "metadata": {},
   "outputs": [],
   "source": [
    "import tensorflow as tf\n",
    "\n",
    "def create_regression_model(input_shape, params={}):\n",
    "    model = tf.keras.Sequential([\n",
    "        tf.keras.layers.InputLayer(input_shape=input_shape),   \n",
    "        tf.keras.layers.Dense(32, activation='relu'),\n",
    "        tf.keras.layers.Dense(16, activation='relu'),\n",
    "        tf.keras.layers.Dense(1)\n",
    "    ])\n",
    "\n",
    "    model.compile(optimizer='adam', loss='mean_squared_error')\n",
    "\n",
    "    return model"
   ]
  },
  {
   "cell_type": "markdown",
   "metadata": {},
   "source": [
    "create a model with three hidden layer neural network"
   ]
  },
  {
   "cell_type": "code",
   "execution_count": 68,
   "metadata": {},
   "outputs": [],
   "source": [
    "def create_three_hlayer_model(input_shape):\n",
    "    model = tf.keras.Sequential([\n",
    "        tf.keras.layers.InputLayer(input_shape=input_shape),\n",
    "        tf.keras.layers.Dense(64, activation='relu'),\n",
    "        tf.keras.layers.Dense(32, activation='relu'),\n",
    "        tf.keras.layers.Dense(16, activation='relu'),\n",
    "        tf.keras.layers.Dense(1)\n",
    "    ])\n",
    "    model.compile(optimizer='adam', loss='mean_squared_error')\n",
    "    return model"
   ]
  },
  {
   "cell_type": "markdown",
   "metadata": {},
   "source": [
    "create a model with four hidden layer neural network"
   ]
  },
  {
   "cell_type": "code",
   "execution_count": 80,
   "metadata": {},
   "outputs": [],
   "source": [
    "def create_four_hlayer_model(input_shape):\n",
    "    model = tf.keras.Sequential([\n",
    "        tf.keras.layers.InputLayer(input_shape=input_shape),\n",
    "        tf.keras.layers.Dense(128, activation='relu'),   # 1st hidden layer\n",
    "        tf.keras.layers.Dense(64, activation='relu'),    # 2nd hidden layer                   \n",
    "        tf.keras.layers.Dense(32, activation='relu'),    # 3rd hidden layer\n",
    "        tf.keras.layers.Dense(16, activation='relu'),    # 4th hidden layer\n",
    "        tf.keras.layers.Dense(1)                         # Output layer\n",
    "    ])\n",
    "    model.compile(optimizer='adam', loss='mean_squared_error')\n",
    "    return model"
   ]
  },
  {
   "cell_type": "code",
   "execution_count": 74,
   "metadata": {},
   "outputs": [],
   "source": [
    "from tensorflow.keras import regularizers\n",
    "\n",
    "def create_best_nn_model(input_shape):\n",
    "    model = tf.keras.Sequential([\n",
    "        tf.keras.layers.InputLayer(input_shape=input_shape),\n",
    "\n",
    "        tf.keras.layers.Dense(128, kernel_regularizer=regularizers.l2(1e-4)),\n",
    "        tf.keras.layers.BatchNormalization(),\n",
    "        tf.keras.layers.Activation('relu'),\n",
    "        tf.keras.layers.Dropout(0.1),\n",
    "\n",
    "        tf.keras.layers.Dense(64, kernel_regularizer=regularizers.l2(1e-4)),\n",
    "        tf.keras.layers.BatchNormalization(),\n",
    "        tf.keras.layers.Activation('relu'),\n",
    "        tf.keras.layers.Dropout(0.1),\n",
    "\n",
    "        tf.keras.layers.Dense(32, kernel_regularizer=regularizers.l2(1e-4)),\n",
    "        tf.keras.layers.BatchNormalization(),\n",
    "        tf.keras.layers.Activation('relu'),\n",
    "        tf.keras.layers.Dropout(0.1),\n",
    "\n",
    "        tf.keras.layers.Dense(16, kernel_regularizer=regularizers.l2(1e-4)),\n",
    "        tf.keras.layers.Activation('relu'),\n",
    "\n",
    "        tf.keras.layers.Dense(1)\n",
    "    ])\n",
    "\n",
    "    model.compile(optimizer='adam', loss='mean_squared_error')\n",
    "    return model"
   ]
  },
  {
   "cell_type": "code",
   "execution_count": 75,
   "metadata": {},
   "outputs": [],
   "source": [
    "def create_balanced_model(input_shape):\n",
    "    model = tf.keras.Sequential([\n",
    "        tf.keras.layers.InputLayer(input_shape=input_shape),\n",
    "\n",
    "        tf.keras.layers.Dense(64, kernel_regularizer=regularizers.l2(1e-4)),\n",
    "        tf.keras.layers.BatchNormalization(),\n",
    "        tf.keras.layers.Activation('relu'),\n",
    "\n",
    "        tf.keras.layers.Dense(32, kernel_regularizer=regularizers.l2(1e-4)),\n",
    "        tf.keras.layers.BatchNormalization(),\n",
    "        tf.keras.layers.Activation('relu'),\n",
    "        tf.keras.layers.Dropout(0.2),  # Add dropout here (after 2nd layer)\n",
    "\n",
    "        tf.keras.layers.Dense(16, kernel_regularizer=regularizers.l2(1e-4)),\n",
    "        tf.keras.layers.BatchNormalization(),\n",
    "        tf.keras.layers.Activation('relu'),\n",
    "\n",
    "        tf.keras.layers.Dense(8, kernel_regularizer=regularizers.l2(1e-4)),\n",
    "        tf.keras.layers.Activation('relu'),\n",
    "\n",
    "        tf.keras.layers.Dense(1)\n",
    "    ])\n",
    "\n",
    "    model.compile(optimizer='adam', loss='mean_squared_error')\n",
    "    return model"
   ]
  },
  {
   "cell_type": "code",
   "execution_count": 76,
   "metadata": {},
   "outputs": [],
   "source": [
    "from sklearn.metrics import mean_squared_error, mean_absolute_error, mean_absolute_percentage_error, r2_score\n",
    "\n",
    "def evaluate_model(model, X_train, y_train, X_test, y_test):\n",
    "    df_results = pd.DataFrame(columns=['Train', 'Test'])\n",
    "\n",
    "    # Train predictions\n",
    "    y_pred_train = model.predict(X_train)\n",
    "    df_results.loc['Root Mean Squared Error', 'Train'] = np.sqrt(mean_squared_error(y_train, y_pred_train))\n",
    "    df_results.loc['Mean Absolute Error', 'Train'] = mean_absolute_error(y_train, y_pred_train)\n",
    "    df_results.loc['Mean Absolute Percentage Error', 'Train'] = mean_absolute_percentage_error(y_train, y_pred_train) * 100\n",
    "    df_results.loc['R2 Score', 'Train'] = r2_score(y_train, y_pred_train)\n",
    "\n",
    "    # Test predictions\n",
    "    y_pred_test = model.predict(X_test)\n",
    "    df_results.loc['Root Mean Squared Error', 'Test'] = np.sqrt(mean_squared_error(y_test, y_pred_test))\n",
    "    df_results.loc['Mean Absolute Error', 'Test'] = mean_absolute_error(y_test, y_pred_test)\n",
    "    df_results.loc['Mean Absolute Percentage Error', 'Test'] = mean_absolute_percentage_error(y_test, y_pred_test) * 100\n",
    "    df_results.loc['R2 Score', 'Test'] = r2_score(y_test, y_pred_test)\n",
    "\n",
    "    df_results = df_results.astype('Float64').round(2)\n",
    "    print(tabulate(df_results, headers='keys', tablefmt='grid'))\n",
    "    return df_results\n",
    "\n",
    "    # df_results.to_csv('./data/model_evaluation.csv')"
   ]
  },
  {
   "cell_type": "markdown",
   "metadata": {},
   "source": [
    "### Step 4: \n",
    "The model is trained using the training data  (\\(X_{\\text{train}}\\) and \\(y_{\\text{train}}\\)). The training process runs for 10 epochs (def: \\ref{def:epoch}) with a batch size of 32. "
   ]
  },
  {
   "cell_type": "code",
   "execution_count": 20,
   "metadata": {},
   "outputs": [
    {
     "name": "stdout",
     "output_type": "stream",
     "text": [
      "\n",
      "Training time: 150.20 seconds\n"
     ]
    }
   ],
   "source": [
    "# Step 4: Create and train the model\n",
    "# Clear previous model\n",
    "from tensorflow.keras import backend as K\n",
    "K.clear_session()\n",
    "\n",
    "base_line_model = create_regression_model(input_shape=[X_train.shape[1]])\n",
    "# Track training time\n",
    "start_time = time.time()\n",
    "history = base_line_model.fit(X_train, y_train, epochs=10, batch_size=32, \n",
    "                    validation_data=(X_test, y_test), verbose=0)\n",
    "end_time = time.time()\n",
    "baseline_training_duration = end_time - start_time\n",
    "print(f\"\\nTraining time: {baseline_training_duration:.2f} seconds\")"
   ]
  },
  {
   "cell_type": "code",
   "execution_count": 21,
   "metadata": {},
   "outputs": [
    {
     "name": "stdout",
     "output_type": "stream",
     "text": [
      "Model: \"sequential\"\n",
      "_________________________________________________________________\n",
      " Layer (type)                Output Shape              Param #   \n",
      "=================================================================\n",
      " dense (Dense)               (None, 32)                1664      \n",
      "                                                                 \n",
      " dense_1 (Dense)             (None, 16)                528       \n",
      "                                                                 \n",
      " dense_2 (Dense)             (None, 1)                 17        \n",
      "                                                                 \n",
      "=================================================================\n",
      "Total params: 2209 (8.63 KB)\n",
      "Trainable params: 2209 (8.63 KB)\n",
      "Non-trainable params: 0 (0.00 Byte)\n",
      "_________________________________________________________________\n"
     ]
    }
   ],
   "source": [
    "base_line_model.summary()"
   ]
  },
  {
   "cell_type": "markdown",
   "metadata": {},
   "source": [
    "### Step 5:\n",
    "In the last step, the model is evaluated using various performance metrics and saves the evaluation results to a CSV file."
   ]
  },
  {
   "cell_type": "code",
   "execution_count": 77,
   "metadata": {},
   "outputs": [
    {
     "name": "stdout",
     "output_type": "stream",
     "text": [
      "3843/3843 [==============================] - 5s 1ms/step\n",
      "1647/1647 [==============================] - 6s 4ms/step\n",
      "+--------------------------------+----------+----------+\n",
      "|                                |    Train |     Test |\n",
      "+================================+==========+==========+\n",
      "| Root Mean Squared Error        | 88649.8  | 88409.1  |\n",
      "+--------------------------------+----------+----------+\n",
      "| Mean Absolute Error            | 66801.7  | 66595.5  |\n",
      "+--------------------------------+----------+----------+\n",
      "| Mean Absolute Percentage Error |    11.2  |    11.19 |\n",
      "+--------------------------------+----------+----------+\n",
      "| R2 Score                       |     0.81 |     0.81 |\n",
      "+--------------------------------+----------+----------+\n",
      "                                   Train      Test\n",
      "Root Mean Squared Error         88649.82  88409.15\n",
      "Mean Absolute Error             66801.73  66595.54\n",
      "Mean Absolute Percentage Error      11.2     11.19\n",
      "R2 Score                            0.81      0.81\n"
     ]
    }
   ],
   "source": [
    "baseline_reslults = evaluate_model(base_line_model, X_train, y_train, X_test, y_test)\n",
    "print(baseline_reslults)"
   ]
  },
  {
   "cell_type": "code",
   "execution_count": 23,
   "metadata": {},
   "outputs": [
    {
     "name": "stdout",
     "output_type": "stream",
     "text": [
      "\n",
      "Training time: 169.71 seconds\n"
     ]
    }
   ],
   "source": [
    "from tensorflow.keras import backend as K\n",
    "K.clear_session()\n",
    "\n",
    "three_hl_model = create_three_hlayer_model(input_shape=[X_train.shape[1]])\n",
    "# Track training time\n",
    "start_time = time.time()\n",
    "history = three_hl_model.fit(X_train, y_train, epochs=10, batch_size=32, \n",
    "                    validation_data=(X_test, y_test), verbose=0)\n",
    "end_time = time.time()\n",
    "three_hl_training_duration = end_time - start_time\n",
    "print(f\"\\nTraining time: {three_hl_training_duration:.2f} seconds\")"
   ]
  },
  {
   "cell_type": "code",
   "execution_count": 24,
   "metadata": {},
   "outputs": [
    {
     "name": "stdout",
     "output_type": "stream",
     "text": [
      "3843/3843 [==============================] - 12s 3ms/step\n",
      "1647/1647 [==============================] - 3s 2ms/step\n",
      "+--------------------------------+----------+----------+\n",
      "|                                |    Train |     Test |\n",
      "+================================+==========+==========+\n",
      "| Root Mean Squared Error        | 63202.2  | 63042    |\n",
      "+--------------------------------+----------+----------+\n",
      "| Mean Absolute Error            | 45949.6  | 45860.3  |\n",
      "+--------------------------------+----------+----------+\n",
      "| Mean Absolute Percentage Error |     7.48 |     7.48 |\n",
      "+--------------------------------+----------+----------+\n",
      "| R2 Score                       |     0.9  |     0.9  |\n",
      "+--------------------------------+----------+----------+\n",
      "                                   Train      Test\n",
      "Root Mean Squared Error         63202.22  63041.98\n",
      "Mean Absolute Error             45949.57  45860.33\n",
      "Mean Absolute Percentage Error      7.48      7.48\n",
      "R2 Score                             0.9       0.9\n"
     ]
    }
   ],
   "source": [
    "three_hl_results = evaluate_model(three_hl_model, X_train, y_train, X_test, y_test)\n",
    "print(three_hl_results)\n"
   ]
  },
  {
   "cell_type": "code",
   "execution_count": 81,
   "metadata": {},
   "outputs": [
    {
     "name": "stdout",
     "output_type": "stream",
     "text": [
      "\n",
      "Training time: 337.80 seconds\n"
     ]
    }
   ],
   "source": [
    "from tensorflow.keras import backend as K\n",
    "K.clear_session()\n",
    "\n",
    "four_hl_model = create_four_hlayer_model(input_shape=[X_train.shape[1]])\n",
    "# Track training time\n",
    "start_time = time.time()\n",
    "history = four_hl_model.fit(X_train, y_train, epochs=20, batch_size=32, \n",
    "                    validation_data=(X_test, y_test), verbose=0)\n",
    "end_time = time.time()\n",
    "four_hl_training_duration = end_time - start_time\n",
    "print(f\"\\nTraining time: {four_hl_training_duration:.2f} seconds\")"
   ]
  },
  {
   "cell_type": "code",
   "execution_count": 82,
   "metadata": {},
   "outputs": [
    {
     "name": "stdout",
     "output_type": "stream",
     "text": [
      "3843/3843 [==============================] - 9s 2ms/step\n",
      "1647/1647 [==============================] - 3s 2ms/step\n",
      "+--------------------------------+----------+----------+\n",
      "|                                |    Train |     Test |\n",
      "+================================+==========+==========+\n",
      "| Root Mean Squared Error        | 57532.3  | 57471.8  |\n",
      "+--------------------------------+----------+----------+\n",
      "| Mean Absolute Error            | 41176.3  | 41147.1  |\n",
      "+--------------------------------+----------+----------+\n",
      "| Mean Absolute Percentage Error |     6.67 |     6.68 |\n",
      "+--------------------------------+----------+----------+\n",
      "| R2 Score                       |     0.92 |     0.92 |\n",
      "+--------------------------------+----------+----------+\n",
      "                                   Train      Test\n",
      "Root Mean Squared Error         57532.34  57471.84\n",
      "Mean Absolute Error             41176.31  41147.05\n",
      "Mean Absolute Percentage Error      6.67      6.68\n",
      "R2 Score                            0.92      0.92\n"
     ]
    }
   ],
   "source": [
    "four_hl_results = evaluate_model(four_hl_model, X_train, y_train, X_test, y_test)\n",
    "print(four_hl_results)"
   ]
  },
  {
   "cell_type": "code",
   "execution_count": 28,
   "metadata": {},
   "outputs": [],
   "source": [
    "early_stop = tf.keras.callbacks.EarlyStopping(\n",
    "    monitor='val_loss',\n",
    "    patience=5,\n",
    "    restore_best_weights=True\n",
    ")"
   ]
  },
  {
   "cell_type": "code",
   "execution_count": 30,
   "metadata": {},
   "outputs": [
    {
     "name": "stdout",
     "output_type": "stream",
     "text": [
      "\n",
      "Training time: 628.39 seconds\n"
     ]
    }
   ],
   "source": [
    "from tensorflow.keras import backend as K\n",
    "K.clear_session()\n",
    "\n",
    "best_nn_model = create_best_nn_model(input_shape=[X_train.shape[1]])\n",
    "# Track training time\n",
    "start_time = time.time()\n",
    "\n",
    "# Fit model with early stopping\n",
    "history = best_nn_model.fit(\n",
    "    X_train, y_train,\n",
    "    epochs=100,\n",
    "    batch_size=32,\n",
    "    validation_data=(X_test, y_test),\n",
    "    callbacks=[early_stop],   # Add the callback here\n",
    "    verbose=0\n",
    ")\n",
    "\n",
    "end_time = time.time()\n",
    "best_nn_training_duration = end_time - start_time\n",
    "print(f\"\\nTraining time: {best_nn_training_duration:.2f} seconds\")"
   ]
  },
  {
   "cell_type": "code",
   "execution_count": 31,
   "metadata": {},
   "outputs": [
    {
     "name": "stdout",
     "output_type": "stream",
     "text": [
      "3843/3843 [==============================] - 16s 4ms/step\n",
      "1647/1647 [==============================] - 8s 5ms/step\n",
      "+--------------------------------+----------+----------+\n",
      "|                                |    Train |     Test |\n",
      "+================================+==========+==========+\n",
      "| Root Mean Squared Error        | 55187    | 55523.3  |\n",
      "+--------------------------------+----------+----------+\n",
      "| Mean Absolute Error            | 39642.8  | 39828.6  |\n",
      "+--------------------------------+----------+----------+\n",
      "| Mean Absolute Percentage Error |     6.41 |     6.45 |\n",
      "+--------------------------------+----------+----------+\n",
      "| R2 Score                       |     0.93 |     0.92 |\n",
      "+--------------------------------+----------+----------+\n",
      "                                   Train      Test\n",
      "Root Mean Squared Error         55187.04  55523.34\n",
      "Mean Absolute Error             39642.84  39828.59\n",
      "Mean Absolute Percentage Error      6.41      6.45\n",
      "R2 Score                            0.93      0.92\n"
     ]
    }
   ],
   "source": [
    "best_nn_results = evaluate_model(best_nn_model, X_train, y_train, X_test, y_test)\n",
    "print(best_nn_results)"
   ]
  },
  {
   "cell_type": "code",
   "execution_count": 34,
   "metadata": {},
   "outputs": [
    {
     "name": "stdout",
     "output_type": "stream",
     "text": [
      "\n",
      "Training time: 256.20 seconds\n"
     ]
    }
   ],
   "source": [
    "from tensorflow.keras import backend as K\n",
    "K.clear_session()\n",
    "\n",
    "balanced_nn_model = create_balanced_model(input_shape=[X_train.shape[1]])\n",
    "# Track training time\n",
    "start_time = time.time()\n",
    "\n",
    "# Fit model with early stopping\n",
    "history = balanced_nn_model.fit(\n",
    "    X_train, y_train,\n",
    "    epochs=100,\n",
    "    batch_size=32,\n",
    "    validation_data=(X_test, y_test),\n",
    "    callbacks=[early_stop],   # Add the callback here\n",
    "    verbose=0\n",
    ")\n",
    "\n",
    "end_time = time.time()\n",
    "bal_nn_training_duration = end_time - start_time\n",
    "print(f\"\\nTraining time: {bal_nn_training_duration:.2f} seconds\")"
   ]
  },
  {
   "cell_type": "code",
   "execution_count": 35,
   "metadata": {},
   "outputs": [
    {
     "name": "stdout",
     "output_type": "stream",
     "text": [
      "3843/3843 [==============================] - 13s 3ms/step\n",
      "1647/1647 [==============================] - 8s 5ms/step\n",
      "+--------------------------------+----------+----------+\n",
      "|                                |    Train |     Test |\n",
      "+================================+==========+==========+\n",
      "| Root Mean Squared Error        | 57581.8  | 57585.6  |\n",
      "+--------------------------------+----------+----------+\n",
      "| Mean Absolute Error            | 41478.9  | 41393.5  |\n",
      "+--------------------------------+----------+----------+\n",
      "| Mean Absolute Percentage Error |     6.73 |     6.73 |\n",
      "+--------------------------------+----------+----------+\n",
      "| R2 Score                       |     0.92 |     0.92 |\n",
      "+--------------------------------+----------+----------+\n"
     ]
    }
   ],
   "source": [
    "balanced_nn_results = evaluate_model(balanced_nn_model, X_train, y_train, X_test, y_test)"
   ]
  },
  {
   "cell_type": "markdown",
   "metadata": {},
   "source": [
    "baseline_training_duration   , baseline_reslults\n",
    "three_hl_training_duration .three_hl_results \n",
    "four_hl_training_duration ,four_hl_results\n",
    "best_nn_training_duration ,best_nn_results\n",
    "bal_nn_training_duration ,balanced_nn_results"
   ]
  },
  {
   "cell_type": "code",
   "execution_count": 87,
   "metadata": {},
   "outputs": [
    {
     "name": "stdout",
     "output_type": "stream",
     "text": [
      "0.81\n"
     ]
    }
   ],
   "source": [
    "print(baseline_reslults['Test']['R2 Score'])"
   ]
  },
  {
   "cell_type": "code",
   "execution_count": 88,
   "metadata": {},
   "outputs": [],
   "source": [
    "summary_result_dict = {\n",
    "    'baseline' : {'time':baseline_training_duration , 'r2score': baseline_reslults['Test']['R2 Score'] },\n",
    "    'model1' : {'time':three_hl_training_duration  , 'r2score': three_hl_results['Test']['R2 Score']},\n",
    "    'model2' : {'time':four_hl_training_duration  , 'r2score':four_hl_results['Test']['R2 Score']},\n",
    "    'model3' : {'time':best_nn_training_duration  , 'r2score':best_nn_results['Test']['R2 Score']},\n",
    "    'model4' :  {'time':bal_nn_training_duration  , 'r2score':balanced_nn_results['Test']['R2 Score']},\n",
    "}"
   ]
  },
  {
   "cell_type": "code",
   "execution_count": 91,
   "metadata": {},
   "outputs": [
    {
     "data": {
      "image/png": "[encoded data removed]",
      "text/plain": [
       "<Figure size 800x400 with 1 Axes>"
      ]
     },
     "metadata": {},
     "output_type": "display_data"
    }
   ],
   "source": [
    "import matplotlib.pyplot as plt\n",
    "\n",
    "# Extract model names, times, and R² scores\n",
    "models = list(summary_result_dict.keys())\n",
    "times = [summary_result_dict[m]['time'] for m in models]\n",
    "r2_scores = [summary_result_dict[m]['r2score'] for m in models]\n",
    "\n",
    "# Plot\n",
    "plt.figure(figsize=(8, 4))\n",
    "plt.scatter(times, r2_scores, color='teal')\n",
    "\n",
    "# Annotate model names\n",
    "for i, model in enumerate(models):\n",
    "    plt.text(times[i] + 0.5, r2_scores[i], model, fontsize=9)\n",
    "\n",
    "# Labels and title\n",
    "plt.xlabel('Training Time (seconds)')\n",
    "plt.ylabel('R² Score on Test Set')\n",
    "plt.title('Model Comparison: R² Score vs Training Time')\n",
    "plt.grid(True)\n",
    "plt.tight_layout()\n",
    "plt.show()"
   ]
  },
  {
   "cell_type": "code",
   "execution_count": 93,
   "metadata": {},
   "outputs": [
    {
     "name": "stdout",
     "output_type": "stream",
     "text": [
      "+----+-------------+--------------------------------+----------+----------+\n",
      "|    | Model       | Metric                         |    Train |     Test |\n",
      "+====+=============+================================+==========+==========+\n",
      "|  0 | Baseline    | Root Mean Squared Error        | 88649.8  | 88409.1  |\n",
      "+----+-------------+--------------------------------+----------+----------+\n",
      "|  1 | Baseline    | Mean Absolute Error            | 66801.7  | 66595.5  |\n",
      "+----+-------------+--------------------------------+----------+----------+\n",
      "|  2 | Baseline    | Mean Absolute Percentage Error |    11.2  |    11.19 |\n",
      "+----+-------------+--------------------------------+----------+----------+\n",
      "|  3 | Baseline    | R2 Score                       |     0.81 |     0.81 |\n",
      "+----+-------------+--------------------------------+----------+----------+\n",
      "|  4 | Three HL    | Root Mean Squared Error        | 63202.2  | 63042    |\n",
      "+----+-------------+--------------------------------+----------+----------+\n",
      "|  5 | Three HL    | Mean Absolute Error            | 45949.6  | 45860.3  |\n",
      "+----+-------------+--------------------------------+----------+----------+\n",
      "|  6 | Three HL    | Mean Absolute Percentage Error |     7.48 |     7.48 |\n",
      "+----+-------------+--------------------------------+----------+----------+\n",
      "|  7 | Three HL    | R2 Score                       |     0.9  |     0.9  |\n",
      "+----+-------------+--------------------------------+----------+----------+\n",
      "|  8 | Four HL     | Root Mean Squared Error        | 57532.3  | 57471.8  |\n",
      "+----+-------------+--------------------------------+----------+----------+\n",
      "|  9 | Four HL     | Mean Absolute Error            | 41176.3  | 41147.1  |\n",
      "+----+-------------+--------------------------------+----------+----------+\n",
      "| 10 | Four HL     | Mean Absolute Percentage Error |     6.67 |     6.68 |\n",
      "+----+-------------+--------------------------------+----------+----------+\n",
      "| 11 | Four HL     | R2 Score                       |     0.92 |     0.92 |\n",
      "+----+-------------+--------------------------------+----------+----------+\n",
      "| 12 | Best NN     | Root Mean Squared Error        | 55187    | 55523.3  |\n",
      "+----+-------------+--------------------------------+----------+----------+\n",
      "| 13 | Best NN     | Mean Absolute Error            | 39642.8  | 39828.6  |\n",
      "+----+-------------+--------------------------------+----------+----------+\n",
      "| 14 | Best NN     | Mean Absolute Percentage Error |     6.41 |     6.45 |\n",
      "+----+-------------+--------------------------------+----------+----------+\n",
      "| 15 | Best NN     | R2 Score                       |     0.93 |     0.92 |\n",
      "+----+-------------+--------------------------------+----------+----------+\n",
      "| 16 | Balanced NN | Root Mean Squared Error        | 57581.8  | 57585.6  |\n",
      "+----+-------------+--------------------------------+----------+----------+\n",
      "| 17 | Balanced NN | Mean Absolute Error            | 41478.9  | 41393.5  |\n",
      "+----+-------------+--------------------------------+----------+----------+\n",
      "| 18 | Balanced NN | Mean Absolute Percentage Error |     6.73 |     6.73 |\n",
      "+----+-------------+--------------------------------+----------+----------+\n",
      "| 19 | Balanced NN | R2 Score                       |     0.92 |     0.92 |\n",
      "+----+-------------+--------------------------------+----------+----------+\n"
     ]
    }
   ],
   "source": [
    "# Combine all result DataFrames with model names as keys\n",
    "combined_results = pd.concat([\n",
    "    baseline_reslults,\n",
    "    three_hl_results,\n",
    "    four_hl_results,\n",
    "    best_nn_results,\n",
    "    balanced_nn_results\n",
    "], keys=['Baseline', 'Three HL', 'Four HL', 'Best NN', 'Balanced NN'], names=['Model', 'Metric'])\n",
    "\n",
    "# Optional: round and reset index for display\n",
    "combined_results = combined_results.round(2).reset_index()\n",
    "\n",
    "# Display as table\n",
    "from tabulate import tabulate\n",
    "print(tabulate(combined_results, headers='keys', tablefmt='grid'))"
   ]
  },
  {
   "cell_type": "code",
   "execution_count": null,
   "metadata": {},
   "outputs": [],
   "source": [
    "import matplotlib.pyplot as plt\n",
    "\n",
    "def plot_predictions(y_actual, y_predicted):\n",
    "    plt.figure(figsize=(10, 6))\n",
    "    plt.scatter(y_actual, y_predicted, color='blue')\n",
    "    plt.xlabel('Actual value')\n",
    "    plt.ylabel('Predicted value')\n",
    "    plt.title('Predicted vs Actual')\n",
    "    plt.show()"
   ]
  },
  {
   "cell_type": "code",
   "execution_count": null,
   "metadata": {},
   "outputs": [],
   "source": [
    "training_time = {\n",
    "    \"baseline\": baseline_training_duration,\n",
    "}"
   ]
  },
  {
   "cell_type": "code",
   "execution_count": null,
   "metadata": {},
   "outputs": [],
   "source": []
  }
 ],
 "metadata": {
  "kernelspec": {
   "display_name": "Python (myenv)",
   "language": "python",
   "name": "myenv"
  },
  "language_info": {
   "codemirror_mode": {
    "name": "ipython",
    "version": 3
   },
   "file_extension": ".py",
   "mimetype": "text/x-python",
   "name": "python",
   "nbconvert_exporter": "python",
   "pygments_lexer": "ipython3",
   "version": "3.9.21"
  }
 },
 "nbformat": 4,
 "nbformat_minor": 2
}
