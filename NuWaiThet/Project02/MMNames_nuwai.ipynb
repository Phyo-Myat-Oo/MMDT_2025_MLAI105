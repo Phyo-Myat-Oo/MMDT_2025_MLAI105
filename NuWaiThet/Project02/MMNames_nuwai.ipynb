{
 "cells": [
  {
   "cell_type": "code",
   "execution_count": 10,
   "metadata": {},
   "outputs": [
    {
     "name": "stdout",
     "output_type": "stream",
     "text": [
      "Collecting nltk\n",
      "  Using cached nltk-3.9.1-py3-none-any.whl.metadata (2.9 kB)\n",
      "Collecting click (from nltk)\n",
      "  Downloading click-8.1.8-py3-none-any.whl.metadata (2.3 kB)\n",
      "Requirement already satisfied: joblib in c:\\users\\nuwai\\anaconda3\\envs\\myenv\\lib\\site-packages (from nltk) (1.5.1)\n",
      "Collecting regex>=2021.8.3 (from nltk)\n",
      "  Downloading regex-2024.11.6-cp39-cp39-win_amd64.whl.metadata (41 kB)\n",
      "Collecting tqdm (from nltk)\n",
      "  Downloading tqdm-4.67.1-py3-none-any.whl.metadata (57 kB)\n",
      "Requirement already satisfied: colorama in c:\\users\\nuwai\\appdata\\roaming\\python\\python39\\site-packages (from click->nltk) (0.4.4)\n",
      "Using cached nltk-3.9.1-py3-none-any.whl (1.5 MB)\n",
      "Downloading regex-2024.11.6-cp39-cp39-win_amd64.whl (274 kB)\n",
      "Downloading click-8.1.8-py3-none-any.whl (98 kB)\n",
      "Downloading tqdm-4.67.1-py3-none-any.whl (78 kB)\n",
      "Installing collected packages: tqdm, regex, click, nltk\n",
      "Successfully installed click-8.1.8 nltk-3.9.1 regex-2024.11.6 tqdm-4.67.1\n"
     ]
    }
   ],
   "source": [
    "#!pip install openpyxl for reading excel\n",
    "!pip install nltk"
   ]
  },
  {
   "cell_type": "code",
   "execution_count": null,
   "metadata": {},
   "outputs": [],
   "source": [
    "# import data_cleaning as dc\n",
    "# dc.main()"
   ]
  },
  {
   "cell_type": "markdown",
   "metadata": {},
   "source": [
    "The first step in our pipeline involves loading the data into a pandas DataFrame. This is accomplished using the pandas library, which is imported at the beginning of the script."
   ]
  },
  {
   "cell_type": "code",
   "execution_count": 13,
   "metadata": {},
   "outputs": [],
   "source": [
    "# Step 1: Load the data\n",
    "import pandas as pd\n",
    "import data_preprocessing as dp\n",
    "from sklearn.preprocessing import StandardScaler\n",
    "from sklearn.model_selection import train_test_split\n",
    "import re\n",
    "import numpy as np"
   ]
  },
  {
   "cell_type": "code",
   "execution_count": 14,
   "metadata": {},
   "outputs": [],
   "source": [
    "df = pd.read_csv('./data/MMNames_clean.csv')"
   ]
  },
  {
   "cell_type": "code",
   "execution_count": 15,
   "metadata": {},
   "outputs": [],
   "source": [
    "df = dp.clean_name_column(df, 'name')"
   ]
  },
  {
   "cell_type": "code",
   "execution_count": null,
   "metadata": {},
   "outputs": [],
   "source": [
    "# #filter out very short name\n",
    "# df = df[df['name'].str.len() >= 3]"
   ]
  },
  {
   "cell_type": "code",
   "execution_count": 6,
   "metadata": {},
   "outputs": [
    {
     "name": "stdout",
     "output_type": "stream",
     "text": [
      "name\n",
      "Nyaung Pin Thar    34\n",
      "Nyaung Kone        32\n",
      "Thar Yar Kone      28\n",
      "Ywar Thit          28\n",
      "Kan Gyi            25\n",
      "                   ..\n",
      "Moe Sit             1\n",
      "Kyauk Ku Pyin       1\n",
      "Amarapura           1\n",
      "Win Kan             1\n",
      "Pyin Shey           1\n",
      "Name: count, Length: 3624, dtype: int64\n"
     ]
    }
   ],
   "source": [
    "# Returns only duplicated names (appears more than once)\n",
    "duplicated_names = df['name'][df['name'].duplicated()].value_counts()\n",
    "print(duplicated_names)\n"
   ]
  },
  {
   "cell_type": "code",
   "execution_count": 7,
   "metadata": {},
   "outputs": [],
   "source": [
    "df = df.drop_duplicates()\n",
    "duplicated_names = df['name'].value_counts()\n"
   ]
  },
  {
   "cell_type": "code",
   "execution_count": 8,
   "metadata": {},
   "outputs": [
    {
     "name": "stdout",
     "output_type": "stream",
     "text": [
      "name\n",
      "Thar Yar Kone    13\n",
      "Ywar Thit        12\n",
      "Nyaung Kone      11\n",
      "Kyar Inn         10\n",
      "Tha Yet Taw      10\n",
      "                 ..\n",
      "Nam Yang          2\n",
      "Nawng Hpar        2\n",
      "Hway Aw           2\n",
      "Bant Bar          2\n",
      "Inn Din           2\n",
      "Name: count, Length: 1331, dtype: int64\n",
      "           SR_Name             name\n",
      "1085    Ayeyarwady  Nyaung Pin Thar\n",
      "2770   Bago (East)  Nyaung Pin Thar\n",
      "3645   Bago (West)  Nyaung Pin Thar\n",
      "4447        Kachin  Nyaung Pin Thar\n",
      "5970        Magway  Nyaung Pin Thar\n",
      "7127      Mandalay  Nyaung Pin Thar\n",
      "8936   Nay Pyi Taw  Nyaung Pin Thar\n",
      "10233      Sagaing  Nyaung Pin Thar\n",
      "14177       Yangon  Nyaung Pin Thar\n"
     ]
    }
   ],
   "source": [
    "duplicated_names = duplicated_names[duplicated_names > 1]\n",
    "print(duplicated_names)\n",
    "print(df[df['name'] == 'Nyaung Pin Thar'])"
   ]
  },
  {
   "cell_type": "code",
   "execution_count": 9,
   "metadata": {},
   "outputs": [
    {
     "data": {
      "text/plain": [
       "(14832, 2)"
      ]
     },
     "execution_count": 9,
     "metadata": {},
     "output_type": "execute_result"
    }
   ],
   "source": [
    "df.shape"
   ]
  },
  {
   "cell_type": "code",
   "execution_count": 10,
   "metadata": {},
   "outputs": [
    {
     "data": {
      "text/plain": [
       "0                Bogale\n",
       "1               Danubyu\n",
       "2                Dedaye\n",
       "3                 Einme\n",
       "4                Du Yar\n",
       "              ...      \n",
       "19503    Ka Lawng Waing\n",
       "19504          Par Hkar\n",
       "19505           Man War\n",
       "19506         Gyeik Taw\n",
       "19511         Laung Zin\n",
       "Name: name, Length: 14832, dtype: object"
      ]
     },
     "execution_count": 10,
     "metadata": {},
     "output_type": "execute_result"
    }
   ],
   "source": [
    "df['name']"
   ]
  },
  {
   "cell_type": "code",
   "execution_count": 32,
   "metadata": {},
   "outputs": [
    {
     "name": "stdout",
     "output_type": "stream",
     "text": [
      "Avg tokens: 2.471331127169582\n",
      "Max tokens: 9\n",
      "39\n"
     ]
    }
   ],
   "source": [
    "\n",
    "seq_lengths = [len(s.split()) for s in df['name']]\n",
    "print(\"Avg tokens:\", np.mean(seq_lengths))\n",
    "print(\"Max tokens:\", np.max(seq_lengths))\n",
    "\n",
    "\n",
    "max_len = max(df['name'].apply(len))\n",
    "print(max_len)"
   ]
  },
  {
   "cell_type": "code",
   "execution_count": 34,
   "metadata": {},
   "outputs": [],
   "source": [
    "clean_df = df.copy() # crate another copy for differnt tokenizaiton"
   ]
  },
  {
   "cell_type": "code",
   "execution_count": 35,
   "metadata": {},
   "outputs": [
    {
     "data": {
      "text/plain": [
       "SR_Name\n",
       "Ayeyarwady      1627\n",
       "Bago (East)      757\n",
       "Bago (West)      659\n",
       "Chin             562\n",
       "Kachin           740\n",
       "Kayah            187\n",
       "Kayin            465\n",
       "Magway          1590\n",
       "Mandalay        1397\n",
       "Mon              468\n",
       "Nay Pyi Taw      204\n",
       "Rakhine         1060\n",
       "Sagaing         2205\n",
       "Shan (East)      226\n",
       "Shan (North)    1132\n",
       "Shan (South)     511\n",
       "Tanintharyi      390\n",
       "Yangon           627\n",
       "Name: name, dtype: int64"
      ]
     },
     "execution_count": 35,
     "metadata": {},
     "output_type": "execute_result"
    }
   ],
   "source": [
    "clean_df.groupby('SR_Name')['name'].count()"
   ]
  },
  {
   "cell_type": "code",
   "execution_count": 36,
   "metadata": {},
   "outputs": [
    {
     "data": {
      "text/plain": [
       "SR_Name\n",
       "Sagaing         0.148916\n",
       "Ayeyarwady      0.109880\n",
       "Magway          0.107382\n",
       "Mandalay        0.094347\n",
       "Shan (North)    0.076450\n",
       "Rakhine         0.071588\n",
       "Bago (East)     0.051124\n",
       "Kachin          0.049976\n",
       "Bago (West)     0.044506\n",
       "Yangon          0.042345\n",
       "Chin            0.037955\n",
       "Shan (South)    0.034511\n",
       "Mon             0.031607\n",
       "Kayin           0.031404\n",
       "Tanintharyi     0.026339\n",
       "Shan (East)     0.015263\n",
       "Nay Pyi Taw     0.013777\n",
       "Kayah           0.012629\n",
       "Name: proportion, dtype: float64"
      ]
     },
     "execution_count": 36,
     "metadata": {},
     "output_type": "execute_result"
    }
   ],
   "source": [
    "clean_df['SR_Name'].value_counts(normalize=True)"
   ]
  },
  {
   "cell_type": "code",
   "execution_count": 37,
   "metadata": {},
   "outputs": [
    {
     "name": "stdout",
     "output_type": "stream",
     "text": [
      "(10364, 12473) (4443, 12473)\n"
     ]
    }
   ],
   "source": [
    "# Step 2: Prepare the data\n",
    "clean_df = dp.preprocess_category(clean_df,'SR_Name')\n",
    "clean_df = dp.preprocess_onehot(clean_df,'name')\n",
    "\n",
    "y = clean_df['SR_Name'].values \n",
    "X = clean_df.drop(columns=['SR_Name']).values\n",
    "\n",
    "X_train, X_test, y_train, y_test = train_test_split(X, y, test_size=0.3, random_state=42, stratify=y) \n",
    "print(X_train.shape, X_test.shape)\n"
   ]
  },
  {
   "cell_type": "code",
   "execution_count": 38,
   "metadata": {},
   "outputs": [],
   "source": [
    "clean_df.to_csv(\"clean_data.csv\")"
   ]
  },
  {
   "cell_type": "code",
   "execution_count": 39,
   "metadata": {},
   "outputs": [],
   "source": [
    "from sklearn.preprocessing import LabelEncoder\n",
    "le = LabelEncoder()\n",
    "y_encoded = le.fit_transform(df['SR_Name'])\n",
    "\n",
    "# le = LabelEncoder()\n",
    "# new_df['SR_Name_encoded'] = le.fit_transform(new_df['SR_Name'])\n",
    "# region_for_class_12 = le.inverse_transform([12])[0]\n",
    "# print(\"Class 12 corresponds to region:\", region_for_class_12)"
   ]
  },
  {
   "cell_type": "markdown",
   "metadata": {},
   "source": [
    "### This is a baseline model with one hot encoding"
   ]
  },
  {
   "cell_type": "code",
   "execution_count": 41,
   "metadata": {},
   "outputs": [],
   "source": [
    "# Step 3: Build a NN model with TensorFlow\n",
    "import tensorflow as tf\n",
    "\n",
    "def create_onehot_basic_classification_model(input_shape, num_classes, params={}):\n",
    "    model = tf.keras.Sequential([\n",
    "        tf.keras.layers.InputLayer(input_shape=input_shape),\n",
    "        tf.keras.layers.Dense(64, activation='relu'),\n",
    "        tf.keras.layers.Dense(32, activation='relu'),\n",
    "        tf.keras.layers.Dense(num_classes, activation='softmax')\n",
    "    ])\n",
    "\n",
    "    model.compile(optimizer='adam', loss='sparse_categorical_crossentropy', metrics=['accuracy'])\n",
    "    \n",
    "    return model"
   ]
  },
  {
   "cell_type": "code",
   "execution_count": 44,
   "metadata": {},
   "outputs": [],
   "source": [
    "from tensorflow.keras.callbacks import EarlyStopping\n",
    "\n",
    "# 1. Define your early stopping callback\n",
    "early_stop = EarlyStopping(\n",
    "    monitor='val_loss',     # You can also monitor 'val_accuracy'\n",
    "    patience=5,             # Number of epochs with no improvement after which training will stop\n",
    "    restore_best_weights=True # Restore weights from the epoch with the best value of the monitored metric\n",
    ")"
   ]
  },
  {
   "cell_type": "code",
   "execution_count": 112,
   "metadata": {},
   "outputs": [],
   "source": [
    "from tensorflow.keras.callbacks import ReduceLROnPlateau\n",
    "\n",
    "lr_scheduler = ReduceLROnPlateau(\n",
    "    monitor='val_loss',      # Watch validation loss\n",
    "    factor=0.5,              # Reduce LR by this factor\n",
    "    patience=3,              # Wait 3 epochs before reducing\n",
    "    min_lr=1e-6,             # Don’t go below this\n",
    "    verbose=1\n",
    ")"
   ]
  },
  {
   "cell_type": "code",
   "execution_count": 113,
   "metadata": {},
   "outputs": [
    {
     "name": "stdout",
     "output_type": "stream",
     "text": [
      "{0: 0.5055116573992782, 1: 1.0863731656184485, 2: 1.2489756567847674, 3: 1.4650834040147018, 4: 1.1115401115401116, 5: 4.395250212044105, 6: 1.7716239316239317, 7: 0.5173205550564041, 8: 0.5887298341286071, 9: 1.755420054200542, 10: 4.0264180264180265, 11: 0.7759808325846062, 12: 0.37315474904587026, 13: 3.6441631504922642, 14: 0.7269921436588104, 15: 1.6083178150217257, 16: 2.109076109076109, 17: 1.3115666919767148}\n"
     ]
    }
   ],
   "source": [
    "from sklearn.utils.class_weight import compute_class_weight\n",
    "import numpy as np\n",
    "class_weights = compute_class_weight(class_weight='balanced', classes=np.unique(y_train), y=y_train)\n",
    "class_weights_dict = dict(enumerate(class_weights))\n",
    "print(class_weights_dict)"
   ]
  },
  {
   "cell_type": "code",
   "execution_count": 9,
   "metadata": {},
   "outputs": [],
   "source": [
    "import tensorflow as tf\n",
    "from tensorflow.keras.layers import Dense, Dropout, BatchNormalization, InputLayer\n",
    "\n",
    "def create_model_with_four_HL(input_shape, num_classes, params={}):\n",
    "    model = tf.keras.Sequential([\n",
    "        InputLayer(input_shape=input_shape),\n",
    "\n",
    "        Dense(128, activation='relu'),\n",
    "        BatchNormalization(),\n",
    "\n",
    "        Dense(64, activation='relu'),\n",
    "        BatchNormalization(),\n",
    "        Dropout(0.2),\n",
    "\n",
    "        Dense(32, activation='relu'),\n",
    "        BatchNormalization(),\n",
    "        Dropout(0.2),\n",
    "\n",
    "        Dense(16, activation='relu'),\n",
    "        BatchNormalization(),\n",
    "\n",
    "        Dense(num_classes, activation='softmax')\n",
    "    ])\n",
    "\n",
    "    model.compile(\n",
    "        optimizer='adam',\n",
    "        loss='sparse_categorical_crossentropy',\n",
    "        metrics=['accuracy']\n",
    "    )\n",
    "    \n",
    "    return model"
   ]
  },
  {
   "cell_type": "code",
   "execution_count": 114,
   "metadata": {},
   "outputs": [],
   "source": [
    "from tensorflow.keras.models import Sequential\n",
    "from tensorflow.keras.layers import Dense, Dropout, BatchNormalization, InputLayer\n",
    "from tensorflow.keras import regularizers\n",
    "\n",
    "def create_deep_dense_model(input_shape, num_classes, params={}):\n",
    "    l2_reg = params.get(\"l2\", 1e-4)\n",
    "    dropout_rate = params.get(\"dropout\", 0.3)\n",
    "\n",
    "    model = Sequential([\n",
    "        InputLayer(input_shape=input_shape),\n",
    "\n",
    "        Dense(512, activation='relu', kernel_regularizer=regularizers.l2(l2_reg)),\n",
    "        BatchNormalization(),\n",
    "        Dropout(dropout_rate),\n",
    "\n",
    "        Dense(256, activation='relu', kernel_regularizer=regularizers.l2(l2_reg)),\n",
    "        BatchNormalization(),\n",
    "        Dropout(dropout_rate),\n",
    "\n",
    "        Dense(128, activation='relu', kernel_regularizer=regularizers.l2(l2_reg)),\n",
    "        BatchNormalization(),\n",
    "        Dropout(dropout_rate),\n",
    "\n",
    "        Dense(64, activation='relu', kernel_regularizer=regularizers.l2(l2_reg)),\n",
    "        BatchNormalization(),\n",
    "        Dropout(dropout_rate),\n",
    "\n",
    "        Dense(32, activation='relu', kernel_regularizer=regularizers.l2(l2_reg)),\n",
    "        BatchNormalization(),\n",
    "\n",
    "        Dense(num_classes, activation='softmax')\n",
    "    ])\n",
    "\n",
    "    model.compile(\n",
    "        optimizer='adam',\n",
    "        loss='sparse_categorical_crossentropy',\n",
    "        metrics=['accuracy']\n",
    "    )\n",
    "\n",
    "    return model"
   ]
  },
  {
   "cell_type": "code",
   "execution_count": 115,
   "metadata": {},
   "outputs": [],
   "source": [
    "from tensorflow.keras.models import Sequential\n",
    "from tensorflow.keras.layers import Embedding, Bidirectional, LSTM, GlobalMaxPooling1D, Dense\n",
    "\n",
    "def create_simple_bilstm_model(vocab_size, max_len, num_classes):\n",
    "    model = Sequential([\n",
    "        Embedding(input_dim=vocab_size, output_dim=64, input_length=max_len),\n",
    "        Bidirectional(LSTM(64, return_sequences=True)),\n",
    "        GlobalMaxPooling1D(),\n",
    "        Dropout(0.3),\n",
    "        Dense(64, activation='relu'),\n",
    "        Dropout(0.2),\n",
    "        Dense(num_classes, activation='softmax')\n",
    "    ])\n",
    "    model.compile(optimizer='adam', loss='sparse_categorical_crossentropy', metrics=['accuracy'])\n",
    "    return model"
   ]
  },
  {
   "cell_type": "code",
   "execution_count": 116,
   "metadata": {},
   "outputs": [],
   "source": [
    "def create_deep_lstm_model(vocab_size, max_len, num_classes):\n",
    "    model = Sequential([\n",
    "        Embedding(input_dim=vocab_size, output_dim=128, input_length=max_len),\n",
    "        Bidirectional(LSTM(128, return_sequences=True)),\n",
    "        Dropout(0.1),\n",
    "        Bidirectional(LSTM(64, return_sequences=True)),\n",
    "        GlobalMaxPooling1D(),\n",
    "        Dense(128, activation='relu'),\n",
    "        Dropout(0.1),\n",
    "        Dense(64, activation='relu'),\n",
    "        Dense(num_classes, activation='softmax')\n",
    "    ])\n",
    "    model.compile(optimizer='adam', loss='sparse_categorical_crossentropy', metrics=['accuracy'])\n",
    "    return model"
   ]
  },
  {
   "cell_type": "code",
   "execution_count": 117,
   "metadata": {},
   "outputs": [],
   "source": [
    "from tensorflow.keras.layers import (\n",
    "    Embedding, \n",
    "    Bidirectional, \n",
    "    LSTM, \n",
    "    Dense, \n",
    "    Dropout, \n",
    "    GlobalAveragePooling1D\n",
    ")\n",
    "from tensorflow.keras.regularizers import l2\n",
    "\n",
    "def create_advanced_lstm_model(vocab_size, max_len, num_classes):\n",
    "    \"\"\"\n",
    "    Creates an advanced, regularized Bidirectional LSTM model for classification.\n",
    "\n",
    "    This model features:\n",
    "    - Two stacked Bidirectional LSTM layers for deeper feature extraction.\n",
    "    - GlobalAveragePooling1D to aggregate features across the sequence.\n",
    "    - Dropout layers and L2 kernel regularization to prevent overfitting.\n",
    "\n",
    "    Args:\n",
    "        vocab_size (int): The total size of the vocabulary (number of unique characters/tokens).\n",
    "        max_len (int): The fixed length of input sequences after padding.\n",
    "        num_classes (int): The number of target classes for classification.\n",
    "\n",
    "    Returns:\n",
    "        tf.keras.Model: A compiled Keras model ready for training.\n",
    "    \"\"\"\n",
    "    model = Sequential([\n",
    "        # 1. Embedding Layer: Converts token indices into dense vectors.\n",
    "        Embedding(\n",
    "            input_dim=vocab_size, \n",
    "            output_dim=64,       # Dimensionality of the embedding space\n",
    "            input_length=max_len,\n",
    "            mask_zero=True       # Ignores padded zeros in the sequence\n",
    "        ),\n",
    "\n",
    "        # 2. First Bidirectional LSTM Layer\n",
    "        # Processes the sequence of embeddings. return_sequences=True is crucial\n",
    "        # to pass the output of each time step to the next LSTM layer.\n",
    "        Bidirectional(LSTM(64, return_sequences=True)),\n",
    "        \n",
    "        # Regularization: Dropout layer to prevent overfitting on the first LSTM's output.\n",
    "        Dropout(0.3),\n",
    "\n",
    "        # 3. Second Bidirectional LSTM Layer\n",
    "        # This layer receives the sequence from the first LSTM and processes it further.\n",
    "        # return_sequences=True is needed again for the pooling layer to operate on the sequence.\n",
    "        Bidirectional(LSTM(32, return_sequences=True)),\n",
    "\n",
    "        # Regularization: Another dropout layer.\n",
    "        Dropout(0.3),\n",
    "\n",
    "        # 4. Global Average Pooling Layer\n",
    "        # As requested, this averages the features over the entire sequence.\n",
    "        # It's a good alternative to GlobalMaxPooling1D and can be more stable.\n",
    "        GlobalMaxPooling1D(),\n",
    "\n",
    "        # 5. Dense Hidden Layer\n",
    "        # A standard fully-connected layer for learning higher-level feature combinations.\n",
    "        Dense(64, activation='relu', kernel_regularizer=l2(0.001)),\n",
    "\n",
    "        # Regularization: Dropout before the final output layer.\n",
    "        Dropout(0.4),\n",
    "\n",
    "        # 6. Output Layer\n",
    "        # Produces the final probability distribution over the classes.\n",
    "        Dense(num_classes, activation='softmax')\n",
    "    ])\n",
    "\n",
    "    # Compile the model\n",
    "    model.compile(\n",
    "        optimizer='adam',\n",
    "        loss='sparse_categorical_crossentropy',\n",
    "        metrics=['accuracy']\n",
    "    )\n",
    "    \n",
    "    # Print a summary of the model architecture\n",
    "    model.summary()\n",
    "    \n",
    "    return model"
   ]
  },
  {
   "cell_type": "code",
   "execution_count": null,
   "metadata": {},
   "outputs": [],
   "source": [
    "from tensorflow.keras.models import Sequential\n",
    "from tensorflow.keras.layers import Embedding, Conv1D, MaxPooling1D, Bidirectional, LSTM, GlobalMaxPooling1D, Dense, Dropout\n",
    "\n",
    "def create_conv_lstm_model(vocab_size, max_len, num_classes):\n",
    "    model = Sequential([\n",
    "        Embedding(input_dim=vocab_size, output_dim=64, input_length=max_len),\n",
    "        Conv1D(filters=64, kernel_size=3, activation='relu', padding='same'),\n",
    "        MaxPooling1D(pool_size=2),\n",
    "        # Bidirectional(LSTM(128, return_sequences=True)),\n",
    "        # Dropout(0.2),\n",
    "        Bidirectional(LSTM(64, return_sequences=True)),\n",
    "        GlobalMaxPooling1D(),\n",
    "        Dense(128, activation='relu'),\n",
    "        Dropout(0.2),\n",
    "        Dense(64, activation='relu'),\n",
    "        Dense(num_classes, activation='softmax')\n",
    "    ])\n",
    "    model.compile(optimizer='adam', loss='sparse_categorical_crossentropy', metrics=['accuracy'])\n",
    "    return model"
   ]
  },
  {
   "cell_type": "code",
   "execution_count": 119,
   "metadata": {},
   "outputs": [],
   "source": [
    "from tensorflow.keras.layers import (Embedding, Conv1D, MaxPooling1D, Bidirectional, \n",
    "                                     LSTM, GlobalMaxPooling1D, Dense, Dropout, LayerNormalization)\n",
    "\n",
    "def create_adv_conv_lstm_model(vocab_size, max_len, num_classes, \n",
    "                           dropout_rate=0.2, use_layer_norm=True):\n",
    "    model = Sequential()\n",
    "    \n",
    "    model.add(Embedding(input_dim=vocab_size, output_dim=128, input_length=max_len))\n",
    "    \n",
    "    model.add(Conv1D(filters=64, kernel_size=3, activation='relu', padding='same'))\n",
    "    if use_layer_norm:\n",
    "        model.add(LayerNormalization())\n",
    "    model.add(MaxPooling1D(pool_size=2))\n",
    "    \n",
    "    model.add(Bidirectional(LSTM(128, return_sequences=True)))\n",
    "    if use_layer_norm:\n",
    "        model.add(LayerNormalization())\n",
    "    model.add(Dropout(dropout_rate))\n",
    "    \n",
    "    model.add(Bidirectional(LSTM(64, return_sequences=True)))\n",
    "    if use_layer_norm:\n",
    "        model.add(LayerNormalization())\n",
    "    model.add(GlobalMaxPooling1D())\n",
    "\n",
    "    model.add(Dense(128, activation='relu'))\n",
    "    model.add(Dropout(dropout_rate))\n",
    "    \n",
    "    model.add(Dense(64, activation='relu'))\n",
    "    model.add(Dense(num_classes, activation='softmax'))\n",
    "\n",
    "    model.compile(optimizer='adam', loss='sparse_categorical_crossentropy', metrics=['accuracy'])\n",
    "    \n",
    "    return model"
   ]
  },
  {
   "cell_type": "code",
   "execution_count": 42,
   "metadata": {},
   "outputs": [],
   "source": [
    "import numpy as np\n",
    "import pandas as pd\n",
    "from sklearn.metrics import (\n",
    "    classification_report, \n",
    "    confusion_matrix, \n",
    "    accuracy_score,\n",
    "    top_k_accuracy_score\n",
    ")\n",
    "import seaborn as sns\n",
    "import matplotlib.pyplot as plt\n",
    "\n",
    "def evaluate_classification_model(model, X, y_true, output_path, prefix=\"test\", batch_size=32, top_k=3, label_encoder=None):\n",
    "    # Predict probabilities\n",
    "    y_probs = model.predict(X, batch_size=batch_size, verbose=0)\n",
    "    y_pred = np.argmax(y_probs, axis=1)\n",
    "\n",
    "    # Accuracy\n",
    "    acc = accuracy_score(y_true, y_pred)\n",
    "    \n",
    "    # Top-k Accuracy (optional)\n",
    "    top_k_acc = top_k_accuracy_score(y_true, y_probs, k=top_k)\n",
    "\n",
    "    # Classification Report\n",
    "    report = classification_report(y_true, y_pred, output_dict=True)\n",
    "    report_df = pd.DataFrame(report).round(2).transpose()\n",
    "    report_df.loc[\"accuracy\"] = acc\n",
    "    report_df.loc[f\"top_{top_k}_accuracy\"] = top_k_acc\n",
    "\n",
    "    # Save Report\n",
    "    report_df.to_csv(f\"{output_path}/cls_report_{prefix}.csv\", index=False)\n",
    "\n",
    "    # Confusion Matrix\n",
    "    cm = confusion_matrix(y_true, y_pred)\n",
    "    plt.figure(figsize=(10, 8))\n",
    "    \n",
    "    if label_encoder is not None:\n",
    "        xticks = yticks = label_encoder.classes_\n",
    "        label_map = dict(enumerate(label_encoder.classes_))\n",
    "    else:\n",
    "        xticks = yticks = np.arange(len(np.unique(y_true)))\n",
    "        label_map = None\n",
    "    print(f\"label map: {label_map}\")\n",
    "    \n",
    "    sns.heatmap(cm, annot=True, fmt='d', cmap='Blues',\n",
    "                xticklabels=xticks, yticklabels=yticks)\n",
    "    plt.title(f\"Confusion Matrix - {prefix}\")\n",
    "    plt.xlabel(\"Predicted\")\n",
    "    plt.ylabel(\"True\")\n",
    "    plt.tight_layout()\n",
    "    plt.savefig(f\"{output_path}/confusion_matrix_{prefix}.png\")\n",
    "    plt.close()\n",
    "\n",
    "    return {\n",
    "        \"accuracy\": acc,\n",
    "        f\"top_{top_k}_accuracy\": top_k_acc,\n",
    "        \"classification_report\": report_df,\n",
    "        \"confusion_matrix\": cm\n",
    "    }"
   ]
  },
  {
   "cell_type": "code",
   "execution_count": 121,
   "metadata": {},
   "outputs": [],
   "source": [
    "from sklearn.model_selection import train_test_split\n",
    "from sklearn.preprocessing import LabelEncoder\n",
    "from sklearn.utils.class_weight import compute_class_weight\n",
    "from tensorflow.keras.preprocessing.text import Tokenizer\n",
    "from tensorflow.keras.preprocessing.sequence import pad_sequences\n",
    "import numpy as np\n",
    "\n",
    "def prepare_tokenizer_and_data(df, char_level=True, max_len=40):\n",
    "    # 1. Encode labels\n",
    "    label_encoder = LabelEncoder()\n",
    "    y = label_encoder.fit_transform(df['SR_Name'])\n",
    "\n",
    "    # 2. Split text and labels early to avoid leakage\n",
    "    X_train_text, X_test_text, y_train, y_test = train_test_split(\n",
    "        df['name'], y, test_size=0.3, random_state=42, stratify=y\n",
    "    )\n",
    "\n",
    "    # 3. Fit tokenizer only on training data\n",
    "    tokenizer = Tokenizer(char_level=char_level, lower=True, filters='')\n",
    "    tokenizer.fit_on_texts(X_train_text)\n",
    "\n",
    "    # 4. Convert to sequences\n",
    "    X_train_seq = tokenizer.texts_to_sequences(X_train_text)\n",
    "    X_test_seq = tokenizer.texts_to_sequences(X_test_text)\n",
    "\n",
    "    # 5. Pad sequences\n",
    "    X_train_pad = pad_sequences(X_train_seq, maxlen=max_len)\n",
    "    X_test_pad = pad_sequences(X_test_seq, maxlen=max_len)\n",
    "\n",
    "    # 6. Compute vocab size\n",
    "    vocab_size = len(tokenizer.word_index) + 1  # +1 for padding (0)\n",
    "\n",
    "    # 7. Compute class weights\n",
    "    class_weights_array = compute_class_weight(\n",
    "        class_weight='balanced',\n",
    "        classes=np.unique(y_train),\n",
    "        y=y_train\n",
    "    )\n",
    "    class_weights = dict(enumerate(class_weights_array))\n",
    "\n",
    "    # 8. Print info\n",
    "    print(f\"Vocab size: {vocab_size}\")\n",
    "    print(f\"Max length: {max_len}\")\n",
    "    print(\"X_train shape:\", X_train_pad.shape)\n",
    "    print(\"X_test shape:\", X_test_pad.shape)\n",
    "\n",
    "    return (\n",
    "        X_train_pad, X_test_pad,\n",
    "        y_train, y_test,\n",
    "        vocab_size, max_len,\n",
    "        tokenizer, label_encoder,\n",
    "        class_weights\n",
    "    )"
   ]
  },
  {
   "cell_type": "code",
   "execution_count": null,
   "metadata": {},
   "outputs": [],
   "source": [
    "import tensorflow as tf\n",
    "from tensorflow.keras.layers import TextVectorization\n",
    "from sklearn.preprocessing import LabelEncoder\n",
    "from sklearn.model_selection import train_test_split\n",
    "\n",
    "def prepare_textvectorization_data(df, max_len=25, char_level=True, ngrams=2):\n",
    "    # 1. Encode labels\n",
    "    label_encoder = LabelEncoder()\n",
    "    y = label_encoder.fit_transform(df['SR_Name'])\n",
    "\n",
    "    # 2. Train-test split (first!)\n",
    "    X_train_text, X_test_text, y_train, y_test = train_test_split(\n",
    "        df['name'], y, test_size=0.3, random_state=42, stratify=y\n",
    "    )\n",
    "\n",
    "    # 3. Create TextVectorization layer\n",
    "    vectorizer = TextVectorization(\n",
    "        max_tokens=None,\n",
    "        output_mode='int',\n",
    "        output_sequence_length=max_len,\n",
    "        split='character' if char_level else 'whitespace',\n",
    "        ngrams=ngrams\n",
    "    )\n",
    "\n",
    "    # 4. Adapt only on training text\n",
    "    text_ds = tf.data.Dataset.from_tensor_slices(X_train_text).batch(64)\n",
    "    vectorizer.adapt(text_ds)\n",
    "\n",
    "    # 5. Vectorize text\n",
    "    X_train = vectorizer(tf.constant(X_train_text.values)).numpy()\n",
    "    X_test = vectorizer(tf.constant(X_test_text.values)).numpy()\n",
    "\n",
    "    # 6. Vocabulary size\n",
    "    vocab_size = len(vectorizer.get_vocabulary())\n",
    "\n",
    "    print(f\"Vocab size: {vocab_size}\")\n",
    "    print(\"X_train shape:\", X_train.shape)\n",
    "    print(\"X_test shape:\", X_test.shape)\n",
    "\n",
    "    return X_train, X_test, y_train, y_test, vocab_size, vectorizer, label_encoder"
   ]
  },
  {
   "cell_type": "code",
   "execution_count": 124,
   "metadata": {},
   "outputs": [
    {
     "name": "stdout",
     "output_type": "stream",
     "text": [
      "Vocab size: 1880\n",
      "Max length: 40\n",
      "X_train shape: (10364, 40)\n",
      "X_test shape: (4443, 40)\n"
     ]
    }
   ],
   "source": [
    "X_train_char, X_test_char, y_train_char, y_test_char, vocab_size_char, max_len_char, tokenizer,label_encoder, class_weights = prepare_tokenizer_and_data(clean_df, char_level=False)"
   ]
  },
  {
   "cell_type": "code",
   "execution_count": 140,
   "metadata": {},
   "outputs": [
    {
     "name": "stdout",
     "output_type": "stream",
     "text": [
      "Vocab size: 419\n",
      "X_train shape: (10364, 25)\n",
      "X_test shape: (4443, 25)\n"
     ]
    }
   ],
   "source": [
    "X_train_ttok, X_test_ttok, y_train_ttok, y_test_ttok, vocab_size_ttok, vectorizer, label_encoder = prepare_textvectorization_data(clean_df,char_level=True, ngrams=2)"
   ]
  },
  {
   "cell_type": "code",
   "execution_count": 141,
   "metadata": {},
   "outputs": [
    {
     "name": "stdout",
     "output_type": "stream",
     "text": [
      "Original: taung bo\n",
      "Vectorized: [[  5   3  12   4  11   2  63  17  32  22  23  13  36  90 138   0   0   0\n",
      "    0   0   0   0   0   0   0]]\n",
      "Original: minbu\n",
      "Vectorized: [[ 21   7   4  63  12 133  14 280 156   0   0   0   0   0   0   0   0   0\n",
      "    0   0   0   0   0   0   0]]\n",
      "Original: htin zin\n",
      "Vectorized: [[  9   5   7   4   2  89   7   4  79 142  14  16 129 164  14   0   0   0\n",
      "    0   0   0   0   0   0   0]]\n",
      "Original: long wei\n",
      "Vectorized: [[ 24  17   4  11   2  15  10   7 108  33  13  36 103  73  58   0   0   0\n",
      "    0   0   0   0   0   0   0]]\n",
      "Original: ku lar kone\n",
      "Vectorized: [[  6  12   2  24   3  25   2   6  17   4  10 114  72  44  50  28  41  20\n",
      "   57  33  47   0   0   0   0]]\n"
     ]
    }
   ],
   "source": [
    "sample_texts = clean_df['name'].sample(5).tolist()\n",
    "for text in sample_texts:\n",
    "    print(f\"Original: {text}\")\n",
    "    print(f\"Vectorized: {vectorizer([text])}\")"
   ]
  },
  {
   "cell_type": "code",
   "execution_count": 142,
   "metadata": {},
   "outputs": [
    {
     "data": {
      "text/plain": [
       "<Axes: >"
      ]
     },
     "execution_count": 142,
     "metadata": {},
     "output_type": "execute_result"
    },
    {
     "data": {
      "image/png": "[encoded data removed]",
      "text/plain": [
       "<Figure size 640x480 with 1 Axes>"
      ]
     },
     "metadata": {},
     "output_type": "display_data"
    }
   ],
   "source": [
    "clean_df['name'].str.len().describe()\n",
    "clean_df['name'].str.len().hist(bins=30)"
   ]
  },
  {
   "cell_type": "code",
   "execution_count": 133,
   "metadata": {},
   "outputs": [
    {
     "data": {
      "text/plain": [
       "0.90    14.0\n",
       "0.95    16.0\n",
       "0.99    20.0\n",
       "Name: name, dtype: float64"
      ]
     },
     "execution_count": 133,
     "metadata": {},
     "output_type": "execute_result"
    }
   ],
   "source": [
    "clean_df['name'].str.len().quantile([0.90, 0.95, 0.99])"
   ]
  },
  {
   "cell_type": "code",
   "execution_count": 45,
   "metadata": {},
   "outputs": [
    {
     "name": "stdout",
     "output_type": "stream",
     "text": [
      "\n",
      "Training time: 26.82 seconds\n"
     ]
    },
    {
     "name": "stderr",
     "output_type": "stream",
     "text": [
      "c:\\Users\\nuwai\\Anaconda3\\envs\\myenv\\lib\\site-packages\\sklearn\\metrics\\_classification.py:1565: UndefinedMetricWarning: Precision is ill-defined and being set to 0.0 in labels with no predicted samples. Use `zero_division` parameter to control this behavior.\n",
      "  _warn_prf(average, modifier, f\"{metric.capitalize()} is\", len(result))\n",
      "c:\\Users\\nuwai\\Anaconda3\\envs\\myenv\\lib\\site-packages\\sklearn\\metrics\\_classification.py:1565: UndefinedMetricWarning: Precision is ill-defined and being set to 0.0 in labels with no predicted samples. Use `zero_division` parameter to control this behavior.\n",
      "  _warn_prf(average, modifier, f\"{metric.capitalize()} is\", len(result))\n",
      "c:\\Users\\nuwai\\Anaconda3\\envs\\myenv\\lib\\site-packages\\sklearn\\metrics\\_classification.py:1565: UndefinedMetricWarning: Precision is ill-defined and being set to 0.0 in labels with no predicted samples. Use `zero_division` parameter to control this behavior.\n",
      "  _warn_prf(average, modifier, f\"{metric.capitalize()} is\", len(result))\n"
     ]
    },
    {
     "name": "stdout",
     "output_type": "stream",
     "text": [
      "label map: {0: 'Ayeyarwady', 1: 'Bago (East)', 2: 'Bago (West)', 3: 'Chin', 4: 'Kachin', 5: 'Kayah', 6: 'Kayin', 7: 'Magway', 8: 'Mandalay', 9: 'Mon', 10: 'Nay Pyi Taw', 11: 'Rakhine', 12: 'Sagaing', 13: 'Shan (East)', 14: 'Shan (North)', 15: 'Shan (South)', 16: 'Tanintharyi', 17: 'Yangon'}\n"
     ]
    },
    {
     "name": "stderr",
     "output_type": "stream",
     "text": [
      "c:\\Users\\nuwai\\Anaconda3\\envs\\myenv\\lib\\site-packages\\sklearn\\metrics\\_classification.py:1565: UndefinedMetricWarning: Precision is ill-defined and being set to 0.0 in labels with no predicted samples. Use `zero_division` parameter to control this behavior.\n",
      "  _warn_prf(average, modifier, f\"{metric.capitalize()} is\", len(result))\n",
      "c:\\Users\\nuwai\\Anaconda3\\envs\\myenv\\lib\\site-packages\\sklearn\\metrics\\_classification.py:1565: UndefinedMetricWarning: Precision is ill-defined and being set to 0.0 in labels with no predicted samples. Use `zero_division` parameter to control this behavior.\n",
      "  _warn_prf(average, modifier, f\"{metric.capitalize()} is\", len(result))\n",
      "c:\\Users\\nuwai\\Anaconda3\\envs\\myenv\\lib\\site-packages\\sklearn\\metrics\\_classification.py:1565: UndefinedMetricWarning: Precision is ill-defined and being set to 0.0 in labels with no predicted samples. Use `zero_division` parameter to control this behavior.\n",
      "  _warn_prf(average, modifier, f\"{metric.capitalize()} is\", len(result))\n"
     ]
    },
    {
     "name": "stdout",
     "output_type": "stream",
     "text": [
      "label map: {0: 'Ayeyarwady', 1: 'Bago (East)', 2: 'Bago (West)', 3: 'Chin', 4: 'Kachin', 5: 'Kayah', 6: 'Kayin', 7: 'Magway', 8: 'Mandalay', 9: 'Mon', 10: 'Nay Pyi Taw', 11: 'Rakhine', 12: 'Sagaing', 13: 'Shan (East)', 14: 'Shan (North)', 15: 'Shan (South)', 16: 'Tanintharyi', 17: 'Yangon'}\n",
      "0.14899842448795858\n",
      "0.14888074102663065\n"
     ]
    }
   ],
   "source": [
    "# Step 4: Create and train the model\n",
    "import time\n",
    "model = create_onehot_basic_classification_model(input_shape=[X_train.shape[1]],num_classes=len(df['SR_Name'].unique()), )\n",
    "start_time = time.time()\n",
    "history = model.fit(X_train, y_train, epochs=100, batch_size=32, validation_data=(X_test, y_test), callbacks=[early_stop],verbose=0)\n",
    "end_time = time.time()\n",
    "baseline_training_duration = end_time - start_time\n",
    "print(f\"\\nTraining time: {baseline_training_duration:.2f} seconds\")\n",
    "\n",
    "\n",
    "test_results = evaluate_classification_model(model, X_test, y_test, './data', prefix=\"baeline_test\", label_encoder=le)\n",
    "train_results = evaluate_classification_model(model, X_train, y_train, './data', prefix=\"baeline_train\",label_encoder=le)\n",
    "print(test_results['accuracy'])\n",
    "print(train_results['accuracy'])"
   ]
  },
  {
   "cell_type": "code",
   "execution_count": 143,
   "metadata": {},
   "outputs": [
    {
     "name": "stdout",
     "output_type": "stream",
     "text": [
      "\n",
      "Training time: 63.17 seconds\n",
      "0.1530497411658789\n",
      "0.21420301042068698\n"
     ]
    }
   ],
   "source": [
    "conv_model_ttok = create_conv_lstm_model(vocab_size_ttok, 25, len(clean_df['SR_Name'].unique()))\n",
    "import time\n",
    "start_time = time.time()\n",
    "history = conv_model_ttok.fit(X_train_ttok, y_train_ttok, epochs=100, batch_size=32, validation_data=(X_test_ttok, y_test_ttok), callbacks=[early_stop],class_weight=class_weights_dict,verbose=0)\n",
    "end_time = time.time()\n",
    "conv_training_duration = end_time - start_time\n",
    "print(f\"\\nTraining time: {conv_training_duration:.2f} seconds\")\n",
    "\n",
    "\n",
    "ttok_conv_test_results = evaluate_classification_model(conv_model_ttok, X_test_ttok, y_test_ttok, './data', prefix=\"ttok_conv_test\")\n",
    "ttok_conv_train_results = evaluate_classification_model(conv_model_ttok, X_train_ttok, y_train_ttok, './data', prefix=\"ttok_conv_train\")\n",
    "print(ttok_conv_test_results['accuracy'])\n",
    "print(ttok_conv_train_results['accuracy'])"
   ]
  },
  {
   "cell_type": "code",
   "execution_count": 48,
   "metadata": {},
   "outputs": [
    {
     "name": "stdout",
     "output_type": "stream",
     "text": [
      "\n",
      "Training time: 257.81 seconds\n"
     ]
    }
   ],
   "source": [
    "lstm_model = create_simple_bilstm_model(vocab_size_char, max_len_char, len(label_encoder.classes_))\n",
    "import time\n",
    "start_time = time.time()\n",
    "history = lstm_model.fit(X_train_char, y_train_char, epochs=100, batch_size=32, validation_data=(X_test_char, y_test_char),class_weight=class_weights,callbacks=[early_stop], verbose=0)\n",
    "end_time = time.time()\n",
    "lstm_training_duration = end_time - start_time\n",
    "print(f\"\\nTraining time: {lstm_training_duration:.2f} seconds\")"
   ]
  },
  {
   "cell_type": "code",
   "execution_count": 50,
   "metadata": {},
   "outputs": [
    {
     "name": "stdout",
     "output_type": "stream",
     "text": [
      "0.39278131634819535\n",
      "0.25367270242569184\n"
     ]
    }
   ],
   "source": [
    "simple_lstm_test_results = evaluate_classification_model(lstm_model, X_test_char, y_test_char, './data', prefix=\"simple_lstm_test\")\n",
    "simple_lstm_train_results = evaluate_classification_model(lstm_model, X_train_char, y_train_char, './data', prefix=\"simple_lstm_train\")\n",
    "print(simple_lstm_train_results['accuracy'])\n",
    "print(simple_lstm_test_results['accuracy'])"
   ]
  },
  {
   "cell_type": "code",
   "execution_count": 67,
   "metadata": {},
   "outputs": [
    {
     "name": "stdout",
     "output_type": "stream",
     "text": [
      "\n",
      "Training time: 535.38 seconds\n"
     ]
    }
   ],
   "source": [
    "ttok_lstm_model = create_simple_bilstm_model(vocab_size_ttok, max_len, len(label_encoder.classes_))\n",
    "import time\n",
    "start_time = time.time()\n",
    "history = ttok_lstm_model.fit(X_train_ttok, y_train_ttok, epochs=100, batch_size=32, validation_data=(X_test_ttok, y_test_ttok),callbacks=[early_stop],class_weight=class_weights_dict, verbose=0)\n",
    "end_time = time.time()\n",
    "lstm_training_duration = end_time - start_time\n",
    "print(f\"\\nTraining time: {lstm_training_duration:.2f} seconds\")"
   ]
  },
  {
   "cell_type": "code",
   "execution_count": 68,
   "metadata": {},
   "outputs": [
    {
     "name": "stdout",
     "output_type": "stream",
     "text": [
      "0.20447557225828494\n",
      "0.28120653049271543\n"
     ]
    }
   ],
   "source": [
    "ttok_lstm_test_results = evaluate_classification_model(ttok_lstm_model, X_test_ttok, y_test_ttok, './data', prefix=\"ttok_lstm_test\")\n",
    "ttok_lstm_train_results = evaluate_classification_model(ttok_lstm_model, X_train_ttok, y_train_ttok, './data', prefix=\"ttok_lstm_train\")\n",
    "print(ttok_lstm_test_results['accuracy'])\n",
    "print(ttok_lstm_train_results['accuracy'])"
   ]
  },
  {
   "cell_type": "code",
   "execution_count": 90,
   "metadata": {},
   "outputs": [
    {
     "name": "stdout",
     "output_type": "stream",
     "text": [
      "\n",
      "Training time: 939.63 seconds\n"
     ]
    }
   ],
   "source": [
    "deep_lstm_model = create_deep_lstm_model(vocab_size_ttok, 50, len(clean_df['SR_Name'].unique()))\n",
    "import time\n",
    "start_time = time.time()\n",
    "history = deep_lstm_model.fit(X_train_ttok, y_train_ttok, epochs=100, batch_size=32, validation_data=(X_test_ttok, y_test_ttok),callbacks=[early_stop],class_weight=class_weights_dict, verbose=0)\n",
    "end_time = time.time()\n",
    "lstm_training_duration = end_time - start_time\n",
    "print(f\"\\nTraining time: {lstm_training_duration:.2f} seconds\")"
   ]
  },
  {
   "cell_type": "code",
   "execution_count": 92,
   "metadata": {},
   "outputs": [
    {
     "name": "stderr",
     "output_type": "stream",
     "text": [
      "c:\\Users\\nuwai\\Anaconda3\\envs\\myenv\\lib\\site-packages\\sklearn\\metrics\\_classification.py:1565: UndefinedMetricWarning: Precision is ill-defined and being set to 0.0 in labels with no predicted samples. Use `zero_division` parameter to control this behavior.\n",
      "  _warn_prf(average, modifier, f\"{metric.capitalize()} is\", len(result))\n",
      "c:\\Users\\nuwai\\Anaconda3\\envs\\myenv\\lib\\site-packages\\sklearn\\metrics\\_classification.py:1565: UndefinedMetricWarning: Precision is ill-defined and being set to 0.0 in labels with no predicted samples. Use `zero_division` parameter to control this behavior.\n",
      "  _warn_prf(average, modifier, f\"{metric.capitalize()} is\", len(result))\n",
      "c:\\Users\\nuwai\\Anaconda3\\envs\\myenv\\lib\\site-packages\\sklearn\\metrics\\_classification.py:1565: UndefinedMetricWarning: Precision is ill-defined and being set to 0.0 in labels with no predicted samples. Use `zero_division` parameter to control this behavior.\n",
      "  _warn_prf(average, modifier, f\"{metric.capitalize()} is\", len(result))\n",
      "c:\\Users\\nuwai\\Anaconda3\\envs\\myenv\\lib\\site-packages\\sklearn\\metrics\\_classification.py:1565: UndefinedMetricWarning: Precision is ill-defined and being set to 0.0 in labels with no predicted samples. Use `zero_division` parameter to control this behavior.\n",
      "  _warn_prf(average, modifier, f\"{metric.capitalize()} is\", len(result))\n",
      "c:\\Users\\nuwai\\Anaconda3\\envs\\myenv\\lib\\site-packages\\sklearn\\metrics\\_classification.py:1565: UndefinedMetricWarning: Precision is ill-defined and being set to 0.0 in labels with no predicted samples. Use `zero_division` parameter to control this behavior.\n",
      "  _warn_prf(average, modifier, f\"{metric.capitalize()} is\", len(result))\n",
      "c:\\Users\\nuwai\\Anaconda3\\envs\\myenv\\lib\\site-packages\\sklearn\\metrics\\_classification.py:1565: UndefinedMetricWarning: Precision is ill-defined and being set to 0.0 in labels with no predicted samples. Use `zero_division` parameter to control this behavior.\n",
      "  _warn_prf(average, modifier, f\"{metric.capitalize()} is\", len(result))\n"
     ]
    },
    {
     "data": {
      "text/plain": [
       "0.1959958836186734"
      ]
     },
     "execution_count": 92,
     "metadata": {},
     "output_type": "execute_result"
    }
   ],
   "source": [
    "ttok_deep_lstm_test_results = evaluate_classification_model(deep_lstm_model, X_test_ttok, y_test_ttok, './data', prefix=\"ttok_deep_lstm_test\")\n",
    "ttok_deep_lstm_train_results = evaluate_classification_model(deep_lstm_model, X_train_ttok, y_train_ttok, './data', prefix=\"ttok_deep_lstm_train\")\n",
    "ttok_deep_lstm_test_results['accuracy']\n",
    "ttok_deep_lstm_train_results['accuracy']"
   ]
  },
  {
   "cell_type": "code",
   "execution_count": 93,
   "metadata": {},
   "outputs": [
    {
     "name": "stdout",
     "output_type": "stream",
     "text": [
      "0.13075747653350797\n",
      "0.1959958836186734\n"
     ]
    }
   ],
   "source": [
    "print(ttok_deep_lstm_test_results['accuracy'])\n",
    "print(ttok_deep_lstm_train_results['accuracy'])"
   ]
  },
  {
   "cell_type": "code",
   "execution_count": null,
   "metadata": {},
   "outputs": [
    {
     "name": "stdout",
     "output_type": "stream",
     "text": [
      "Vocab size: 47\n",
      "sequences: 19513\n",
      "X_train shape: (13659, 20)\n",
      "X_test shape: (5854, 20)\n",
      "y_train shape: (13659,)\n",
      "y_test shape: (5854,)\n",
      "Model: \"sequential_1\"\n",
      "_________________________________________________________________\n",
      " Layer (type)                Output Shape              Param #   \n",
      "=================================================================\n",
      " embedding_1 (Embedding)     (None, 20, 64)            3008      \n",
      "                                                                 \n",
      " bidirectional_1 (Bidirecti  (None, 20, 128)           66048     \n",
      " onal)                                                           \n",
      "                                                                 \n",
      " dropout (Dropout)           (None, 20, 128)           0         \n",
      "                                                                 \n",
      " bidirectional_2 (Bidirecti  (None, 20, 64)            41216     \n",
      " onal)                                                           \n",
      "                                                                 \n",
      " dropout_1 (Dropout)         (None, 20, 64)            0         \n",
      "                                                                 \n",
      " global_average_pooling1d (  (None, 64)                0         \n",
      " GlobalAveragePooling1D)                                         \n",
      "                                                                 \n",
      " dense_2 (Dense)             (None, 64)                4160      \n",
      "                                                                 \n",
      " dropout_2 (Dropout)         (None, 64)                0         \n",
      "                                                                 \n",
      " dense_3 (Dense)             (None, 18)                1170      \n",
      "                                                                 \n",
      "=================================================================\n",
      "Total params: 115602 (451.57 KB)\n",
      "Trainable params: 115602 (451.57 KB)\n",
      "Non-trainable params: 0 (0.00 Byte)\n",
      "_________________________________________________________________\n",
      "\n",
      "Training time: 849.98 seconds\n"
     ]
    }
   ],
   "source": [
    "X_train_char, X_test_char, y_train_char, y_test_char, vocab_size_char = prepare_tokenizer_and_data(new_df, char_level=True)\n",
    "adv_lstm_model = create_advanced_lstm_model(vocab_size_char, 20, len(new_df['SR_Name'].unique()))\n",
    "import time\n",
    "start_time = time.time()\n",
    "history = adv_lstm_model.fit(X_train_char, y_train_char, epochs=50, batch_size=32, validation_data=(X_test_char, y_test_char), verbose=0)\n",
    "end_time = time.time()\n",
    "lstm_training_duration = end_time - start_time\n",
    "print(f\"\\nTraining time: {lstm_training_duration:.2f} seconds\")"
   ]
  },
  {
   "cell_type": "code",
   "execution_count": null,
   "metadata": {},
   "outputs": [
    {
     "name": "stderr",
     "output_type": "stream",
     "text": [
      "c:\\Users\\nuwai\\Anaconda3\\envs\\myenv\\lib\\site-packages\\sklearn\\metrics\\_classification.py:1565: UndefinedMetricWarning: Precision is ill-defined and being set to 0.0 in labels with no predicted samples. Use `zero_division` parameter to control this behavior.\n",
      "  _warn_prf(average, modifier, f\"{metric.capitalize()} is\", len(result))\n",
      "c:\\Users\\nuwai\\Anaconda3\\envs\\myenv\\lib\\site-packages\\sklearn\\metrics\\_classification.py:1565: UndefinedMetricWarning: Precision is ill-defined and being set to 0.0 in labels with no predicted samples. Use `zero_division` parameter to control this behavior.\n",
      "  _warn_prf(average, modifier, f\"{metric.capitalize()} is\", len(result))\n",
      "c:\\Users\\nuwai\\Anaconda3\\envs\\myenv\\lib\\site-packages\\sklearn\\metrics\\_classification.py:1565: UndefinedMetricWarning: Precision is ill-defined and being set to 0.0 in labels with no predicted samples. Use `zero_division` parameter to control this behavior.\n",
      "  _warn_prf(average, modifier, f\"{metric.capitalize()} is\", len(result))\n",
      "c:\\Users\\nuwai\\Anaconda3\\envs\\myenv\\lib\\site-packages\\sklearn\\metrics\\_classification.py:1565: UndefinedMetricWarning: Precision is ill-defined and being set to 0.0 in labels with no predicted samples. Use `zero_division` parameter to control this behavior.\n",
      "  _warn_prf(average, modifier, f\"{metric.capitalize()} is\", len(result))\n",
      "c:\\Users\\nuwai\\Anaconda3\\envs\\myenv\\lib\\site-packages\\sklearn\\metrics\\_classification.py:1565: UndefinedMetricWarning: Precision is ill-defined and being set to 0.0 in labels with no predicted samples. Use `zero_division` parameter to control this behavior.\n",
      "  _warn_prf(average, modifier, f\"{metric.capitalize()} is\", len(result))\n",
      "c:\\Users\\nuwai\\Anaconda3\\envs\\myenv\\lib\\site-packages\\sklearn\\metrics\\_classification.py:1565: UndefinedMetricWarning: Precision is ill-defined and being set to 0.0 in labels with no predicted samples. Use `zero_division` parameter to control this behavior.\n",
      "  _warn_prf(average, modifier, f\"{metric.capitalize()} is\", len(result))\n"
     ]
    }
   ],
   "source": [
    "\n",
    "adv_lstm_test_results = evaluate_classification_model(adv_lstm_model, X_test_char, y_test_char, './data', prefix=\"adv_lstm_test\")\n",
    "adv_lstm_train_results = evaluate_classification_model(adv_lstm_model, X_train_char, y_train_char, './data', prefix=\"adv_lstm_train\")"
   ]
  },
  {
   "cell_type": "code",
   "execution_count": null,
   "metadata": {},
   "outputs": [
    {
     "name": "stdout",
     "output_type": "stream",
     "text": [
      "\n",
      "Training time: 475.58 seconds\n"
     ]
    }
   ],
   "source": [
    "lstm_model = create_simple_bilstm_model(vocab_size_char, 20, len(new_df['SR_Name'].unique()))\n",
    "import time\n",
    "start_time = time.time()\n",
    "history = lstm_model.fit(X_train_char, y_train_char, epochs=50, batch_size=32, validation_data=(X_test_char, y_test_char), verbose=0)\n",
    "end_time = time.time()\n",
    "lstm_training_duration = end_time - start_time\n",
    "print(f\"\\nTraining time: {lstm_training_duration:.2f} seconds\")"
   ]
  },
  {
   "cell_type": "code",
   "execution_count": null,
   "metadata": {},
   "outputs": [],
   "source": [
    "lstm_test_results = evaluate_classification_model(lstm_model, X_test_char, y_test_char, './data', prefix=\"lstm_test\")\n",
    "lstm_train_results = evaluate_classification_model(lstm_model, X_train_char, y_train_char, './data', prefix=\"lstm_train\")"
   ]
  },
  {
   "cell_type": "code",
   "execution_count": 68,
   "metadata": {},
   "outputs": [
    {
     "name": "stdout",
     "output_type": "stream",
     "text": [
      "\n",
      "Training time: 108.57 seconds\n"
     ]
    }
   ],
   "source": [
    "#print(tokenizer.word_index)\n",
    "import time\n",
    "fourhl_model = create_model_with_four_HL(input_shape=[X_train.shape[1]],num_classes=len(df['SR_Name'].unique()))\n",
    "start_time = time.time()\n",
    "history = fourhl_model.fit(X_train, y_train, epochs=100, batch_size=32, validation_data=(X_test, y_test),callbacks=[early_stop], verbose=0)\n",
    "end_time = time.time()\n",
    "baseline_training_duration = end_time - start_time\n",
    "print(f\"\\nTraining time: {baseline_training_duration:.2f} seconds\")"
   ]
  },
  {
   "cell_type": "code",
   "execution_count": null,
   "metadata": {},
   "outputs": [],
   "source": [
    "fourHL_test_results = evaluate_classification_model(fourhl_model, X_test, y_test, './data', prefix=\"4HL_test\")\n",
    "fourHL_train_results = evaluate_classification_model(fourhl_model, X_train, y_train, './data', prefix=\"4HL_train\")\n",
    "print(fourHL_test_results['accuracy'])\n",
    "print(fourHL_train_results['accuracy'])"
   ]
  },
  {
   "cell_type": "code",
   "execution_count": 79,
   "metadata": {},
   "outputs": [
    {
     "name": "stdout",
     "output_type": "stream",
     "text": [
      "\n",
      "Training time: 403.05 seconds\n"
     ]
    }
   ],
   "source": [
    "import time\n",
    "deepdense_model = create_deep_dense_model(input_shape=[X_train.shape[1]],num_classes=len(df['SR_Name'].unique()))\n",
    "start_time = time.time()\n",
    "history = deepdense_model.fit(X_train, y_train, epochs=100, batch_size=32, validation_data=(X_test, y_test),callbacks=[early_stop], verbose=0)\n",
    "end_time = time.time()\n",
    "baseline_training_duration = end_time - start_time\n",
    "print(f\"\\nTraining time: {baseline_training_duration:.2f} seconds\")"
   ]
  },
  {
   "cell_type": "code",
   "execution_count": 80,
   "metadata": {},
   "outputs": [
    {
     "name": "stderr",
     "output_type": "stream",
     "text": [
      "c:\\Users\\nuwai\\Anaconda3\\envs\\myenv\\lib\\site-packages\\sklearn\\metrics\\_classification.py:1565: UndefinedMetricWarning: Precision is ill-defined and being set to 0.0 in labels with no predicted samples. Use `zero_division` parameter to control this behavior.\n",
      "  _warn_prf(average, modifier, f\"{metric.capitalize()} is\", len(result))\n",
      "c:\\Users\\nuwai\\Anaconda3\\envs\\myenv\\lib\\site-packages\\sklearn\\metrics\\_classification.py:1565: UndefinedMetricWarning: Precision is ill-defined and being set to 0.0 in labels with no predicted samples. Use `zero_division` parameter to control this behavior.\n",
      "  _warn_prf(average, modifier, f\"{metric.capitalize()} is\", len(result))\n",
      "c:\\Users\\nuwai\\Anaconda3\\envs\\myenv\\lib\\site-packages\\sklearn\\metrics\\_classification.py:1565: UndefinedMetricWarning: Precision is ill-defined and being set to 0.0 in labels with no predicted samples. Use `zero_division` parameter to control this behavior.\n",
      "  _warn_prf(average, modifier, f\"{metric.capitalize()} is\", len(result))\n",
      "c:\\Users\\nuwai\\Anaconda3\\envs\\myenv\\lib\\site-packages\\sklearn\\metrics\\_classification.py:1565: UndefinedMetricWarning: Precision is ill-defined and being set to 0.0 in labels with no predicted samples. Use `zero_division` parameter to control this behavior.\n",
      "  _warn_prf(average, modifier, f\"{metric.capitalize()} is\", len(result))\n",
      "c:\\Users\\nuwai\\Anaconda3\\envs\\myenv\\lib\\site-packages\\sklearn\\metrics\\_classification.py:1565: UndefinedMetricWarning: Precision is ill-defined and being set to 0.0 in labels with no predicted samples. Use `zero_division` parameter to control this behavior.\n",
      "  _warn_prf(average, modifier, f\"{metric.capitalize()} is\", len(result))\n",
      "c:\\Users\\nuwai\\Anaconda3\\envs\\myenv\\lib\\site-packages\\sklearn\\metrics\\_classification.py:1565: UndefinedMetricWarning: Precision is ill-defined and being set to 0.0 in labels with no predicted samples. Use `zero_division` parameter to control this behavior.\n",
      "  _warn_prf(average, modifier, f\"{metric.capitalize()} is\", len(result))\n"
     ]
    },
    {
     "name": "stdout",
     "output_type": "stream",
     "text": [
      "0.2210454390160574\n",
      "0.4525953583717695\n"
     ]
    }
   ],
   "source": [
    "deepdense_test_results = evaluate_classification_model(deepdense_model, X_test, y_test, './data', prefix=\"deepdense_test\")\n",
    "deepdense_train_results = evaluate_classification_model(deepdense_model, X_train, y_train, './data', prefix=\"deepdense_train\")\n",
    "print(deepdense_test_results['accuracy'])\n",
    "print(deepdense_train_results['accuracy'])"
   ]
  },
  {
   "cell_type": "code",
   "execution_count": null,
   "metadata": {},
   "outputs": [],
   "source": [
    "# # Step 5: Evaluate the model\n",
    "\n",
    "# from sklearn.metrics import confusion_matrix\n",
    "# from sklearn.metrics import classification_report\n",
    "# from sklearn.metrics import accuracy_score\n",
    "\n",
    "# y_pred = model.predict(X_test, batch_size=32, verbose=0)\n",
    "# y_pred = y_pred.argmax(axis=1)\n",
    "# report = classification_report(y_test, y_pred, output_dict=True)\n",
    "# report_df = pd.DataFrame(report).round(2).transpose()\n",
    "# report_df.to_csv('./data/cls_report_test.csv', index=False)\n",
    "\n",
    "# y_pred = model.predict(X_train, batch_size=32, verbose=0)\n",
    "# y_pred = y_pred.argmax(axis=1)\n",
    "# report = classification_report(y_train, y_pred, output_dict=True)\n",
    "# report_df = pd.DataFrame(report).round(2).transpose()\n",
    "# report_df.to_csv('./data/cls_report_train.csv', index=False)"
   ]
  }
 ],
 "metadata": {
  "kernelspec": {
   "display_name": "Python (myenv)",
   "language": "python",
   "name": "myenv"
  },
  "language_info": {
   "codemirror_mode": {
    "name": "ipython",
    "version": 3
   },
   "file_extension": ".py",
   "mimetype": "text/x-python",
   "name": "python",
   "nbconvert_exporter": "python",
   "pygments_lexer": "ipython3",
   "version": "3.9.21"
  }
 },
 "nbformat": 4,
 "nbformat_minor": 2
}
