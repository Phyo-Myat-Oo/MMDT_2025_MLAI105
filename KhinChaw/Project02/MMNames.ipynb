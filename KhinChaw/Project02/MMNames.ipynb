{
  "nbformat": 4,
  "nbformat_minor": 0,
  "metadata": {
    "colab": {
      "provenance": []
    },
    "kernelspec": {
      "name": "python3",
      "display_name": "Python 3"
    },
    "language_info": {
      "name": "python"
    }
  },
  "cells": [
    {
      "cell_type": "code",
      "source": [
        "!pip install matplotlib-venn"
      ],
      "metadata": {
        "colab": {
          "base_uri": "https://localhost:8080/"
        },
        "id": "tiK1pOfVeb2g",
        "outputId": "0e5c8ffa-f72f-450b-8c26-effc57be0866"
      },
      "execution_count": 2,
      "outputs": [
        {
          "output_type": "stream",
          "name": "stdout",
          "text": [
            "Requirement already satisfied: matplotlib-venn in /usr/local/lib/python3.11/dist-packages (1.1.2)\n",
            "Requirement already satisfied: matplotlib in /usr/local/lib/python3.11/dist-packages (from matplotlib-venn) (3.10.0)\n",
            "Requirement already satisfied: numpy in /usr/local/lib/python3.11/dist-packages (from matplotlib-venn) (2.0.2)\n",
            "Requirement already satisfied: scipy in /usr/local/lib/python3.11/dist-packages (from matplotlib-venn) (1.15.3)\n",
            "Requirement already satisfied: contourpy>=1.0.1 in /usr/local/lib/python3.11/dist-packages (from matplotlib->matplotlib-venn) (1.3.2)\n",
            "Requirement already satisfied: cycler>=0.10 in /usr/local/lib/python3.11/dist-packages (from matplotlib->matplotlib-venn) (0.12.1)\n",
            "Requirement already satisfied: fonttools>=4.22.0 in /usr/local/lib/python3.11/dist-packages (from matplotlib->matplotlib-venn) (4.58.1)\n",
            "Requirement already satisfied: kiwisolver>=1.3.1 in /usr/local/lib/python3.11/dist-packages (from matplotlib->matplotlib-venn) (1.4.8)\n",
            "Requirement already satisfied: packaging>=20.0 in /usr/local/lib/python3.11/dist-packages (from matplotlib->matplotlib-venn) (24.2)\n",
            "Requirement already satisfied: pillow>=8 in /usr/local/lib/python3.11/dist-packages (from matplotlib->matplotlib-venn) (11.2.1)\n",
            "Requirement already satisfied: pyparsing>=2.3.1 in /usr/local/lib/python3.11/dist-packages (from matplotlib->matplotlib-venn) (3.2.3)\n",
            "Requirement already satisfied: python-dateutil>=2.7 in /usr/local/lib/python3.11/dist-packages (from matplotlib->matplotlib-venn) (2.9.0.post0)\n",
            "Requirement already satisfied: six>=1.5 in /usr/local/lib/python3.11/dist-packages (from python-dateutil>=2.7->matplotlib->matplotlib-venn) (1.17.0)\n"
          ]
        }
      ]
    },
    {
      "cell_type": "code",
      "source": [
        "!apt-get -qq install -y libfluidsynth1"
      ],
      "metadata": {
        "colab": {
          "base_uri": "https://localhost:8080/"
        },
        "id": "I2V8rSFYedr8",
        "outputId": "31ab3f11-ad19-4c0e-90d3-ac15f5fe7755"
      },
      "execution_count": 3,
      "outputs": [
        {
          "output_type": "stream",
          "name": "stdout",
          "text": [
            "E: Package 'libfluidsynth1' has no installation candidate\n"
          ]
        }
      ]
    },
    {
      "cell_type": "code",
      "source": [
        "!pip install cartopy\n",
        "import cartopy"
      ],
      "metadata": {
        "colab": {
          "base_uri": "https://localhost:8080/"
        },
        "id": "JKsDnQnmekdR",
        "outputId": "417ec84c-7b0e-4385-a305-84243922f4a7"
      },
      "execution_count": 4,
      "outputs": [
        {
          "output_type": "stream",
          "name": "stdout",
          "text": [
            "Collecting cartopy\n",
            "  Downloading Cartopy-0.24.1-cp311-cp311-manylinux_2_17_x86_64.manylinux2014_x86_64.whl.metadata (7.9 kB)\n",
            "Requirement already satisfied: numpy>=1.23 in /usr/local/lib/python3.11/dist-packages (from cartopy) (2.0.2)\n",
            "Requirement already satisfied: matplotlib>=3.6 in /usr/local/lib/python3.11/dist-packages (from cartopy) (3.10.0)\n",
            "Requirement already satisfied: shapely>=1.8 in /usr/local/lib/python3.11/dist-packages (from cartopy) (2.1.1)\n",
            "Requirement already satisfied: packaging>=21 in /usr/local/lib/python3.11/dist-packages (from cartopy) (24.2)\n",
            "Requirement already satisfied: pyshp>=2.3 in /usr/local/lib/python3.11/dist-packages (from cartopy) (2.3.1)\n",
            "Requirement already satisfied: pyproj>=3.3.1 in /usr/local/lib/python3.11/dist-packages (from cartopy) (3.7.1)\n",
            "Requirement already satisfied: contourpy>=1.0.1 in /usr/local/lib/python3.11/dist-packages (from matplotlib>=3.6->cartopy) (1.3.2)\n",
            "Requirement already satisfied: cycler>=0.10 in /usr/local/lib/python3.11/dist-packages (from matplotlib>=3.6->cartopy) (0.12.1)\n",
            "Requirement already satisfied: fonttools>=4.22.0 in /usr/local/lib/python3.11/dist-packages (from matplotlib>=3.6->cartopy) (4.58.1)\n",
            "Requirement already satisfied: kiwisolver>=1.3.1 in /usr/local/lib/python3.11/dist-packages (from matplotlib>=3.6->cartopy) (1.4.8)\n",
            "Requirement already satisfied: pillow>=8 in /usr/local/lib/python3.11/dist-packages (from matplotlib>=3.6->cartopy) (11.2.1)\n",
            "Requirement already satisfied: pyparsing>=2.3.1 in /usr/local/lib/python3.11/dist-packages (from matplotlib>=3.6->cartopy) (3.2.3)\n",
            "Requirement already satisfied: python-dateutil>=2.7 in /usr/local/lib/python3.11/dist-packages (from matplotlib>=3.6->cartopy) (2.9.0.post0)\n",
            "Requirement already satisfied: certifi in /usr/local/lib/python3.11/dist-packages (from pyproj>=3.3.1->cartopy) (2025.4.26)\n",
            "Requirement already satisfied: six>=1.5 in /usr/local/lib/python3.11/dist-packages (from python-dateutil>=2.7->matplotlib>=3.6->cartopy) (1.17.0)\n",
            "Downloading Cartopy-0.24.1-cp311-cp311-manylinux_2_17_x86_64.manylinux2014_x86_64.whl (11.7 MB)\n",
            "\u001b[2K   \u001b[90m━━━━━━━━━━━━━━━━━━━━━━━━━━━━━━━━━━━━━━━━\u001b[0m \u001b[32m11.7/11.7 MB\u001b[0m \u001b[31m88.5 MB/s\u001b[0m eta \u001b[36m0:00:00\u001b[0m\n",
            "\u001b[?25hInstalling collected packages: cartopy\n",
            "Successfully installed cartopy-0.24.1\n"
          ]
        }
      ]
    },
    {
      "cell_type": "code",
      "source": [
        "# https://pypi.python.org/pypi/libarchive\n",
        "!apt-get -qq install -y libarchive-dev && pip install -U libarchive\n",
        "import libarchive"
      ],
      "metadata": {
        "colab": {
          "base_uri": "https://localhost:8080/"
        },
        "id": "OVz_wO-3emEZ",
        "outputId": "dfa894a3-586f-429a-e66c-36f113469312"
      },
      "execution_count": 6,
      "outputs": [
        {
          "output_type": "stream",
          "name": "stdout",
          "text": [
            "Selecting previously unselected package libarchive-dev:amd64.\n",
            "(Reading database ... 126111 files and directories currently installed.)\n",
            "Preparing to unpack .../libarchive-dev_3.6.0-1ubuntu1.4_amd64.deb ...\n",
            "Unpacking libarchive-dev:amd64 (3.6.0-1ubuntu1.4) ...\n",
            "Setting up libarchive-dev:amd64 (3.6.0-1ubuntu1.4) ...\n",
            "Processing triggers for man-db (2.10.2-1) ...\n",
            "Collecting libarchive\n",
            "  Downloading libarchive-0.4.7.tar.gz (23 kB)\n",
            "  Preparing metadata (setup.py) ... \u001b[?25l\u001b[?25hdone\n",
            "Collecting nose (from libarchive)\n",
            "  Downloading nose-1.3.7-py3-none-any.whl.metadata (1.7 kB)\n",
            "Downloading nose-1.3.7-py3-none-any.whl (154 kB)\n",
            "\u001b[2K   \u001b[90m━━━━━━━━━━━━━━━━━━━━━━━━━━━━━━━━━━━━━━━━\u001b[0m \u001b[32m154.7/154.7 kB\u001b[0m \u001b[31m5.0 MB/s\u001b[0m eta \u001b[36m0:00:00\u001b[0m\n",
            "\u001b[?25hBuilding wheels for collected packages: libarchive\n",
            "  Building wheel for libarchive (setup.py) ... \u001b[?25l\u001b[?25hdone\n",
            "  Created wheel for libarchive: filename=libarchive-0.4.7-py3-none-any.whl size=31629 sha256=e6f9154b66c495845a8c2e6298fc9a658715c751e7812288297334608065bd9c\n",
            "  Stored in directory: /root/.cache/pip/wheels/32/98/bd/4893d6923dd027f455b250367d402bfd69a6f4416581df46db\n",
            "Successfully built libarchive\n",
            "Installing collected packages: nose, libarchive\n",
            "Successfully installed libarchive-0.4.7 nose-1.3.7\n"
          ]
        }
      ]
    },
    {
      "cell_type": "code",
      "source": [
        "# https://pypi.python.org/pypi/pydot\n",
        "!apt-get -qq install -y graphviz && pip install pydot\n",
        "import pydot"
      ],
      "metadata": {
        "colab": {
          "base_uri": "https://localhost:8080/"
        },
        "id": "YylZ6x5zexOM",
        "outputId": "bd78312e-252e-46fa-a23c-82541bb47422"
      },
      "execution_count": 7,
      "outputs": [
        {
          "output_type": "stream",
          "name": "stdout",
          "text": [
            "Requirement already satisfied: pydot in /usr/local/lib/python3.11/dist-packages (3.0.4)\n",
            "Requirement already satisfied: pyparsing>=3.0.9 in /usr/local/lib/python3.11/dist-packages (from pydot) (3.2.3)\n"
          ]
        }
      ]
    },
    {
      "cell_type": "code",
      "source": [
        "%pip install fuzzywuzzy"
      ],
      "metadata": {
        "colab": {
          "base_uri": "https://localhost:8080/"
        },
        "id": "HLXX_n2qfhyi",
        "outputId": "18abb9a8-bf9b-4b66-922e-dc46786366ed"
      },
      "execution_count": 10,
      "outputs": [
        {
          "output_type": "stream",
          "name": "stdout",
          "text": [
            "Collecting fuzzywuzzy\n",
            "  Downloading fuzzywuzzy-0.18.0-py2.py3-none-any.whl.metadata (4.9 kB)\n",
            "Downloading fuzzywuzzy-0.18.0-py2.py3-none-any.whl (18 kB)\n",
            "Installing collected packages: fuzzywuzzy\n",
            "Successfully installed fuzzywuzzy-0.18.0\n"
          ]
        }
      ]
    },
    {
      "cell_type": "code",
      "source": [
        "import data_cleaning as dc\n",
        "dc.main()"
      ],
      "metadata": {
        "colab": {
          "base_uri": "https://localhost:8080/"
        },
        "id": "FMc1lWI2fpO1",
        "outputId": "b6d256fc-ba2e-4215-d2fe-eced8d7372a5"
      },
      "execution_count": 11,
      "outputs": [
        {
          "output_type": "stream",
          "name": "stderr",
          "text": [
            "/usr/local/lib/python3.11/dist-packages/fuzzywuzzy/fuzz.py:11: UserWarning: Using slow pure-python SequenceMatcher. Install python-Levenshtein to remove this warning\n",
            "  warnings.warn('Using slow pure-python SequenceMatcher. Install python-Levenshtein to remove this warning')\n"
          ]
        }
      ]
    },
    {
      "cell_type": "code",
      "source": [
        "# Step 1: Load the data\n",
        "import pandas as pd\n",
        "\n",
        "df = pd.read_csv('./data/MMNames_clean.csv')"
      ],
      "metadata": {
        "id": "euEA6K4dgCtx"
      },
      "execution_count": 12,
      "outputs": []
    },
    {
      "cell_type": "code",
      "source": [
        "# Step 2: Prepare the data\n",
        "import data_preprocessing as dp\n",
        "from sklearn.preprocessing import StandardScaler\n",
        "from sklearn.model_selection import train_test_split\n",
        "\n",
        "df = dp.preprocess_category(df,'SR_Name')\n",
        "df = dp.preprocess_onehot(df,'name')\n",
        "\n",
        "y = df['SR_Name'].values\n",
        "X = df.drop(columns=['SR_Name']).values\n",
        "\n",
        "X_train, X_test, y_train, y_test = train_test_split(X, y, test_size=0.3, random_state=42)\n",
        "print(X_train.shape, X_test.shape)"
      ],
      "metadata": {
        "colab": {
          "base_uri": "https://localhost:8080/"
        },
        "id": "YTOcnzPMgGe-",
        "outputId": "0a4ded52-cbcf-46ea-ed27-5a97118c3187"
      },
      "execution_count": 13,
      "outputs": [
        {
          "output_type": "stream",
          "name": "stderr",
          "text": [
            "[nltk_data] Downloading package punkt to /root/nltk_data...\n",
            "[nltk_data]   Unzipping tokenizers/punkt.zip.\n",
            "[nltk_data] Downloading package stopwords to /root/nltk_data...\n",
            "[nltk_data]   Unzipping corpora/stopwords.zip.\n",
            "[nltk_data] Downloading package wordnet to /root/nltk_data...\n"
          ]
        },
        {
          "output_type": "stream",
          "name": "stdout",
          "text": [
            "(13659, 13003) (5854, 13003)\n"
          ]
        }
      ]
    },
    {
      "cell_type": "code",
      "source": [
        "# Step 3: Build a NN model with TensorFlow\n",
        "import tensorflow as tf\n",
        "\n",
        "def create_classification_model(input_shape, num_classes, params={}):\n",
        "    model = tf.keras.Sequential([\n",
        "        tf.keras.layers.InputLayer(shape=input_shape),\n",
        "        tf.keras.layers.Dense(32, activation='relu'),\n",
        "        tf.keras.layers.Dense(16, activation='relu'),\n",
        "        tf.keras.layers.Dense(num_classes, activation='softmax')\n",
        "    ])\n",
        "\n",
        "    model.compile(optimizer='adam', loss='sparse_categorical_crossentropy', metrics=['accuracy'])\n",
        "\n",
        "    return model"
      ],
      "metadata": {
        "id": "CMHjbxsdheey"
      },
      "execution_count": 14,
      "outputs": []
    },
    {
      "cell_type": "code",
      "source": [
        "# Step 4: Create and train the model\n",
        "model = create_classification_model(input_shape=[X_train.shape[1]],num_classes=len(df['SR_Name'].unique()), )\n",
        "history = model.fit(X_train, y_train, epochs=50, batch_size=32, validation_data=(X_test, y_test), verbose=0)"
      ],
      "metadata": {
        "id": "bmH8MvLuhsCL"
      },
      "execution_count": 15,
      "outputs": []
    },
    {
      "cell_type": "code",
      "source": [
        "# Step 5: Evaluate the model\n",
        "\n",
        "from sklearn.metrics import confusion_matrix\n",
        "from sklearn.metrics import classification_report\n",
        "from sklearn.metrics import accuracy_score\n",
        "\n",
        "y_pred = model.predict(X_test, batch_size=32, verbose=0)\n",
        "y_pred = y_pred.argmax(axis=1)\n",
        "report = classification_report(y_test, y_pred, output_dict=True)\n",
        "report_df = pd.DataFrame(report).round(2).transpose()\n",
        "report_df.to_csv('./data/cls_report_test.csv', index=False)\n",
        "\n",
        "y_pred = model.predict(X_train, batch_size=32, verbose=0)\n",
        "y_pred = y_pred.argmax(axis=1)\n",
        "report = classification_report(y_train, y_pred, output_dict=True)\n",
        "report_df = pd.DataFrame(report).round(2).transpose()\n",
        "report_df.to_csv('./data/cls_report_train.csv', index=False)"
      ],
      "metadata": {
        "id": "wDhLi6Kat3wi"
      },
      "execution_count": 17,
      "outputs": []
    },
    {
      "cell_type": "code",
      "source": [
        "import pandas as pd\n",
        "\n",
        "# To see the number of input features and output classes (for context)\n",
        "print(\"Number of input features (N):\", X_train.shape[1])\n",
        "print(\"Number of output classes:\", len(df['SR_Name'].unique()))"
      ],
      "metadata": {
        "colab": {
          "base_uri": "https://localhost:8080/"
        },
        "id": "DfLWZo7bw7jz",
        "outputId": "6d344bcc-0a97-4f42-a62f-ff1537db6ee5"
      },
      "execution_count": 18,
      "outputs": [
        {
          "output_type": "stream",
          "name": "stdout",
          "text": [
            "Number of input features (N): 13003\n",
            "Number of output classes: 18\n"
          ]
        }
      ]
    },
    {
      "cell_type": "code",
      "source": [
        "# To see the model summary (for total parameters and layers)\n",
        "# Re-create the initial model definition temporarily to get its summary\n",
        "model_initial_cls = create_classification_model(input_shape=[X_train.shape[1]], num_classes=len(df['SR_Name'].unique()))\n",
        "model_initial_cls.summary()"
      ],
      "metadata": {
        "colab": {
          "base_uri": "https://localhost:8080/",
          "height": 232
        },
        "id": "vyveozx7w_43",
        "outputId": "00f4a270-2397-4550-e32d-05abd9595a17"
      },
      "execution_count": 19,
      "outputs": [
        {
          "output_type": "display_data",
          "data": {
            "text/plain": [
              "\u001b[1mModel: \"sequential_1\"\u001b[0m\n"
            ],
            "text/html": [
              "<pre style=\"white-space:pre;overflow-x:auto;line-height:normal;font-family:Menlo,'DejaVu Sans Mono',consolas,'Courier New',monospace\"><span style=\"font-weight: bold\">Model: \"sequential_1\"</span>\n",
              "</pre>\n"
            ]
          },
          "metadata": {}
        },
        {
          "output_type": "display_data",
          "data": {
            "text/plain": [
              "┏━━━━━━━━━━━━━━━━━━━━━━━━━━━━━━━━━┳━━━━━━━━━━━━━━━━━━━━━━━━┳━━━━━━━━━━━━━━━┓\n",
              "┃\u001b[1m \u001b[0m\u001b[1mLayer (type)                   \u001b[0m\u001b[1m \u001b[0m┃\u001b[1m \u001b[0m\u001b[1mOutput Shape          \u001b[0m\u001b[1m \u001b[0m┃\u001b[1m \u001b[0m\u001b[1m      Param #\u001b[0m\u001b[1m \u001b[0m┃\n",
              "┡━━━━━━━━━━━━━━━━━━━━━━━━━━━━━━━━━╇━━━━━━━━━━━━━━━━━━━━━━━━╇━━━━━━━━━━━━━━━┩\n",
              "│ dense_3 (\u001b[38;5;33mDense\u001b[0m)                 │ (\u001b[38;5;45mNone\u001b[0m, \u001b[38;5;34m32\u001b[0m)             │       \u001b[38;5;34m416,128\u001b[0m │\n",
              "├─────────────────────────────────┼────────────────────────┼───────────────┤\n",
              "│ dense_4 (\u001b[38;5;33mDense\u001b[0m)                 │ (\u001b[38;5;45mNone\u001b[0m, \u001b[38;5;34m16\u001b[0m)             │           \u001b[38;5;34m528\u001b[0m │\n",
              "├─────────────────────────────────┼────────────────────────┼───────────────┤\n",
              "│ dense_5 (\u001b[38;5;33mDense\u001b[0m)                 │ (\u001b[38;5;45mNone\u001b[0m, \u001b[38;5;34m18\u001b[0m)             │           \u001b[38;5;34m306\u001b[0m │\n",
              "└─────────────────────────────────┴────────────────────────┴───────────────┘\n"
            ],
            "text/html": [
              "<pre style=\"white-space:pre;overflow-x:auto;line-height:normal;font-family:Menlo,'DejaVu Sans Mono',consolas,'Courier New',monospace\">┏━━━━━━━━━━━━━━━━━━━━━━━━━━━━━━━━━┳━━━━━━━━━━━━━━━━━━━━━━━━┳━━━━━━━━━━━━━━━┓\n",
              "┃<span style=\"font-weight: bold\"> Layer (type)                    </span>┃<span style=\"font-weight: bold\"> Output Shape           </span>┃<span style=\"font-weight: bold\">       Param # </span>┃\n",
              "┡━━━━━━━━━━━━━━━━━━━━━━━━━━━━━━━━━╇━━━━━━━━━━━━━━━━━━━━━━━━╇━━━━━━━━━━━━━━━┩\n",
              "│ dense_3 (<span style=\"color: #0087ff; text-decoration-color: #0087ff\">Dense</span>)                 │ (<span style=\"color: #00d7ff; text-decoration-color: #00d7ff\">None</span>, <span style=\"color: #00af00; text-decoration-color: #00af00\">32</span>)             │       <span style=\"color: #00af00; text-decoration-color: #00af00\">416,128</span> │\n",
              "├─────────────────────────────────┼────────────────────────┼───────────────┤\n",
              "│ dense_4 (<span style=\"color: #0087ff; text-decoration-color: #0087ff\">Dense</span>)                 │ (<span style=\"color: #00d7ff; text-decoration-color: #00d7ff\">None</span>, <span style=\"color: #00af00; text-decoration-color: #00af00\">16</span>)             │           <span style=\"color: #00af00; text-decoration-color: #00af00\">528</span> │\n",
              "├─────────────────────────────────┼────────────────────────┼───────────────┤\n",
              "│ dense_5 (<span style=\"color: #0087ff; text-decoration-color: #0087ff\">Dense</span>)                 │ (<span style=\"color: #00d7ff; text-decoration-color: #00d7ff\">None</span>, <span style=\"color: #00af00; text-decoration-color: #00af00\">18</span>)             │           <span style=\"color: #00af00; text-decoration-color: #00af00\">306</span> │\n",
              "└─────────────────────────────────┴────────────────────────┴───────────────┘\n",
              "</pre>\n"
            ]
          },
          "metadata": {}
        },
        {
          "output_type": "display_data",
          "data": {
            "text/plain": [
              "\u001b[1m Total params: \u001b[0m\u001b[38;5;34m416,962\u001b[0m (1.59 MB)\n"
            ],
            "text/html": [
              "<pre style=\"white-space:pre;overflow-x:auto;line-height:normal;font-family:Menlo,'DejaVu Sans Mono',consolas,'Courier New',monospace\"><span style=\"font-weight: bold\"> Total params: </span><span style=\"color: #00af00; text-decoration-color: #00af00\">416,962</span> (1.59 MB)\n",
              "</pre>\n"
            ]
          },
          "metadata": {}
        },
        {
          "output_type": "display_data",
          "data": {
            "text/plain": [
              "\u001b[1m Trainable params: \u001b[0m\u001b[38;5;34m416,962\u001b[0m (1.59 MB)\n"
            ],
            "text/html": [
              "<pre style=\"white-space:pre;overflow-x:auto;line-height:normal;font-family:Menlo,'DejaVu Sans Mono',consolas,'Courier New',monospace\"><span style=\"font-weight: bold\"> Trainable params: </span><span style=\"color: #00af00; text-decoration-color: #00af00\">416,962</span> (1.59 MB)\n",
              "</pre>\n"
            ]
          },
          "metadata": {}
        },
        {
          "output_type": "display_data",
          "data": {
            "text/plain": [
              "\u001b[1m Non-trainable params: \u001b[0m\u001b[38;5;34m0\u001b[0m (0.00 B)\n"
            ],
            "text/html": [
              "<pre style=\"white-space:pre;overflow-x:auto;line-height:normal;font-family:Menlo,'DejaVu Sans Mono',consolas,'Courier New',monospace\"><span style=\"font-weight: bold\"> Non-trainable params: </span><span style=\"color: #00af00; text-decoration-color: #00af00\">0</span> (0.00 B)\n",
              "</pre>\n"
            ]
          },
          "metadata": {}
        }
      ]
    },
    {
      "cell_type": "code",
      "source": [
        "# Step 4: Create and train the model (for the initial classification model)\n",
        "import time\n",
        "\n",
        "model = create_classification_model(input_shape=[X_train.shape[1]], num_classes=len(df['SR_Name'].unique()))\n",
        "\n",
        "start_time_initial_cls = time.time()\n",
        "history = model.fit(X_train, y_train, epochs=50, batch_size=32, validation_data=(X_test, y_test), verbose=0)\n",
        "end_time_initial_cls = time.time()\n",
        "\n",
        "training_time_initial_cls = end_time_initial_cls - start_time_initial_cls\n",
        "print(f\"Initial classification model training time: {training_time_initial_cls:.2f} seconds\")"
      ],
      "metadata": {
        "colab": {
          "base_uri": "https://localhost:8080/"
        },
        "id": "WK1En00QyOb9",
        "outputId": "41d01d5e-5e8c-40f0-93ad-d8d9ed9891a4"
      },
      "execution_count": 20,
      "outputs": [
        {
          "output_type": "stream",
          "name": "stdout",
          "text": [
            "Initial classification model training time: 281.18 seconds\n"
          ]
        }
      ]
    },
    {
      "cell_type": "code",
      "source": [
        "import pandas as pd\n",
        "df_report_train_initial = pd.read_csv('./data/cls_report_train.csv')\n",
        "df_report_test_initial = pd.read_csv('./data/cls_report_test.csv')\n",
        "print(\"Initial Model Train Report:\\n\", df_report_train_initial.to_string())\n",
        "print(\"\\nInitial Model Test Report:\\n\", df_report_test_initial.to_string())"
      ],
      "metadata": {
        "colab": {
          "base_uri": "https://localhost:8080/"
        },
        "id": "WIyCzNlN0Kwx",
        "outputId": "89bdd574-7bc5-463d-d7a7-df40c7f154b4"
      },
      "execution_count": 22,
      "outputs": [
        {
          "output_type": "stream",
          "name": "stdout",
          "text": [
            "Initial Model Train Report:\n",
            "     precision  recall  f1-score   support\n",
            "0        0.81    0.90      0.85   1561.00\n",
            "1        0.93    0.73      0.82    648.00\n",
            "2        0.80    0.76      0.78    571.00\n",
            "3        0.99    0.98      0.99    434.00\n",
            "4        0.90    0.93      0.92    620.00\n",
            "5        0.99    0.94      0.96    174.00\n",
            "6        0.97    0.87      0.92    381.00\n",
            "7        0.70    0.94      0.80   1580.00\n",
            "8        0.81    0.83      0.82   1334.00\n",
            "9        0.92    0.82      0.87    401.00\n",
            "10       0.97    0.60      0.74    149.00\n",
            "11       0.97    0.86      0.91    932.00\n",
            "12       0.89    0.82      0.86   2310.00\n",
            "13       0.98    0.94      0.96    175.00\n",
            "14       0.97    0.94      0.95   1004.00\n",
            "15       0.90    0.88      0.89    428.00\n",
            "16       0.94    0.90      0.92    372.00\n",
            "17       0.95    0.77      0.85    585.00\n",
            "18       0.86    0.86      0.86      0.86\n",
            "19       0.91    0.86      0.88  13659.00\n",
            "20       0.88    0.86      0.86  13659.00\n",
            "\n",
            "Initial Model Test Report:\n",
            "     precision  recall  f1-score  support\n",
            "0        0.45    0.23      0.31   617.00\n",
            "1        0.45    0.11      0.17   273.00\n",
            "2        0.36    0.18      0.24   243.00\n",
            "3        0.93    0.18      0.30   214.00\n",
            "4        0.54    0.18      0.27   258.00\n",
            "5        0.89    0.15      0.25    54.00\n",
            "6        0.75    0.16      0.26   171.00\n",
            "7        0.15    0.72      0.25   664.00\n",
            "8        0.44    0.21      0.29   569.00\n",
            "9        0.68    0.24      0.36   199.00\n",
            "10       0.47    0.08      0.14    85.00\n",
            "11       0.81    0.19      0.31   399.00\n",
            "12       0.31    0.40      0.35   968.00\n",
            "13       0.45    0.11      0.18    82.00\n",
            "14       0.81    0.23      0.35   472.00\n",
            "15       0.55    0.19      0.28   188.00\n",
            "16       0.66    0.28      0.40   152.00\n",
            "17       0.61    0.17      0.27   246.00\n",
            "18       0.29    0.29      0.29     0.29\n",
            "19       0.57    0.22      0.28  5854.00\n",
            "20       0.50    0.29      0.29  5854.00\n"
          ]
        }
      ]
    },
    {
      "cell_type": "code",
      "source": [
        "from sklearn.metrics import confusion_matrix\n",
        "from sklearn.metrics import classification_report\n",
        "from sklearn.metrics import accuracy_score\n",
        "import pandas as pd\n",
        "\n",
        "# --- Evaluation for TEST Set ---\n",
        "y_pred_test = model.predict(X_test, batch_size=32, verbose=0)\n",
        "y_pred_test = y_pred_test.argmax(axis=1)\n",
        "\n",
        "report_test = classification_report(y_test, y_pred_test, output_dict=True)\n",
        "report_df_test = pd.DataFrame(report_test).round(2).transpose()\n",
        "report_df_test.to_csv('./data/cls_report_test.csv', index=False)\n",
        "\n",
        "print(\"\\nInitial Model Test Report:\")\n",
        "print(report_df_test)\n",
        "print(f\"Test Accuracy: {report_test['accuracy']:.2f}\")\n",
        "print(f\"Test Macro Avg F1-score: {report_test['macro avg']['f1-score']:.2f}\")\n",
        "print(f\"Test Weighted Avg F1-score: {report_test['weighted avg']['f1-score']:.2f}\")"
      ],
      "metadata": {
        "colab": {
          "base_uri": "https://localhost:8080/"
        },
        "id": "DAD9MvEh35hs",
        "outputId": "c99e8d79-54ea-4e92-9960-a20c68b3583d"
      },
      "execution_count": 28,
      "outputs": [
        {
          "output_type": "stream",
          "name": "stdout",
          "text": [
            "\n",
            "Initial Model Test Report:\n",
            "              precision  recall  f1-score  support\n",
            "0                  0.50    0.21      0.30   617.00\n",
            "1                  0.33    0.14      0.19   273.00\n",
            "2                  0.39    0.19      0.25   243.00\n",
            "3                  0.95    0.18      0.30   214.00\n",
            "4                  0.56    0.17      0.26   258.00\n",
            "5                  0.89    0.15      0.25    54.00\n",
            "6                  0.65    0.18      0.28   171.00\n",
            "7                  0.13    0.68      0.22   664.00\n",
            "8                  0.36    0.22      0.28   569.00\n",
            "9                  0.53    0.24      0.33   199.00\n",
            "10                 0.50    0.08      0.14    85.00\n",
            "11                 0.70    0.22      0.33   399.00\n",
            "12                 0.39    0.32      0.35   968.00\n",
            "13                 0.41    0.11      0.17    82.00\n",
            "14                 0.71    0.24      0.35   472.00\n",
            "15                 0.53    0.16      0.25   188.00\n",
            "16                 0.72    0.28      0.41   152.00\n",
            "17                 0.54    0.19      0.28   246.00\n",
            "accuracy           0.27    0.27      0.27     0.27\n",
            "macro avg          0.54    0.22      0.27  5854.00\n",
            "weighted avg       0.48    0.27      0.29  5854.00\n",
            "Test Accuracy: 0.27\n",
            "Test Macro Avg F1-score: 0.27\n",
            "Test Weighted Avg F1-score: 0.29\n"
          ]
        }
      ]
    },
    {
      "cell_type": "code",
      "source": [
        "# --- Evaluation for TRAIN Set ---\n",
        "y_pred_train = model.predict(X_train, batch_size=32, verbose=0)\n",
        "y_pred_train = y_pred_train.argmax(axis=1)\n",
        "\n",
        "report_train = classification_report(y_train, y_pred_train, output_dict=True)\n",
        "report_df_train = pd.DataFrame(report_train).round(2).transpose()\n",
        "report_df_train.to_csv('./data/cls_report_train.csv', index=False)\n",
        "\n",
        "print(\"\\nInitial Model Train Report:\")\n",
        "print(report_df_train)\n",
        "print(f\"Train Accuracy: {report_train['accuracy']:.2f}\")\n",
        "print(f\"Train Macro Avg F1-score: {report_train['macro avg']['f1-score']:.2f}\")\n",
        "print(f\"Train Weighted Avg F1-score: {report_train['weighted avg']['f1-score']:.2f}\")"
      ],
      "metadata": {
        "colab": {
          "base_uri": "https://localhost:8080/"
        },
        "id": "1_yAHcIZ4QvZ",
        "outputId": "f5415c3c-6b8e-4783-c376-067c99b5d444"
      },
      "execution_count": 29,
      "outputs": [
        {
          "output_type": "stream",
          "name": "stdout",
          "text": [
            "\n",
            "Initial Model Train Report:\n",
            "              precision  recall  f1-score   support\n",
            "0                  0.86    0.85      0.85   1561.00\n",
            "1                  0.80    0.81      0.80    648.00\n",
            "2                  0.81    0.77      0.79    571.00\n",
            "3                  0.98    0.99      0.98    434.00\n",
            "4                  0.91    0.92      0.92    620.00\n",
            "5                  0.98    0.95      0.96    174.00\n",
            "6                  0.90    0.93      0.91    381.00\n",
            "7                  0.84    0.83      0.83   1580.00\n",
            "8                  0.77    0.87      0.82   1334.00\n",
            "9                  0.87    0.86      0.86    401.00\n",
            "10                 0.86    0.63      0.73    149.00\n",
            "11                 0.90    0.91      0.91    932.00\n",
            "12                 0.85    0.85      0.85   2310.00\n",
            "13                 0.98    0.94      0.96    175.00\n",
            "14                 0.94    0.97      0.95   1004.00\n",
            "15                 0.93    0.87      0.90    428.00\n",
            "16                 0.95    0.90      0.93    372.00\n",
            "17                 0.91    0.79      0.85    585.00\n",
            "accuracy           0.87    0.87      0.87      0.87\n",
            "macro avg          0.89    0.87      0.88  13659.00\n",
            "weighted avg       0.87    0.87      0.87  13659.00\n",
            "Train Accuracy: 0.87\n",
            "Train Macro Avg F1-score: 0.88\n",
            "Train Weighted Avg F1-score: 0.87\n"
          ]
        }
      ]
    },
    {
      "cell_type": "code",
      "source": [
        "import tensorflow as tf\n",
        "\n",
        "def create_new_classification_model(input_shape, num_classes, params={}):\n",
        "    model = tf.keras.Sequential([\n",
        "        tf.keras.layers.InputLayer(shape=input_shape),\n",
        "        tf.keras.layers.Dense(128, activation='relu'),  # First hidden layer, increased neurons\n",
        "        tf.keras.layers.Dense(64, activation='relu'),   # Second hidden layer, new\n",
        "        tf.keras.layers.Dense(32, activation='relu'),   # Third hidden layer, original first layer size\n",
        "        tf.keras.layers.Dense(16, activation='relu'),   # Fourth hidden layer, original second layer size\n",
        "        tf.keras.layers.Dense(num_classes, activation='softmax') # Output layer\n",
        "    ])\n",
        "\n",
        "    model.compile(optimizer='adam', loss='sparse_categorical_crossentropy', metrics=['accuracy'])\n",
        "\n",
        "    return model\n",
        "\n",
        "# To see the model summary of the deeper model (run this after defining the function)\n",
        "# Ensure X_train.shape[1] and len(df['SR_Name'].unique()) are available from previous cells\n",
        "model_new_cls = create_new_classification_model(input_shape=[X_train.shape[1]], num_classes=len(df['SR_Name'].unique()))\n",
        "model_new_cls.summary()"
      ],
      "metadata": {
        "colab": {
          "base_uri": "https://localhost:8080/",
          "height": 298
        },
        "id": "1ivHh8lvL-TB",
        "outputId": "d3fc85ea-9c96-4d02-ce21-0987dad943f9"
      },
      "execution_count": 30,
      "outputs": [
        {
          "output_type": "display_data",
          "data": {
            "text/plain": [
              "\u001b[1mModel: \"sequential_3\"\u001b[0m\n"
            ],
            "text/html": [
              "<pre style=\"white-space:pre;overflow-x:auto;line-height:normal;font-family:Menlo,'DejaVu Sans Mono',consolas,'Courier New',monospace\"><span style=\"font-weight: bold\">Model: \"sequential_3\"</span>\n",
              "</pre>\n"
            ]
          },
          "metadata": {}
        },
        {
          "output_type": "display_data",
          "data": {
            "text/plain": [
              "┏━━━━━━━━━━━━━━━━━━━━━━━━━━━━━━━━━┳━━━━━━━━━━━━━━━━━━━━━━━━┳━━━━━━━━━━━━━━━┓\n",
              "┃\u001b[1m \u001b[0m\u001b[1mLayer (type)                   \u001b[0m\u001b[1m \u001b[0m┃\u001b[1m \u001b[0m\u001b[1mOutput Shape          \u001b[0m\u001b[1m \u001b[0m┃\u001b[1m \u001b[0m\u001b[1m      Param #\u001b[0m\u001b[1m \u001b[0m┃\n",
              "┡━━━━━━━━━━━━━━━━━━━━━━━━━━━━━━━━━╇━━━━━━━━━━━━━━━━━━━━━━━━╇━━━━━━━━━━━━━━━┩\n",
              "│ dense_9 (\u001b[38;5;33mDense\u001b[0m)                 │ (\u001b[38;5;45mNone\u001b[0m, \u001b[38;5;34m128\u001b[0m)            │     \u001b[38;5;34m1,664,512\u001b[0m │\n",
              "├─────────────────────────────────┼────────────────────────┼───────────────┤\n",
              "│ dense_10 (\u001b[38;5;33mDense\u001b[0m)                │ (\u001b[38;5;45mNone\u001b[0m, \u001b[38;5;34m64\u001b[0m)             │         \u001b[38;5;34m8,256\u001b[0m │\n",
              "├─────────────────────────────────┼────────────────────────┼───────────────┤\n",
              "│ dense_11 (\u001b[38;5;33mDense\u001b[0m)                │ (\u001b[38;5;45mNone\u001b[0m, \u001b[38;5;34m32\u001b[0m)             │         \u001b[38;5;34m2,080\u001b[0m │\n",
              "├─────────────────────────────────┼────────────────────────┼───────────────┤\n",
              "│ dense_12 (\u001b[38;5;33mDense\u001b[0m)                │ (\u001b[38;5;45mNone\u001b[0m, \u001b[38;5;34m16\u001b[0m)             │           \u001b[38;5;34m528\u001b[0m │\n",
              "├─────────────────────────────────┼────────────────────────┼───────────────┤\n",
              "│ dense_13 (\u001b[38;5;33mDense\u001b[0m)                │ (\u001b[38;5;45mNone\u001b[0m, \u001b[38;5;34m18\u001b[0m)             │           \u001b[38;5;34m306\u001b[0m │\n",
              "└─────────────────────────────────┴────────────────────────┴───────────────┘\n"
            ],
            "text/html": [
              "<pre style=\"white-space:pre;overflow-x:auto;line-height:normal;font-family:Menlo,'DejaVu Sans Mono',consolas,'Courier New',monospace\">┏━━━━━━━━━━━━━━━━━━━━━━━━━━━━━━━━━┳━━━━━━━━━━━━━━━━━━━━━━━━┳━━━━━━━━━━━━━━━┓\n",
              "┃<span style=\"font-weight: bold\"> Layer (type)                    </span>┃<span style=\"font-weight: bold\"> Output Shape           </span>┃<span style=\"font-weight: bold\">       Param # </span>┃\n",
              "┡━━━━━━━━━━━━━━━━━━━━━━━━━━━━━━━━━╇━━━━━━━━━━━━━━━━━━━━━━━━╇━━━━━━━━━━━━━━━┩\n",
              "│ dense_9 (<span style=\"color: #0087ff; text-decoration-color: #0087ff\">Dense</span>)                 │ (<span style=\"color: #00d7ff; text-decoration-color: #00d7ff\">None</span>, <span style=\"color: #00af00; text-decoration-color: #00af00\">128</span>)            │     <span style=\"color: #00af00; text-decoration-color: #00af00\">1,664,512</span> │\n",
              "├─────────────────────────────────┼────────────────────────┼───────────────┤\n",
              "│ dense_10 (<span style=\"color: #0087ff; text-decoration-color: #0087ff\">Dense</span>)                │ (<span style=\"color: #00d7ff; text-decoration-color: #00d7ff\">None</span>, <span style=\"color: #00af00; text-decoration-color: #00af00\">64</span>)             │         <span style=\"color: #00af00; text-decoration-color: #00af00\">8,256</span> │\n",
              "├─────────────────────────────────┼────────────────────────┼───────────────┤\n",
              "│ dense_11 (<span style=\"color: #0087ff; text-decoration-color: #0087ff\">Dense</span>)                │ (<span style=\"color: #00d7ff; text-decoration-color: #00d7ff\">None</span>, <span style=\"color: #00af00; text-decoration-color: #00af00\">32</span>)             │         <span style=\"color: #00af00; text-decoration-color: #00af00\">2,080</span> │\n",
              "├─────────────────────────────────┼────────────────────────┼───────────────┤\n",
              "│ dense_12 (<span style=\"color: #0087ff; text-decoration-color: #0087ff\">Dense</span>)                │ (<span style=\"color: #00d7ff; text-decoration-color: #00d7ff\">None</span>, <span style=\"color: #00af00; text-decoration-color: #00af00\">16</span>)             │           <span style=\"color: #00af00; text-decoration-color: #00af00\">528</span> │\n",
              "├─────────────────────────────────┼────────────────────────┼───────────────┤\n",
              "│ dense_13 (<span style=\"color: #0087ff; text-decoration-color: #0087ff\">Dense</span>)                │ (<span style=\"color: #00d7ff; text-decoration-color: #00d7ff\">None</span>, <span style=\"color: #00af00; text-decoration-color: #00af00\">18</span>)             │           <span style=\"color: #00af00; text-decoration-color: #00af00\">306</span> │\n",
              "└─────────────────────────────────┴────────────────────────┴───────────────┘\n",
              "</pre>\n"
            ]
          },
          "metadata": {}
        },
        {
          "output_type": "display_data",
          "data": {
            "text/plain": [
              "\u001b[1m Total params: \u001b[0m\u001b[38;5;34m1,675,682\u001b[0m (6.39 MB)\n"
            ],
            "text/html": [
              "<pre style=\"white-space:pre;overflow-x:auto;line-height:normal;font-family:Menlo,'DejaVu Sans Mono',consolas,'Courier New',monospace\"><span style=\"font-weight: bold\"> Total params: </span><span style=\"color: #00af00; text-decoration-color: #00af00\">1,675,682</span> (6.39 MB)\n",
              "</pre>\n"
            ]
          },
          "metadata": {}
        },
        {
          "output_type": "display_data",
          "data": {
            "text/plain": [
              "\u001b[1m Trainable params: \u001b[0m\u001b[38;5;34m1,675,682\u001b[0m (6.39 MB)\n"
            ],
            "text/html": [
              "<pre style=\"white-space:pre;overflow-x:auto;line-height:normal;font-family:Menlo,'DejaVu Sans Mono',consolas,'Courier New',monospace\"><span style=\"font-weight: bold\"> Trainable params: </span><span style=\"color: #00af00; text-decoration-color: #00af00\">1,675,682</span> (6.39 MB)\n",
              "</pre>\n"
            ]
          },
          "metadata": {}
        },
        {
          "output_type": "display_data",
          "data": {
            "text/plain": [
              "\u001b[1m Non-trainable params: \u001b[0m\u001b[38;5;34m0\u001b[0m (0.00 B)\n"
            ],
            "text/html": [
              "<pre style=\"white-space:pre;overflow-x:auto;line-height:normal;font-family:Menlo,'DejaVu Sans Mono',consolas,'Courier New',monospace\"><span style=\"font-weight: bold\"> Non-trainable params: </span><span style=\"color: #00af00; text-decoration-color: #00af00\">0</span> (0.00 B)\n",
              "</pre>\n"
            ]
          },
          "metadata": {}
        }
      ]
    },
    {
      "cell_type": "code",
      "source": [
        "import time\n",
        "\n",
        "print(\"\\n--- Training New Classification Model ---\")\n",
        "\n",
        "start_time_new_cls = time.time()\n",
        "history_new = model_new_cls.fit(X_train, y_train, epochs=50, batch_size=32,validation_data=(X_test, y_test), verbose=0)\n",
        "end_time_new_cls = time.time()\n",
        "\n",
        "training_time_new_cls = end_time_new_cls - start_time_new_cls\n",
        "print(f\"New classification model training time: {training_time_new_cls:.2f} seconds\")"
      ],
      "metadata": {
        "colab": {
          "base_uri": "https://localhost:8080/"
        },
        "id": "tD7F62DAOz6w",
        "outputId": "6d9b78f7-0647-43a3-9290-4ccadc253c81"
      },
      "execution_count": 31,
      "outputs": [
        {
          "output_type": "stream",
          "name": "stdout",
          "text": [
            "\n",
            "--- Training New Classification Model ---\n",
            "New classification model training time: 922.67 seconds\n"
          ]
        }
      ]
    },
    {
      "cell_type": "code",
      "source": [
        "import pandas as pd\n",
        "from sklearn.metrics import classification_report\n",
        "\n",
        "# --- Evaluation for New Model TEST Set ---\n",
        "y_pred_new_test = model_new_cls.predict(X_test, batch_size=32, verbose=0)\n",
        "y_pred_new_test = y_pred_new_test.argmax(axis=1) # Convert probabilities to class labels\n",
        "\n",
        "report_new_test = classification_report(y_test, y_pred_new_test, output_dict=True)\n",
        "report_df_new_test = pd.DataFrame(report_new_test).round(2).transpose()\n",
        "report_df_new_test.to_csv('./data/cls_report_new_test.csv', index=False) # NEW FILENAME\n",
        "\n",
        "print(\"\\n New Model Test Report:\")\n",
        "print(report_df_new_test)\n",
        "print(f\"New Test Accuracy: {report_new_test['accuracy']:.2f}\")\n",
        "print(f\"New Test Macro Avg F1-score: {report_new_test['macro avg']['f1-score']:.2f}\")\n",
        "print(f\"New Test Weighted Avg F1-score: {report_new_test['weighted avg']['f1-score']:.2f}\")"
      ],
      "metadata": {
        "colab": {
          "base_uri": "https://localhost:8080/"
        },
        "id": "0A6ebr5kSunD",
        "outputId": "db3d8590-a331-4752-94e0-808d77434781"
      },
      "execution_count": 32,
      "outputs": [
        {
          "output_type": "stream",
          "name": "stdout",
          "text": [
            "\n",
            " New Model Test Report:\n",
            "              precision  recall  f1-score  support\n",
            "0                  0.43    0.23      0.30   617.00\n",
            "1                  0.45    0.11      0.18   273.00\n",
            "2                  0.34    0.18      0.24   243.00\n",
            "3                  0.93    0.18      0.30   214.00\n",
            "4                  0.52    0.17      0.25   258.00\n",
            "5                  1.00    0.15      0.26    54.00\n",
            "6                  0.52    0.18      0.26   171.00\n",
            "7                  0.13    0.73      0.23   664.00\n",
            "8                  0.45    0.21      0.28   569.00\n",
            "9                  0.57    0.25      0.35   199.00\n",
            "10                 0.44    0.08      0.14    85.00\n",
            "11                 0.71    0.20      0.31   399.00\n",
            "12                 0.54    0.30      0.39   968.00\n",
            "13                 0.34    0.12      0.18    82.00\n",
            "14                 0.75    0.23      0.35   472.00\n",
            "15                 0.53    0.16      0.25   188.00\n",
            "16                 0.71    0.30      0.42   152.00\n",
            "17                 0.36    0.22      0.27   246.00\n",
            "accuracy           0.28    0.28      0.28     0.28\n",
            "macro avg          0.54    0.22      0.27  5854.00\n",
            "weighted avg       0.50    0.28      0.29  5854.00\n",
            "New Test Accuracy: 0.28\n",
            "New Test Macro Avg F1-score: 0.27\n",
            "New Test Weighted Avg F1-score: 0.29\n"
          ]
        }
      ]
    },
    {
      "cell_type": "code",
      "source": [
        "# --- Evaluation for New Model TRAIN Set ---\n",
        "y_pred_new_train = model_new_cls.predict(X_train, batch_size=32, verbose=0)\n",
        "y_pred_new_train = y_pred_new_train.argmax(axis=1) # Convert probabilities to class labels\n",
        "\n",
        "report_new_train = classification_report(y_train, y_pred_new_train, output_dict=True)\n",
        "report_df_new_train = pd.DataFrame(report_new_train).round(2).transpose()\n",
        "report_df_new_train.to_csv('./data/cls_report_new_train.csv', index=False) # NEW FILENAME\n",
        "\n",
        "print(\"\\n New Model Train Report:\")\n",
        "print(report_df_new_train)\n",
        "print(f\"New Train Accuracy: {report_new_train['accuracy']:.2f}\")\n",
        "print(f\"New Train Macro Avg F1-score: {report_new_train['macro avg']['f1-score']:.2f}\")\n",
        "print(f\"New Train Weighted Avg F1-score: {report_new_train['weighted avg']['f1-score']:.2f}\")"
      ],
      "metadata": {
        "colab": {
          "base_uri": "https://localhost:8080/"
        },
        "id": "rPmS0i_OTenM",
        "outputId": "ba59e80f-8cb5-437f-8f0a-55f03d7c6c35"
      },
      "execution_count": 33,
      "outputs": [
        {
          "output_type": "stream",
          "name": "stdout",
          "text": [
            "\n",
            " New Model Train Report:\n",
            "              precision  recall  f1-score   support\n",
            "0                  0.85    0.85      0.85   1561.00\n",
            "1                  0.93    0.72      0.81    648.00\n",
            "2                  0.78    0.80      0.79    571.00\n",
            "3                  0.99    0.99      0.99    434.00\n",
            "4                  0.92    0.92      0.92    620.00\n",
            "5                  1.00    0.93      0.96    174.00\n",
            "6                  0.88    0.91      0.89    381.00\n",
            "7                  0.85    0.81      0.83   1580.00\n",
            "8                  0.82    0.81      0.82   1334.00\n",
            "9                  0.86    0.85      0.86    401.00\n",
            "10                 0.94    0.62      0.75    149.00\n",
            "11                 0.93    0.88      0.90    932.00\n",
            "12                 0.82    0.89      0.85   2310.00\n",
            "13                 0.90    0.99      0.95    175.00\n",
            "14                 0.94    0.96      0.95   1004.00\n",
            "15                 0.94    0.85      0.89    428.00\n",
            "16                 0.91    0.92      0.91    372.00\n",
            "17                 0.74    0.90      0.81    585.00\n",
            "accuracy           0.86    0.86      0.86      0.86\n",
            "macro avg          0.89    0.87      0.87  13659.00\n",
            "weighted avg       0.87    0.86      0.86  13659.00\n",
            "New Train Accuracy: 0.86\n",
            "New Train Macro Avg F1-score: 0.87\n",
            "New Train Weighted Avg F1-score: 0.86\n"
          ]
        }
      ]
    },
    {
      "cell_type": "code",
      "source": [
        "import matplotlib.pyplot as plt\n",
        "\n",
        "# Plot for Initial Model\n",
        "plt.figure(figsize=(12, 5))\n",
        "\n",
        "plt.subplot(1, 2, 1) # 1 row, 2 columns, first plot\n",
        "plt.plot(history.history['accuracy'], label='Train Accuracy')\n",
        "plt.plot(history.history['val_accuracy'], label='Test Accuracy') # 'val_accuracy' refers to validation/test accuracy\n",
        "plt.title('Initial Model Accuracy Over Epochs')\n",
        "plt.xlabel('Epoch')\n",
        "plt.ylabel('Accuracy')\n",
        "plt.legend()\n",
        "plt.grid(True)\n",
        "\n",
        "plt.subplot(1, 2, 2) # 1 row, 2 columns, second plot\n",
        "plt.plot(history.history['loss'], label='Train Loss')\n",
        "plt.plot(history.history['val_loss'], label='Test Loss') # 'val_loss' refers to validation/test loss\n",
        "plt.title('Initial Model Loss Over Epochs')\n",
        "plt.xlabel('Epoch')\n",
        "plt.ylabel('Loss')\n",
        "plt.legend()\n",
        "plt.grid(True)\n",
        "\n",
        "plt.tight_layout()\n",
        "plt.show()\n",
        "\n",
        "# Plot for New Model (similar structure)\n",
        "plt.figure(figsize=(12, 5))\n",
        "\n",
        "plt.subplot(1, 2, 1)\n",
        "plt.plot(history_new.history['accuracy'], label='Train Accuracy')\n",
        "plt.plot(history_new.history['val_accuracy'], label='Test Accuracy')\n",
        "plt.title('New Model Accuracy Over Epochs')\n",
        "plt.xlabel('Epoch')\n",
        "plt.ylabel('Accuracy')\n",
        "plt.legend()\n",
        "plt.grid(True)\n",
        "\n",
        "plt.subplot(1, 2, 2)\n",
        "plt.plot(history_new.history['loss'], label='Train Loss')\n",
        "plt.plot(history_new.history['val_loss'], label='Test Loss')\n",
        "plt.title('New Model Loss Over Epochs')\n",
        "plt.xlabel('Epoch')\n",
        "plt.ylabel('Loss')\n",
        "plt.legend()\n",
        "plt.grid(True)\n",
        "\n",
        "plt.tight_layout()\n",
        "plt.show()"
      ],
      "metadata": {
        "colab": {
          "base_uri": "https://localhost:8080/",
          "height": 997
        },
        "id": "ddgu_6HNi0zG",
        "outputId": "8c42ae39-342f-4e2c-f3bc-7cf3aa6933f4"
      },
      "execution_count": 37,
      "outputs": [
        {
          "output_type": "display_data",
          "data": {
            "text/plain": [
              "<Figure size 1200x500 with 2 Axes>"
            ],
            "image/png": "[encoded data removed]"
          },
          "metadata": {}
        },
        {
          "output_type": "display_data",
          "data": {
            "text/plain": [
              "<Figure size 1200x500 with 2 Axes>"
            ],
            "image/png": "[encoded data removed]"
          },
          "metadata": {}
        }
      ]
    }
  ]
}