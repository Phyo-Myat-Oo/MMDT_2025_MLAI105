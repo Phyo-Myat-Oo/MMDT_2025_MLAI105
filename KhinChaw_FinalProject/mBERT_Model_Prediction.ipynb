{
  "nbformat": 4,
  "nbformat_minor": 0,
  "metadata": {
    "colab": {
      "provenance": []
    },
    "kernelspec": {
      "name": "python3",
      "display_name": "Python 3"
    },
    "language_info": {
      "name": "python"
    }
  },
  "cells": [
    {
      "cell_type": "code",
      "execution_count": 1,
      "metadata": {
        "colab": {
          "base_uri": "https://localhost:8080/"
        },
        "id": "7NbKlabLCkWG",
        "outputId": "2a63ec38-3d37-4996-864c-b637881cd061"
      },
      "outputs": [
        {
          "output_type": "stream",
          "name": "stdout",
          "text": [
            "Requirement already satisfied: transformers in /usr/local/lib/python3.12/dist-packages (4.55.2)\n",
            "Requirement already satisfied: torch in /usr/local/lib/python3.12/dist-packages (2.8.0+cu126)\n",
            "Requirement already satisfied: filelock in /usr/local/lib/python3.12/dist-packages (from transformers) (3.19.1)\n",
            "Requirement already satisfied: huggingface-hub<1.0,>=0.34.0 in /usr/local/lib/python3.12/dist-packages (from transformers) (0.34.4)\n",
            "Requirement already satisfied: numpy>=1.17 in /usr/local/lib/python3.12/dist-packages (from transformers) (2.0.2)\n",
            "Requirement already satisfied: packaging>=20.0 in /usr/local/lib/python3.12/dist-packages (from transformers) (25.0)\n",
            "Requirement already satisfied: pyyaml>=5.1 in /usr/local/lib/python3.12/dist-packages (from transformers) (6.0.2)\n",
            "Requirement already satisfied: regex!=2019.12.17 in /usr/local/lib/python3.12/dist-packages (from transformers) (2024.11.6)\n",
            "Requirement already satisfied: requests in /usr/local/lib/python3.12/dist-packages (from transformers) (2.32.4)\n",
            "Requirement already satisfied: tokenizers<0.22,>=0.21 in /usr/local/lib/python3.12/dist-packages (from transformers) (0.21.4)\n",
            "Requirement already satisfied: safetensors>=0.4.3 in /usr/local/lib/python3.12/dist-packages (from transformers) (0.6.2)\n",
            "Requirement already satisfied: tqdm>=4.27 in /usr/local/lib/python3.12/dist-packages (from transformers) (4.67.1)\n",
            "Requirement already satisfied: typing-extensions>=4.10.0 in /usr/local/lib/python3.12/dist-packages (from torch) (4.14.1)\n",
            "Requirement already satisfied: setuptools in /usr/local/lib/python3.12/dist-packages (from torch) (75.2.0)\n",
            "Requirement already satisfied: sympy>=1.13.3 in /usr/local/lib/python3.12/dist-packages (from torch) (1.13.3)\n",
            "Requirement already satisfied: networkx in /usr/local/lib/python3.12/dist-packages (from torch) (3.5)\n",
            "Requirement already satisfied: jinja2 in /usr/local/lib/python3.12/dist-packages (from torch) (3.1.6)\n",
            "Requirement already satisfied: fsspec in /usr/local/lib/python3.12/dist-packages (from torch) (2025.3.0)\n",
            "Requirement already satisfied: nvidia-cuda-nvrtc-cu12==12.6.77 in /usr/local/lib/python3.12/dist-packages (from torch) (12.6.77)\n",
            "Requirement already satisfied: nvidia-cuda-runtime-cu12==12.6.77 in /usr/local/lib/python3.12/dist-packages (from torch) (12.6.77)\n",
            "Requirement already satisfied: nvidia-cuda-cupti-cu12==12.6.80 in /usr/local/lib/python3.12/dist-packages (from torch) (12.6.80)\n",
            "Requirement already satisfied: nvidia-cudnn-cu12==9.10.2.21 in /usr/local/lib/python3.12/dist-packages (from torch) (9.10.2.21)\n",
            "Requirement already satisfied: nvidia-cublas-cu12==12.6.4.1 in /usr/local/lib/python3.12/dist-packages (from torch) (12.6.4.1)\n",
            "Requirement already satisfied: nvidia-cufft-cu12==11.3.0.4 in /usr/local/lib/python3.12/dist-packages (from torch) (11.3.0.4)\n",
            "Requirement already satisfied: nvidia-curand-cu12==10.3.7.77 in /usr/local/lib/python3.12/dist-packages (from torch) (10.3.7.77)\n",
            "Requirement already satisfied: nvidia-cusolver-cu12==11.7.1.2 in /usr/local/lib/python3.12/dist-packages (from torch) (11.7.1.2)\n",
            "Requirement already satisfied: nvidia-cusparse-cu12==12.5.4.2 in /usr/local/lib/python3.12/dist-packages (from torch) (12.5.4.2)\n",
            "Requirement already satisfied: nvidia-cusparselt-cu12==0.7.1 in /usr/local/lib/python3.12/dist-packages (from torch) (0.7.1)\n",
            "Requirement already satisfied: nvidia-nccl-cu12==2.27.3 in /usr/local/lib/python3.12/dist-packages (from torch) (2.27.3)\n",
            "Requirement already satisfied: nvidia-nvtx-cu12==12.6.77 in /usr/local/lib/python3.12/dist-packages (from torch) (12.6.77)\n",
            "Requirement already satisfied: nvidia-nvjitlink-cu12==12.6.85 in /usr/local/lib/python3.12/dist-packages (from torch) (12.6.85)\n",
            "Requirement already satisfied: nvidia-cufile-cu12==1.11.1.6 in /usr/local/lib/python3.12/dist-packages (from torch) (1.11.1.6)\n",
            "Requirement already satisfied: triton==3.4.0 in /usr/local/lib/python3.12/dist-packages (from torch) (3.4.0)\n",
            "Requirement already satisfied: hf-xet<2.0.0,>=1.1.3 in /usr/local/lib/python3.12/dist-packages (from huggingface-hub<1.0,>=0.34.0->transformers) (1.1.7)\n",
            "Requirement already satisfied: mpmath<1.4,>=1.1.0 in /usr/local/lib/python3.12/dist-packages (from sympy>=1.13.3->torch) (1.3.0)\n",
            "Requirement already satisfied: MarkupSafe>=2.0 in /usr/local/lib/python3.12/dist-packages (from jinja2->torch) (3.0.2)\n",
            "Requirement already satisfied: charset_normalizer<4,>=2 in /usr/local/lib/python3.12/dist-packages (from requests->transformers) (3.4.3)\n",
            "Requirement already satisfied: idna<4,>=2.5 in /usr/local/lib/python3.12/dist-packages (from requests->transformers) (3.10)\n",
            "Requirement already satisfied: urllib3<3,>=1.21.1 in /usr/local/lib/python3.12/dist-packages (from requests->transformers) (2.5.0)\n",
            "Requirement already satisfied: certifi>=2017.4.17 in /usr/local/lib/python3.12/dist-packages (from requests->transformers) (2025.8.3)\n"
          ]
        }
      ],
      "source": [
        "# ==============================================================================\n",
        "# 1. Install Libraries\n",
        "# ==============================================================================\n",
        "# The transformers library is essential for loading the model and tokenizer.\n",
        "# This command installs it if it's not already present in the environment.\n",
        "!pip install transformers torch"
      ]
    },
    {
      "cell_type": "code",
      "source": [
        "# ==============================================================================\n",
        "# 2. Import Libraries\n",
        "# ==============================================================================\n",
        "import torch\n",
        "import os\n",
        "from transformers import AutoTokenizer, AutoModelForSequenceClassification\n",
        "from google.colab import drive"
      ],
      "metadata": {
        "id": "LS7foGSADQXK"
      },
      "execution_count": 2,
      "outputs": []
    },
    {
      "cell_type": "code",
      "source": [
        "# ==============================================================================\n",
        "# 3. Mount Google Drive\n",
        "# ==============================================================================\n",
        "print(\"Mounting Google Drive...\")\n",
        "try:\n",
        "    # This command will open an authentication window for you to connect your Drive.\n",
        "    drive.mount('/content/drive')\n",
        "    print(\"Google Drive mounted successfully!\")\n",
        "except Exception as e:\n",
        "    print(f\"❌ Error mounting Google Drive: {e}\")\n",
        "    exit()\n",
        "\n",
        "# Set device to GPU if available, otherwise use CPU\n",
        "device = torch.device('cuda' if torch.cuda.is_available() else 'cpu')\n",
        "print(f\"Using device: {device}\")"
      ],
      "metadata": {
        "colab": {
          "base_uri": "https://localhost:8080/"
        },
        "id": "QXjy_WF2DcoU",
        "outputId": "a5853688-0155-4cfe-dc00-75effeca4444"
      },
      "execution_count": 3,
      "outputs": [
        {
          "output_type": "stream",
          "name": "stdout",
          "text": [
            "Mounting Google Drive...\n",
            "Mounted at /content/drive\n",
            "Google Drive mounted successfully!\n",
            "Using device: cpu\n"
          ]
        }
      ]
    },
    {
      "cell_type": "code",
      "source": [
        "# ==============================================================================\n",
        "# 4. Define Paths and Load Dataset\n",
        "# ==============================================================================\n",
        "# Define the paths to your files in Google Drive\n",
        "import pandas as pd\n",
        "import os\n",
        "\n",
        "data_folder_path = '/content/drive/MyDrive/Fake_New_Classification'\n",
        "dataset_path = os.path.join(data_folder_path, 'fake_real_news.csv')\n",
        "model_save_path = os.path.join(data_folder_path, 'mbert_model_state.bin')\n",
        "\n",
        "# Load the combined dataset\n",
        "try:\n",
        "    combined_df = pd.read_csv(dataset_path)\n",
        "    print(f\"\\n✅ Dataset loaded successfully from: {dataset_path}\")\n",
        "    print(f\"Dataset shape: {combined_df.shape}\")\n",
        "except FileNotFoundError:\n",
        "    print(f\"\\n❌ Error: Dataset file not found at {dataset_path}.\")\n",
        "    print(\"Please check the path and make sure your dataset is in the correct location.\")\n",
        "    exit()"
      ],
      "metadata": {
        "colab": {
          "base_uri": "https://localhost:8080/"
        },
        "id": "u9xhRAYPDmrh",
        "outputId": "19741b1f-a01d-490d-f76c-3e1965d717e7"
      },
      "execution_count": 12,
      "outputs": [
        {
          "output_type": "stream",
          "name": "stdout",
          "text": [
            "\n",
            "✅ Dataset loaded successfully from: /content/drive/MyDrive/Fake_New_Classification/fake_real_news.csv\n",
            "Dataset shape: (1096, 5)\n"
          ]
        }
      ]
    },
    {
      "cell_type": "code",
      "source": [
        "# ==============================================================================\n",
        "# 5. Load the Saved Model and Tokenizer\n",
        "# ==============================================================================\n",
        "MODEL_NAME = 'bert-base-multilingual-cased'\n",
        "tokenizer = AutoTokenizer.from_pretrained(MODEL_NAME)\n",
        "model = AutoModelForSequenceClassification.from_pretrained(MODEL_NAME, num_labels=2)\n",
        "\n",
        "try:\n",
        "    model.load_state_dict(torch.load(model_save_path, map_location=device))\n",
        "    model.to(device)\n",
        "    model.eval()\n",
        "    print(f\"✅ Model successfully loaded from: {model_save_path}\")\n",
        "except FileNotFoundError:\n",
        "    print(f\"❌ Error: Model file not found at {model_save_path}.\")\n",
        "    print(\"Please check the path and make sure you've saved the models correctly.\")\n",
        "    exit()\n"
      ],
      "metadata": {
        "colab": {
          "base_uri": "https://localhost:8080/"
        },
        "id": "0qM7abF3FzZ7",
        "outputId": "85893c12-6475-4980-eaf5-f81d08677835"
      },
      "execution_count": 13,
      "outputs": [
        {
          "output_type": "stream",
          "name": "stderr",
          "text": [
            "Some weights of BertForSequenceClassification were not initialized from the model checkpoint at bert-base-multilingual-cased and are newly initialized: ['classifier.bias', 'classifier.weight']\n",
            "You should probably TRAIN this model on a down-stream task to be able to use it for predictions and inference.\n"
          ]
        },
        {
          "output_type": "stream",
          "name": "stdout",
          "text": [
            "✅ Model successfully loaded from: /content/drive/MyDrive/Fake_New_Classification/mbert_model_state.bin\n"
          ]
        }
      ]
    },
    {
      "cell_type": "code",
      "source": [
        "# ==============================================================================\n",
        "# 6. Create Helper Functions\n",
        "# ==============================================================================\n",
        "def find_source_domain(headline, df):\n",
        "    \"\"\"\n",
        "    Finds the source_domain for a given news headline in the DataFrame.\n",
        "    Returns the domain if found, otherwise returns \"Not Found in Dataset\".\n",
        "    \"\"\"\n",
        "    match = df[df['news'] == headline]\n",
        "    if not match.empty:\n",
        "        return match['source_domain'].iloc[0]\n",
        "    return \"Not Found in Dataset\"\n",
        "\n",
        "def classify_headline(text, model, tokenizer, max_len=128):\n",
        "    \"\"\"\n",
        "    Classifies a single news headline as 'Real' (0) or 'Fake' (1).\n",
        "    \"\"\"\n",
        "    model.eval()\n",
        "    encoding = tokenizer.encode_plus(\n",
        "        text,\n",
        "        add_special_tokens=True,\n",
        "        max_length=max_len,\n",
        "        truncation=True,\n",
        "        padding='max_length',\n",
        "        return_attention_mask=True,\n",
        "        return_tensors='pt'\n",
        "    )\n",
        "    input_ids = encoding['input_ids'].to(device)\n",
        "    attention_mask = encoding['attention_mask'].to(device)\n",
        "\n",
        "    with torch.no_grad():\n",
        "        outputs = model(input_ids=input_ids, attention_mask=attention_mask)\n",
        "\n",
        "    probabilities = torch.nn.functional.softmax(outputs.logits, dim=1).flatten()\n",
        "    _, prediction = torch.max(outputs.logits, dim=1)\n",
        "    confidence_score = probabilities[prediction.item()].item()\n",
        "    labels = ['Real', 'Fake']\n",
        "    predicted_label = labels[prediction.item()]\n",
        "\n",
        "    return predicted_label, confidence_score"
      ],
      "metadata": {
        "id": "Ip56GSoKF4Wm"
      },
      "execution_count": 14,
      "outputs": []
    },
    {
      "cell_type": "code",
      "source": [
        "# ==============================================================================\n",
        "# 7. Test with a New Headline\n",
        "# ==============================================================================\n",
        "print(\"\\n--- Example Prediction with Headline and Automatic Source Lookup ---\")\n",
        "\n",
        "# Provide a headline that does not exists in dataset. The script will find the source.\n",
        "test_headline = \"စစ်တပ်က ငြိမ်းချမ်းရေး လိုလားတဲ့အတွက် အပစ်ရပ်စဲကြောင်း ကြေညာ\"\n",
        "\n",
        "# Find the corresponding source domain from the loaded DataFrame\n",
        "source_domain = find_source_domain(test_headline, combined_df)\n",
        "\n",
        "# Classify the headline using the model\n",
        "predicted_label, confidence = classify_headline(test_headline, model, tokenizer)\n",
        "\n",
        "# Print the results\n",
        "print(f\"Headline: '{test_headline}'\")\n",
        "print(f\"Source: {source_domain}\")\n",
        "print(f\"Predicted Label: {predicted_label}\")\n",
        "print(f\"Confidence Score: {confidence:.4f}\")"
      ],
      "metadata": {
        "colab": {
          "base_uri": "https://localhost:8080/"
        },
        "id": "2rXEritbG142",
        "outputId": "387f7076-ea89-4183-b9dc-f7a18f3cca88"
      },
      "execution_count": 15,
      "outputs": [
        {
          "output_type": "stream",
          "name": "stdout",
          "text": [
            "\n",
            "--- Example Prediction with Headline and Automatic Source Lookup ---\n",
            "Headline: 'စစ်တပ်က ငြိမ်းချမ်းရေး လိုလားတဲ့အတွက် အပစ်ရပ်စဲကြောင်း ကြေညာ'\n",
            "Source: Not Found in Dataset\n",
            "Predicted Label: Fake\n",
            "Confidence Score: 0.9974\n"
          ]
        }
      ]
    },
    {
      "cell_type": "code",
      "source": [
        "# ==============================================================================\n",
        "# 7. Test with a Real New Headline from  Dataset\n",
        "# ==============================================================================\n",
        "print(\"\\n--- Example Prediction with Headline and Automatic Source Lookup ---\")\n",
        "\n",
        "# Provide a headline that exists in dataset. The script will find the source.\n",
        "test_headline = \"ဗိုလ်ချုပ်အောင်ဆန်းသည် အမျိုးသားခေါင်းဆောင်ဖြစ်သည့်အတွက် နိုင်ငံသားတိုင်းပိုင်ဆိုင်ပြီး မဲဆွယ်ရာတွင် ဗိုလ်ချုပ်ပုံ သုံး မသုံးမှာ ပါတီများ၏ သဘောထားသာဖြစ်ဟု ပြည်ထောင်စုရွေးကောက်ပွဲကော်မရှင်ဥက္ကဋ္ဌ ပြောကြား\"\n",
        "\n",
        "# Find the corresponding source domain from the loaded DataFrame\n",
        "source_domain = find_source_domain(test_headline, combined_df)\n",
        "\n",
        "# Classify the headline using the model\n",
        "predicted_label, confidence = classify_headline(test_headline, model, tokenizer)\n",
        "\n",
        "# Print the results\n",
        "print(f\"Headline: '{test_headline}'\")\n",
        "print(f\"Source: {source_domain}\")\n",
        "print(f\"Predicted Label: {predicted_label}\")\n",
        "print(f\"Confidence Score: {confidence:.4f}\")"
      ],
      "metadata": {
        "colab": {
          "base_uri": "https://localhost:8080/"
        },
        "id": "QZxi6JReG4vX",
        "outputId": "51c919f7-d911-4c0b-d4a0-e19ba3ed46ed"
      },
      "execution_count": 16,
      "outputs": [
        {
          "output_type": "stream",
          "name": "stdout",
          "text": [
            "\n",
            "--- Example Prediction with Headline and Automatic Source Lookup ---\n",
            "Headline: 'ဗိုလ်ချုပ်အောင်ဆန်းသည် အမျိုးသားခေါင်းဆောင်ဖြစ်သည့်အတွက် နိုင်ငံသားတိုင်းပိုင်ဆိုင်ပြီး မဲဆွယ်ရာတွင် ဗိုလ်ချုပ်ပုံ သုံး မသုံးမှာ ပါတီများ၏ သဘောထားသာဖြစ်ဟု ပြည်ထောင်စုရွေးကောက်ပွဲကော်မရှင်ဥက္ကဋ္ဌ ပြောကြား'\n",
            "Source: news-eleven.com\n",
            "Predicted Label: Real\n",
            "Confidence Score: 0.9973\n"
          ]
        }
      ]
    },
    {
      "cell_type": "code",
      "source": [
        "# ==============================================================================\n",
        "# 7. Test with a Fake New Headline from  Dataset\n",
        "# ==============================================================================\n",
        "print(\"\\n--- Example Prediction with Headline and Automatic Source Lookup ---\")\n",
        "\n",
        "# Provide a headline that exists in dataset. The script will find the source.\n",
        "test_headline = \"AI နဲ့ ဖန်တီးပြုလုပ်ထားတဲ့ ငလျင်ကြောင့်ပျက်စီးရုပ်သံဖိုင်များ\"\n",
        "\n",
        "# Find the corresponding source domain from the loaded DataFrame\n",
        "source_domain = find_source_domain(test_headline, combined_df)\n",
        "\n",
        "# Classify the headline using the model\n",
        "predicted_label, confidence = classify_headline(test_headline, model, tokenizer)\n",
        "\n",
        "# Print the results\n",
        "print(f\"Headline: '{test_headline}'\")\n",
        "print(f\"Source: {source_domain}\")\n",
        "print(f\"Predicted Label: {predicted_label}\")\n",
        "print(f\"Confidence Score: {confidence:.4f}\")"
      ],
      "metadata": {
        "colab": {
          "base_uri": "https://localhost:8080/"
        },
        "id": "dWoJSnVIHMmO",
        "outputId": "4de3f369-85d6-4d4f-b3b5-fd218a842bbb"
      },
      "execution_count": 17,
      "outputs": [
        {
          "output_type": "stream",
          "name": "stdout",
          "text": [
            "\n",
            "--- Example Prediction with Headline and Automatic Source Lookup ---\n",
            "Headline: 'AI နဲ့ ဖန်တီးပြုလုပ်ထားတဲ့ ငလျင်ကြောင့်ပျက်စီးရုပ်သံဖိုင်များ'\n",
            "Source: bur.mizzima.com\n",
            "Predicted Label: Fake\n",
            "Confidence Score: 0.9978\n"
          ]
        }
      ]
    }
  ]
}