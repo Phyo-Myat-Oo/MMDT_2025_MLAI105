{
 "cells": [
  {
   "cell_type": "markdown",
   "id": "30d2ac8c",
   "metadata": {
    "id": "hBmXQhe2M-5R",
    "papermill": {
     "duration": 0.002399,
     "end_time": "2025-06-14T07:08:41.758852",
     "exception": false,
     "start_time": "2025-06-14T07:08:41.756453",
     "status": "completed"
    },
    "tags": []
   },
   "source": [
    "## Data cleaning"
   ]
  },
  {
   "cell_type": "code",
   "execution_count": 1,
   "id": "3d6eaf2a",
   "metadata": {
    "execution": {
     "iopub.execute_input": "2025-06-14T07:08:41.763858Z",
     "iopub.status.busy": "2025-06-14T07:08:41.763594Z",
     "iopub.status.idle": "2025-06-14T07:08:48.967915Z",
     "shell.execute_reply": "2025-06-14T07:08:48.967313Z"
    },
    "id": "rCUb701fM9pE",
    "outputId": "cb2d183e-e0b8-4c83-a5ae-1356511e67a7",
    "papermill": {
     "duration": 7.208604,
     "end_time": "2025-06-14T07:08:48.969585",
     "exception": false,
     "start_time": "2025-06-14T07:08:41.760981",
     "status": "completed"
    },
    "tags": []
   },
   "outputs": [
    {
     "name": "stdout",
     "output_type": "stream",
     "text": [
      "Requirement already satisfied: fuzzywuzzy in /usr/local/lib/python3.11/dist-packages (0.18.0)\r\n",
      "Collecting python-Levenshtein\r\n",
      "  Downloading python_levenshtein-0.27.1-py3-none-any.whl.metadata (3.7 kB)\r\n",
      "Collecting Levenshtein==0.27.1 (from python-Levenshtein)\r\n",
      "  Downloading levenshtein-0.27.1-cp311-cp311-manylinux_2_17_x86_64.manylinux2014_x86_64.whl.metadata (3.6 kB)\r\n",
      "Collecting rapidfuzz<4.0.0,>=3.9.0 (from Levenshtein==0.27.1->python-Levenshtein)\r\n",
      "  Downloading rapidfuzz-3.13.0-cp311-cp311-manylinux_2_17_x86_64.manylinux2014_x86_64.whl.metadata (12 kB)\r\n",
      "Downloading python_levenshtein-0.27.1-py3-none-any.whl (9.4 kB)\r\n",
      "Downloading levenshtein-0.27.1-cp311-cp311-manylinux_2_17_x86_64.manylinux2014_x86_64.whl (161 kB)\r\n",
      "\u001b[2K   \u001b[90m━━━━━━━━━━━━━━━━━━━━━━━━━━━━━━━━━━━━━━━━\u001b[0m \u001b[32m161.7/161.7 kB\u001b[0m \u001b[31m11.9 MB/s\u001b[0m eta \u001b[36m0:00:00\u001b[0m\r\n",
      "\u001b[?25hDownloading rapidfuzz-3.13.0-cp311-cp311-manylinux_2_17_x86_64.manylinux2014_x86_64.whl (3.1 MB)\r\n",
      "\u001b[2K   \u001b[90m━━━━━━━━━━━━━━━━━━━━━━━━━━━━━━━━━━━━━━━━\u001b[0m \u001b[32m3.1/3.1 MB\u001b[0m \u001b[31m84.3 MB/s\u001b[0m eta \u001b[36m0:00:00\u001b[0m\r\n",
      "\u001b[?25hInstalling collected packages: rapidfuzz, Levenshtein, python-Levenshtein\r\n",
      "Successfully installed Levenshtein-0.27.1 python-Levenshtein-0.27.1 rapidfuzz-3.13.0\r\n",
      "Note: you may need to restart the kernel to use updated packages.\n"
     ]
    }
   ],
   "source": [
    "\n",
    "%pip install fuzzywuzzy python-Levenshtein\n",
    "import pandas as pd\n",
    "from fuzzywuzzy import process\n",
    "\n",
    "def joint_data_set(df1, df2):\n",
    "    merged_df = pd.concat([df1, df2], ignore_index=True)\n",
    "\n",
    "    return merged_df\n",
    "\n",
    "def remove_duplicates(df):\n",
    "    return df.drop_duplicates()\n",
    "\n",
    "def remove_missing_values(df):\n",
    "    return df.dropna()\n",
    "\n",
    "def find_closest_match(row, mimu_SR_Name):\n",
    "    matches = process.extractOne(row, mimu_SR_Name, score_cutoff=90)\n",
    "    return matches[0]\n",
    "\n",
    "def data_cleaning(df_towns, df_villages, df_news):\n",
    "    df_towns.columns = ['SR_Name', 'name']\n",
    "    df_villages.columns = ['SR_Name', 'name']\n",
    "    df_news.columns = ['SR_Name', 'name']\n",
    "    df_towns['name'] = df_towns['name'].apply(lambda name: name.replace('Town', '').strip())\n",
    "    df_mimu = joint_data_set(df_towns, df_villages)\n",
    "    df_mimu = remove_missing_values(df_mimu)\n",
    "    df_news = remove_duplicates(df_news)\n",
    "    mimu_SR_Name = df_mimu['SR_Name'].unique()\n",
    "    df_news.loc[:, 'SR_Name']  = df_news['SR_Name'].apply(lambda x: find_closest_match(x, mimu_SR_Name))\n",
    "    df_mimu = joint_data_set(df_mimu, df_news)\n",
    "\n",
    "    return df_mimu"
   ]
  },
  {
   "cell_type": "markdown",
   "id": "c3ff7791",
   "metadata": {
    "id": "jXBO5fmwNBvh",
    "papermill": {
     "duration": 0.002094,
     "end_time": "2025-06-14T07:08:48.974395",
     "exception": false,
     "start_time": "2025-06-14T07:08:48.972301",
     "status": "completed"
    },
    "tags": []
   },
   "source": [
    "## Data preprocessing"
   ]
  },
  {
   "cell_type": "code",
   "execution_count": 2,
   "id": "0580b775",
   "metadata": {
    "execution": {
     "iopub.execute_input": "2025-06-14T07:08:48.980158Z",
     "iopub.status.busy": "2025-06-14T07:08:48.979424Z",
     "iopub.status.idle": "2025-06-14T07:08:50.731436Z",
     "shell.execute_reply": "2025-06-14T07:08:50.730497Z"
    },
    "id": "t2gMd7lANEHY",
    "outputId": "7279e720-d6c9-42f4-b5db-955cdc9b23ba",
    "papermill": {
     "duration": 1.756136,
     "end_time": "2025-06-14T07:08:50.732712",
     "exception": false,
     "start_time": "2025-06-14T07:08:48.976576",
     "status": "completed"
    },
    "tags": []
   },
   "outputs": [
    {
     "name": "stderr",
     "output_type": "stream",
     "text": [
      "[nltk_data] Downloading package punkt to /usr/share/nltk_data...\n",
      "[nltk_data]   Package punkt is already up-to-date!\n",
      "[nltk_data] Downloading package stopwords to /usr/share/nltk_data...\n",
      "[nltk_data]   Package stopwords is already up-to-date!\n",
      "[nltk_data] Downloading package wordnet to /usr/share/nltk_data...\n",
      "[nltk_data]   Package wordnet is already up-to-date!\n"
     ]
    }
   ],
   "source": [
    "import pandas as pd\n",
    "import re\n",
    "import nltk\n",
    "from nltk.corpus import stopwords\n",
    "from nltk.tokenize import word_tokenize\n",
    "from nltk.stem import WordNetLemmatizer\n",
    "from sklearn.feature_extraction.text import TfidfVectorizer\n",
    "from sklearn.feature_extraction.text import CountVectorizer\n",
    "# Download necessary NLTK data files\n",
    "nltk.download('punkt')\n",
    "nltk.download('stopwords')\n",
    "nltk.download('wordnet')\n",
    "\n",
    "def remove_special_characters(text):\n",
    "    # Remove special characters and numbers\n",
    "    text = re.sub('[^a-zA-Z]', ' ', text)\n",
    "    return text.lower()\n",
    "\n",
    "def clean_text(text):\n",
    "    stop_words = set(stopwords.words('english'))\n",
    "    lemmatizer = WordNetLemmatizer()\n",
    "    # Tokenize text\n",
    "    tokens = word_tokenize(text.lower())\n",
    "\n",
    "    # Remove punctuation and stop words, and lemmatize\n",
    "    cleaned_tokens = [lemmatizer.lemmatize(word)\n",
    "                      for word in tokens if word.isalnum() and word not in stop_words]\n",
    "\n",
    "    return ' '.join(cleaned_tokens)\n",
    "\n",
    "def preprocess_textinput(df, text_column):\n",
    "    vectorizer = CountVectorizer(max_features=5000)\n",
    "    df['cleaned_text'] = df[text_column].apply(remove_special_characters)\n",
    "    X = vectorizer.fit_transform(df['cleaned_text']).toarray()\n",
    "    return X\n",
    "\n",
    "def preprocess_category(df, column):\n",
    "    df[column] = df[column].astype('category')\n",
    "    mapping = dict(enumerate(df[column].cat.categories))  # id to label\n",
    "    df[column] = df[column].cat.codes\n",
    "    return df, mapping\n",
    "\n",
    "\n",
    "def preprocess_onehot(df, column):\n",
    "    df = pd.get_dummies(df, columns=[column])\n",
    "    return df"
   ]
  },
  {
   "cell_type": "markdown",
   "id": "ddadc32e",
   "metadata": {
    "id": "Z2_2YalLVYT-",
    "papermill": {
     "duration": 0.002086,
     "end_time": "2025-06-14T07:08:50.737300",
     "exception": false,
     "start_time": "2025-06-14T07:08:50.735214",
     "status": "completed"
    },
    "tags": []
   },
   "source": [
    "## Data loading"
   ]
  },
  {
   "cell_type": "code",
   "execution_count": 3,
   "id": "fb9c3d42",
   "metadata": {
    "execution": {
     "iopub.execute_input": "2025-06-14T07:08:50.742704Z",
     "iopub.status.busy": "2025-06-14T07:08:50.742400Z",
     "iopub.status.idle": "2025-06-14T07:08:55.629781Z",
     "shell.execute_reply": "2025-06-14T07:08:55.628793Z"
    },
    "id": "zRMpVHX7P1wi",
    "outputId": "632e8b02-1911-4206-bc57-7b38149181d8",
    "papermill": {
     "duration": 4.891814,
     "end_time": "2025-06-14T07:08:55.631277",
     "exception": false,
     "start_time": "2025-06-14T07:08:50.739463",
     "status": "completed"
    },
    "tags": []
   },
   "outputs": [
    {
     "data": {
      "text/html": [
       "<div>\n",
       "<style scoped>\n",
       "    .dataframe tbody tr th:only-of-type {\n",
       "        vertical-align: middle;\n",
       "    }\n",
       "\n",
       "    .dataframe tbody tr th {\n",
       "        vertical-align: top;\n",
       "    }\n",
       "\n",
       "    .dataframe thead th {\n",
       "        text-align: right;\n",
       "    }\n",
       "</style>\n",
       "<table border=\"1\" class=\"dataframe\">\n",
       "  <thead>\n",
       "    <tr style=\"text-align: right;\">\n",
       "      <th></th>\n",
       "      <th>SR_Name</th>\n",
       "      <th>name</th>\n",
       "    </tr>\n",
       "  </thead>\n",
       "  <tbody>\n",
       "    <tr>\n",
       "      <th>0</th>\n",
       "      <td>Ayeyarwady</td>\n",
       "      <td>Bogale</td>\n",
       "    </tr>\n",
       "    <tr>\n",
       "      <th>1</th>\n",
       "      <td>Ayeyarwady</td>\n",
       "      <td>Danubyu</td>\n",
       "    </tr>\n",
       "    <tr>\n",
       "      <th>2</th>\n",
       "      <td>Ayeyarwady</td>\n",
       "      <td>Dedaye</td>\n",
       "    </tr>\n",
       "    <tr>\n",
       "      <th>3</th>\n",
       "      <td>Ayeyarwady</td>\n",
       "      <td>Einme</td>\n",
       "    </tr>\n",
       "    <tr>\n",
       "      <th>4</th>\n",
       "      <td>Ayeyarwady</td>\n",
       "      <td>Du Yar</td>\n",
       "    </tr>\n",
       "    <tr>\n",
       "      <th>...</th>\n",
       "      <td>...</td>\n",
       "      <td>...</td>\n",
       "    </tr>\n",
       "    <tr>\n",
       "      <th>19508</th>\n",
       "      <td>Sagaing</td>\n",
       "      <td>Lahe</td>\n",
       "    </tr>\n",
       "    <tr>\n",
       "      <th>19509</th>\n",
       "      <td>Kayin</td>\n",
       "      <td>Taung Dee</td>\n",
       "    </tr>\n",
       "    <tr>\n",
       "      <th>19510</th>\n",
       "      <td>Shan (South)</td>\n",
       "      <td>Kho Lam</td>\n",
       "    </tr>\n",
       "    <tr>\n",
       "      <th>19511</th>\n",
       "      <td>Rakhine</td>\n",
       "      <td>Laung Zin</td>\n",
       "    </tr>\n",
       "    <tr>\n",
       "      <th>19512</th>\n",
       "      <td>Rakhine</td>\n",
       "      <td>Pyin Shey</td>\n",
       "    </tr>\n",
       "  </tbody>\n",
       "</table>\n",
       "<p>19513 rows × 2 columns</p>\n",
       "</div>"
      ],
      "text/plain": [
       "            SR_Name       name\n",
       "0        Ayeyarwady     Bogale\n",
       "1        Ayeyarwady    Danubyu\n",
       "2        Ayeyarwady     Dedaye\n",
       "3        Ayeyarwady      Einme\n",
       "4        Ayeyarwady     Du Yar\n",
       "...             ...        ...\n",
       "19508       Sagaing       Lahe\n",
       "19509         Kayin  Taung Dee\n",
       "19510  Shan (South)    Kho Lam\n",
       "19511       Rakhine  Laung Zin\n",
       "19512       Rakhine  Pyin Shey\n",
       "\n",
       "[19513 rows x 2 columns]"
      ]
     },
     "execution_count": 3,
     "metadata": {},
     "output_type": "execute_result"
    }
   ],
   "source": [
    "# Load data from files\n",
    "df_towns = pd.read_excel('https://github.com/tklwin/Intro-to-Deep-Learning/raw/refs/heads/main/chapter2/Project_02/data/MMNames_mimu.xlsx', sheet_name='Towns')\n",
    "df_villages = pd.read_excel('https://github.com/tklwin/Intro-to-Deep-Learning/raw/refs/heads/main/chapter2/Project_02/data/MMNames_mimu.xlsx', sheet_name='Villages')\n",
    "df_news = pd.read_csv('https://github.com/tklwin/Intro-to-Deep-Learning/raw/refs/heads/main/chapter2/Project_02/data/MMNames_news.csv')\n",
    "df_mimu = data_cleaning(df_towns, df_villages, df_news)\n",
    "\n",
    "df_mimu"
   ]
  },
  {
   "cell_type": "markdown",
   "id": "e702cba8",
   "metadata": {
    "id": "3ftYQ3s0trfG",
    "papermill": {
     "duration": 0.005404,
     "end_time": "2025-06-14T07:08:55.640227",
     "exception": false,
     "start_time": "2025-06-14T07:08:55.634823",
     "status": "completed"
    },
    "tags": []
   },
   "source": [
    "## Neural Networks Experimentation"
   ]
  },
  {
   "cell_type": "code",
   "execution_count": 4,
   "id": "1b64f9ef",
   "metadata": {
    "execution": {
     "iopub.execute_input": "2025-06-14T07:08:55.651115Z",
     "iopub.status.busy": "2025-06-14T07:08:55.650780Z",
     "iopub.status.idle": "2025-06-14T07:20:48.345715Z",
     "shell.execute_reply": "2025-06-14T07:20:48.344910Z"
    },
    "id": "6Jqf6_h9qpqr",
    "outputId": "8ff0e388-7478-45e7-a9a7-c250cbce3500",
    "papermill": {
     "duration": 712.705764,
     "end_time": "2025-06-14T07:20:48.350287",
     "exception": false,
     "start_time": "2025-06-14T07:08:55.644523",
     "status": "completed"
    },
    "tags": []
   },
   "outputs": [
    {
     "name": "stderr",
     "output_type": "stream",
     "text": [
      "2025-06-14 07:08:57.026592: E external/local_xla/xla/stream_executor/cuda/cuda_fft.cc:477] Unable to register cuFFT factory: Attempting to register factory for plugin cuFFT when one has already been registered\n",
      "WARNING: All log messages before absl::InitializeLog() is called are written to STDERR\n",
      "E0000 00:00:1749884937.207632      19 cuda_dnn.cc:8310] Unable to register cuDNN factory: Attempting to register factory for plugin cuDNN when one has already been registered\n",
      "E0000 00:00:1749884937.260730      19 cuda_blas.cc:1418] Unable to register cuBLAS factory: Attempting to register factory for plugin cuBLAS when one has already been registered\n"
     ]
    },
    {
     "name": "stdout",
     "output_type": "stream",
     "text": [
      "(13659, 13003) (5854, 13003)\n",
      "\n",
      "Training model_2layers_baseline | Layers: [32, 16] | Dropout: False | BatchNorm: False\n"
     ]
    },
    {
     "name": "stderr",
     "output_type": "stream",
     "text": [
      "I0000 00:00:1749884951.788161      19 gpu_device.cc:2022] Created device /job:localhost/replica:0/task:0/device:GPU:0 with 15513 MB memory:  -> device: 0, name: Tesla P100-PCIE-16GB, pci bus id: 0000:00:04.0, compute capability: 6.0\n",
      "WARNING: All log messages before absl::InitializeLog() is called are written to STDERR\n",
      "I0000 00:00:1749884954.724979      63 service.cc:148] XLA service 0x79a71c008650 initialized for platform CUDA (this does not guarantee that XLA will be used). Devices:\n",
      "I0000 00:00:1749884954.725531      63 service.cc:156]   StreamExecutor device (0): Tesla P100-PCIE-16GB, Compute Capability 6.0\n",
      "I0000 00:00:1749884954.909749      63 cuda_dnn.cc:529] Loaded cuDNN version 90300\n",
      "I0000 00:00:1749884955.626529      63 device_compiler.h:188] Compiled cluster using XLA!  This line is logged at most once for the lifetime of the process.\n"
     ]
    },
    {
     "name": "stdout",
     "output_type": "stream",
     "text": [
      "\n",
      "Training model_2layers_dropout | Layers: [32, 16] | Dropout: True | BatchNorm: False\n",
      "\n",
      "Training model_2layers_batchnorm | Layers: [32, 16] | Dropout: False | BatchNorm: True\n",
      "\n",
      "Training model_2layers_both | Layers: [32, 16] | Dropout: True | BatchNorm: True\n",
      "\n",
      "Training model_3layers_baseline | Layers: [64, 32, 16] | Dropout: False | BatchNorm: False\n",
      "\n",
      "Training model_3layers_dropout | Layers: [64, 32, 16] | Dropout: True | BatchNorm: False\n",
      "\n",
      "Training model_3layers_batchnorm | Layers: [64, 32, 16] | Dropout: False | BatchNorm: True\n",
      "\n",
      "Training model_3layers_both | Layers: [64, 32, 16] | Dropout: True | BatchNorm: True\n",
      "\n",
      "Training model_4layers_baseline | Layers: [128, 64, 32, 16] | Dropout: False | BatchNorm: False\n",
      "\n",
      "Training model_4layers_dropout | Layers: [128, 64, 32, 16] | Dropout: True | BatchNorm: False\n",
      "\n",
      "Training model_4layers_batchnorm | Layers: [128, 64, 32, 16] | Dropout: False | BatchNorm: True\n",
      "\n",
      "Training model_4layers_both | Layers: [128, 64, 32, 16] | Dropout: True | BatchNorm: True\n",
      "\n",
      "Training model_2layers_wide_baseline | Layers: [256, 128] | Dropout: False | BatchNorm: False\n",
      "\n",
      "Training model_2layers_wide_dropout | Layers: [256, 128] | Dropout: True | BatchNorm: False\n",
      "\n",
      "Training model_2layers_wide_batchnorm | Layers: [256, 128] | Dropout: False | BatchNorm: True\n",
      "\n",
      "Training model_2layers_wide_both | Layers: [256, 128] | Dropout: True | BatchNorm: True\n",
      "\n",
      "Training model_3layers_wide_baseline | Layers: [256, 128, 64] | Dropout: False | BatchNorm: False\n",
      "\n",
      "Training model_3layers_wide_dropout | Layers: [256, 128, 64] | Dropout: True | BatchNorm: False\n",
      "\n",
      "Training model_3layers_wide_batchnorm | Layers: [256, 128, 64] | Dropout: False | BatchNorm: True\n",
      "\n",
      "Training model_3layers_wide_both | Layers: [256, 128, 64] | Dropout: True | BatchNorm: True\n",
      "\n",
      "Training model_4layers_wide_baseline | Layers: [256, 128, 64, 32] | Dropout: False | BatchNorm: False\n",
      "\n",
      "Training model_4layers_wide_dropout | Layers: [256, 128, 64, 32] | Dropout: True | BatchNorm: False\n",
      "\n",
      "Training model_4layers_wide_batchnorm | Layers: [256, 128, 64, 32] | Dropout: False | BatchNorm: True\n",
      "\n",
      "Training model_4layers_wide_both | Layers: [256, 128, 64, 32] | Dropout: True | BatchNorm: True\n",
      "\n",
      " Model Comparison Summary:\n",
      "|    | Model                        | Layers             |   Total Params |   Train Accuracy |   Test Accuracy | Dropout   | BatchNorm   |   Training Time (s) |\n",
      "|----|------------------------------|--------------------|----------------|------------------|-----------------|-----------|-------------|---------------------|\n",
      "|  0 | model_2layers_baseline       | [32, 16]           |         416962 |           0.8644 |          0.3041 | False     | False       |               21.28 |\n",
      "|  1 | model_2layers_dropout        | [32, 16]           |         416962 |           0.8625 |          0.3032 | True      | False       |               22.85 |\n",
      "|  2 | model_2layers_batchnorm      | [32, 16]           |         417154 |           0.8643 |          0.2827 | False     | True        |               23.53 |\n",
      "|  3 | model_2layers_both           | [32, 16]           |         417154 |           0.8598 |          0.2726 | True      | True        |               25.71 |\n",
      "|  4 | model_3layers_baseline       | [64, 32, 16]       |         835170 |           0.8641 |          0.2815 | False     | False       |               21.63 |\n",
      "|  5 | model_3layers_dropout        | [64, 32, 16]       |         835170 |           0.8531 |          0.3047 | True      | False       |               24.86 |\n",
      "|  6 | model_3layers_batchnorm      | [64, 32, 16]       |         835618 |           0.8626 |          0.2808 | False     | True        |               25.94 |\n",
      "|  7 | model_3layers_both           | [64, 32, 16]       |         835618 |           0.8595 |          0.2793 | True      | True        |               29.31 |\n",
      "|  8 | model_4layers_baseline       | [128, 64, 32, 16]  |        1675682 |           0.8571 |          0.2439 | False     | False       |               22.69 |\n",
      "|  9 | model_4layers_dropout        | [128, 64, 32, 16]  |        1675682 |           0.8517 |          0.2865 | True      | False       |               27.78 |\n",
      "| 10 | model_4layers_batchnorm      | [128, 64, 32, 16]  |        1676642 |           0.8613 |          0.2617 | False     | True        |               28.63 |\n",
      "| 11 | model_4layers_both           | [128, 64, 32, 16]  |        1676642 |           0.8577 |          0.2776 | True      | True        |               34.04 |\n",
      "| 12 | model_2layers_wide_baseline  | [256, 128]         |        3364242 |           0.8636 |          0.3013 | False     | False       |               22.36 |\n",
      "| 13 | model_2layers_wide_dropout   | [256, 128]         |        3364242 |           0.8649 |          0.3049 | True      | False       |               24.83 |\n",
      "| 14 | model_2layers_wide_batchnorm | [256, 128]         |        3365778 |           0.8635 |          0.2904 | False     | True        |               24.66 |\n",
      "| 15 | model_2layers_wide_both      | [256, 128]         |        3365778 |           0.865  |          0.267  | True      | True        |               27.21 |\n",
      "| 16 | model_3layers_wide_baseline  | [256, 128, 64]     |        3371346 |           0.861  |          0.2668 | False     | False       |               23.04 |\n",
      "| 17 | model_3layers_wide_dropout   | [256, 128, 64]     |        3371346 |           0.8623 |          0.2993 | True      | False       |               26.67 |\n",
      "| 18 | model_3layers_wide_batchnorm | [256, 128, 64]     |        3373138 |           0.8633 |          0.2754 | False     | True        |               27.46 |\n",
      "| 19 | model_3layers_wide_both      | [256, 128, 64]     |        3373138 |           0.8632 |          0.2832 | True      | True        |               30.88 |\n",
      "| 20 | model_4layers_wide_baseline  | [256, 128, 64, 32] |        3372850 |           0.8603 |          0.2772 | False     | False       |               23.9  |\n",
      "| 21 | model_4layers_wide_dropout   | [256, 128, 64, 32] |        3372850 |           0.8569 |          0.3041 | True      | False       |               29.27 |\n",
      "| 22 | model_4layers_wide_batchnorm | [256, 128, 64, 32] |        3374770 |           0.8621 |          0.2726 | False     | True        |               29.66 |\n",
      "| 23 | model_4layers_wide_both      | [256, 128, 64, 32] |        3374770 |           0.8608 |          0.275  | True      | True        |               35.08 |\n"
     ]
    }
   ],
   "source": [
    "import time\n",
    "import pandas as pd\n",
    "import tensorflow as tf\n",
    "from sklearn.metrics import classification_report, accuracy_score\n",
    "from sklearn.model_selection import train_test_split\n",
    "from sklearn.preprocessing import LabelEncoder\n",
    "\n",
    "df = df_mimu.copy()\n",
    "\n",
    "# Prepare the data\n",
    "\n",
    "from sklearn.preprocessing import StandardScaler\n",
    "from sklearn.model_selection import train_test_split\n",
    "\n",
    "df, sr_name_mapping = preprocess_category(df, 'SR_Name')\n",
    "df = preprocess_onehot(df,'name')\n",
    "\n",
    "y = df['SR_Name'].values\n",
    "X = df.drop(columns=['SR_Name']).values\n",
    "\n",
    "X_train, X_test, y_train, y_test = train_test_split(X, y, test_size=0.3, random_state=42)\n",
    "print(X_train.shape, X_test.shape)\n",
    "\n",
    "# Define model architectures\n",
    "architectures = {\n",
    "    'model_2layers': [32, 16],\n",
    "    'model_3layers': [64, 32, 16],\n",
    "    'model_4layers': [128, 64, 32, 16],\n",
    "    'model_2layers_wide': [256, 128],\n",
    "    'model_3layers_wide': [256, 128, 64],\n",
    "    'model_4layers_wide': [256, 128, 64, 32],\n",
    "}\n",
    "\n",
    "# Function to create model\n",
    "\n",
    "def create_classification_model(input_shape, num_classes, hidden_layers, use_dropout=False, dropout_rate=0.1, use_batchnorm=False):\n",
    "    model = tf.keras.Sequential()\n",
    "    model.add(tf.keras.layers.InputLayer(shape=input_shape))\n",
    "\n",
    "    for units in hidden_layers:\n",
    "        model.add(tf.keras.layers.Dense(units))\n",
    "\n",
    "        if use_batchnorm:\n",
    "            model.add(tf.keras.layers.BatchNormalization())\n",
    "\n",
    "        model.add(tf.keras.layers.Activation('relu'))\n",
    "\n",
    "        if use_dropout:\n",
    "            model.add(tf.keras.layers.Dropout(dropout_rate))\n",
    "\n",
    "    model.add(tf.keras.layers.Dense(num_classes, activation='softmax'))\n",
    "    model.compile(optimizer='adam', loss='sparse_categorical_crossentropy', metrics=['accuracy'])\n",
    "    return model\n",
    "\n",
    "\n",
    "# Experiments\n",
    "results = []\n",
    "\n",
    "for name, hidden_layers in architectures.items():\n",
    "    for mode in ['baseline', 'dropout', 'batchnorm', 'both']:\n",
    "        if mode == 'dropout':\n",
    "            use_dropout = True\n",
    "            use_batchnorm = False\n",
    "            dropout_rate = 0.1\n",
    "        elif mode == 'batchnorm':\n",
    "            use_dropout = False\n",
    "            use_batchnorm = True\n",
    "            dropout_rate = 0.0\n",
    "        elif mode == 'both':\n",
    "            use_dropout = True\n",
    "            dropout_rate = 0.1\n",
    "        else:  # baseline\n",
    "            use_dropout = False\n",
    "            use_batchnorm = False\n",
    "            dropout_rate = 0.0\n",
    "\n",
    "        model_name = f\"{name}_{mode}\"\n",
    "        print(f\"\\nTraining {model_name} | Layers: {hidden_layers} | Dropout: {use_dropout} | BatchNorm: {use_batchnorm}\")\n",
    "\n",
    "        model = create_classification_model(\n",
    "            input_shape=[X_train.shape[1]],\n",
    "            num_classes=len(set(y)),\n",
    "            hidden_layers=hidden_layers,\n",
    "            use_dropout=use_dropout,\n",
    "            dropout_rate=dropout_rate,\n",
    "            use_batchnorm=use_batchnorm\n",
    "        )\n",
    "        total_params = model.count_params()\n",
    "\n",
    "        start_time = time.time()\n",
    "        model.fit(X_train, y_train, epochs=20, batch_size=32, verbose=0)\n",
    "        training_time = time.time() - start_time\n",
    "\n",
    "        # Predictions\n",
    "        y_pred_test = model.predict(X_test, batch_size=32, verbose=0).argmax(axis=1)\n",
    "        y_pred_train = model.predict(X_train, batch_size=32, verbose=0).argmax(axis=1)\n",
    "\n",
    "        test_acc = accuracy_score(y_test, y_pred_test)\n",
    "        train_acc = accuracy_score(y_train, y_pred_train)\n",
    "\n",
    "        # Save classification reports\n",
    "        pd.DataFrame(classification_report(y_test, y_pred_test, output_dict=True)).T.round(2)\\\n",
    "            .to_csv(f'cls_report_{model_name}_test.csv')\n",
    "        pd.DataFrame(classification_report(y_train, y_pred_train, output_dict=True)).T.round(2)\\\n",
    "            .to_csv(f'cls_report_{model_name}_train.csv')\n",
    "\n",
    "        # Save results\n",
    "        results.append({\n",
    "            'Model': model_name,\n",
    "            'Layers': hidden_layers,\n",
    "            'Total Params': total_params,\n",
    "            'Train Accuracy': round(train_acc, 4),\n",
    "            'Test Accuracy': round(test_acc, 4),\n",
    "            'Dropout': use_dropout,\n",
    "            'BatchNorm': use_batchnorm,\n",
    "            'Training Time (s)': round(training_time, 2)\n",
    "        })\n",
    "\n",
    "# Save and show summary table\n",
    "results_df = pd.DataFrame(results)\n",
    "results_df.to_csv('./model_comparison_summary.csv', index=False)\n",
    "print(\"\\n Model Comparison Summary:\")\n",
    "\n",
    "from tabulate import tabulate\n",
    "print(tabulate(results_df, headers='keys', tablefmt='github'))"
   ]
  },
  {
   "cell_type": "code",
   "execution_count": 5,
   "id": "af583ef0",
   "metadata": {
    "execution": {
     "iopub.execute_input": "2025-06-14T07:20:48.358805Z",
     "iopub.status.busy": "2025-06-14T07:20:48.358560Z",
     "iopub.status.idle": "2025-06-14T07:20:48.674280Z",
     "shell.execute_reply": "2025-06-14T07:20:48.673553Z"
    },
    "papermill": {
     "duration": 0.321524,
     "end_time": "2025-06-14T07:20:48.675656",
     "exception": false,
     "start_time": "2025-06-14T07:20:48.354132",
     "status": "completed"
    },
    "tags": []
   },
   "outputs": [
    {
     "name": "stdout",
     "output_type": "stream",
     "text": [
      "|   ID | SR Name      |   Count |\n",
      "|------|--------------|---------|\n",
      "|    0 | Ayeyarwady   |    2178 |\n",
      "|    1 | Bago (East)  |     921 |\n",
      "|    2 | Bago (West)  |     814 |\n",
      "|    3 | Chin         |     648 |\n",
      "|    4 | Kachin       |     878 |\n",
      "|    5 | Kayah        |     228 |\n",
      "|    6 | Kayin        |     552 |\n",
      "|    7 | Magway       |    2244 |\n",
      "|    8 | Mandalay     |    1903 |\n",
      "|    9 | Mon          |     600 |\n",
      "|   10 | Nay Pyi Taw  |     234 |\n",
      "|   11 | Rakhine      |    1331 |\n",
      "|   12 | Sagaing      |    3278 |\n",
      "|   13 | Shan (East)  |     257 |\n",
      "|   14 | Shan (North) |    1476 |\n",
      "|   15 | Shan (South) |     616 |\n",
      "|   16 | Tanintharyi  |     524 |\n",
      "|   17 | Yangon       |     831 |\n"
     ]
    },
    {
     "data": {
      "image/png": "[encoded data removed]",
      "text/plain": [
       "<Figure size 1200x500 with 1 Axes>"
      ]
     },
     "metadata": {},
     "output_type": "display_data"
    }
   ],
   "source": [
    "from tabulate import tabulate\n",
    "import matplotlib.pyplot as plt\n",
    "\n",
    "\n",
    "# Count how many samples per class\n",
    "class_counts = df['SR_Name'].value_counts().sort_index()\n",
    "\n",
    "summary = []\n",
    "for class_id, count in class_counts.items():\n",
    "    class_name = sr_name_mapping[class_id]\n",
    "    summary.append([class_id, class_name, count])\n",
    "\n",
    "print(tabulate(summary, headers=[\"ID\", \"SR Name\", \"Count\"], tablefmt=\"github\"))\n",
    "\n",
    "plt.figure(figsize=(12, 5))\n",
    "plt.bar([f\"{i}: {sr_name_mapping[i]}\" for i in class_counts.index], class_counts.values)\n",
    "plt.title(\"Class Distribution by State/Region\")\n",
    "plt.xlabel(\"Region (ID: Name)\")\n",
    "plt.ylabel(\"Number of Samples\")\n",
    "plt.xticks(rotation=90)\n",
    "plt.grid(axis='y', linestyle='--', alpha=0.5)\n",
    "plt.tight_layout()\n",
    "plt.show()"
   ]
  },
  {
   "cell_type": "code",
   "execution_count": 6,
   "id": "2006efe4",
   "metadata": {
    "execution": {
     "iopub.execute_input": "2025-06-14T07:20:48.685873Z",
     "iopub.status.busy": "2025-06-14T07:20:48.685680Z",
     "iopub.status.idle": "2025-06-14T07:20:48.692209Z",
     "shell.execute_reply": "2025-06-14T07:20:48.691418Z"
    },
    "papermill": {
     "duration": 0.012727,
     "end_time": "2025-06-14T07:20:48.693313",
     "exception": false,
     "start_time": "2025-06-14T07:20:48.680586",
     "status": "completed"
    },
    "tags": []
   },
   "outputs": [
    {
     "name": "stdout",
     "output_type": "stream",
     "text": [
      "SR_Name\n",
      "Ayeyarwady      2178\n",
      "Bago (East)      921\n",
      "Bago (West)      814\n",
      "Chin             648\n",
      "Kachin           878\n",
      "Kayah            228\n",
      "Kayin            552\n",
      "Magway          2244\n",
      "Mandalay        1903\n",
      "Mon              600\n",
      "Nay Pyi Taw      234\n",
      "Rakhine         1331\n",
      "Sagaing         3278\n",
      "Shan (East)      257\n",
      "Shan (North)    1476\n",
      "Shan (South)     616\n",
      "Tanintharyi      524\n",
      "Yangon           831\n",
      "Name: count, dtype: int64\n"
     ]
    }
   ],
   "source": [
    "region_counts = df_mimu['SR_Name'].value_counts().sort_index()\n",
    "print(region_counts)\n"
   ]
  }
 ],
 "metadata": {
  "colab": {
   "collapsed_sections": [
    "hBmXQhe2M-5R",
    "jXBO5fmwNBvh",
    "Z2_2YalLVYT-"
   ],
   "provenance": []
  },
  "kaggle": {
   "accelerator": "gpu",
   "dataSources": [],
   "dockerImageVersionId": 31041,
   "isGpuEnabled": true,
   "isInternetEnabled": true,
   "language": "python",
   "sourceType": "notebook"
  },
  "kernelspec": {
   "display_name": "Python 3",
   "language": "python",
   "name": "python3"
  },
  "language_info": {
   "codemirror_mode": {
    "name": "ipython",
    "version": 3
   },
   "file_extension": ".py",
   "mimetype": "text/x-python",
   "name": "python",
   "nbconvert_exporter": "python",
   "pygments_lexer": "ipython3",
   "version": "3.11.11"
  },
  "papermill": {
   "default_parameters": {},
   "duration": 734.454831,
   "end_time": "2025-06-14T07:20:52.259620",
   "environment_variables": {},
   "exception": null,
   "input_path": "__notebook__.ipynb",
   "output_path": "__notebook__.ipynb",
   "parameters": {},
   "start_time": "2025-06-14T07:08:37.804789",
   "version": "2.6.0"
  }
 },
 "nbformat": 4,
 "nbformat_minor": 5
}
