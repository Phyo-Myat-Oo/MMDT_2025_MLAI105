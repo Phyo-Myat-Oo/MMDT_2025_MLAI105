{
  "cells": [
    {
      "cell_type": "markdown",
      "metadata": {
        "id": "view-in-github",
        "colab_type": "text"
      },
      "source": [
        "<a href=\"https://colab.research.google.com/github/tklwin/MMDT_2025_MLAI105/blob/thein-kyaw-lwin/thein-kyaw-lwin/Project_03/Project_03_CNN_Models_TheinKyawLwin.ipynb\" target=\"_parent\"><img src=\"https://colab.research.google.com/assets/colab-badge.svg\" alt=\"Open In Colab\"/></a>"
      ]
    },
    {
      "cell_type": "markdown",
      "metadata": {
        "id": "o_DEy1wtCIyp"
      },
      "source": [
        "# Project Description\n",
        "\n",
        "## Image Classification Using Known CNN Models\n",
        "\n",
        "### Overview\n",
        "\n",
        "In this project, we classify images using five well-known Convolutional Neural Network (CNN) models implemented with the Python `keras` library. The models used are `ResNet50`, `VGG16`, `InceptionV3`, `Xception`, and `EfficientNetB7`. The goal is to load an image, pass it through each of these models, and obtain the top prediction for the image. This project consists of two Python scripts: one for defining the CNN models (`cnn_models.py`) and one main script (`main.py`) for classifying an image.\n",
        "\n",
        "### Project Components\n",
        "\n",
        "#### 1. `cnn_models.py`\n",
        "\n",
        "This script defines a class, `cnnModels`, which provides an interface to load and use the pre-trained CNN models. The class includes methods for initializing models, retrieving models by name, and classifying images.\n",
        "\n",
        "##### `cnnModels` Class\n",
        "\n",
        "- **`__init__(self)`**: Initializes the class and loads the pre-trained models.\n",
        "- **`resnet(self)`**: Loads and returns the `ResNet50` model with ImageNet weights.\n",
        "- **`vggnet(self)`**: Loads and returns the `VGG16` model with ImageNet weights.\n",
        "- **`inception(self)`**: Loads and returns the `InceptionV3` model with ImageNet weights.\n",
        "- **`convnet(self)`**: Loads and returns the `Xception` model with ImageNet weights.\n",
        "- **`efficientnet(self)`**: Loads and returns the `EfficientNetB7` model with ImageNet weights.\n",
        "- **`get_model(self, name)`**: Retrieves a model by name from the dictionary of models.\n",
        "- **`classify_image(self, name, img)`**: Classifies an image using the specified model and returns the top 3 predictions.\n",
        "\n",
        "#### 2. `main.ipynb`\n",
        "\n",
        "This script demonstrates how to use the `cnnModels` class to classify an image.\n",
        "\n",
        "##### Example Usage\n",
        "\n",
        "```python\n",
        "from cnn_models import cnnModels\n",
        "from keras.preprocessing.image import load_img\n",
        "\n",
        "# Specify the image path\n",
        "img_path = './imgs/dog.jpeg'\n",
        "img = load_img(img_path)\n",
        "\n",
        "# Initialize the cnnModels class\n",
        "model = cnnModels()\n",
        "\n",
        "# Classify the image using ResNet50\n",
        "preds1 = model.classify_image('ResNet50', img)\n",
        "\n",
        "# Print the top predictions\n",
        "for pred in preds1:\n",
        "    print(f\"{pred[1]}: {pred[2]}, {pred[3]}\")\n"
      ]
    },
    {
      "cell_type": "markdown",
      "metadata": {
        "id": "D9tG3TlPCIyq"
      },
      "source": [
        "The state-of-the-art CNN models are tested using two datasets:\n",
        "1) AI-generated Images that contains 10 images\n",
        "2) 10 Real Images collected from the internet\n",
        "\n",
        "average accuracy, precision and recall scores."
      ]
    },
    {
      "cell_type": "code",
      "source": [
        "!git clone https://github.com/tklwin/Intro-to-Deep-Learning.git\n",
        "import sys\n",
        "sys.path.append('/content/Intro-to-Deep-Learning/chapter3/Project_01')"
      ],
      "metadata": {
        "id": "LmshTdnqCShD",
        "outputId": "f206083a-d40a-4a9e-861b-6e16ded7cd82",
        "colab": {
          "base_uri": "https://localhost:8080/"
        }
      },
      "execution_count": 7,
      "outputs": [
        {
          "output_type": "stream",
          "name": "stdout",
          "text": [
            "fatal: destination path 'Intro-to-Deep-Learning' already exists and is not an empty directory.\n"
          ]
        }
      ]
    },
    {
      "cell_type": "code",
      "execution_count": 8,
      "metadata": {
        "id": "agn3QPGRCIyq"
      },
      "outputs": [],
      "source": [
        "import cnn_models\n",
        "import pandas as pd\n",
        "from keras.utils import load_img #type: ignore\n",
        "import os"
      ]
    },
    {
      "cell_type": "code",
      "execution_count": 9,
      "metadata": {
        "id": "YNK_sh2PCIyq"
      },
      "outputs": [],
      "source": [
        "def get_predictions(image_dir):\n",
        "    model = cnn_models.cnnModels()\n",
        "    model_name = ['ResNet50', 'VGGNet16', 'InceptionV3', 'ConvNeXt', 'EfficientNet']\n",
        "    result_df = pd.DataFrame(columns = model_name + [name + '_prob' for name in model_name])\n",
        "\n",
        "    labels =[]\n",
        "    row_values = []\n",
        "\n",
        "    for filename in os.listdir(image_dir):\n",
        "        if filename.endswith('.jpeg') or filename.endswith('.png')or filename.endswith('.jpg'):\n",
        "            image_path = os.path.join(image_dir, filename)\n",
        "            img = load_img(image_path)\n",
        "            labels.append(filename.split('.')[0])\n",
        "            prob_preds = []\n",
        "            class_preds = []\n",
        "            for name in model_name:\n",
        "                preds = model.classify_image(name, img)[0][0][1:3]\n",
        "                class_preds.append(preds[0])\n",
        "                prob_preds.append(preds[1])\n",
        "\n",
        "            row_values.append(class_preds + prob_preds)\n",
        "\n",
        "    result_df = pd.DataFrame(row_values, columns = model_name + [name + '_prob' for name in model_name])\n",
        "    result_df['label'] = labels\n",
        "\n",
        "    return result_df\n"
      ]
    },
    {
      "cell_type": "code",
      "source": [
        "!wget \"https://github.com/tklwin/MMDT_2025_MLAI105/raw/refs/heads/thein-kyaw-lwin/thein-kyaw-lwin/Project_03/tkl_dataset.zip\"\n",
        "!unzip tkl_dataset.zip\n",
        "tkl_dir = './tkl_dataset/'\n",
        "tkl_result = get_predictions(tkl_dir)"
      ],
      "metadata": {
        "id": "Zzq2dcGvCyyk",
        "outputId": "e64833ed-b67a-49d4-cd73-d8df74e92d1f",
        "colab": {
          "base_uri": "https://localhost:8080/"
        }
      },
      "execution_count": 10,
      "outputs": [
        {
          "output_type": "stream",
          "name": "stdout",
          "text": [
            "--2025-06-27 11:01:49--  https://github.com/tklwin/MMDT_2025_MLAI105/raw/refs/heads/thein-kyaw-lwin/thein-kyaw-lwin/Project_03/tkl_dataset.zip\n",
            "Resolving github.com (github.com)... 140.82.112.3\n",
            "Connecting to github.com (github.com)|140.82.112.3|:443... connected.\n",
            "HTTP request sent, awaiting response... 302 Found\n",
            "Location: https://raw.githubusercontent.com/tklwin/MMDT_2025_MLAI105/refs/heads/thein-kyaw-lwin/thein-kyaw-lwin/Project_03/tkl_dataset.zip [following]\n",
            "--2025-06-27 11:01:49--  https://raw.githubusercontent.com/tklwin/MMDT_2025_MLAI105/refs/heads/thein-kyaw-lwin/thein-kyaw-lwin/Project_03/tkl_dataset.zip\n",
            "Resolving raw.githubusercontent.com (raw.githubusercontent.com)... 185.199.108.133, 185.199.109.133, 185.199.110.133, ...\n",
            "Connecting to raw.githubusercontent.com (raw.githubusercontent.com)|185.199.108.133|:443... connected.\n",
            "HTTP request sent, awaiting response... 200 OK\n",
            "Length: 3649352 (3.5M) [application/zip]\n",
            "Saving to: ‘tkl_dataset.zip’\n",
            "\n",
            "tkl_dataset.zip     100%[===================>]   3.48M  --.-KB/s    in 0.08s   \n",
            "\n",
            "2025-06-27 11:01:50 (44.8 MB/s) - ‘tkl_dataset.zip’ saved [3649352/3649352]\n",
            "\n",
            "Archive:  tkl_dataset.zip\n",
            "   creating: tkl_dataset/\n",
            "  inflating: __MACOSX/._tkl_dataset  \n",
            "  inflating: tkl_dataset/fan.jpg     \n",
            "  inflating: __MACOSX/tkl_dataset/._fan.jpg  \n",
            "  inflating: tkl_dataset/dog.jpg     \n",
            "  inflating: __MACOSX/tkl_dataset/._dog.jpg  \n",
            "  inflating: tkl_dataset/apple.jpg   \n",
            "  inflating: __MACOSX/tkl_dataset/._apple.jpg  \n",
            "  inflating: tkl_dataset/cat.jpg     \n",
            "  inflating: __MACOSX/tkl_dataset/._cat.jpg  \n",
            "  inflating: tkl_dataset/mountain.jpg  \n",
            "  inflating: __MACOSX/tkl_dataset/._mountain.jpg  \n",
            "  inflating: tkl_dataset/car.jpg     \n",
            "  inflating: __MACOSX/tkl_dataset/._car.jpg  \n",
            "  inflating: tkl_dataset/football.jpg  \n",
            "  inflating: __MACOSX/tkl_dataset/._football.jpg  \n",
            "  inflating: tkl_dataset/clock.jpg   \n",
            "  inflating: __MACOSX/tkl_dataset/._clock.jpg  \n",
            "  inflating: tkl_dataset/guitar.jpg  \n",
            "  inflating: __MACOSX/tkl_dataset/._guitar.jpg  \n",
            "  inflating: tkl_dataset/baby.jpg    \n",
            "  inflating: __MACOSX/tkl_dataset/._baby.jpg  \n",
            "Downloading data from https://storage.googleapis.com/download.tensorflow.org/data/imagenet_class_index.json\n",
            "\u001b[1m35363/35363\u001b[0m \u001b[32m━━━━━━━━━━━━━━━━━━━━\u001b[0m\u001b[37m\u001b[0m \u001b[1m0s\u001b[0m 0us/step\n"
          ]
        },
        {
          "output_type": "stream",
          "name": "stderr",
          "text": [
            "WARNING:tensorflow:5 out of the last 5 calls to <function TensorFlowTrainer.make_predict_function.<locals>.one_step_on_data_distributed at 0x7ef354b7cf40> triggered tf.function retracing. Tracing is expensive and the excessive number of tracings could be due to (1) creating @tf.function repeatedly in a loop, (2) passing tensors with different shapes, (3) passing Python objects instead of tensors. For (1), please define your @tf.function outside of the loop. For (2), @tf.function has reduce_retracing=True option that can avoid unnecessary retracing. For (3), please refer to https://www.tensorflow.org/guide/function#controlling_retracing and https://www.tensorflow.org/api_docs/python/tf/function for  more details.\n"
          ]
        }
      ]
    },
    {
      "cell_type": "code",
      "execution_count": 11,
      "metadata": {
        "id": "8WEWIXIfCIyr"
      },
      "outputs": [],
      "source": [
        "tkl_result.to_csv('./tkl_result.csv', index = False)"
      ]
    },
    {
      "cell_type": "code",
      "source": [
        "from tabulate import tabulate\n",
        "print(tabulate(tkl_result, headers='keys', tablefmt='github'))"
      ],
      "metadata": {
        "id": "d8EmePAOEkaS",
        "outputId": "cce2ae01-a09f-4d9c-9e7b-105f923777ef",
        "colab": {
          "base_uri": "https://localhost:8080/"
        }
      },
      "execution_count": 12,
      "outputs": [
        {
          "output_type": "stream",
          "name": "stdout",
          "text": [
            "|    | ResNet50           | VGGNet16           | InceptionV3   | ConvNeXt           | EfficientNet     |   ResNet50_prob |   VGGNet16_prob |   InceptionV3_prob |   ConvNeXt_prob |   EfficientNet_prob | label    |\n",
            "|----|--------------------|--------------------|---------------|--------------------|------------------|-----------------|-----------------|--------------------|-----------------|---------------------|----------|\n",
            "|  0 | Great_Pyrenees     | Maltese_dog        | web_site      | tub                | mask             |        0.249248 |       0.0936128 |           0.999959 |        0.331172 |           0.0979043 | baby     |\n",
            "|  1 | sports_car         | sports_car         | web_site      | sports_car         | grille           |        0.213542 |       0.499425  |           1        |        0.671603 |           0.166676  | car      |\n",
            "|  2 | soccer_ball        | soccer_ball        | web_site      | soccer_ball        | soccer_ball      |        0.841772 |       0.870668  |           1        |        0.945497 |           0.86134   | football |\n",
            "|  3 | pomegranate        | pomegranate        | flatworm      | Granny_Smith       | wooden_spoon     |        0.655223 |       0.913065  |           1        |        0.568936 |           0.0838462 | apple    |\n",
            "|  4 | acoustic_guitar    | electric_guitar    | web_site      | electric_guitar    | microphone       |        0.73337  |       0.95669   |           1        |        0.894345 |           0.09645   | guitar   |\n",
            "|  5 | tabby              | tabby              | flatworm      | lynx               | tabby            |        0.684788 |       0.43925   |           0.999997 |        0.387555 |           0.298807  | cat      |\n",
            "|  6 | electric_fan       | electric_fan       | web_site      | electric_fan       | electric_fan     |        0.99791  |       0.998452  |           1        |        0.949404 |           0.885767  | fan      |\n",
            "|  7 | Labrador_retriever | Labrador_retriever | web_site      | Labrador_retriever | golden_retriever |        0.242197 |       0.294892  |           0.999908 |        0.401643 |           0.666864  | dog      |\n",
            "|  8 | alp                | alp                | flatworm      | alp                | alp              |        0.774512 |       0.803675  |           1        |        0.742693 |           0.682475  | mountain |\n",
            "|  9 | stopwatch          | analog_clock       | web_site      | analog_clock       | strainer         |        0.561455 |       0.552459  |           1        |        0.928616 |           0.326287  | clock    |\n"
          ]
        }
      ]
    }
  ],
  "metadata": {
    "kernelspec": {
      "display_name": ".venv",
      "language": "python",
      "name": "python3"
    },
    "language_info": {
      "codemirror_mode": {
        "name": "ipython",
        "version": 3
      },
      "file_extension": ".py",
      "mimetype": "text/x-python",
      "name": "python",
      "nbconvert_exporter": "python",
      "pygments_lexer": "ipython3",
      "version": "3.12.1"
    },
    "colab": {
      "provenance": [],
      "include_colab_link": true
    }
  },
  "nbformat": 4,
  "nbformat_minor": 0
}