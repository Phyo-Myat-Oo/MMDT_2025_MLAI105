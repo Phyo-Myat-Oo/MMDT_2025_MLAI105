{
 "cells": [
  {
   "cell_type": "markdown",
   "id": "f5f97dee",
   "metadata": {},
   "source": [
    "# 🎯 Myanmar Address Geocoding: Model Performance & Testing\n",
    "\n",
    "## 🚀 **Project Overview**\n",
    "This notebook showcases the performance of trained transformer models for Myanmar address geocoding:\n",
    "\n",
    "### 📊 **Available Models**\n",
    "- **🤖 BERT Model**: `bert_model.pt` - Best geographic accuracy (~51 km)\n",
    "- **⚡ DistilBERT Model**: `distilbert_model.pt` - Faster inference (~60 km)\n",
    "- **🌍 XLM-RoBERTa Model**: *(Training in progress)* - Multilingual optimization\n",
    "\n",
    "### 🎯 **Objectives**\n",
    "1. **Performance Analysis**: Compare model accuracy and inference speed\n",
    "2. **Interactive Testing**: Test models on real Myanmar addresses\n",
    "3. **Visualization**: Geographic accuracy on OpenStreetMap\n",
    "4. **Web App Preparation**: Model loading and prediction pipeline\n",
    "\n",
    "### 📈 **Expected Results**\n",
    "- **BERT**: Highest accuracy for complex addresses\n",
    "- **DistilBERT**: Balance of speed and accuracy\n",
    "- **Interactive Maps**: Visual comparison of predictions vs ground truth"
   ]
  },
  {
   "cell_type": "code",
   "execution_count": 2,
   "id": "c6fc7e65",
   "metadata": {},
   "outputs": [
    {
     "name": "stdout",
     "output_type": "stream",
     "text": [
      "🔍 Checking required packages...\n",
      "✅ folium already installed\n",
      "✅ plotly already installed\n",
      "✅ folium already installed\n",
      "✅ plotly already installed\n",
      "✅ seaborn already installed\n",
      "✅ seaborn already installed\n"
     ]
    },
    {
     "name": "stderr",
     "output_type": "stream",
     "text": [
      "/Users/tklwin/a2c/.venv/lib/python3.10/site-packages/tqdm/auto.py:21: TqdmWarning: IProgress not found. Please update jupyter and ipywidgets. See https://ipywidgets.readthedocs.io/en/stable/user_install.html\n",
      "  from .autonotebook import tqdm as notebook_tqdm\n"
     ]
    },
    {
     "name": "stdout",
     "output_type": "stream",
     "text": [
      "✅ transformers already installed\n",
      "✅ torch already installed\n",
      "\n",
      "🎉 All required packages are ready!\n"
     ]
    }
   ],
   "source": [
    "# 📦 Install Required Packages (Run this cell if packages are missing)\n",
    "import subprocess\n",
    "import sys\n",
    "\n",
    "def install_package(package):\n",
    "    try:\n",
    "        __import__(package)\n",
    "        print(f\"✅ {package} already installed\")\n",
    "    except ImportError:\n",
    "        print(f\"📦 Installing {package}...\")\n",
    "        subprocess.check_call([sys.executable, \"-m\", \"pip\", \"install\", package])\n",
    "        print(f\"✅ {package} installed successfully!\")\n",
    "\n",
    "# Check and install required packages\n",
    "required_packages = [\n",
    "    'folium',\n",
    "    'plotly', \n",
    "    'seaborn',\n",
    "    'transformers',\n",
    "    'torch'\n",
    "]\n",
    "\n",
    "print(\"🔍 Checking required packages...\")\n",
    "for package in required_packages:\n",
    "    install_package(package)\n",
    "\n",
    "print(\"\\n🎉 All required packages are ready!\")"
   ]
  },
  {
   "cell_type": "code",
   "execution_count": 3,
   "id": "7b669822",
   "metadata": {},
   "outputs": [
    {
     "name": "stdout",
     "output_type": "stream",
     "text": [
      "🖥️ Using device: cpu\n",
      "📊 PyTorch version: 2.8.0\n",
      "🤖 Transformers available: True\n",
      "✅ Environment ready for model testing!\n"
     ]
    }
   ],
   "source": [
    "# 📦 Import Required Libraries\n",
    "import pandas as pd\n",
    "import numpy as np\n",
    "import torch\n",
    "import torch.nn as nn\n",
    "import json\n",
    "import os\n",
    "import matplotlib.pyplot as plt\n",
    "import plotly.express as px\n",
    "import plotly.graph_objects as go\n",
    "from plotly.subplots import make_subplots\n",
    "import folium\n",
    "from folium import plugins\n",
    "import seaborn as sns\n",
    "from sklearn.preprocessing import MinMaxScaler\n",
    "from sklearn.metrics import mean_absolute_error, mean_squared_error\n",
    "import warnings\n",
    "warnings.filterwarnings('ignore')\n",
    "\n",
    "# Transformer libraries\n",
    "from transformers import AutoTokenizer, AutoModel\n",
    "\n",
    "# Set display options\n",
    "pd.set_option('display.max_columns', None)\n",
    "pd.set_option('display.width', None)\n",
    "plt.rcParams['figure.figsize'] = (12, 8)\n",
    "\n",
    "# Device configuration\n",
    "device = torch.device('cuda' if torch.cuda.is_available() else 'cpu')\n",
    "print(f\"🖥️ Using device: {device}\")\n",
    "print(f\"📊 PyTorch version: {torch.__version__}\")\n",
    "print(f\"🤖 Transformers available: True\")\n",
    "print(\"✅ Environment ready for model testing!\")"
   ]
  },
  {
   "cell_type": "code",
   "execution_count": 4,
   "id": "861c89fd",
   "metadata": {},
   "outputs": [
    {
     "name": "stdout",
     "output_type": "stream",
     "text": [
      "✅ Model architecture defined!\n",
      "   🏗️ ImprovedMyanmarBertGeocoder class ready\n",
      "   📊 Architecture: BERT + 4-layer regression head\n",
      "   🎯 Output: Sigmoid-constrained [0,1] coordinates\n"
     ]
    }
   ],
   "source": [
    "# 🏗️ Model Architecture Definitions\n",
    "class ImprovedMyanmarBertGeocoder(nn.Module):\n",
    "    \"\"\"\n",
    "    Improved Myanmar BERT Geocoding Model\n",
    "    - Uses BERT-base-multilingual-cased\n",
    "    - Sigmoid-constrained outputs for [0,1] coordinate range\n",
    "    \"\"\"\n",
    "    \n",
    "    def __init__(self, model_name=\"bert-base-multilingual-cased\", dropout_rate=0.3):\n",
    "        super(ImprovedMyanmarBertGeocoder, self).__init__()\n",
    "        \n",
    "        # Load pretrained BERT\n",
    "        self.bert = AutoModel.from_pretrained(model_name)\n",
    "        bert_hidden_size = self.bert.config.hidden_size  # 768 for BERT-base\n",
    "        \n",
    "        # Dropout for regularization\n",
    "        self.dropout = nn.Dropout(dropout_rate)\n",
    "        \n",
    "        # Multi-layer coordinate regression head (BERT version)\n",
    "        self.coordinate_regressor = nn.Sequential(\n",
    "            nn.Linear(bert_hidden_size, 512),\n",
    "            nn.ReLU(),\n",
    "            nn.Dropout(dropout_rate),\n",
    "            nn.Linear(512, 256),\n",
    "            nn.ReLU(),\n",
    "            nn.Dropout(dropout_rate),\n",
    "            nn.Linear(256, 128),\n",
    "            nn.ReLU(),\n",
    "            nn.Dropout(dropout_rate / 2),\n",
    "            nn.Linear(128, 2),  # Output: [latitude, longitude]\n",
    "            nn.Sigmoid()  # Constrain outputs to [0, 1] range\n",
    "        )\n",
    "        \n",
    "        # Initialize weights\n",
    "        self._init_weights()\n",
    "    \n",
    "    def _init_weights(self):\n",
    "        \"\"\"Initialize regression head weights\"\"\"\n",
    "        for module in self.coordinate_regressor:\n",
    "            if isinstance(module, nn.Linear):\n",
    "                nn.init.xavier_uniform_(module.weight)\n",
    "                if module.bias is not None:\n",
    "                    nn.init.zeros_(module.bias)\n",
    "    \n",
    "    def forward(self, input_ids, attention_mask):\n",
    "        \"\"\"Forward pass with Sigmoid-constrained outputs\"\"\"\n",
    "        # Get BERT embeddings\n",
    "        bert_outputs = self.bert(\n",
    "            input_ids=input_ids,\n",
    "            attention_mask=attention_mask,\n",
    "            return_dict=True\n",
    "        )\n",
    "        \n",
    "        # Use [CLS] token representation\n",
    "        cls_output = bert_outputs.pooler_output\n",
    "        \n",
    "        # Apply dropout\n",
    "        cls_output = self.dropout(cls_output)\n",
    "        \n",
    "        # Predict coordinates\n",
    "        coordinates = self.coordinate_regressor(cls_output)\n",
    "        \n",
    "        return coordinates\n",
    "\n",
    "\n",
    "class ImprovedMyanmarDistilBertGeocoder(nn.Module):\n",
    "    \"\"\"\n",
    "    Improved Myanmar DistilBERT Geocoding Model\n",
    "    - Uses DistilBERT-base-multilingual-cased  \n",
    "    - Faster inference than BERT\n",
    "    - Different architecture from the error message\n",
    "    \"\"\"\n",
    "    \n",
    "    def __init__(self, model_name=\"distilbert-base-multilingual-cased\", dropout_rate=0.3):\n",
    "        super(ImprovedMyanmarDistilBertGeocoder, self).__init__()\n",
    "        \n",
    "        # Load pretrained DistilBERT\n",
    "        self.distilbert = AutoModel.from_pretrained(model_name)\n",
    "        distilbert_hidden_size = self.distilbert.config.hidden_size  # 768 for DistilBERT-base\n",
    "        \n",
    "        # Dropout for regularization\n",
    "        self.dropout = nn.Dropout(dropout_rate)\n",
    "        \n",
    "        # Based on the error, the saved model has different dimensions\n",
    "        # Let's use the dimensions from the error message\n",
    "        self.coordinate_regressor = nn.Sequential(\n",
    "            nn.Linear(distilbert_hidden_size, 384),  # From error: torch.Size([384, 768])\n",
    "            nn.ReLU(),\n",
    "            nn.Dropout(dropout_rate),\n",
    "            nn.Linear(384, 192),  # From error: torch.Size([192, 384])\n",
    "            nn.ReLU(), \n",
    "            nn.Dropout(dropout_rate),\n",
    "            nn.Linear(192, 96),   # From error: torch.Size([96, 192])\n",
    "            nn.ReLU(),\n",
    "            nn.Dropout(dropout_rate / 2),\n",
    "            nn.Linear(96, 2),     # From error: torch.Size([2, 96])\n",
    "            nn.Sigmoid()\n",
    "        )\n",
    "        \n",
    "        # Initialize weights\n",
    "        self._init_weights()\n",
    "    \n",
    "    def _init_weights(self):\n",
    "        \"\"\"Initialize regression head weights\"\"\"\n",
    "        for module in self.coordinate_regressor:\n",
    "            if isinstance(module, nn.Linear):\n",
    "                nn.init.xavier_uniform_(module.weight)\n",
    "                if module.bias is not None:\n",
    "                    nn.init.zeros_(module.bias)\n",
    "    \n",
    "    def forward(self, input_ids, attention_mask):\n",
    "        \"\"\"Forward pass with Sigmoid-constrained outputs\"\"\"\n",
    "        # Get DistilBERT embeddings\n",
    "        distilbert_outputs = self.distilbert(\n",
    "            input_ids=input_ids,\n",
    "            attention_mask=attention_mask,\n",
    "            return_dict=True\n",
    "        )\n",
    "        \n",
    "        # Use [CLS] token representation (last_hidden_state[:, 0])\n",
    "        cls_output = distilbert_outputs.last_hidden_state[:, 0]\n",
    "        \n",
    "        # Apply dropout\n",
    "        cls_output = self.dropout(cls_output)\n",
    "        \n",
    "        # Predict coordinates\n",
    "        coordinates = self.coordinate_regressor(cls_output)\n",
    "        \n",
    "        return coordinates\n",
    "\n",
    "print(\"✅ Model architecture defined!\")\n",
    "print(\"   🏗️ ImprovedMyanmarBertGeocoder class ready\")\n",
    "print(\"   📊 Architecture: BERT + 4-layer regression head\")\n",
    "print(\"   🎯 Output: Sigmoid-constrained [0,1] coordinates\")"
   ]
  },
  {
   "cell_type": "code",
   "execution_count": 5,
   "id": "291507c9",
   "metadata": {},
   "outputs": [
    {
     "name": "stdout",
     "output_type": "stream",
     "text": [
      "✅ Utility functions defined!\n",
      "   🧮 haversine_distance: Geographic distance calculation\n",
      "   📍 denormalize_coordinates: Convert [0,1] to real coordinates\n",
      "   📊 calculate_accuracy_metrics: Comprehensive accuracy analysis\n",
      "   🎯 Updated accuracy thresholds: 1, 5, 10, 50, 60, 70 km\n"
     ]
    }
   ],
   "source": [
    "# 🧮 Utility Functions\n",
    "def haversine_distance(lat1, lon1, lat2, lon2):\n",
    "    \"\"\"\n",
    "    Calculate the great circle distance between two points \n",
    "    on the earth (specified in decimal degrees)\n",
    "    Returns distance in kilometers\n",
    "    \"\"\"\n",
    "    # Convert decimal degrees to radians\n",
    "    lat1, lon1, lat2, lon2 = map(np.radians, [lat1, lon1, lat2, lon2])\n",
    "    \n",
    "    # Haversine formula\n",
    "    dlat = lat2 - lat1\n",
    "    dlon = lon2 - lon1\n",
    "    a = np.sin(dlat/2)**2 + np.cos(lat1) * np.cos(lat2) * np.sin(dlon/2)**2\n",
    "    c = 2 * np.arcsin(np.sqrt(a))\n",
    "    \n",
    "    # Radius of earth in kilometers\n",
    "    r = 6371\n",
    "    \n",
    "    return c * r\n",
    "\n",
    "def denormalize_coordinates(normalized_coords, lat_scaler_info, lon_scaler_info):\n",
    "    \"\"\"\n",
    "    Convert normalized coordinates back to real lat/lon\n",
    "    \"\"\"\n",
    "    # Extract scaler parameters\n",
    "    lat_min, lat_scale = lat_scaler_info['min'], lat_scaler_info['scale']\n",
    "    lon_min, lon_scale = lon_scaler_info['min'], lon_scaler_info['scale']\n",
    "    \n",
    "    # Denormalize\n",
    "    latitude = (normalized_coords[:, 0] / lat_scale) + lat_min\n",
    "    longitude = (normalized_coords[:, 1] / lon_scale) + lon_min\n",
    "    \n",
    "    return latitude, longitude\n",
    "\n",
    "def calculate_accuracy_metrics(predictions, ground_truth):\n",
    "    \"\"\"\n",
    "    Calculate various accuracy metrics for geocoding\n",
    "    \"\"\"\n",
    "    # Calculate distances in kilometers\n",
    "    distances = []\n",
    "    for i in range(len(predictions)):\n",
    "        pred_lat, pred_lon = predictions[i]\n",
    "        true_lat, true_lon = ground_truth[i]\n",
    "        \n",
    "        distance = haversine_distance(pred_lat, pred_lon, true_lat, true_lon)\n",
    "        distances.append(distance)\n",
    "    \n",
    "    distances = np.array(distances)\n",
    "    \n",
    "    metrics = {\n",
    "        'mean_error_km': np.mean(distances),\n",
    "        'median_error_km': np.median(distances),\n",
    "        'std_error_km': np.std(distances),\n",
    "        'max_error_km': np.max(distances),\n",
    "        'min_error_km': np.min(distances),\n",
    "        'accuracy_1km': np.sum(distances <= 1) / len(distances) * 100,\n",
    "        'accuracy_5km': np.sum(distances <= 5) / len(distances) * 100,\n",
    "        'accuracy_10km': np.sum(distances <= 10) / len(distances) * 100,\n",
    "        'accuracy_50km': np.sum(distances <= 50) / len(distances) * 100,\n",
    "        'accuracy_60km': np.sum(distances <= 60) / len(distances) * 100,\n",
    "        'accuracy_70km': np.sum(distances <= 70) / len(distances) * 100\n",
    "    }\n",
    "    \n",
    "    return metrics, distances\n",
    "\n",
    "print(\"✅ Utility functions defined!\")\n",
    "print(\"   🧮 haversine_distance: Geographic distance calculation\")\n",
    "print(\"   📍 denormalize_coordinates: Convert [0,1] to real coordinates\")\n",
    "print(\"   📊 calculate_accuracy_metrics: Comprehensive accuracy analysis\")\n",
    "print(\"   🎯 Updated accuracy thresholds: 1, 5, 10, 50, 60, 70 km\")"
   ]
  },
  {
   "cell_type": "code",
   "execution_count": 6,
   "id": "78650116",
   "metadata": {},
   "outputs": [
    {
     "name": "stdout",
     "output_type": "stream",
     "text": [
      "📁 Loading trained models and preprocessing information...\n",
      "\n",
      "🤖 BERT Model Training Results:\n",
      "   📊 Final Training Loss: 56.69 km\n",
      "   📊 Final Validation Loss: 51.02 km\n",
      "   🎯 Final Geographic Loss: 56.69 km\n",
      "   ⏱️ Epochs Completed: 2\n",
      "\n",
      "⚡ DistilBERT Model Training Results:\n",
      "   📊 Final Training Loss: 62.30 km\n",
      "   📊 Final Validation Loss: 59.72 km\n",
      "   🎯 Final Geographic Loss: 66.36 km\n",
      "   ⏱️ Epochs Completed: 2\n",
      "\n",
      "📍 Coordinate Range Information:\n",
      "   🌐 Latitude Range: [9.94963, 28.1687107086182]\n",
      "   🌐 Longitude Range: [92.1836929321289, 101.12178894238752]\n",
      "   📊 Training Dataset: 610,430 samples\n",
      "✅ Model information loaded successfully!\n"
     ]
    }
   ],
   "source": [
    "# 📁 Load Model Files and Training History\n",
    "print(\"📁 Loading trained models and preprocessing information...\")\n",
    "\n",
    "# Load training histories\n",
    "with open('bert_training_history.json', 'r') as f:\n",
    "    bert_history = json.load(f)\n",
    "\n",
    "with open('distilbert_training_history.json', 'r') as f:\n",
    "    distilbert_history = json.load(f)\n",
    "\n",
    "# Load preprocessing information\n",
    "with open('bert_preprocessing_info.json', 'r') as f:\n",
    "    bert_preprocessing = json.load(f)\n",
    "\n",
    "with open('distilbert_preprocessing_info.json', 'r') as f:\n",
    "    distilbert_preprocessing = json.load(f)\n",
    "\n",
    "# Display model training summary\n",
    "print(\"\\n🤖 BERT Model Training Results:\")\n",
    "print(f\"   📊 Final Training Loss: {bert_history['train_losses'][-1]:.2f} km\")\n",
    "print(f\"   📊 Final Validation Loss: {bert_history['val_losses'][-1]:.2f} km\")\n",
    "print(f\"   🎯 Final Geographic Loss: {bert_history['val_geo_losses'][-1]:.2f} km\")\n",
    "print(f\"   ⏱️ Epochs Completed: {bert_history['epochs_completed']}\")\n",
    "\n",
    "print(\"\\n⚡ DistilBERT Model Training Results:\")\n",
    "print(f\"   📊 Final Training Loss: {distilbert_history['train_losses'][-1]:.2f} km\")\n",
    "print(f\"   📊 Final Validation Loss: {distilbert_history['val_losses'][-1]:.2f} km\")\n",
    "print(f\"   🎯 Final Geographic Loss: {distilbert_history['val_geo_losses'][-1]:.2f} km\")\n",
    "print(f\"   ⏱️ Epochs Completed: {distilbert_history['epochs_completed']}\")\n",
    "\n",
    "# Extract coordinate scaling information\n",
    "lat_scaler_info = {\n",
    "    'min': bert_preprocessing['lat_scaler_min'],\n",
    "    'scale': bert_preprocessing['lat_scaler_scale']\n",
    "}\n",
    "\n",
    "lon_scaler_info = {\n",
    "    'min': bert_preprocessing['lon_scaler_min'], \n",
    "    'scale': bert_preprocessing['lon_scaler_scale']\n",
    "}\n",
    "\n",
    "print(f\"\\n📍 Coordinate Range Information:\")\n",
    "print(f\"   🌐 Latitude Range: {bert_preprocessing['original_lat_range']}\")\n",
    "print(f\"   🌐 Longitude Range: {bert_preprocessing['original_lon_range']}\")\n",
    "print(f\"   📊 Training Dataset: {bert_preprocessing['total_samples']:,} samples\")\n",
    "\n",
    "print(\"✅ Model information loaded successfully!\")"
   ]
  },
  {
   "cell_type": "code",
   "execution_count": 7,
   "id": "b9fe0b52",
   "metadata": {},
   "outputs": [
    {
     "name": "stdout",
     "output_type": "stream",
     "text": [
      "🤖 Loading trained models...\n",
      "✅ BERT model loaded successfully!\n",
      "✅ BERT model loaded successfully!\n",
      "✅ DistilBERT model loaded successfully!\n",
      "\n",
      "📊 BERT Model Statistics:\n",
      "   🤖 Parameters: 178,411,650\n",
      "   💾 Size: ~680.6 MB\n",
      "\n",
      "📊 DistilBERT Model Statistics:\n",
      "   ⚡ Parameters: 135,122,018\n",
      "   💾 Size: ~515.4 MB\n",
      "\n",
      "🖥️ Device: cpu\n",
      "\n",
      "🧪 Testing models with: 'ရန်ကုန်မြို့ တာမွေ မြို့နယ်'\n",
      "✅ DistilBERT model loaded successfully!\n",
      "\n",
      "📊 BERT Model Statistics:\n",
      "   🤖 Parameters: 178,411,650\n",
      "   💾 Size: ~680.6 MB\n",
      "\n",
      "📊 DistilBERT Model Statistics:\n",
      "   ⚡ Parameters: 135,122,018\n",
      "   💾 Size: ~515.4 MB\n",
      "\n",
      "🖥️ Device: cpu\n",
      "\n",
      "🧪 Testing models with: 'ရန်ကုန်မြို့ တာမွေ မြို့နယ်'\n",
      "   🤖 BERT Prediction: [0.3904, 0.4423]\n",
      "   ⚡ DistilBERT Prediction: [0.4159, 0.4362]\n",
      "✅ Models ready for testing!\n",
      "   🤖 BERT Prediction: [0.3904, 0.4423]\n",
      "   ⚡ DistilBERT Prediction: [0.4159, 0.4362]\n",
      "✅ Models ready for testing!\n"
     ]
    }
   ],
   "source": [
    "# 🤖 Load and Initialize Trained Models\n",
    "print(\"🤖 Loading trained models...\")\n",
    "\n",
    "# Initialize tokenizers\n",
    "bert_tokenizer = AutoTokenizer.from_pretrained('bert-base-multilingual-cased')\n",
    "distilbert_tokenizer = AutoTokenizer.from_pretrained('distilbert-base-multilingual-cased')\n",
    "\n",
    "# Initialize models with correct architectures\n",
    "bert_model = ImprovedMyanmarBertGeocoder('bert-base-multilingual-cased')\n",
    "distilbert_model = ImprovedMyanmarDistilBertGeocoder('distilbert-base-multilingual-cased')\n",
    "\n",
    "# Load trained weights\n",
    "try:\n",
    "    # Load BERT model\n",
    "    bert_checkpoint = torch.load('bert_model.pt', map_location=device)\n",
    "    bert_model.load_state_dict(bert_checkpoint['model_state_dict'])\n",
    "    bert_model = bert_model.to(device)\n",
    "    bert_model.eval()\n",
    "    print(\"✅ BERT model loaded successfully!\")\n",
    "    bert_loaded = True\n",
    "    \n",
    "except Exception as e:\n",
    "    print(f\"❌ Error loading BERT model: {str(e)}\")\n",
    "    bert_loaded = False\n",
    "\n",
    "try:\n",
    "    # Load DistilBERT model\n",
    "    distilbert_checkpoint = torch.load('distilbert_model.pt', map_location=device)\n",
    "    distilbert_model.load_state_dict(distilbert_checkpoint['model_state_dict'])\n",
    "    distilbert_model = distilbert_model.to(device)\n",
    "    distilbert_model.eval()\n",
    "    print(\"✅ DistilBERT model loaded successfully!\")\n",
    "    distilbert_loaded = True\n",
    "    \n",
    "except Exception as e:\n",
    "    print(f\"❌ Error loading DistilBERT model: {str(e)}\")\n",
    "    distilbert_loaded = False\n",
    "\n",
    "models_loaded = bert_loaded or distilbert_loaded\n",
    "\n",
    "if models_loaded:\n",
    "    # Count parameters\n",
    "    if bert_loaded:\n",
    "        bert_params = sum(p.numel() for p in bert_model.parameters())\n",
    "        print(f\"\\n📊 BERT Model Statistics:\")\n",
    "        print(f\"   🤖 Parameters: {bert_params:,}\")\n",
    "        print(f\"   💾 Size: ~{bert_params * 4 / 1024**2:.1f} MB\")\n",
    "    \n",
    "    if distilbert_loaded:\n",
    "        distilbert_params = sum(p.numel() for p in distilbert_model.parameters())\n",
    "        print(f\"\\n📊 DistilBERT Model Statistics:\")\n",
    "        print(f\"   ⚡ Parameters: {distilbert_params:,}\")\n",
    "        print(f\"   💾 Size: ~{distilbert_params * 4 / 1024**2:.1f} MB\")\n",
    "    \n",
    "    print(f\"\\n🖥️ Device: {device}\")\n",
    "    \n",
    "    # Test models with sample input\n",
    "    sample_text = \"ရန်ကုန်မြို့ တာမွေ မြို့နယ်\"\n",
    "    print(f\"\\n🧪 Testing models with: '{sample_text}'\")\n",
    "    \n",
    "    with torch.no_grad():\n",
    "        if bert_loaded:\n",
    "            # BERT prediction\n",
    "            bert_inputs = bert_tokenizer(sample_text, return_tensors='pt', max_length=128, padding='max_length', truncation=True)\n",
    "            bert_inputs = {k: v.to(device) for k, v in bert_inputs.items()}\n",
    "            bert_pred = bert_model(bert_inputs['input_ids'], bert_inputs['attention_mask'])\n",
    "            print(f\"   🤖 BERT Prediction: [{bert_pred[0][0].item():.4f}, {bert_pred[0][1].item():.4f}]\")\n",
    "        \n",
    "        if distilbert_loaded:\n",
    "            # DistilBERT prediction  \n",
    "            distilbert_inputs = distilbert_tokenizer(sample_text, return_tensors='pt', max_length=128, padding='max_length', truncation=True)\n",
    "            distilbert_inputs = {k: v.to(device) for k, v in distilbert_inputs.items()}\n",
    "            distilbert_pred = distilbert_model(distilbert_inputs['input_ids'], distilbert_inputs['attention_mask'])\n",
    "            print(f\"   ⚡ DistilBERT Prediction: [{distilbert_pred[0][0].item():.4f}, {distilbert_pred[0][1].item():.4f}]\")\n",
    "    \n",
    "    print(\"✅ Models ready for testing!\")\n",
    "    \n",
    "    # Update availability flags for later use\n",
    "    if not bert_loaded:\n",
    "        bert_model = None\n",
    "    if not distilbert_loaded:\n",
    "        distilbert_model = None\n",
    "        \n",
    "else:\n",
    "    print(\"❌ No models could be loaded. Check model files and architecture compatibility.\")"
   ]
  },
  {
   "cell_type": "code",
   "execution_count": 8,
   "id": "d1800b2e",
   "metadata": {},
   "outputs": [
    {
     "name": "stdout",
     "output_type": "stream",
     "text": [
      "📍 Loading ground truth test addresses...\n",
      "✅ Test data loaded successfully!\n",
      "   📊 Total test samples: 100\n",
      "   🌐 Latitude range: 9.9958 to 26.3560\n",
      "   🌐 Longitude range: 92.8677 to 99.2508\n",
      "\n",
      "📝 Sample Test Addresses:\n",
      "   1. အမှတ် ၄၁၈၊ သမာဓိ(၁)လမ်း၊ ၈ ရပ်ကွက်၊ မရမ်းကုန်းမြို့နယ်၊ ရန်က...\n",
      "      → (16.868455, 96.164630)\n",
      "   2. အမှတ် ၄၆၉၊ လမ်း ၂၀၊ ၁၃ ရပ်ကွက်၊ တောင်ဥက္ကလာပမြို့နယ်၊ ရန်ကုန...\n",
      "      → (16.843366, 96.197806)\n",
      "   3. အမှတ် ၉၊ ဘောဂသိဒ္ဓိလမ်း၊ သမိုင်း ၂ ရပ်ကွက်၊ မရမ်းကုန်းမြို့န...\n",
      "      → (16.864005, 96.116918)\n",
      "   4. SH - ၁၀၅၊ သစ္စာဥယျာဉ်အိမ်ရာ၊ သစ္စာလမ်း၊ (၈) ရပ်ကွက်၊ တောင်ဥက...\n",
      "      → (16.864377, 96.156210)\n",
      "   5. အမှတ် ၃၅၇၊ မာန်ပြေ(၈)လမ်း၊ ၃ရပ်ကွက်၊ သာကေတမြို့နယ်၊ ရန်ကုန်တ...\n",
      "      → (16.778940, 96.193258)\n",
      "\n",
      "📊 Geographic Distribution:\n",
      "   🗺️ Address Regions: Primarily Yangon area\n",
      "   📍 Coordinate precision: 6+ decimal places\n",
      "   🎯 Target accuracy: <5 km average error\n"
     ]
    },
    {
     "data": {
      "text/html": [
       "<div>\n",
       "<style scoped>\n",
       "    .dataframe tbody tr th:only-of-type {\n",
       "        vertical-align: middle;\n",
       "    }\n",
       "\n",
       "    .dataframe tbody tr th {\n",
       "        vertical-align: top;\n",
       "    }\n",
       "\n",
       "    .dataframe thead th {\n",
       "        text-align: right;\n",
       "    }\n",
       "</style>\n",
       "<table border=\"1\" class=\"dataframe\">\n",
       "  <thead>\n",
       "    <tr style=\"text-align: right;\">\n",
       "      <th></th>\n",
       "      <th>address</th>\n",
       "      <th>latitude</th>\n",
       "      <th>longitude</th>\n",
       "    </tr>\n",
       "  </thead>\n",
       "  <tbody>\n",
       "    <tr>\n",
       "      <th>0</th>\n",
       "      <td>အမှတ် ၄၁၈၊ သမာဓိ(၁)လမ်း၊ ၈ ရပ်ကွက်၊ မရမ်းကုန်း...</td>\n",
       "      <td>16.868455</td>\n",
       "      <td>96.164630</td>\n",
       "    </tr>\n",
       "    <tr>\n",
       "      <th>1</th>\n",
       "      <td>အမှတ် ၄၆၉၊ လမ်း ၂၀၊ ၁၃ ရပ်ကွက်၊ တောင်ဥက္ကလာပမြ...</td>\n",
       "      <td>16.843366</td>\n",
       "      <td>96.197806</td>\n",
       "    </tr>\n",
       "    <tr>\n",
       "      <th>2</th>\n",
       "      <td>အမှတ် ၉၊ ဘောဂသိဒ္ဓိလမ်း၊ သမိုင်း ၂ ရပ်ကွက်၊ မရ...</td>\n",
       "      <td>16.864005</td>\n",
       "      <td>96.116918</td>\n",
       "    </tr>\n",
       "    <tr>\n",
       "      <th>3</th>\n",
       "      <td>SH - ၁၀၅၊ သစ္စာဥယျာဉ်အိမ်ရာ၊ သစ္စာလမ်း၊ (၈) ရပ...</td>\n",
       "      <td>16.864377</td>\n",
       "      <td>96.156210</td>\n",
       "    </tr>\n",
       "    <tr>\n",
       "      <th>4</th>\n",
       "      <td>အမှတ် ၃၅၇၊ မာန်ပြေ(၈)လမ်း၊ ၃ရပ်ကွက်၊ သာကေတမြို...</td>\n",
       "      <td>16.778940</td>\n",
       "      <td>96.193258</td>\n",
       "    </tr>\n",
       "  </tbody>\n",
       "</table>\n",
       "</div>"
      ],
      "text/plain": [
       "                                             address   latitude  longitude\n",
       "0  အမှတ် ၄၁၈၊ သမာဓိ(၁)လမ်း၊ ၈ ရပ်ကွက်၊ မရမ်းကုန်း...  16.868455  96.164630\n",
       "1  အမှတ် ၄၆၉၊ လမ်း ၂၀၊ ၁၃ ရပ်ကွက်၊ တောင်ဥက္ကလာပမြ...  16.843366  96.197806\n",
       "2  အမှတ် ၉၊ ဘောဂသိဒ္ဓိလမ်း၊ သမိုင်း ၂ ရပ်ကွက်၊ မရ...  16.864005  96.116918\n",
       "3  SH - ၁၀၅၊ သစ္စာဥယျာဉ်အိမ်ရာ၊ သစ္စာလမ်း၊ (၈) ရပ...  16.864377  96.156210\n",
       "4  အမှတ် ၃၅၇၊ မာန်ပြေ(၈)လမ်း၊ ၃ရပ်ကွက်၊ သာကေတမြို...  16.778940  96.193258"
      ]
     },
     "execution_count": 8,
     "metadata": {},
     "output_type": "execute_result"
    }
   ],
   "source": [
    "# 📍 Load Ground Truth Test Data\n",
    "print(\"📍 Loading ground truth test addresses...\")\n",
    "\n",
    "# Load test data\n",
    "test_df = pd.read_csv('ground_truth_test_address.csv')\n",
    "\n",
    "print(f\"✅ Test data loaded successfully!\")\n",
    "print(f\"   📊 Total test samples: {len(test_df):,}\")\n",
    "print(f\"   🌐 Latitude range: {test_df['latitude'].min():.4f} to {test_df['latitude'].max():.4f}\")\n",
    "print(f\"   🌐 Longitude range: {test_df['longitude'].min():.4f} to {test_df['longitude'].max():.4f}\")\n",
    "\n",
    "# Display sample addresses\n",
    "print(f\"\\n📝 Sample Test Addresses:\")\n",
    "for i in range(min(5, len(test_df))):\n",
    "    address = test_df.iloc[i]['address']\n",
    "    lat, lon = test_df.iloc[i]['latitude'], test_df.iloc[i]['longitude']\n",
    "    print(f\"   {i+1}. {address[:60]}...\" if len(address) > 60 else f\"   {i+1}. {address}\")\n",
    "    print(f\"      → ({lat:.6f}, {lon:.6f})\")\n",
    "\n",
    "# Basic statistics\n",
    "print(f\"\\n📊 Geographic Distribution:\")\n",
    "print(f\"   🗺️ Address Regions: Primarily Yangon area\")\n",
    "print(f\"   📍 Coordinate precision: 6+ decimal places\")\n",
    "print(f\"   🎯 Target accuracy: <5 km average error\")\n",
    "\n",
    "test_df.head()"
   ]
  },
  {
   "cell_type": "code",
   "execution_count": 9,
   "id": "79e192a4",
   "metadata": {},
   "outputs": [
    {
     "name": "stdout",
     "output_type": "stream",
     "text": [
      "✅ Prediction functions defined!\n",
      "   🎯 predict_address_location: Single address prediction\n",
      "   📊 batch_predict: Efficient batch processing\n",
      "   🛡️ Added None model handling for robust operation\n"
     ]
    }
   ],
   "source": [
    "# 🎯 Model Prediction Function\n",
    "def predict_address_location(address, model, tokenizer, model_name):\n",
    "    \"\"\"\n",
    "    Predict coordinates for a given address using the specified model\n",
    "    \"\"\"\n",
    "    if model is None:\n",
    "        return None, None\n",
    "        \n",
    "    model.eval()\n",
    "    with torch.no_grad():\n",
    "        # Tokenize input\n",
    "        inputs = tokenizer(\n",
    "            address,\n",
    "            return_tensors='pt',\n",
    "            max_length=128,\n",
    "            padding='max_length',\n",
    "            truncation=True\n",
    "        )\n",
    "        \n",
    "        # Move to device\n",
    "        inputs = {k: v.to(device) for k, v in inputs.items()}\n",
    "        \n",
    "        # Get prediction\n",
    "        normalized_coords = model(inputs['input_ids'], inputs['attention_mask'])\n",
    "        \n",
    "        # Denormalize coordinates\n",
    "        lat, lon = denormalize_coordinates(\n",
    "            normalized_coords.cpu().numpy(),\n",
    "            lat_scaler_info,\n",
    "            lon_scaler_info\n",
    "        )\n",
    "        \n",
    "        return float(lat[0]), float(lon[0])\n",
    "\n",
    "def batch_predict(addresses, model, tokenizer, model_name, batch_size=8):\n",
    "    \"\"\"\n",
    "    Batch prediction for multiple addresses\n",
    "    \"\"\"\n",
    "    if model is None:\n",
    "        return None\n",
    "        \n",
    "    predictions = []\n",
    "    model.eval()\n",
    "    \n",
    "    with torch.no_grad():\n",
    "        for i in range(0, len(addresses), batch_size):\n",
    "            batch_addresses = addresses[i:i+batch_size]\n",
    "            \n",
    "            # Tokenize batch\n",
    "            inputs = tokenizer(\n",
    "                batch_addresses,\n",
    "                return_tensors='pt',\n",
    "                max_length=128,\n",
    "                padding='max_length',\n",
    "                truncation=True\n",
    "            )\n",
    "            \n",
    "            # Move to device\n",
    "            inputs = {k: v.to(device) for k, v in inputs.items()}\n",
    "            \n",
    "            # Get predictions\n",
    "            normalized_coords = model(inputs['input_ids'], inputs['attention_mask'])\n",
    "            \n",
    "            # Denormalize coordinates\n",
    "            lats, lons = denormalize_coordinates(\n",
    "                normalized_coords.cpu().numpy(),\n",
    "                lat_scaler_info,\n",
    "                lon_scaler_info\n",
    "            )\n",
    "            \n",
    "            # Add to predictions\n",
    "            for lat, lon in zip(lats, lons):\n",
    "                predictions.append((float(lat), float(lon)))\n",
    "    \n",
    "    return predictions\n",
    "\n",
    "print(\"✅ Prediction functions defined!\")\n",
    "print(\"   🎯 predict_address_location: Single address prediction\")\n",
    "print(\"   📊 batch_predict: Efficient batch processing\")\n",
    "print(\"   🛡️ Added None model handling for robust operation\")"
   ]
  },
  {
   "cell_type": "code",
   "execution_count": 16,
   "id": "c5e82fe3",
   "metadata": {},
   "outputs": [
    {
     "name": "stdout",
     "output_type": "stream",
     "text": [
      "📊 Evaluating available models on ground truth test data...\n",
      "🧪 Testing on 100 addresses...\n",
      "🤖 Running BERT predictions...\n",
      "⚡ Running DistilBERT predictions...\n",
      "⚡ Running DistilBERT predictions...\n",
      "\n",
      "🎯 EVALUATION RESULTS\n",
      "==================================================\n",
      "\n",
      "🤖 BERT Model Performance:\n",
      "   📊 Mean Error: 49.90 km\n",
      "   📊 Median Error: 33.82 km\n",
      "   📊 Std Error: 58.08 km\n",
      "   🎯 Accuracy <1km: 0.0%\n",
      "   🎯 Accuracy <5km: 0.0%\n",
      "   🎯 Accuracy <10km: 5.0%\n",
      "   🎯 Accuracy <50km: 76.0%\n",
      "   🎯 Accuracy <60km: 86.0%\n",
      "   🎯 Accuracy <70km: 87.0%\n",
      "\n",
      "⚡ DistilBERT Model Performance:\n",
      "   📊 Mean Error: 82.80 km\n",
      "   📊 Median Error: 51.83 km\n",
      "   📊 Std Error: 117.34 km\n",
      "   🎯 Accuracy <1km: 0.0%\n",
      "   🎯 Accuracy <5km: 0.0%\n",
      "   🎯 Accuracy <10km: 3.0%\n",
      "   🎯 Accuracy <50km: 40.0%\n",
      "   🎯 Accuracy <60km: 69.0%\n",
      "   🎯 Accuracy <70km: 77.0%\n",
      "\n",
      "🏆 Winner: BERT (Better by 32.90 km)\n",
      "\n",
      "📝 Sample Predictions (First 10):\n",
      "\n",
      "   1. အမှတ် ၄၁၈၊ သမာဓိ(၁)လမ်း၊ ၈ ရပ်ကွက်၊ မရမ်းကုန်းမြို...\n",
      "      🎯 True: (16.8685, 96.1646)\n",
      "      🤖 BERT: (17.0973, 96.0990) - Error: 26.38 km\n",
      "      ⚡ DistilBERT: (17.3077, 96.1712) - Error: 48.85 km\n",
      "\n",
      "   2. အမှတ် ၄၆၉၊ လမ်း ၂၀၊ ၁၃ ရပ်ကွက်၊ တောင်ဥက္ကလာပမြို့န...\n",
      "      🎯 True: (16.8434, 96.1978)\n",
      "      🤖 BERT: (17.1469, 96.0863) - Error: 35.78 km\n",
      "      ⚡ DistilBERT: (17.2960, 96.2028) - Error: 50.33 km\n",
      "\n",
      "   3. အမှတ် ၉၊ ဘောဂသိဒ္ဓိလမ်း၊ သမိုင်း ၂ ရပ်ကွက်၊ မရမ်းက...\n",
      "      🎯 True: (16.8640, 96.1169)\n",
      "      🤖 BERT: (17.0722, 96.1013) - Error: 23.21 km\n",
      "      ⚡ DistilBERT: (17.2381, 96.1942) - Error: 42.41 km\n",
      "\n",
      "   4. SH - ၁၀၅၊ သစ္စာဥယျာဉ်အိမ်ရာ၊ သစ္စာလမ်း၊ (၈) ရပ်ကွက...\n",
      "      🎯 True: (16.8644, 96.1562)\n",
      "      🤖 BERT: (17.1362, 96.0813) - Error: 31.25 km\n",
      "      ⚡ DistilBERT: (17.3112, 96.1934) - Error: 49.84 km\n",
      "\n",
      "   5. အမှတ် ၃၅၇၊ မာန်ပြေ(၈)လမ်း၊ ၃ရပ်ကွက်၊ သာကေတမြို့နယ်...\n",
      "      🎯 True: (16.7789, 96.1933)\n",
      "      🤖 BERT: (17.1075, 96.1544) - Error: 36.77 km\n",
      "      ⚡ DistilBERT: (17.3721, 96.2548) - Error: 66.28 km\n",
      "\n",
      "   6. တိုက် ၁၊ အခန်း ၃၀၃၊ သစ္စာဥယျာဉ်အိမ်ရာ၊ ၈ ရပ်ကွက်၊ ...\n",
      "      🎯 True: (16.8644, 96.1562)\n",
      "      🤖 BERT: (17.0984, 96.1028) - Error: 26.63 km\n",
      "      ⚡ DistilBERT: (17.3227, 96.1908) - Error: 51.10 km\n",
      "\n",
      "   7. အမှတ် ၃၄၊ ပ ထပ်၊ ဦးအောင်ဘလမ်း၊ ဆရာစံတောင်ရပ်ကွက်၊ ...\n",
      "      🎯 True: (16.8237, 96.1648)\n",
      "      🤖 BERT: (17.0939, 96.0913) - Error: 31.05 km\n",
      "      ⚡ DistilBERT: (17.2849, 96.2463) - Error: 52.01 km\n",
      "\n",
      "   8. အမှတ် ၁၀၊ မြေညီထပ်၊ နွယ်သာကီလမ်း၊ စောရန်ပိုင်အနောက...\n",
      "      🎯 True: (16.7782, 96.1366)\n",
      "      🤖 BERT: (17.1495, 96.0851) - Error: 41.65 km\n",
      "      ⚡ DistilBERT: (17.3039, 96.2201) - Error: 59.12 km\n",
      "\n",
      "   9. အမှတ် ၃၊ ပထပ်၊ စံရိပ်ငြိမ်(၆)လမ်း၊ ၂ ရပ်ကွက်၊ ကမာရ...\n",
      "      🎯 True: (16.8335, 96.1308)\n",
      "      🤖 BERT: (17.0319, 95.9910) - Error: 26.60 km\n",
      "      ⚡ DistilBERT: (17.2597, 96.2423) - Error: 48.85 km\n",
      "\n",
      "   10. အမှတ် ၇၉၅၊ မာဃလမ်း၊ ၁၂ ရပ်ကွက်၊ တောင်ဥက္ကလာပမြို့န...\n",
      "      🎯 True: (16.7942, 96.2170)\n",
      "      🤖 BERT: (17.1358, 96.0813) - Error: 40.63 km\n",
      "      ⚡ DistilBERT: (17.2789, 96.1779) - Error: 54.06 km\n",
      "\n",
      "✅ Model evaluation completed!\n",
      "\n",
      "🎯 EVALUATION RESULTS\n",
      "==================================================\n",
      "\n",
      "🤖 BERT Model Performance:\n",
      "   📊 Mean Error: 49.90 km\n",
      "   📊 Median Error: 33.82 km\n",
      "   📊 Std Error: 58.08 km\n",
      "   🎯 Accuracy <1km: 0.0%\n",
      "   🎯 Accuracy <5km: 0.0%\n",
      "   🎯 Accuracy <10km: 5.0%\n",
      "   🎯 Accuracy <50km: 76.0%\n",
      "   🎯 Accuracy <60km: 86.0%\n",
      "   🎯 Accuracy <70km: 87.0%\n",
      "\n",
      "⚡ DistilBERT Model Performance:\n",
      "   📊 Mean Error: 82.80 km\n",
      "   📊 Median Error: 51.83 km\n",
      "   📊 Std Error: 117.34 km\n",
      "   🎯 Accuracy <1km: 0.0%\n",
      "   🎯 Accuracy <5km: 0.0%\n",
      "   🎯 Accuracy <10km: 3.0%\n",
      "   🎯 Accuracy <50km: 40.0%\n",
      "   🎯 Accuracy <60km: 69.0%\n",
      "   🎯 Accuracy <70km: 77.0%\n",
      "\n",
      "🏆 Winner: BERT (Better by 32.90 km)\n",
      "\n",
      "📝 Sample Predictions (First 10):\n",
      "\n",
      "   1. အမှတ် ၄၁၈၊ သမာဓိ(၁)လမ်း၊ ၈ ရပ်ကွက်၊ မရမ်းကုန်းမြို...\n",
      "      🎯 True: (16.8685, 96.1646)\n",
      "      🤖 BERT: (17.0973, 96.0990) - Error: 26.38 km\n",
      "      ⚡ DistilBERT: (17.3077, 96.1712) - Error: 48.85 km\n",
      "\n",
      "   2. အမှတ် ၄၆၉၊ လမ်း ၂၀၊ ၁၃ ရပ်ကွက်၊ တောင်ဥက္ကလာပမြို့န...\n",
      "      🎯 True: (16.8434, 96.1978)\n",
      "      🤖 BERT: (17.1469, 96.0863) - Error: 35.78 km\n",
      "      ⚡ DistilBERT: (17.2960, 96.2028) - Error: 50.33 km\n",
      "\n",
      "   3. အမှတ် ၉၊ ဘောဂသိဒ္ဓိလမ်း၊ သမိုင်း ၂ ရပ်ကွက်၊ မရမ်းက...\n",
      "      🎯 True: (16.8640, 96.1169)\n",
      "      🤖 BERT: (17.0722, 96.1013) - Error: 23.21 km\n",
      "      ⚡ DistilBERT: (17.2381, 96.1942) - Error: 42.41 km\n",
      "\n",
      "   4. SH - ၁၀၅၊ သစ္စာဥယျာဉ်အိမ်ရာ၊ သစ္စာလမ်း၊ (၈) ရပ်ကွက...\n",
      "      🎯 True: (16.8644, 96.1562)\n",
      "      🤖 BERT: (17.1362, 96.0813) - Error: 31.25 km\n",
      "      ⚡ DistilBERT: (17.3112, 96.1934) - Error: 49.84 km\n",
      "\n",
      "   5. အမှတ် ၃၅၇၊ မာန်ပြေ(၈)လမ်း၊ ၃ရပ်ကွက်၊ သာကေတမြို့နယ်...\n",
      "      🎯 True: (16.7789, 96.1933)\n",
      "      🤖 BERT: (17.1075, 96.1544) - Error: 36.77 km\n",
      "      ⚡ DistilBERT: (17.3721, 96.2548) - Error: 66.28 km\n",
      "\n",
      "   6. တိုက် ၁၊ အခန်း ၃၀၃၊ သစ္စာဥယျာဉ်အိမ်ရာ၊ ၈ ရပ်ကွက်၊ ...\n",
      "      🎯 True: (16.8644, 96.1562)\n",
      "      🤖 BERT: (17.0984, 96.1028) - Error: 26.63 km\n",
      "      ⚡ DistilBERT: (17.3227, 96.1908) - Error: 51.10 km\n",
      "\n",
      "   7. အမှတ် ၃၄၊ ပ ထပ်၊ ဦးအောင်ဘလမ်း၊ ဆရာစံတောင်ရပ်ကွက်၊ ...\n",
      "      🎯 True: (16.8237, 96.1648)\n",
      "      🤖 BERT: (17.0939, 96.0913) - Error: 31.05 km\n",
      "      ⚡ DistilBERT: (17.2849, 96.2463) - Error: 52.01 km\n",
      "\n",
      "   8. အမှတ် ၁၀၊ မြေညီထပ်၊ နွယ်သာကီလမ်း၊ စောရန်ပိုင်အနောက...\n",
      "      🎯 True: (16.7782, 96.1366)\n",
      "      🤖 BERT: (17.1495, 96.0851) - Error: 41.65 km\n",
      "      ⚡ DistilBERT: (17.3039, 96.2201) - Error: 59.12 km\n",
      "\n",
      "   9. အမှတ် ၃၊ ပထပ်၊ စံရိပ်ငြိမ်(၆)လမ်း၊ ၂ ရပ်ကွက်၊ ကမာရ...\n",
      "      🎯 True: (16.8335, 96.1308)\n",
      "      🤖 BERT: (17.0319, 95.9910) - Error: 26.60 km\n",
      "      ⚡ DistilBERT: (17.2597, 96.2423) - Error: 48.85 km\n",
      "\n",
      "   10. အမှတ် ၇၉၅၊ မာဃလမ်း၊ ၁၂ ရပ်ကွက်၊ တောင်ဥက္ကလာပမြို့န...\n",
      "      🎯 True: (16.7942, 96.2170)\n",
      "      🤖 BERT: (17.1358, 96.0813) - Error: 40.63 km\n",
      "      ⚡ DistilBERT: (17.2789, 96.1779) - Error: 54.06 km\n",
      "\n",
      "✅ Model evaluation completed!\n"
     ]
    }
   ],
   "source": [
    "# 📊 Model Evaluation on Test Data\n",
    "if models_loaded:\n",
    "    print(\"📊 Evaluating available models on ground truth test data...\")\n",
    "    \n",
    "    # Get test addresses and ground truth coordinates\n",
    "    test_addresses = test_df['address'].tolist()\n",
    "    ground_truth = list(zip(test_df['latitude'], test_df['longitude']))\n",
    "    \n",
    "    print(f\"🧪 Testing on {len(test_addresses)} addresses...\")\n",
    "    \n",
    "    # Initialize results\n",
    "    results_df_data = {\n",
    "        'address': test_addresses,\n",
    "        'true_lat': [coord[0] for coord in ground_truth],\n",
    "        'true_lon': [coord[1] for coord in ground_truth]\n",
    "    }\n",
    "    \n",
    "    # BERT predictions\n",
    "    if bert_model is not None:\n",
    "        print(\"🤖 Running BERT predictions...\")\n",
    "        bert_predictions = batch_predict(test_addresses, bert_model, bert_tokenizer, \"BERT\")\n",
    "        if bert_predictions:\n",
    "            bert_metrics, bert_distances = calculate_accuracy_metrics(bert_predictions, ground_truth)\n",
    "            results_df_data.update({\n",
    "                'bert_lat': [pred[0] for pred in bert_predictions],\n",
    "                'bert_lon': [pred[1] for pred in bert_predictions],\n",
    "                'bert_error_km': bert_distances\n",
    "            })\n",
    "        else:\n",
    "            print(\"❌ BERT predictions failed\")\n",
    "    else:\n",
    "        print(\"⚠️ BERT model not available\")\n",
    "        bert_metrics = None\n",
    "        bert_predictions = None\n",
    "    \n",
    "    # DistilBERT predictions\n",
    "    if distilbert_model is not None:\n",
    "        print(\"⚡ Running DistilBERT predictions...\")\n",
    "        distilbert_predictions = batch_predict(test_addresses, distilbert_model, distilbert_tokenizer, \"DistilBERT\")\n",
    "        if distilbert_predictions:\n",
    "            distilbert_metrics, distilbert_distances = calculate_accuracy_metrics(distilbert_predictions, ground_truth)\n",
    "            results_df_data.update({\n",
    "                'distilbert_lat': [pred[0] for pred in distilbert_predictions],\n",
    "                'distilbert_lon': [pred[1] for pred in distilbert_predictions],\n",
    "                'distilbert_error_km': distilbert_distances\n",
    "            })\n",
    "        else:\n",
    "            print(\"❌ DistilBERT predictions failed\")\n",
    "    else:\n",
    "        print(\"⚠️ DistilBERT model not available\")\n",
    "        distilbert_metrics = None\n",
    "        distilbert_predictions = None\n",
    "    \n",
    "    # Create results DataFrame\n",
    "    results_df = pd.DataFrame(results_df_data)\n",
    "    \n",
    "    # Display results summary\n",
    "    print(\"\\n🎯 EVALUATION RESULTS\")\n",
    "    print(\"=\" * 50)\n",
    "    \n",
    "    if bert_metrics:\n",
    "        print(f\"\\n🤖 BERT Model Performance:\")\n",
    "        print(f\"   📊 Mean Error: {bert_metrics['mean_error_km']:.2f} km\")\n",
    "        print(f\"   📊 Median Error: {bert_metrics['median_error_km']:.2f} km\")\n",
    "        print(f\"   📊 Std Error: {bert_metrics['std_error_km']:.2f} km\")\n",
    "        print(f\"   🎯 Accuracy <1km: {bert_metrics['accuracy_1km']:.1f}%\")\n",
    "        print(f\"   🎯 Accuracy <5km: {bert_metrics['accuracy_5km']:.1f}%\")\n",
    "        print(f\"   🎯 Accuracy <10km: {bert_metrics['accuracy_10km']:.1f}%\")\n",
    "        print(f\"   🎯 Accuracy <50km: {bert_metrics['accuracy_50km']:.1f}%\")\n",
    "        print(f\"   🎯 Accuracy <60km: {bert_metrics['accuracy_60km']:.1f}%\")\n",
    "        print(f\"   🎯 Accuracy <70km: {bert_metrics['accuracy_70km']:.1f}%\")\n",
    "    \n",
    "    if distilbert_metrics:\n",
    "        print(f\"\\n⚡ DistilBERT Model Performance:\")\n",
    "        print(f\"   📊 Mean Error: {distilbert_metrics['mean_error_km']:.2f} km\")\n",
    "        print(f\"   📊 Median Error: {distilbert_metrics['median_error_km']:.2f} km\")\n",
    "        print(f\"   📊 Std Error: {distilbert_metrics['std_error_km']:.2f} km\")\n",
    "        print(f\"   🎯 Accuracy <1km: {distilbert_metrics['accuracy_1km']:.1f}%\")\n",
    "        print(f\"   🎯 Accuracy <5km: {distilbert_metrics['accuracy_5km']:.1f}%\")\n",
    "        print(f\"   🎯 Accuracy <10km: {distilbert_metrics['accuracy_10km']:.1f}%\")\n",
    "        print(f\"   🎯 Accuracy <50km: {distilbert_metrics['accuracy_50km']:.1f}%\")\n",
    "        print(f\"   🎯 Accuracy <60km: {distilbert_metrics['accuracy_60km']:.1f}%\")\n",
    "        print(f\"   🎯 Accuracy <70km: {distilbert_metrics['accuracy_70km']:.1f}%\")\n",
    "    \n",
    "    # Winner announcement (only if both models available)\n",
    "    if bert_metrics and distilbert_metrics:\n",
    "        better_model = \"BERT\" if bert_metrics['mean_error_km'] < distilbert_metrics['mean_error_km'] else \"DistilBERT\"\n",
    "        improvement = abs(bert_metrics['mean_error_km'] - distilbert_metrics['mean_error_km'])\n",
    "        print(f\"\\n🏆 Winner: {better_model} (Better by {improvement:.2f} km)\")\n",
    "    elif bert_metrics:\n",
    "        print(f\"\\n🤖 Only BERT model available for evaluation\")\n",
    "    elif distilbert_metrics:\n",
    "        print(f\"\\n⚡ Only DistilBERT model available for evaluation\")\n",
    "    \n",
    "    # Show top 10 results\n",
    "    print(f\"\\n📝 Sample Predictions (First 10):\")\n",
    "    for i in range(min(10, len(results_df))):\n",
    "        row = results_df.iloc[i]\n",
    "        print(f\"\\n   {i+1}. {row['address'][:50]}...\")\n",
    "        print(f\"      🎯 True: ({row['true_lat']:.4f}, {row['true_lon']:.4f})\")\n",
    "        \n",
    "        if 'bert_lat' in row and not pd.isna(row['bert_lat']):\n",
    "            print(f\"      🤖 BERT: ({row['bert_lat']:.4f}, {row['bert_lon']:.4f}) - Error: {row['bert_error_km']:.2f} km\")\n",
    "            \n",
    "        if 'distilbert_lat' in row and not pd.isna(row['distilbert_lat']):\n",
    "            print(f\"      ⚡ DistilBERT: ({row['distilbert_lat']:.4f}, {row['distilbert_lon']:.4f}) - Error: {row['distilbert_error_km']:.2f} km\")\n",
    "    \n",
    "    print(\"\\n✅ Model evaluation completed!\")\n",
    "else:\n",
    "    print(\"❌ No models loaded. Cannot perform evaluation.\")"
   ]
  },
  {
   "cell_type": "code",
   "execution_count": 17,
   "id": "95026082",
   "metadata": {},
   "outputs": [
    {
     "data": {
      "application/vnd.plotly.v1+json": {
       "config": {
        "plotlyServerURL": "https://plot.ly"
       },
       "data": [
        {
         "line": {
          "color": "blue",
          "width": 3
         },
         "marker": {
          "size": 8
         },
         "mode": "lines+markers",
         "name": "BERT Validation Loss",
         "type": "scatter",
         "x": [
          1,
          2,
          3,
          4,
          5,
          6,
          7,
          8,
          9,
          10,
          11,
          12,
          13,
          14,
          15
         ],
         "xaxis": "x",
         "y": [
          65.74889850616455,
          62.114105796813966,
          66.4138614654541,
          59.802764892578125,
          64.38217144012451,
          59.06921939849853,
          53.501427268981935,
          55.47773113250732,
          52.8958683013916,
          54.626555824279784,
          54.40447788238525,
          50.8872766494751,
          52.527328681945804,
          51.30149898529053,
          51.018472290039064
         ],
         "yaxis": "y"
        },
        {
         "line": {
          "color": "red",
          "width": 3
         },
         "marker": {
          "size": 8
         },
         "mode": "lines+markers",
         "name": "DistilBERT Validation Loss",
         "type": "scatter",
         "x": [
          1,
          2,
          3,
          4,
          5,
          6,
          7,
          8,
          9,
          10,
          11,
          12,
          13
         ],
         "xaxis": "x",
         "y": [
          75.7779712677002,
          74.21562538146972,
          75.0599292755127,
          70.83519477844239,
          71.40997695922852,
          67.36324043273926,
          63.420489120483396,
          61.79283199310303,
          64.20233535766602,
          59.99409103393555,
          59.03042125701904,
          59.8833101272583,
          59.72227764129639
         ],
         "yaxis": "y"
        },
        {
         "line": {
          "color": "darkblue",
          "width": 3
         },
         "marker": {
          "size": 8
         },
         "mode": "lines+markers",
         "name": "BERT Geographic Loss",
         "type": "scatter",
         "x": [
          1,
          2,
          3,
          4,
          5,
          6,
          7,
          8,
          9,
          10,
          11,
          12,
          13,
          14,
          15
         ],
         "xaxis": "x2",
         "y": [
          73.0540054321289,
          69.01539764404296,
          73.79290008544922,
          66.44726600646973,
          71.53548927307129,
          65.63222770690918,
          59.445810890197755,
          61.641710090637204,
          58.77297306060791,
          60.695959854125974,
          60.44921741485596,
          56.54122371673584,
          58.36350631713867,
          57.00147972106934,
          56.68700695037842
         ],
         "yaxis": "y3"
        },
        {
         "line": {
          "color": "darkred",
          "width": 3
         },
         "marker": {
          "size": 8
         },
         "mode": "lines+markers",
         "name": "DistilBERT Geographic Loss",
         "type": "scatter",
         "x": [
          1,
          2,
          3,
          4,
          5,
          6,
          7,
          8,
          9,
          10,
          11,
          12,
          13
         ],
         "xaxis": "x2",
         "y": [
          84.19738235473633,
          82.46149253845215,
          83.399613571167,
          78.70549240112305,
          79.34413986206054,
          74.8477783203125,
          70.46696186065674,
          68.65846138000488,
          71.33568420410157,
          66.659867477417,
          65.58913154602051,
          66.53679008483887,
          66.35786590576171
         ],
         "yaxis": "y3"
        },
        {
         "marker": {
          "color": "lightblue"
         },
         "name": "BERT Training",
         "text": [
          "80.5",
          "56.7"
         ],
         "textposition": "auto",
         "type": "bar",
         "x": [
          "Epoch 1",
          "Epoch 2"
         ],
         "xaxis": "x3",
         "y": [
          80.51839210421272,
          56.68505873022128
         ],
         "yaxis": "y5"
        },
        {
         "marker": {
          "color": "lightcoral"
         },
         "name": "DistilBERT Training",
         "text": [
          "87.7",
          "62.3"
         ],
         "textposition": "auto",
         "type": "bar",
         "x": [
          "Epoch 1",
          "Epoch 2"
         ],
         "xaxis": "x3",
         "y": [
          87.68806420699866,
          62.297708093288115
         ],
         "yaxis": "y5"
        },
        {
         "marker": {
          "color": [
           "blue",
           "red"
          ],
          "opacity": 0.7,
          "size": [
           20,
           15
          ]
         },
         "mode": "markers+text",
         "name": "Model Performance",
         "text": [
          "BERT",
          "DistilBERT"
         ],
         "textposition": "top center",
         "type": "scatter",
         "x": {
          "bdata": "wOyePCxNZkC/8EqS5+NgQA==",
          "dtype": "f8"
         },
         "xaxis": "x4",
         "y": {
          "bdata": "+pXWQ1/zSEBuRCI7X7NUQA==",
          "dtype": "f8"
         },
         "yaxis": "y6"
        }
       ],
       "layout": {
        "annotations": [
         {
          "font": {
           "size": 16
          },
          "showarrow": false,
          "text": "Validation Loss Comparison",
          "x": 0.185,
          "xanchor": "center",
          "xref": "paper",
          "y": 1,
          "yanchor": "bottom",
          "yref": "paper"
         },
         {
          "font": {
           "size": 16
          },
          "showarrow": false,
          "text": "Geographic Loss Comparison",
          "x": 0.7550000000000001,
          "xanchor": "center",
          "xref": "paper",
          "y": 1,
          "yanchor": "bottom",
          "yref": "paper"
         },
         {
          "font": {
           "size": 16
          },
          "showarrow": false,
          "text": "Training Progress",
          "x": 0.185,
          "xanchor": "center",
          "xref": "paper",
          "y": 0.375,
          "yanchor": "bottom",
          "yref": "paper"
         },
         {
          "font": {
           "size": 16
          },
          "showarrow": false,
          "text": "Model Size vs Performance",
          "x": 0.7550000000000001,
          "xanchor": "center",
          "xref": "paper",
          "y": 0.375,
          "yanchor": "bottom",
          "yref": "paper"
         }
        ],
        "height": 800,
        "showlegend": true,
        "template": {
         "data": {
          "bar": [
           {
            "error_x": {
             "color": "#2a3f5f"
            },
            "error_y": {
             "color": "#2a3f5f"
            },
            "marker": {
             "line": {
              "color": "#E5ECF6",
              "width": 0.5
             },
             "pattern": {
              "fillmode": "overlay",
              "size": 10,
              "solidity": 0.2
             }
            },
            "type": "bar"
           }
          ],
          "barpolar": [
           {
            "marker": {
             "line": {
              "color": "#E5ECF6",
              "width": 0.5
             },
             "pattern": {
              "fillmode": "overlay",
              "size": 10,
              "solidity": 0.2
             }
            },
            "type": "barpolar"
           }
          ],
          "carpet": [
           {
            "aaxis": {
             "endlinecolor": "#2a3f5f",
             "gridcolor": "white",
             "linecolor": "white",
             "minorgridcolor": "white",
             "startlinecolor": "#2a3f5f"
            },
            "baxis": {
             "endlinecolor": "#2a3f5f",
             "gridcolor": "white",
             "linecolor": "white",
             "minorgridcolor": "white",
             "startlinecolor": "#2a3f5f"
            },
            "type": "carpet"
           }
          ],
          "choropleth": [
           {
            "colorbar": {
             "outlinewidth": 0,
             "ticks": ""
            },
            "type": "choropleth"
           }
          ],
          "contour": [
           {
            "colorbar": {
             "outlinewidth": 0,
             "ticks": ""
            },
            "colorscale": [
             [
              0,
              "#0d0887"
             ],
             [
              0.1111111111111111,
              "#46039f"
             ],
             [
              0.2222222222222222,
              "#7201a8"
             ],
             [
              0.3333333333333333,
              "#9c179e"
             ],
             [
              0.4444444444444444,
              "#bd3786"
             ],
             [
              0.5555555555555556,
              "#d8576b"
             ],
             [
              0.6666666666666666,
              "#ed7953"
             ],
             [
              0.7777777777777778,
              "#fb9f3a"
             ],
             [
              0.8888888888888888,
              "#fdca26"
             ],
             [
              1,
              "#f0f921"
             ]
            ],
            "type": "contour"
           }
          ],
          "contourcarpet": [
           {
            "colorbar": {
             "outlinewidth": 0,
             "ticks": ""
            },
            "type": "contourcarpet"
           }
          ],
          "heatmap": [
           {
            "colorbar": {
             "outlinewidth": 0,
             "ticks": ""
            },
            "colorscale": [
             [
              0,
              "#0d0887"
             ],
             [
              0.1111111111111111,
              "#46039f"
             ],
             [
              0.2222222222222222,
              "#7201a8"
             ],
             [
              0.3333333333333333,
              "#9c179e"
             ],
             [
              0.4444444444444444,
              "#bd3786"
             ],
             [
              0.5555555555555556,
              "#d8576b"
             ],
             [
              0.6666666666666666,
              "#ed7953"
             ],
             [
              0.7777777777777778,
              "#fb9f3a"
             ],
             [
              0.8888888888888888,
              "#fdca26"
             ],
             [
              1,
              "#f0f921"
             ]
            ],
            "type": "heatmap"
           }
          ],
          "histogram": [
           {
            "marker": {
             "pattern": {
              "fillmode": "overlay",
              "size": 10,
              "solidity": 0.2
             }
            },
            "type": "histogram"
           }
          ],
          "histogram2d": [
           {
            "colorbar": {
             "outlinewidth": 0,
             "ticks": ""
            },
            "colorscale": [
             [
              0,
              "#0d0887"
             ],
             [
              0.1111111111111111,
              "#46039f"
             ],
             [
              0.2222222222222222,
              "#7201a8"
             ],
             [
              0.3333333333333333,
              "#9c179e"
             ],
             [
              0.4444444444444444,
              "#bd3786"
             ],
             [
              0.5555555555555556,
              "#d8576b"
             ],
             [
              0.6666666666666666,
              "#ed7953"
             ],
             [
              0.7777777777777778,
              "#fb9f3a"
             ],
             [
              0.8888888888888888,
              "#fdca26"
             ],
             [
              1,
              "#f0f921"
             ]
            ],
            "type": "histogram2d"
           }
          ],
          "histogram2dcontour": [
           {
            "colorbar": {
             "outlinewidth": 0,
             "ticks": ""
            },
            "colorscale": [
             [
              0,
              "#0d0887"
             ],
             [
              0.1111111111111111,
              "#46039f"
             ],
             [
              0.2222222222222222,
              "#7201a8"
             ],
             [
              0.3333333333333333,
              "#9c179e"
             ],
             [
              0.4444444444444444,
              "#bd3786"
             ],
             [
              0.5555555555555556,
              "#d8576b"
             ],
             [
              0.6666666666666666,
              "#ed7953"
             ],
             [
              0.7777777777777778,
              "#fb9f3a"
             ],
             [
              0.8888888888888888,
              "#fdca26"
             ],
             [
              1,
              "#f0f921"
             ]
            ],
            "type": "histogram2dcontour"
           }
          ],
          "mesh3d": [
           {
            "colorbar": {
             "outlinewidth": 0,
             "ticks": ""
            },
            "type": "mesh3d"
           }
          ],
          "parcoords": [
           {
            "line": {
             "colorbar": {
              "outlinewidth": 0,
              "ticks": ""
             }
            },
            "type": "parcoords"
           }
          ],
          "pie": [
           {
            "automargin": true,
            "type": "pie"
           }
          ],
          "scatter": [
           {
            "fillpattern": {
             "fillmode": "overlay",
             "size": 10,
             "solidity": 0.2
            },
            "type": "scatter"
           }
          ],
          "scatter3d": [
           {
            "line": {
             "colorbar": {
              "outlinewidth": 0,
              "ticks": ""
             }
            },
            "marker": {
             "colorbar": {
              "outlinewidth": 0,
              "ticks": ""
             }
            },
            "type": "scatter3d"
           }
          ],
          "scattercarpet": [
           {
            "marker": {
             "colorbar": {
              "outlinewidth": 0,
              "ticks": ""
             }
            },
            "type": "scattercarpet"
           }
          ],
          "scattergeo": [
           {
            "marker": {
             "colorbar": {
              "outlinewidth": 0,
              "ticks": ""
             }
            },
            "type": "scattergeo"
           }
          ],
          "scattergl": [
           {
            "marker": {
             "colorbar": {
              "outlinewidth": 0,
              "ticks": ""
             }
            },
            "type": "scattergl"
           }
          ],
          "scattermap": [
           {
            "marker": {
             "colorbar": {
              "outlinewidth": 0,
              "ticks": ""
             }
            },
            "type": "scattermap"
           }
          ],
          "scattermapbox": [
           {
            "marker": {
             "colorbar": {
              "outlinewidth": 0,
              "ticks": ""
             }
            },
            "type": "scattermapbox"
           }
          ],
          "scatterpolar": [
           {
            "marker": {
             "colorbar": {
              "outlinewidth": 0,
              "ticks": ""
             }
            },
            "type": "scatterpolar"
           }
          ],
          "scatterpolargl": [
           {
            "marker": {
             "colorbar": {
              "outlinewidth": 0,
              "ticks": ""
             }
            },
            "type": "scatterpolargl"
           }
          ],
          "scatterternary": [
           {
            "marker": {
             "colorbar": {
              "outlinewidth": 0,
              "ticks": ""
             }
            },
            "type": "scatterternary"
           }
          ],
          "surface": [
           {
            "colorbar": {
             "outlinewidth": 0,
             "ticks": ""
            },
            "colorscale": [
             [
              0,
              "#0d0887"
             ],
             [
              0.1111111111111111,
              "#46039f"
             ],
             [
              0.2222222222222222,
              "#7201a8"
             ],
             [
              0.3333333333333333,
              "#9c179e"
             ],
             [
              0.4444444444444444,
              "#bd3786"
             ],
             [
              0.5555555555555556,
              "#d8576b"
             ],
             [
              0.6666666666666666,
              "#ed7953"
             ],
             [
              0.7777777777777778,
              "#fb9f3a"
             ],
             [
              0.8888888888888888,
              "#fdca26"
             ],
             [
              1,
              "#f0f921"
             ]
            ],
            "type": "surface"
           }
          ],
          "table": [
           {
            "cells": {
             "fill": {
              "color": "#EBF0F8"
             },
             "line": {
              "color": "white"
             }
            },
            "header": {
             "fill": {
              "color": "#C8D4E3"
             },
             "line": {
              "color": "white"
             }
            },
            "type": "table"
           }
          ]
         },
         "layout": {
          "annotationdefaults": {
           "arrowcolor": "#2a3f5f",
           "arrowhead": 0,
           "arrowwidth": 1
          },
          "autotypenumbers": "strict",
          "coloraxis": {
           "colorbar": {
            "outlinewidth": 0,
            "ticks": ""
           }
          },
          "colorscale": {
           "diverging": [
            [
             0,
             "#8e0152"
            ],
            [
             0.1,
             "#c51b7d"
            ],
            [
             0.2,
             "#de77ae"
            ],
            [
             0.3,
             "#f1b6da"
            ],
            [
             0.4,
             "#fde0ef"
            ],
            [
             0.5,
             "#f7f7f7"
            ],
            [
             0.6,
             "#e6f5d0"
            ],
            [
             0.7,
             "#b8e186"
            ],
            [
             0.8,
             "#7fbc41"
            ],
            [
             0.9,
             "#4d9221"
            ],
            [
             1,
             "#276419"
            ]
           ],
           "sequential": [
            [
             0,
             "#0d0887"
            ],
            [
             0.1111111111111111,
             "#46039f"
            ],
            [
             0.2222222222222222,
             "#7201a8"
            ],
            [
             0.3333333333333333,
             "#9c179e"
            ],
            [
             0.4444444444444444,
             "#bd3786"
            ],
            [
             0.5555555555555556,
             "#d8576b"
            ],
            [
             0.6666666666666666,
             "#ed7953"
            ],
            [
             0.7777777777777778,
             "#fb9f3a"
            ],
            [
             0.8888888888888888,
             "#fdca26"
            ],
            [
             1,
             "#f0f921"
            ]
           ],
           "sequentialminus": [
            [
             0,
             "#0d0887"
            ],
            [
             0.1111111111111111,
             "#46039f"
            ],
            [
             0.2222222222222222,
             "#7201a8"
            ],
            [
             0.3333333333333333,
             "#9c179e"
            ],
            [
             0.4444444444444444,
             "#bd3786"
            ],
            [
             0.5555555555555556,
             "#d8576b"
            ],
            [
             0.6666666666666666,
             "#ed7953"
            ],
            [
             0.7777777777777778,
             "#fb9f3a"
            ],
            [
             0.8888888888888888,
             "#fdca26"
            ],
            [
             1,
             "#f0f921"
            ]
           ]
          },
          "colorway": [
           "#636efa",
           "#EF553B",
           "#00cc96",
           "#ab63fa",
           "#FFA15A",
           "#19d3f3",
           "#FF6692",
           "#B6E880",
           "#FF97FF",
           "#FECB52"
          ],
          "font": {
           "color": "#2a3f5f"
          },
          "geo": {
           "bgcolor": "white",
           "lakecolor": "white",
           "landcolor": "#E5ECF6",
           "showlakes": true,
           "showland": true,
           "subunitcolor": "white"
          },
          "hoverlabel": {
           "align": "left"
          },
          "hovermode": "closest",
          "mapbox": {
           "style": "light"
          },
          "paper_bgcolor": "white",
          "plot_bgcolor": "#E5ECF6",
          "polar": {
           "angularaxis": {
            "gridcolor": "white",
            "linecolor": "white",
            "ticks": ""
           },
           "bgcolor": "#E5ECF6",
           "radialaxis": {
            "gridcolor": "white",
            "linecolor": "white",
            "ticks": ""
           }
          },
          "scene": {
           "xaxis": {
            "backgroundcolor": "#E5ECF6",
            "gridcolor": "white",
            "gridwidth": 2,
            "linecolor": "white",
            "showbackground": true,
            "ticks": "",
            "zerolinecolor": "white"
           },
           "yaxis": {
            "backgroundcolor": "#E5ECF6",
            "gridcolor": "white",
            "gridwidth": 2,
            "linecolor": "white",
            "showbackground": true,
            "ticks": "",
            "zerolinecolor": "white"
           },
           "zaxis": {
            "backgroundcolor": "#E5ECF6",
            "gridcolor": "white",
            "gridwidth": 2,
            "linecolor": "white",
            "showbackground": true,
            "ticks": "",
            "zerolinecolor": "white"
           }
          },
          "shapedefaults": {
           "line": {
            "color": "#2a3f5f"
           }
          },
          "ternary": {
           "aaxis": {
            "gridcolor": "white",
            "linecolor": "white",
            "ticks": ""
           },
           "baxis": {
            "gridcolor": "white",
            "linecolor": "white",
            "ticks": ""
           },
           "bgcolor": "#E5ECF6",
           "caxis": {
            "gridcolor": "white",
            "linecolor": "white",
            "ticks": ""
           }
          },
          "title": {
           "x": 0.05
          },
          "xaxis": {
           "automargin": true,
           "gridcolor": "white",
           "linecolor": "white",
           "ticks": "",
           "title": {
            "standoff": 15
           },
           "zerolinecolor": "white",
           "zerolinewidth": 2
          },
          "yaxis": {
           "automargin": true,
           "gridcolor": "white",
           "linecolor": "white",
           "ticks": "",
           "title": {
            "standoff": 15
           },
           "zerolinecolor": "white",
           "zerolinewidth": 2
          }
         }
        },
        "title": {
         "text": "🎯 Myanmar Geocoding Models: Training & Performance Analysis",
         "x": 0.5
        },
        "xaxis": {
         "anchor": "y",
         "domain": [
          0,
          0.37
         ],
         "title": {
          "text": "Validation Steps"
         }
        },
        "xaxis2": {
         "anchor": "y3",
         "domain": [
          0.5700000000000001,
          0.9400000000000001
         ],
         "title": {
          "text": "Validation Steps"
         }
        },
        "xaxis3": {
         "anchor": "y5",
         "domain": [
          0,
          0.37
         ],
         "title": {
          "text": "Training Epochs"
         }
        },
        "xaxis4": {
         "anchor": "y6",
         "domain": [
          0.5700000000000001,
          0.9400000000000001
         ],
         "title": {
          "text": "Model Size (M Parameters)"
         }
        },
        "yaxis": {
         "anchor": "x",
         "domain": [
          0.625,
          1
         ],
         "title": {
          "text": "Loss (km)"
         }
        },
        "yaxis2": {
         "anchor": "x",
         "overlaying": "y",
         "side": "right",
         "title": {
          "text": "Loss (km)"
         }
        },
        "yaxis3": {
         "anchor": "x2",
         "domain": [
          0.625,
          1
         ],
         "title": {
          "text": "Geographic Loss (km)"
         }
        },
        "yaxis4": {
         "anchor": "x2",
         "overlaying": "y3",
         "side": "right",
         "title": {
          "text": "Geographic Loss (km)"
         }
        },
        "yaxis5": {
         "anchor": "x3",
         "domain": [
          0,
          0.375
         ],
         "title": {
          "text": "Training Loss (km)"
         }
        },
        "yaxis6": {
         "anchor": "x4",
         "domain": [
          0,
          0.375
         ],
         "title": {
          "text": "Mean Error (km)"
         }
        }
       }
      }
     },
     "metadata": {},
     "output_type": "display_data"
    },
    {
     "name": "stdout",
     "output_type": "stream",
     "text": [
      "📈 Training history visualization generated!\n",
      "   📊 Shows validation loss progression\n",
      "   🎯 Geographic accuracy improvements\n",
      "   ⚖️ Model size vs performance trade-offs\n"
     ]
    }
   ],
   "source": [
    "# 📈 Training History Visualization\n",
    "fig = make_subplots(\n",
    "    rows=2, cols=2,\n",
    "    subplot_titles=('Validation Loss Comparison', 'Geographic Loss Comparison',\n",
    "                   'Training Progress', 'Model Size vs Performance'),\n",
    "    specs=[[{\"secondary_y\": True}, {\"secondary_y\": True}],\n",
    "           [{\"secondary_y\": False}, {\"secondary_y\": False}]]\n",
    ")\n",
    "\n",
    "# Validation loss comparison\n",
    "fig.add_trace(\n",
    "    go.Scatter(\n",
    "        x=list(range(1, len(bert_history['val_losses']) + 1)),\n",
    "        y=bert_history['val_losses'],\n",
    "        mode='lines+markers',\n",
    "        name='BERT Validation Loss',\n",
    "        line=dict(color='blue', width=3),\n",
    "        marker=dict(size=8)\n",
    "    ),\n",
    "    row=1, col=1\n",
    ")\n",
    "\n",
    "fig.add_trace(\n",
    "    go.Scatter(\n",
    "        x=list(range(1, len(distilbert_history['val_losses']) + 1)),\n",
    "        y=distilbert_history['val_losses'],\n",
    "        mode='lines+markers',\n",
    "        name='DistilBERT Validation Loss',\n",
    "        line=dict(color='red', width=3),\n",
    "        marker=dict(size=8)\n",
    "    ),\n",
    "    row=1, col=1\n",
    ")\n",
    "\n",
    "# Geographic loss comparison\n",
    "fig.add_trace(\n",
    "    go.Scatter(\n",
    "        x=list(range(1, len(bert_history['val_geo_losses']) + 1)),\n",
    "        y=bert_history['val_geo_losses'],\n",
    "        mode='lines+markers',\n",
    "        name='BERT Geographic Loss',\n",
    "        line=dict(color='darkblue', width=3),\n",
    "        marker=dict(size=8)\n",
    "    ),\n",
    "    row=1, col=2\n",
    ")\n",
    "\n",
    "fig.add_trace(\n",
    "    go.Scatter(\n",
    "        x=list(range(1, len(distilbert_history['val_geo_losses']) + 1)),\n",
    "        y=distilbert_history['val_geo_losses'],\n",
    "        mode='lines+markers',\n",
    "        name='DistilBERT Geographic Loss',\n",
    "        line=dict(color='darkred', width=3),\n",
    "        marker=dict(size=8)\n",
    "    ),\n",
    "    row=1, col=2\n",
    ")\n",
    "\n",
    "# Training progress comparison\n",
    "epochs = ['Epoch 1', 'Epoch 2']\n",
    "bert_train_losses = bert_history['train_losses']\n",
    "distilbert_train_losses = distilbert_history['train_losses']\n",
    "\n",
    "fig.add_trace(\n",
    "    go.Bar(\n",
    "        x=epochs,\n",
    "        y=bert_train_losses,\n",
    "        name='BERT Training',\n",
    "        marker_color='lightblue',\n",
    "        text=[f'{loss:.1f}' for loss in bert_train_losses],\n",
    "        textposition='auto'\n",
    "    ),\n",
    "    row=2, col=1\n",
    ")\n",
    "\n",
    "fig.add_trace(\n",
    "    go.Bar(\n",
    "        x=epochs,\n",
    "        y=distilbert_train_losses,\n",
    "        name='DistilBERT Training',\n",
    "        marker_color='lightcoral',\n",
    "        text=[f'{loss:.1f}' for loss in distilbert_train_losses],\n",
    "        textposition='auto'\n",
    "    ),\n",
    "    row=2, col=1\n",
    ")\n",
    "\n",
    "# Model comparison scatter plot\n",
    "if models_loaded:\n",
    "    model_comparison = pd.DataFrame({\n",
    "        'Model': ['BERT', 'DistilBERT'],\n",
    "        'Parameters (M)': [bert_params/1e6, distilbert_params/1e6],\n",
    "        'Mean Error (km)': [bert_metrics['mean_error_km'], distilbert_metrics['mean_error_km']],\n",
    "        'Size (MB)': [bert_params * 4 / 1024**2, distilbert_params * 4 / 1024**2]\n",
    "    })\n",
    "    \n",
    "    fig.add_trace(\n",
    "        go.Scatter(\n",
    "            x=model_comparison['Parameters (M)'],\n",
    "            y=model_comparison['Mean Error (km)'],\n",
    "            mode='markers+text',\n",
    "            text=model_comparison['Model'],\n",
    "            textposition='top center',\n",
    "            marker=dict(\n",
    "                size=[20, 15],\n",
    "                color=['blue', 'red'],\n",
    "                opacity=0.7\n",
    "            ),\n",
    "            name='Model Performance'\n",
    "        ),\n",
    "        row=2, col=2\n",
    "    )\n",
    "\n",
    "# Update layout\n",
    "fig.update_layout(\n",
    "    height=800,\n",
    "    title_text=\"🎯 Myanmar Geocoding Models: Training & Performance Analysis\",\n",
    "    title_x=0.5,\n",
    "    showlegend=True\n",
    ")\n",
    "\n",
    "# Update axes labels\n",
    "fig.update_xaxes(title_text=\"Validation Steps\", row=1, col=1)\n",
    "fig.update_yaxes(title_text=\"Loss (km)\", row=1, col=1)\n",
    "fig.update_xaxes(title_text=\"Validation Steps\", row=1, col=2)\n",
    "fig.update_yaxes(title_text=\"Geographic Loss (km)\", row=1, col=2)\n",
    "fig.update_xaxes(title_text=\"Training Epochs\", row=2, col=1)\n",
    "fig.update_yaxes(title_text=\"Training Loss (km)\", row=2, col=1)\n",
    "fig.update_xaxes(title_text=\"Model Size (M Parameters)\", row=2, col=2)\n",
    "fig.update_yaxes(title_text=\"Mean Error (km)\", row=2, col=2)\n",
    "\n",
    "fig.show()\n",
    "\n",
    "print(\"📈 Training history visualization generated!\")\n",
    "print(\"   📊 Shows validation loss progression\")\n",
    "print(\"   🎯 Geographic accuracy improvements\")\n",
    "print(\"   ⚖️ Model size vs performance trade-offs\")"
   ]
  },
  {
   "cell_type": "code",
   "execution_count": 18,
   "id": "82fd587c",
   "metadata": {},
   "outputs": [
    {
     "data": {
      "image/png": "[encoded data removed]",
      "text/plain": [
       "<Figure size 1200x800 with 1 Axes>"
      ]
     },
     "metadata": {},
     "output_type": "display_data"
    },
    {
     "name": "stdout",
     "output_type": "stream",
     "text": [
      "📊 ACCURACY SUMMARY\n",
      "==================================================\n",
      "🤖 BERT Model:\n",
      "   • <1km: 0.0%\n",
      "   • <5km: 0.0%\n",
      "   • <10km: 5.0%\n",
      "   • <50km: 76.0%\n",
      "   • <60km: 86.0%\n",
      "   • <70km: 87.0%\n",
      "\n",
      "⚡ DistilBERT Model:\n",
      "   • <1km: 0.0%\n",
      "   • <5km: 0.0%\n",
      "   • <10km: 3.0%\n",
      "   • <50km: 40.0%\n",
      "   • <60km: 69.0%\n",
      "   • <70km: 77.0%\n",
      "\n",
      "🏆 Best Performance:\n",
      "   • <1km: DistilBERT (0.0%)\n",
      "   • <5km: DistilBERT (0.0%)\n",
      "   • <10km: BERT (5.0%)\n",
      "   • <50km: BERT (76.0%)\n",
      "   • <60km: BERT (86.0%)\n",
      "   • <70km: BERT (87.0%)\n"
     ]
    }
   ],
   "source": [
    "# 📊 Accuracy at Different Thresholds\n",
    "if models_loaded:\n",
    "    # Create single plot for accuracy comparison\n",
    "    fig, ax = plt.subplots(1, 1, figsize=(12, 8))\n",
    "    \n",
    "    # Accuracy comparison bar chart with all thresholds\n",
    "    accuracy_categories = ['<1km', '<5km', '<10km', '<50km', '<60km', '<70km']\n",
    "    bert_accuracies = [bert_metrics['accuracy_1km'], bert_metrics['accuracy_5km'], \n",
    "                      bert_metrics['accuracy_10km'], bert_metrics['accuracy_50km'],\n",
    "                      bert_metrics['accuracy_60km'], bert_metrics['accuracy_70km']]\n",
    "    distilbert_accuracies = [distilbert_metrics['accuracy_1km'], distilbert_metrics['accuracy_5km'],\n",
    "                           distilbert_metrics['accuracy_10km'], distilbert_metrics['accuracy_50km'],\n",
    "                           distilbert_metrics['accuracy_60km'], distilbert_metrics['accuracy_70km']]\n",
    "    \n",
    "    x = np.arange(len(accuracy_categories))\n",
    "    width = 0.35\n",
    "    \n",
    "    bars1 = ax.bar(x - width/2, bert_accuracies, width, label='🤖 BERT', color='blue', alpha=0.7)\n",
    "    bars2 = ax.bar(x + width/2, distilbert_accuracies, width, label='⚡ DistilBERT', color='red', alpha=0.7)\n",
    "    \n",
    "    ax.set_xlabel('Accuracy Threshold', fontsize=12)\n",
    "    ax.set_ylabel('Accuracy (%)', fontsize=12)\n",
    "    ax.set_title('🎯 Accuracy at Different Distance Thresholds', fontsize=14, fontweight='bold')\n",
    "    ax.set_xticks(x)\n",
    "    ax.set_xticklabels(accuracy_categories)\n",
    "    ax.legend(fontsize=12)\n",
    "    ax.grid(True, alpha=0.3)\n",
    "    \n",
    "    # Add value labels on bars\n",
    "    for i, (bert_acc, distil_acc) in enumerate(zip(bert_accuracies, distilbert_accuracies)):\n",
    "        ax.text(i - width/2, bert_acc + 1, f'{bert_acc:.1f}%', ha='center', va='bottom', fontsize=10, fontweight='bold')\n",
    "        ax.text(i + width/2, distil_acc + 1, f'{distil_acc:.1f}%', ha='center', va='bottom', fontsize=10, fontweight='bold')\n",
    "    \n",
    "    plt.tight_layout()\n",
    "    plt.show()\n",
    "    \n",
    "    # Summary of key accuracy metrics\n",
    "    print(\"📊 ACCURACY SUMMARY\")\n",
    "    print(\"=\" * 50)\n",
    "    print(f\"🤖 BERT Model:\")\n",
    "    for i, category in enumerate(accuracy_categories):\n",
    "        print(f\"   • {category}: {bert_accuracies[i]:.1f}%\")\n",
    "    \n",
    "    print(f\"\\n⚡ DistilBERT Model:\")\n",
    "    for i, category in enumerate(accuracy_categories):\n",
    "        print(f\"   • {category}: {distilbert_accuracies[i]:.1f}%\")\n",
    "    \n",
    "    print(f\"\\n🏆 Best Performance:\")\n",
    "    for i, category in enumerate(accuracy_categories):\n",
    "        better = \"BERT\" if bert_accuracies[i] > distilbert_accuracies[i] else \"DistilBERT\"\n",
    "        print(f\"   • {category}: {better} ({max(bert_accuracies[i], distilbert_accuracies[i]):.1f}%)\")\n",
    "    \n",
    "else:\n",
    "    print(\"❌ Cannot generate accuracy analysis without model predictions\")"
   ]
  },
  {
   "cell_type": "code",
   "execution_count": 24,
   "id": "94e91bb6",
   "metadata": {},
   "outputs": [
    {
     "name": "stdout",
     "output_type": "stream",
     "text": [
      "🎯 TOP 10 PREDICTIONS vs GROUND TRUTH\n",
      "================================================================================\n",
      "\n",
      "📍 Address 1: အမှတ် ၄၁၈၊ သမာဓိ(၁)လမ်း၊ ၈ ရပ်ကွက်၊ မရမ်းကုန်းမြို့နယ်၊ ရန်ကုန်တိုင်းဒေသကြီး။\n",
      "────────────────────────────────────────────────────────────\n",
      "🎯 Ground Truth: (16.868455, 96.164630)\n",
      "🤖 BERT Pred:    (17.097271, 96.099045) - 🟠 Fair (26.38 km)\n",
      "⚡ DistilBERT:   (17.307686, 96.171249) - 🟠 Fair (48.85 km)\n",
      "🏆 Winner: BERT (Better by 22.46 km)\n",
      "\n",
      "📍 Address 2: အမှတ် ၄၆၉၊ လမ်း ၂၀၊ ၁၃ ရပ်ကွက်၊ တောင်ဥက္ကလာပမြို့နယ်၊ ရန်ကုန်တိုင်းဒေသကြီး။\n",
      "────────────────────────────────────────────────────────────\n",
      "🎯 Ground Truth: (16.843366, 96.197806)\n",
      "🤖 BERT Pred:    (17.146935, 96.086266) - 🟠 Fair (35.78 km)\n",
      "⚡ DistilBERT:   (17.295980, 96.202805) - 🔴 Poor (50.33 km)\n",
      "🏆 Winner: BERT (Better by 14.55 km)\n",
      "\n",
      "📍 Address 3: အမှတ် ၉၊ ဘောဂသိဒ္ဓိလမ်း၊ သမိုင်း ၂ ရပ်ကွက်၊ မရမ်းကုန်းမြို့နယ်၊ ရန်ကုန်တိုင်းဒေသကြီး၊၊\n",
      "────────────────────────────────────────────────────────────\n",
      "🎯 Ground Truth: (16.864005, 96.116918)\n",
      "🤖 BERT Pred:    (17.072155, 96.101257) - 🟡 Good (23.21 km)\n",
      "⚡ DistilBERT:   (17.238150, 96.194221) - 🟠 Fair (42.41 km)\n",
      "🏆 Winner: BERT (Better by 19.20 km)\n",
      "\n",
      "📍 Address 4: SH - ၁၀၅၊ သစ္စာဥယျာဉ်အိမ်ရာ၊ သစ္စာလမ်း၊ (၈) ရပ်ကွက်၊ တောင်ဥက္ကလာပမြို့နယ်၊ ရန်ကုန်တိုင်းဒေသကြီး။\n",
      "────────────────────────────────────────────────────────────\n",
      "🎯 Ground Truth: (16.864377, 96.156210)\n",
      "🤖 BERT Pred:    (17.136177, 96.081345) - 🟠 Fair (31.25 km)\n",
      "⚡ DistilBERT:   (17.311224, 96.193405) - 🟠 Fair (49.84 km)\n",
      "🏆 Winner: BERT (Better by 18.59 km)\n",
      "\n",
      "📍 Address 5: အမှတ် ၃၅၇၊ မာန်ပြေ(၈)လမ်း၊ ၃ရပ်ကွက်၊ သာကေတမြို့နယ်၊ ရန်ကုန်တိုင်းဒေသကြီး။\n",
      "────────────────────────────────────────────────────────────\n",
      "🎯 Ground Truth: (16.778940, 96.193258)\n",
      "🤖 BERT Pred:    (17.107533, 96.154427) - 🟠 Fair (36.77 km)\n",
      "⚡ DistilBERT:   (17.372131, 96.254776) - 🔴 Poor (66.28 km)\n",
      "🏆 Winner: BERT (Better by 29.51 km)\n",
      "\n",
      "📍 Address 6: တိုက် ၁၊ အခန်း ၃၀၃၊ သစ္စာဥယျာဉ်အိမ်ရာ၊ ၈ ရပ်ကွက်၊ ၃ လမ်း၊ တောင်ဥက္ကလာပမြို့နယ်၊ ရန်ကုန်တိုင်းဒေသကြီး။\n",
      "────────────────────────────────────────────────────────────\n",
      "🎯 Ground Truth: (16.864377, 96.156210)\n",
      "🤖 BERT Pred:    (17.098358, 96.102829) - 🟠 Fair (26.63 km)\n",
      "⚡ DistilBERT:   (17.322737, 96.190849) - 🔴 Poor (51.10 km)\n",
      "🏆 Winner: BERT (Better by 24.47 km)\n",
      "\n",
      "📍 Address 7: အမှတ် ၃၄၊ ပ ထပ်၊ ဦးအောင်ဘလမ်း၊ ဆရာစံတောင်ရပ်ကွက်၊ ဗဟန်းမြို့နယ်၊ ရန်ကုန်တိုင်းဒေသကြီး။\n",
      "────────────────────────────────────────────────────────────\n",
      "🎯 Ground Truth: (16.823662, 96.164777)\n",
      "🤖 BERT Pred:    (17.093870, 96.091286) - 🟠 Fair (31.05 km)\n",
      "⚡ DistilBERT:   (17.284874, 96.246346) - 🔴 Poor (52.01 km)\n",
      "🏆 Winner: BERT (Better by 20.97 km)\n",
      "\n",
      "📍 Address 8: အမှတ် ၁၀၊ မြေညီထပ်၊ နွယ်သာကီလမ်း၊ စောရန်ပိုင်အနောက်ရပ်ကွက်၊ အလုံမြို့နယ်၊ ရန်ကုန်တိုင်းဒေသကြီး။\n",
      "────────────────────────────────────────────────────────────\n",
      "🎯 Ground Truth: (16.778206, 96.136593)\n",
      "🤖 BERT Pred:    (17.149496, 96.085144) - 🟠 Fair (41.65 km)\n",
      "⚡ DistilBERT:   (17.303864, 96.220078) - 🔴 Poor (59.12 km)\n",
      "🏆 Winner: BERT (Better by 17.47 km)\n",
      "\n",
      "📍 Address 9: အမှတ် ၃၊ ပထပ်၊ စံရိပ်ငြိမ်(၆)လမ်း၊ ၂ ရပ်ကွက်၊ ကမာရွတ်မြို့နယ်၊ ရန်ကုန်တိုင်းဒေသကြီး။\n",
      "────────────────────────────────────────────────────────────\n",
      "🎯 Ground Truth: (16.833483, 96.130830)\n",
      "🤖 BERT Pred:    (17.031872, 95.991043) - 🟠 Fair (26.60 km)\n",
      "⚡ DistilBERT:   (17.259716, 96.242325) - 🟠 Fair (48.85 km)\n",
      "🏆 Winner: BERT (Better by 22.25 km)\n",
      "\n",
      "📍 Address 10: အမှတ် ၇၉၅၊ မာဃလမ်း၊ ၁၂ ရပ်ကွက်၊ တောင်ဥက္ကလာပမြို့နယ်၊ ရန်ကုန်တိုင်းဒေသကြီး။\n",
      "────────────────────────────────────────────────────────────\n",
      "🎯 Ground Truth: (16.794193, 96.217023)\n",
      "🤖 BERT Pred:    (17.135757, 96.081268) - 🟠 Fair (40.63 km)\n",
      "⚡ DistilBERT:   (17.278910, 96.177933) - 🔴 Poor (54.06 km)\n",
      "🏆 Winner: BERT (Better by 13.43 km)\n",
      "\n",
      "🗺️ Creating interactive map visualization...\n"
     ]
    },
    {
     "data": {
      "application/vnd.plotly.v1+json": {
       "config": {
        "plotlyServerURL": "https://plot.ly"
       },
       "data": [
        {
         "hovertemplate": "<b>%{text}</b><extra></extra>",
         "lat": {
          "bdata": "iAp6FFPeMEDvjozV5tcwQEGROHUv3TBApuyZykfdMEDWi6GcaMcwQKbsmcpH3TBAkPOjhtvSMEBgi4KFOMcwQPPDrSdf1TBA0Th5NlDLMEA=",
          "dtype": "f8"
         },
         "lon": {
          "bdata": "MXxETIkKWEADXmbYqAxYQBSUopV7B1hA49LnWf8JWEAvbM1WXgxYQOPS51n/CVhA4qcWtosKWEAKeOPuvQhYQBGVoYVfCFhASp5GteMNWEA=",
          "dtype": "f8"
         },
         "marker": {
          "color": "black",
          "opacity": 0.8,
          "size": 15
         },
         "mode": "markers",
         "name": "🎯 Ground Truth",
         "text": [
          "🎯 Ground Truth #1<br>အမှတ် ၄၁၈၊ သမာဓိ(၁)လမ်း၊ ၈ ရပ်ကွက်၊ မရမ်းကုန်းမြို့နယ်၊ ရန်ကုန်တိုင်းဒေသကြီး။...<br>Lat: 16.868455<br>Lon: 96.164630",
          "🎯 Ground Truth #2<br>အမှတ် ၄၆၉၊ လမ်း ၂၀၊ ၁၃ ရပ်ကွက်၊ တောင်ဥက္ကလာပမြို့နယ်၊ ရန်ကုန်တိုင်းဒေသကြီး။...<br>Lat: 16.843366<br>Lon: 96.197806",
          "🎯 Ground Truth #3<br>အမှတ် ၉၊ ဘောဂသိဒ္ဓိလမ်း၊ သမိုင်း ၂ ရပ်ကွက်၊ မရမ်းကုန်းမြို့နယ်၊ ရန်ကုန်တိုင်းဒေသ...<br>Lat: 16.864005<br>Lon: 96.116918",
          "🎯 Ground Truth #4<br>SH - ၁၀၅၊ သစ္စာဥယျာဉ်အိမ်ရာ၊ သစ္စာလမ်း၊ (၈) ရပ်ကွက်၊ တောင်ဥက္ကလာပမြို့နယ်၊ ရန်ကု...<br>Lat: 16.864377<br>Lon: 96.156210",
          "🎯 Ground Truth #5<br>အမှတ် ၃၅၇၊ မာန်ပြေ(၈)လမ်း၊ ၃ရပ်ကွက်၊ သာကေတမြို့နယ်၊ ရန်ကုန်တိုင်းဒေသကြီး။...<br>Lat: 16.778940<br>Lon: 96.193258",
          "🎯 Ground Truth #6<br>တိုက် ၁၊ အခန်း ၃၀၃၊ သစ္စာဥယျာဉ်အိမ်ရာ၊ ၈ ရပ်ကွက်၊ ၃ လမ်း၊ တောင်ဥက္ကလာပမြို့နယ်၊ ...<br>Lat: 16.864377<br>Lon: 96.156210",
          "🎯 Ground Truth #7<br>အမှတ် ၃၄၊ ပ ထပ်၊ ဦးအောင်ဘလမ်း၊ ဆရာစံတောင်ရပ်ကွက်၊ ဗဟန်းမြို့နယ်၊ ရန်ကုန်တိုင်းဒေ...<br>Lat: 16.823662<br>Lon: 96.164777",
          "🎯 Ground Truth #8<br>အမှတ် ၁၀၊ မြေညီထပ်၊ နွယ်သာကီလမ်း၊ စောရန်ပိုင်အနောက်ရပ်ကွက်၊ အလုံမြို့နယ်၊ ရန်ကုန...<br>Lat: 16.778206<br>Lon: 96.136593",
          "🎯 Ground Truth #9<br>အမှတ် ၃၊ ပထပ်၊ စံရိပ်ငြိမ်(၆)လမ်း၊ ၂ ရပ်ကွက်၊ ကမာရွတ်မြို့နယ်၊ ရန်ကုန်တိုင်းဒေသက...<br>Lat: 16.833483<br>Lon: 96.130830",
          "🎯 Ground Truth #10<br>အမှတ် ၇၉၅၊ မာဃလမ်း၊ ၁၂ ရပ်ကွက်၊ တောင်ဥက္ကလာပမြို့နယ်၊ ရန်ကုန်တိုင်းဒေသကြီး။...<br>Lat: 16.794193<br>Lon: 96.217023"
         ],
         "type": "scattermap"
        },
        {
         "hovertemplate": "<b>%{text}</b><extra></extra>",
         "lat": {
          "bdata": "AAAAwOYYMUAAAACAnSUxQAAAAMB4EjFAAAAAgNwiMUAAAABAhxsxQAAAAAAuGTFAAAAA4AcYMUAAAABgRSYxQAAAAMAoCDFAAAAAAMEiMUA=",
          "dtype": "f8"
         },
         "lon": {
          "bdata": "AAAAwFYGWEAAAABghQVYQAAAAAB7BlhAAAAAwDQFWEAAAAAg4glYQAAAAMCUBlhAAAAAoNcFWEAAAAAAcwVYQAAAAEBt/1dAAAAAgDMFWEA=",
          "dtype": "f8"
         },
         "marker": {
          "color": [
           "orange",
           "orange",
           "yellow",
           "orange",
           "orange",
           "orange",
           "orange",
           "orange",
           "orange",
           "orange"
          ],
          "opacity": 0.8,
          "size": 12,
          "symbol": "cross"
         },
         "mode": "markers",
         "name": "🤖 BERT Predictions",
         "text": [
          "🤖 BERT Prediction #1<br>Error: 26.38 km<br>Status: 🟠 Fair<br>Lat: 17.097271<br>Lon: 96.099045",
          "🤖 BERT Prediction #2<br>Error: 35.78 km<br>Status: 🟠 Fair<br>Lat: 17.146935<br>Lon: 96.086266",
          "🤖 BERT Prediction #3<br>Error: 23.21 km<br>Status: 🟡 Good<br>Lat: 17.072155<br>Lon: 96.101257",
          "🤖 BERT Prediction #4<br>Error: 31.25 km<br>Status: 🟠 Fair<br>Lat: 17.136177<br>Lon: 96.081345",
          "🤖 BERT Prediction #5<br>Error: 36.77 km<br>Status: 🟠 Fair<br>Lat: 17.107533<br>Lon: 96.154427",
          "🤖 BERT Prediction #6<br>Error: 26.63 km<br>Status: 🟠 Fair<br>Lat: 17.098358<br>Lon: 96.102829",
          "🤖 BERT Prediction #7<br>Error: 31.05 km<br>Status: 🟠 Fair<br>Lat: 17.093870<br>Lon: 96.091286",
          "🤖 BERT Prediction #8<br>Error: 41.65 km<br>Status: 🟠 Fair<br>Lat: 17.149496<br>Lon: 96.085144",
          "🤖 BERT Prediction #9<br>Error: 26.60 km<br>Status: 🟠 Fair<br>Lat: 17.031872<br>Lon: 95.991043",
          "🤖 BERT Prediction #10<br>Error: 40.63 km<br>Status: 🟠 Fair<br>Lat: 17.135757<br>Lon: 96.081268"
         ],
         "type": "scattermap"
        },
        {
         "hoverinfo": "skip",
         "lat": [
          16.8684552,
          17.097270965576172
         ],
         "line": {
          "color": "orange",
          "width": 3
         },
         "lon": [
          96.16463,
          96.09904479980469
         ],
         "mode": "lines",
         "showlegend": false,
         "type": "scattermap"
        },
        {
         "hoverinfo": "skip",
         "lat": [
          16.843366,
          17.146934509277344
         ],
         "line": {
          "color": "orange",
          "width": 3
         },
         "lon": [
          96.1978055,
          96.08626556396484
         ],
         "mode": "lines",
         "showlegend": false,
         "type": "scattermap"
        },
        {
         "hoverinfo": "skip",
         "lat": [
          16.8640054,
          17.072154998779297
         ],
         "line": {
          "color": "yellow",
          "width": 3
         },
         "lon": [
          96.116918,
          96.10125732421875
         ],
         "mode": "lines",
         "showlegend": false,
         "type": "scattermap"
        },
        {
         "hoverinfo": "skip",
         "lat": [
          16.8643767,
          17.13617706298828
         ],
         "line": {
          "color": "orange",
          "width": 3
         },
         "lon": [
          96.1562104,
          96.08134460449219
         ],
         "mode": "lines",
         "showlegend": false,
         "type": "scattermap"
        },
        {
         "hoverinfo": "skip",
         "lat": [
          16.77894,
          17.107532501220703
         ],
         "line": {
          "color": "orange",
          "width": 3
         },
         "lon": [
          96.193258,
          96.15442657470703
         ],
         "mode": "lines",
         "showlegend": false,
         "type": "scattermap"
        },
        {
         "hoverinfo": "skip",
         "lat": [
          16.8643767,
          17.098358154296875
         ],
         "line": {
          "color": "orange",
          "width": 3
         },
         "lon": [
          96.1562104,
          96.10282897949219
         ],
         "mode": "lines",
         "showlegend": false,
         "type": "scattermap"
        },
        {
         "hoverinfo": "skip",
         "lat": [
          16.8236622,
          17.093870162963867
         ],
         "line": {
          "color": "orange",
          "width": 3
         },
         "lon": [
          96.1647773,
          96.0912857055664
         ],
         "mode": "lines",
         "showlegend": false,
         "type": "scattermap"
        },
        {
         "hoverinfo": "skip",
         "lat": [
          16.7782062,
          17.14949607849121
         ],
         "line": {
          "color": "orange",
          "width": 3
         },
         "lon": [
          96.1365926,
          96.08514404296875
         ],
         "mode": "lines",
         "showlegend": false,
         "type": "scattermap"
        },
        {
         "hoverinfo": "skip",
         "lat": [
          16.8334832,
          17.031871795654297
         ],
         "line": {
          "color": "orange",
          "width": 3
         },
         "lon": [
          96.1308302,
          95.99104309082031
         ],
         "mode": "lines",
         "showlegend": false,
         "type": "scattermap"
        },
        {
         "hoverinfo": "skip",
         "lat": [
          16.7941927,
          17.135757446289062
         ],
         "line": {
          "color": "orange",
          "width": 3
         },
         "lon": [
          96.2170232,
          96.08126831054688
         ],
         "mode": "lines",
         "showlegend": false,
         "type": "scattermap"
        },
        {
         "hovertemplate": "<b>%{text}</b><extra></extra>",
         "lat": {
          "bdata": "AAAAgMROMUAAAABgxUsxQAAAAGD3PDFAAAAAYKxPMUAAAAAARF8xQAAAAOCeUjFAAAAAgO1IMUAAAAAAyk0xQAAAAMB8QjFAAAAAoGZHMUA=",
          "dtype": "f8"
         },
         "lon": {
          "bdata": "AAAAwPUKWEAAAADA+gxYQAAAACBuDFhAAAAAwGAMWEAAAABAThBYQAAAAOA2DFhAAAAAIMQPWEAAAADAFQ5YQAAAAECCD1hAAAAAQGMLWEA=",
          "dtype": "f8"
         },
         "marker": {
          "color": [
           "orange",
           "red",
           "orange",
           "orange",
           "red",
           "red",
           "red",
           "red",
           "orange",
           "red"
          ],
          "opacity": 0.8,
          "size": 12,
          "symbol": "square"
         },
         "mode": "markers",
         "name": "⚡ DistilBERT Predictions",
         "text": [
          "⚡ DistilBERT Prediction #1<br>Error: 48.85 km<br>Status: 🟠 Fair<br>Lat: 17.307686<br>Lon: 96.171249",
          "⚡ DistilBERT Prediction #2<br>Error: 50.33 km<br>Status: 🔴 Poor<br>Lat: 17.295980<br>Lon: 96.202805",
          "⚡ DistilBERT Prediction #3<br>Error: 42.41 km<br>Status: 🟠 Fair<br>Lat: 17.238150<br>Lon: 96.194221",
          "⚡ DistilBERT Prediction #4<br>Error: 49.84 km<br>Status: 🟠 Fair<br>Lat: 17.311224<br>Lon: 96.193405",
          "⚡ DistilBERT Prediction #5<br>Error: 66.28 km<br>Status: 🔴 Poor<br>Lat: 17.372131<br>Lon: 96.254776",
          "⚡ DistilBERT Prediction #6<br>Error: 51.10 km<br>Status: 🔴 Poor<br>Lat: 17.322737<br>Lon: 96.190849",
          "⚡ DistilBERT Prediction #7<br>Error: 52.01 km<br>Status: 🔴 Poor<br>Lat: 17.284874<br>Lon: 96.246346",
          "⚡ DistilBERT Prediction #8<br>Error: 59.12 km<br>Status: 🔴 Poor<br>Lat: 17.303864<br>Lon: 96.220078",
          "⚡ DistilBERT Prediction #9<br>Error: 48.85 km<br>Status: 🟠 Fair<br>Lat: 17.259716<br>Lon: 96.242325",
          "⚡ DistilBERT Prediction #10<br>Error: 54.06 km<br>Status: 🔴 Poor<br>Lat: 17.278910<br>Lon: 96.177933"
         ],
         "type": "scattermap"
        },
        {
         "hoverinfo": "skip",
         "lat": [
          16.8684552,
          17.30768585205078
         ],
         "line": {
          "color": "orange",
          "width": 1
         },
         "lon": [
          96.16463,
          96.17124938964844
         ],
         "mode": "lines",
         "opacity": 0.5,
         "showlegend": false,
         "type": "scattermap"
        },
        {
         "hoverinfo": "skip",
         "lat": [
          16.843366,
          17.29598045349121
         ],
         "line": {
          "color": "red",
          "width": 1
         },
         "lon": [
          96.1978055,
          96.20280456542969
         ],
         "mode": "lines",
         "opacity": 0.5,
         "showlegend": false,
         "type": "scattermap"
        },
        {
         "hoverinfo": "skip",
         "lat": [
          16.8640054,
          17.238149642944336
         ],
         "line": {
          "color": "orange",
          "width": 1
         },
         "lon": [
          96.116918,
          96.19422149658203
         ],
         "mode": "lines",
         "opacity": 0.5,
         "showlegend": false,
         "type": "scattermap"
        },
        {
         "hoverinfo": "skip",
         "lat": [
          16.8643767,
          17.31122398376465
         ],
         "line": {
          "color": "orange",
          "width": 1
         },
         "lon": [
          96.1562104,
          96.19340515136719
         ],
         "mode": "lines",
         "opacity": 0.5,
         "showlegend": false,
         "type": "scattermap"
        },
        {
         "hoverinfo": "skip",
         "lat": [
          16.77894,
          17.37213134765625
         ],
         "line": {
          "color": "red",
          "width": 1
         },
         "lon": [
          96.193258,
          96.25477600097656
         ],
         "mode": "lines",
         "opacity": 0.5,
         "showlegend": false,
         "type": "scattermap"
        },
        {
         "hoverinfo": "skip",
         "lat": [
          16.8643767,
          17.322736740112305
         ],
         "line": {
          "color": "red",
          "width": 1
         },
         "lon": [
          96.1562104,
          96.19084930419922
         ],
         "mode": "lines",
         "opacity": 0.5,
         "showlegend": false,
         "type": "scattermap"
        },
        {
         "hoverinfo": "skip",
         "lat": [
          16.8236622,
          17.284873962402344
         ],
         "line": {
          "color": "red",
          "width": 1
         },
         "lon": [
          96.1647773,
          96.24634552001953
         ],
         "mode": "lines",
         "opacity": 0.5,
         "showlegend": false,
         "type": "scattermap"
        },
        {
         "hoverinfo": "skip",
         "lat": [
          16.7782062,
          17.303863525390625
         ],
         "line": {
          "color": "red",
          "width": 1
         },
         "lon": [
          96.1365926,
          96.22007751464844
         ],
         "mode": "lines",
         "opacity": 0.5,
         "showlegend": false,
         "type": "scattermap"
        },
        {
         "hoverinfo": "skip",
         "lat": [
          16.8334832,
          17.259716033935547
         ],
         "line": {
          "color": "orange",
          "width": 1
         },
         "lon": [
          96.1308302,
          96.24232482910156
         ],
         "mode": "lines",
         "opacity": 0.5,
         "showlegend": false,
         "type": "scattermap"
        },
        {
         "hoverinfo": "skip",
         "lat": [
          16.7941927,
          17.27890968322754
         ],
         "line": {
          "color": "red",
          "width": 1
         },
         "lon": [
          96.2170232,
          96.17793273925781
         ],
         "mode": "lines",
         "opacity": 0.5,
         "showlegend": false,
         "type": "scattermap"
        }
       ],
       "layout": {
        "height": 700,
        "legend": {
         "bgcolor": "rgba(255,255,255,0.9)",
         "bordercolor": "Black",
         "borderwidth": 1,
         "x": 0.01,
         "xanchor": "left",
         "y": 0.99,
         "yanchor": "top"
        },
        "mapbox": {
         "center": {
          "lat": 16.8233307,
          "lon": 96.1669706
         },
         "style": "open-street-map",
         "zoom": 11
        },
        "margin": {
         "b": 0,
         "l": 0,
         "r": 0,
         "t": 60
        },
        "showlegend": true,
        "template": {
         "data": {
          "bar": [
           {
            "error_x": {
             "color": "#2a3f5f"
            },
            "error_y": {
             "color": "#2a3f5f"
            },
            "marker": {
             "line": {
              "color": "#E5ECF6",
              "width": 0.5
             },
             "pattern": {
              "fillmode": "overlay",
              "size": 10,
              "solidity": 0.2
             }
            },
            "type": "bar"
           }
          ],
          "barpolar": [
           {
            "marker": {
             "line": {
              "color": "#E5ECF6",
              "width": 0.5
             },
             "pattern": {
              "fillmode": "overlay",
              "size": 10,
              "solidity": 0.2
             }
            },
            "type": "barpolar"
           }
          ],
          "carpet": [
           {
            "aaxis": {
             "endlinecolor": "#2a3f5f",
             "gridcolor": "white",
             "linecolor": "white",
             "minorgridcolor": "white",
             "startlinecolor": "#2a3f5f"
            },
            "baxis": {
             "endlinecolor": "#2a3f5f",
             "gridcolor": "white",
             "linecolor": "white",
             "minorgridcolor": "white",
             "startlinecolor": "#2a3f5f"
            },
            "type": "carpet"
           }
          ],
          "choropleth": [
           {
            "colorbar": {
             "outlinewidth": 0,
             "ticks": ""
            },
            "type": "choropleth"
           }
          ],
          "contour": [
           {
            "colorbar": {
             "outlinewidth": 0,
             "ticks": ""
            },
            "colorscale": [
             [
              0,
              "#0d0887"
             ],
             [
              0.1111111111111111,
              "#46039f"
             ],
             [
              0.2222222222222222,
              "#7201a8"
             ],
             [
              0.3333333333333333,
              "#9c179e"
             ],
             [
              0.4444444444444444,
              "#bd3786"
             ],
             [
              0.5555555555555556,
              "#d8576b"
             ],
             [
              0.6666666666666666,
              "#ed7953"
             ],
             [
              0.7777777777777778,
              "#fb9f3a"
             ],
             [
              0.8888888888888888,
              "#fdca26"
             ],
             [
              1,
              "#f0f921"
             ]
            ],
            "type": "contour"
           }
          ],
          "contourcarpet": [
           {
            "colorbar": {
             "outlinewidth": 0,
             "ticks": ""
            },
            "type": "contourcarpet"
           }
          ],
          "heatmap": [
           {
            "colorbar": {
             "outlinewidth": 0,
             "ticks": ""
            },
            "colorscale": [
             [
              0,
              "#0d0887"
             ],
             [
              0.1111111111111111,
              "#46039f"
             ],
             [
              0.2222222222222222,
              "#7201a8"
             ],
             [
              0.3333333333333333,
              "#9c179e"
             ],
             [
              0.4444444444444444,
              "#bd3786"
             ],
             [
              0.5555555555555556,
              "#d8576b"
             ],
             [
              0.6666666666666666,
              "#ed7953"
             ],
             [
              0.7777777777777778,
              "#fb9f3a"
             ],
             [
              0.8888888888888888,
              "#fdca26"
             ],
             [
              1,
              "#f0f921"
             ]
            ],
            "type": "heatmap"
           }
          ],
          "histogram": [
           {
            "marker": {
             "pattern": {
              "fillmode": "overlay",
              "size": 10,
              "solidity": 0.2
             }
            },
            "type": "histogram"
           }
          ],
          "histogram2d": [
           {
            "colorbar": {
             "outlinewidth": 0,
             "ticks": ""
            },
            "colorscale": [
             [
              0,
              "#0d0887"
             ],
             [
              0.1111111111111111,
              "#46039f"
             ],
             [
              0.2222222222222222,
              "#7201a8"
             ],
             [
              0.3333333333333333,
              "#9c179e"
             ],
             [
              0.4444444444444444,
              "#bd3786"
             ],
             [
              0.5555555555555556,
              "#d8576b"
             ],
             [
              0.6666666666666666,
              "#ed7953"
             ],
             [
              0.7777777777777778,
              "#fb9f3a"
             ],
             [
              0.8888888888888888,
              "#fdca26"
             ],
             [
              1,
              "#f0f921"
             ]
            ],
            "type": "histogram2d"
           }
          ],
          "histogram2dcontour": [
           {
            "colorbar": {
             "outlinewidth": 0,
             "ticks": ""
            },
            "colorscale": [
             [
              0,
              "#0d0887"
             ],
             [
              0.1111111111111111,
              "#46039f"
             ],
             [
              0.2222222222222222,
              "#7201a8"
             ],
             [
              0.3333333333333333,
              "#9c179e"
             ],
             [
              0.4444444444444444,
              "#bd3786"
             ],
             [
              0.5555555555555556,
              "#d8576b"
             ],
             [
              0.6666666666666666,
              "#ed7953"
             ],
             [
              0.7777777777777778,
              "#fb9f3a"
             ],
             [
              0.8888888888888888,
              "#fdca26"
             ],
             [
              1,
              "#f0f921"
             ]
            ],
            "type": "histogram2dcontour"
           }
          ],
          "mesh3d": [
           {
            "colorbar": {
             "outlinewidth": 0,
             "ticks": ""
            },
            "type": "mesh3d"
           }
          ],
          "parcoords": [
           {
            "line": {
             "colorbar": {
              "outlinewidth": 0,
              "ticks": ""
             }
            },
            "type": "parcoords"
           }
          ],
          "pie": [
           {
            "automargin": true,
            "type": "pie"
           }
          ],
          "scatter": [
           {
            "fillpattern": {
             "fillmode": "overlay",
             "size": 10,
             "solidity": 0.2
            },
            "type": "scatter"
           }
          ],
          "scatter3d": [
           {
            "line": {
             "colorbar": {
              "outlinewidth": 0,
              "ticks": ""
             }
            },
            "marker": {
             "colorbar": {
              "outlinewidth": 0,
              "ticks": ""
             }
            },
            "type": "scatter3d"
           }
          ],
          "scattercarpet": [
           {
            "marker": {
             "colorbar": {
              "outlinewidth": 0,
              "ticks": ""
             }
            },
            "type": "scattercarpet"
           }
          ],
          "scattergeo": [
           {
            "marker": {
             "colorbar": {
              "outlinewidth": 0,
              "ticks": ""
             }
            },
            "type": "scattergeo"
           }
          ],
          "scattergl": [
           {
            "marker": {
             "colorbar": {
              "outlinewidth": 0,
              "ticks": ""
             }
            },
            "type": "scattergl"
           }
          ],
          "scattermap": [
           {
            "marker": {
             "colorbar": {
              "outlinewidth": 0,
              "ticks": ""
             }
            },
            "type": "scattermap"
           }
          ],
          "scattermapbox": [
           {
            "marker": {
             "colorbar": {
              "outlinewidth": 0,
              "ticks": ""
             }
            },
            "type": "scattermapbox"
           }
          ],
          "scatterpolar": [
           {
            "marker": {
             "colorbar": {
              "outlinewidth": 0,
              "ticks": ""
             }
            },
            "type": "scatterpolar"
           }
          ],
          "scatterpolargl": [
           {
            "marker": {
             "colorbar": {
              "outlinewidth": 0,
              "ticks": ""
             }
            },
            "type": "scatterpolargl"
           }
          ],
          "scatterternary": [
           {
            "marker": {
             "colorbar": {
              "outlinewidth": 0,
              "ticks": ""
             }
            },
            "type": "scatterternary"
           }
          ],
          "surface": [
           {
            "colorbar": {
             "outlinewidth": 0,
             "ticks": ""
            },
            "colorscale": [
             [
              0,
              "#0d0887"
             ],
             [
              0.1111111111111111,
              "#46039f"
             ],
             [
              0.2222222222222222,
              "#7201a8"
             ],
             [
              0.3333333333333333,
              "#9c179e"
             ],
             [
              0.4444444444444444,
              "#bd3786"
             ],
             [
              0.5555555555555556,
              "#d8576b"
             ],
             [
              0.6666666666666666,
              "#ed7953"
             ],
             [
              0.7777777777777778,
              "#fb9f3a"
             ],
             [
              0.8888888888888888,
              "#fdca26"
             ],
             [
              1,
              "#f0f921"
             ]
            ],
            "type": "surface"
           }
          ],
          "table": [
           {
            "cells": {
             "fill": {
              "color": "#EBF0F8"
             },
             "line": {
              "color": "white"
             }
            },
            "header": {
             "fill": {
              "color": "#C8D4E3"
             },
             "line": {
              "color": "white"
             }
            },
            "type": "table"
           }
          ]
         },
         "layout": {
          "annotationdefaults": {
           "arrowcolor": "#2a3f5f",
           "arrowhead": 0,
           "arrowwidth": 1
          },
          "autotypenumbers": "strict",
          "coloraxis": {
           "colorbar": {
            "outlinewidth": 0,
            "ticks": ""
           }
          },
          "colorscale": {
           "diverging": [
            [
             0,
             "#8e0152"
            ],
            [
             0.1,
             "#c51b7d"
            ],
            [
             0.2,
             "#de77ae"
            ],
            [
             0.3,
             "#f1b6da"
            ],
            [
             0.4,
             "#fde0ef"
            ],
            [
             0.5,
             "#f7f7f7"
            ],
            [
             0.6,
             "#e6f5d0"
            ],
            [
             0.7,
             "#b8e186"
            ],
            [
             0.8,
             "#7fbc41"
            ],
            [
             0.9,
             "#4d9221"
            ],
            [
             1,
             "#276419"
            ]
           ],
           "sequential": [
            [
             0,
             "#0d0887"
            ],
            [
             0.1111111111111111,
             "#46039f"
            ],
            [
             0.2222222222222222,
             "#7201a8"
            ],
            [
             0.3333333333333333,
             "#9c179e"
            ],
            [
             0.4444444444444444,
             "#bd3786"
            ],
            [
             0.5555555555555556,
             "#d8576b"
            ],
            [
             0.6666666666666666,
             "#ed7953"
            ],
            [
             0.7777777777777778,
             "#fb9f3a"
            ],
            [
             0.8888888888888888,
             "#fdca26"
            ],
            [
             1,
             "#f0f921"
            ]
           ],
           "sequentialminus": [
            [
             0,
             "#0d0887"
            ],
            [
             0.1111111111111111,
             "#46039f"
            ],
            [
             0.2222222222222222,
             "#7201a8"
            ],
            [
             0.3333333333333333,
             "#9c179e"
            ],
            [
             0.4444444444444444,
             "#bd3786"
            ],
            [
             0.5555555555555556,
             "#d8576b"
            ],
            [
             0.6666666666666666,
             "#ed7953"
            ],
            [
             0.7777777777777778,
             "#fb9f3a"
            ],
            [
             0.8888888888888888,
             "#fdca26"
            ],
            [
             1,
             "#f0f921"
            ]
           ]
          },
          "colorway": [
           "#636efa",
           "#EF553B",
           "#00cc96",
           "#ab63fa",
           "#FFA15A",
           "#19d3f3",
           "#FF6692",
           "#B6E880",
           "#FF97FF",
           "#FECB52"
          ],
          "font": {
           "color": "#2a3f5f"
          },
          "geo": {
           "bgcolor": "white",
           "lakecolor": "white",
           "landcolor": "#E5ECF6",
           "showlakes": true,
           "showland": true,
           "subunitcolor": "white"
          },
          "hoverlabel": {
           "align": "left"
          },
          "hovermode": "closest",
          "mapbox": {
           "style": "light"
          },
          "paper_bgcolor": "white",
          "plot_bgcolor": "#E5ECF6",
          "polar": {
           "angularaxis": {
            "gridcolor": "white",
            "linecolor": "white",
            "ticks": ""
           },
           "bgcolor": "#E5ECF6",
           "radialaxis": {
            "gridcolor": "white",
            "linecolor": "white",
            "ticks": ""
           }
          },
          "scene": {
           "xaxis": {
            "backgroundcolor": "#E5ECF6",
            "gridcolor": "white",
            "gridwidth": 2,
            "linecolor": "white",
            "showbackground": true,
            "ticks": "",
            "zerolinecolor": "white"
           },
           "yaxis": {
            "backgroundcolor": "#E5ECF6",
            "gridcolor": "white",
            "gridwidth": 2,
            "linecolor": "white",
            "showbackground": true,
            "ticks": "",
            "zerolinecolor": "white"
           },
           "zaxis": {
            "backgroundcolor": "#E5ECF6",
            "gridcolor": "white",
            "gridwidth": 2,
            "linecolor": "white",
            "showbackground": true,
            "ticks": "",
            "zerolinecolor": "white"
           }
          },
          "shapedefaults": {
           "line": {
            "color": "#2a3f5f"
           }
          },
          "ternary": {
           "aaxis": {
            "gridcolor": "white",
            "linecolor": "white",
            "ticks": ""
           },
           "baxis": {
            "gridcolor": "white",
            "linecolor": "white",
            "ticks": ""
           },
           "bgcolor": "#E5ECF6",
           "caxis": {
            "gridcolor": "white",
            "linecolor": "white",
            "ticks": ""
           }
          },
          "title": {
           "x": 0.05
          },
          "xaxis": {
           "automargin": true,
           "gridcolor": "white",
           "linecolor": "white",
           "ticks": "",
           "title": {
            "standoff": 15
           },
           "zerolinecolor": "white",
           "zerolinewidth": 2
          },
          "yaxis": {
           "automargin": true,
           "gridcolor": "white",
           "linecolor": "white",
           "ticks": "",
           "title": {
            "standoff": 15
           },
           "zerolinecolor": "white",
           "zerolinewidth": 2
          }
         }
        },
        "title": {
         "font": {
          "color": "darkblue",
          "size": 16
         },
         "text": "🗺️ Top 10 Predictions vs Ground Truth - Interactive Map",
         "x": 0.5,
         "xanchor": "center"
        }
       }
      }
     },
     "metadata": {},
     "output_type": "display_data"
    },
    {
     "data": {
      "image/png": "[encoded data removed]",
      "text/plain": [
       "<Figure size 1600x800 with 2 Axes>"
      ]
     },
     "metadata": {},
     "output_type": "display_data"
    },
    {
     "name": "stdout",
     "output_type": "stream",
     "text": [
      "✅ Interactive map visualization created!\n",
      "   🗺️ Interactive Plotly map with top 10 predictions\n",
      "   🎯 Black circles: Ground truth locations\n",
      "   🤖 Diamond markers: BERT predictions with error lines (thick, solid)\n",
      "   ⚡ Square markers: DistilBERT predictions with error lines (thin, semi-transparent)\n",
      "   📏 Color coding: 🟢 ≤5km | 🟡 ≤25km | 🟠 ≤50km | 🔴 >50km\n",
      "   📊 Bar charts show detailed error comparison\n",
      "\n",
      "✅ Top 10 predictions analysis completed!\n"
     ]
    }
   ],
   "source": [
    "# 🎯 Top 10 Predictions vs Ground Truth Comparison\n",
    "if models_loaded and 'results_df' in globals():\n",
    "    print(\"🎯 TOP 10 PREDICTIONS vs GROUND TRUTH\")\n",
    "    print(\"=\" * 80)\n",
    "    \n",
    "    # Display detailed comparison for top 10 addresses\n",
    "    for i in range(min(10, len(results_df))):\n",
    "        row = results_df.iloc[i]\n",
    "        print(f\"\\n📍 Address {i+1}: {row['address']}\")\n",
    "        print(\"─\" * 60)\n",
    "        \n",
    "        # Ground truth\n",
    "        print(f\"🎯 Ground Truth: ({row['true_lat']:.6f}, {row['true_lon']:.6f})\")\n",
    "        \n",
    "        # BERT predictions\n",
    "        if 'bert_lat' in row and not pd.isna(row['bert_lat']):\n",
    "            bert_error = row['bert_error_km']\n",
    "            error_status = \"🟢 Excellent\" if bert_error <= 5 else \"🟡 Good\" if bert_error <= 25 else \"🟠 Fair\" if bert_error <= 50 else \"🔴 Poor\"\n",
    "            print(f\"🤖 BERT Pred:    ({row['bert_lat']:.6f}, {row['bert_lon']:.6f}) - {error_status} ({bert_error:.2f} km)\")\n",
    "        else:\n",
    "            print(f\"🤖 BERT Pred:    Not available\")\n",
    "            \n",
    "        # DistilBERT predictions\n",
    "        if 'distilbert_lat' in row and not pd.isna(row['distilbert_lat']):\n",
    "            distilbert_error = row['distilbert_error_km']\n",
    "            error_status = \"🟢 Excellent\" if distilbert_error <= 5 else \"🟡 Good\" if distilbert_error <= 25 else \"🟠 Fair\" if distilbert_error <= 50 else \"🔴 Poor\"\n",
    "            print(f\"⚡ DistilBERT:   ({row['distilbert_lat']:.6f}, {row['distilbert_lon']:.6f}) - {error_status} ({distilbert_error:.2f} km)\")\n",
    "        else:\n",
    "            print(f\"⚡ DistilBERT:   Not available\")\n",
    "        \n",
    "        # Winner for this prediction\n",
    "        if 'bert_error_km' in row and 'distilbert_error_km' in row:\n",
    "            if not pd.isna(row['bert_error_km']) and not pd.isna(row['distilbert_error_km']):\n",
    "                winner = \"BERT\" if row['bert_error_km'] < row['distilbert_error_km'] else \"DistilBERT\"\n",
    "                improvement = abs(row['bert_error_km'] - row['distilbert_error_km'])\n",
    "                print(f\"🏆 Winner: {winner} (Better by {improvement:.2f} km)\")\n",
    "    \n",
    "    # Extract top 10 data\n",
    "    top_10 = results_df.head(10)\n",
    "    \n",
    "    # Calculate map center\n",
    "    center_lat = (top_10['true_lat'].min() + top_10['true_lat'].max()) / 2\n",
    "    center_lon = (top_10['true_lon'].min() + top_10['true_lon'].max()) / 2\n",
    "    \n",
    "    # Create interactive Plotly map\n",
    "    print(f\"\\n🗺️ Creating interactive map visualization...\")\n",
    "    \n",
    "    # Function to get error color for markers\n",
    "    def get_error_color(error_km):\n",
    "        if error_km <= 5:\n",
    "            return 'green'\n",
    "        elif error_km <= 25:\n",
    "            return 'yellow'\n",
    "        elif error_km <= 50:\n",
    "            return 'orange'\n",
    "        else:\n",
    "            return 'red'\n",
    "    \n",
    "    # Create the plotly figure\n",
    "    fig = go.Figure()\n",
    "    \n",
    "    # Add ground truth points (black circles)\n",
    "    fig.add_trace(go.Scattermap(\n",
    "        lat=top_10['true_lat'],\n",
    "        lon=top_10['true_lon'],\n",
    "        mode='markers',\n",
    "        marker=dict(\n",
    "            size=15,\n",
    "            color='black',\n",
    "            opacity=0.8\n",
    "        ),\n",
    "        text=[f\"🎯 Ground Truth #{i+1}<br>{addr[:80]}...<br>Lat: {lat:.6f}<br>Lon: {lon:.6f}\" \n",
    "              for i, (addr, lat, lon) in enumerate(zip(top_10['address'], top_10['true_lat'], top_10['true_lon']))],\n",
    "        name='🎯 Ground Truth',\n",
    "        hovertemplate='<b>%{text}</b><extra></extra>'\n",
    "    ))\n",
    "    \n",
    "    # Add BERT predictions (diamonds)\n",
    "    if 'bert_lat' in top_10.columns and 'bert_error_km' in top_10.columns:\n",
    "        bert_colors = [get_error_color(err) for err in top_10['bert_error_km']]\n",
    "        fig.add_trace(go.Scattermap(\n",
    "            lat=top_10['bert_lat'],\n",
    "            lon=top_10['bert_lon'],\n",
    "            mode='markers',\n",
    "            marker=dict(\n",
    "                size=12,\n",
    "                color=bert_colors,\n",
    "                symbol='cross',\n",
    "                opacity=0.8\n",
    "            ),\n",
    "            text=[f\"🤖 BERT Prediction #{i+1}<br>Error: {err:.2f} km<br>Status: {('🟢 Excellent' if err <= 5 else '🟡 Good' if err <= 25 else '🟠 Fair' if err <= 50 else '🔴 Poor')}<br>Lat: {lat:.6f}<br>Lon: {lon:.6f}\" \n",
    "                  for i, (err, lat, lon) in enumerate(zip(top_10['bert_error_km'], top_10['bert_lat'], top_10['bert_lon']))],\n",
    "            name='🤖 BERT Predictions',\n",
    "            hovertemplate='<b>%{text}</b><extra></extra>'\n",
    "        ))\n",
    "        \n",
    "        # Add error lines for BERT (solid lines)\n",
    "        for i, row in top_10.iterrows():\n",
    "            if not pd.isna(row['bert_error_km']):\n",
    "                fig.add_trace(go.Scattermap(\n",
    "                    lat=[row['true_lat'], row['bert_lat']],\n",
    "                    lon=[row['true_lon'], row['bert_lon']],\n",
    "                    mode='lines',\n",
    "                    line=dict(\n",
    "                        width=3,\n",
    "                        color=get_error_color(row['bert_error_km'])\n",
    "                    ),\n",
    "                    showlegend=False,\n",
    "                    hoverinfo='skip'\n",
    "                ))\n",
    "    \n",
    "    # Add DistilBERT predictions (squares)\n",
    "    if 'distilbert_lat' in top_10.columns and 'distilbert_error_km' in top_10.columns:\n",
    "        distilbert_colors = [get_error_color(err) for err in top_10['distilbert_error_km']]\n",
    "        fig.add_trace(go.Scattermap(\n",
    "            lat=top_10['distilbert_lat'],\n",
    "            lon=top_10['distilbert_lon'],\n",
    "            mode='markers',\n",
    "            marker=dict(\n",
    "                size=12,\n",
    "                color=distilbert_colors,\n",
    "                symbol='square',\n",
    "                opacity=0.8\n",
    "            ),\n",
    "            text=[f\"⚡ DistilBERT Prediction #{i+1}<br>Error: {err:.2f} km<br>Status: {('🟢 Excellent' if err <= 5 else '🟡 Good' if err <= 25 else '🟠 Fair' if err <= 50 else '🔴 Poor')}<br>Lat: {lat:.6f}<br>Lon: {lon:.6f}\" \n",
    "                  for i, (err, lat, lon) in enumerate(zip(top_10['distilbert_error_km'], top_10['distilbert_lat'], top_10['distilbert_lon']))],\n",
    "            name='⚡ DistilBERT Predictions',\n",
    "            hovertemplate='<b>%{text}</b><extra></extra>'\n",
    "        ))\n",
    "        \n",
    "        # Add error lines for DistilBERT (thinner lines to distinguish from BERT)\n",
    "        for i, row in top_10.iterrows():\n",
    "            if not pd.isna(row['distilbert_error_km']):\n",
    "                fig.add_trace(go.Scattermap(\n",
    "                    lat=[row['true_lat'], row['distilbert_lat']],\n",
    "                    lon=[row['true_lon'], row['distilbert_lon']],\n",
    "                    mode='lines',\n",
    "                    line=dict(\n",
    "                        width=1,\n",
    "                        color=get_error_color(row['distilbert_error_km'])\n",
    "                    ),\n",
    "                    showlegend=False,\n",
    "                    hoverinfo='skip',\n",
    "                    opacity=0.5\n",
    "                ))\n",
    "    \n",
    "    # Update layout for mapbox\n",
    "    fig.update_layout(\n",
    "        mapbox=dict(\n",
    "            style='open-street-map',\n",
    "            center=dict(lat=center_lat, lon=center_lon),\n",
    "            zoom=11\n",
    "        ),\n",
    "        title={\n",
    "            'text': '🗺️ Top 10 Predictions vs Ground Truth - Interactive Map',\n",
    "            'x': 0.5,\n",
    "            'xanchor': 'center',\n",
    "            'font': {'size': 16, 'color': 'darkblue'}\n",
    "        },\n",
    "        height=700,\n",
    "        margin=dict(l=0, r=0, t=60, b=0),\n",
    "        showlegend=True,\n",
    "        legend=dict(\n",
    "            yanchor=\"top\",\n",
    "            y=0.99,\n",
    "            xanchor=\"left\",\n",
    "            x=0.01,\n",
    "            bgcolor=\"rgba(255,255,255,0.9)\",\n",
    "            bordercolor=\"Black\",\n",
    "            borderwidth=1\n",
    "        )\n",
    "    )\n",
    "    \n",
    "    fig.show()\n",
    "    \n",
    "    # Create error comparison chart\n",
    "    fig2, (ax1, ax2) = plt.subplots(1, 2, figsize=(16, 8))\n",
    "    \n",
    "    indices = range(1, 11)\n",
    "    \n",
    "    # Plot 1: Error comparison\n",
    "    if 'bert_error_km' in top_10.columns and 'distilbert_error_km' in top_10.columns:\n",
    "        bert_errors = top_10['bert_error_km'].fillna(0)\n",
    "        distilbert_errors = top_10['distilbert_error_km'].fillna(0)\n",
    "        \n",
    "        width = 0.35\n",
    "        x = np.arange(len(indices))\n",
    "        \n",
    "        bars1 = ax1.bar(x - width/2, bert_errors, width, label='🤖 BERT', color='blue', alpha=0.7)\n",
    "        bars2 = ax1.bar(x + width/2, distilbert_errors, width, label='⚡ DistilBERT', color='red', alpha=0.7)\n",
    "        \n",
    "        ax1.set_xlabel('Address Index', fontsize=12)\n",
    "        ax1.set_ylabel('Error Distance (km)', fontsize=12)\n",
    "        ax1.set_title('🎯 Error Comparison - Top 10 Addresses', fontsize=14, fontweight='bold')\n",
    "        ax1.set_xticks(x)\n",
    "        ax1.set_xticklabels([f'#{i}' for i in indices])\n",
    "        ax1.legend()\n",
    "        ax1.grid(True, alpha=0.3)\n",
    "        \n",
    "        # Add value labels on bars\n",
    "        for i, (bert_err, distil_err) in enumerate(zip(bert_errors, distilbert_errors)):\n",
    "            if bert_err > 0:\n",
    "                ax1.text(i - width/2, bert_err + 0.5, f'{bert_err:.1f}', ha='center', va='bottom', fontsize=9)\n",
    "            if distil_err > 0:\n",
    "                ax1.text(i + width/2, distil_err + 0.5, f'{distil_err:.1f}', ha='center', va='bottom', fontsize=9)\n",
    "    \n",
    "    # Plot 2: Accuracy distribution\n",
    "    accuracy_ranges = ['≤5km', '5-25km', '25-50km', '>50km']\n",
    "    bert_counts = [0, 0, 0, 0]\n",
    "    distilbert_counts = [0, 0, 0, 0]\n",
    "    \n",
    "    if 'bert_error_km' in top_10.columns:\n",
    "        for error in top_10['bert_error_km'].dropna():\n",
    "            if error <= 5:\n",
    "                bert_counts[0] += 1\n",
    "            elif error <= 25:\n",
    "                bert_counts[1] += 1\n",
    "            elif error <= 50:\n",
    "                bert_counts[2] += 1\n",
    "            else:\n",
    "                bert_counts[3] += 1\n",
    "    \n",
    "    if 'distilbert_error_km' in top_10.columns:\n",
    "        for error in top_10['distilbert_error_km'].dropna():\n",
    "            if error <= 5:\n",
    "                distilbert_counts[0] += 1\n",
    "            elif error <= 25:\n",
    "                distilbert_counts[1] += 1\n",
    "            elif error <= 50:\n",
    "                distilbert_counts[2] += 1\n",
    "            else:\n",
    "                distilbert_counts[3] += 1\n",
    "    \n",
    "    x2 = np.arange(len(accuracy_ranges))\n",
    "    bars3 = ax2.bar(x2 - width/2, bert_counts, width, label='🤖 BERT', color='blue', alpha=0.7)\n",
    "    bars4 = ax2.bar(x2 + width/2, distilbert_counts, width, label='⚡ DistilBERT', color='red', alpha=0.7)\n",
    "    \n",
    "    ax2.set_xlabel('Error Range', fontsize=12)\n",
    "    ax2.set_ylabel('Count', fontsize=12)\n",
    "    ax2.set_title('📊 Error Distribution - Top 10 Addresses', fontsize=14, fontweight='bold')\n",
    "    ax2.set_xticks(x2)\n",
    "    ax2.set_xticklabels(accuracy_ranges)\n",
    "    ax2.legend()\n",
    "    ax2.grid(True, alpha=0.3)\n",
    "    \n",
    "    # Add value labels\n",
    "    for i, (bert_cnt, distil_cnt) in enumerate(zip(bert_counts, distilbert_counts)):\n",
    "        if bert_cnt > 0:\n",
    "            ax2.text(i - width/2, bert_cnt + 0.1, str(bert_cnt), ha='center', va='bottom', fontsize=10, fontweight='bold')\n",
    "        if distil_cnt > 0:\n",
    "            ax2.text(i + width/2, distil_cnt + 0.1, str(distil_cnt), ha='center', va='bottom', fontsize=10, fontweight='bold')\n",
    "    \n",
    "    plt.tight_layout()\n",
    "    plt.show()\n",
    "    \n",
    "    print(\"✅ Interactive map visualization created!\")\n",
    "    print(\"   🗺️ Interactive Plotly map with top 10 predictions\")\n",
    "    print(\"   🎯 Black circles: Ground truth locations\")\n",
    "    print(\"   🤖 Diamond markers: BERT predictions with error lines (thick, solid)\")\n",
    "    print(\"   ⚡ Square markers: DistilBERT predictions with error lines (thin, semi-transparent)\")\n",
    "    print(\"   📏 Color coding: 🟢 ≤5km | 🟡 ≤25km | 🟠 ≤50km | 🔴 >50km\")\n",
    "    print(\"   📊 Bar charts show detailed error comparison\")\n",
    "    print(\"\\n✅ Top 10 predictions analysis completed!\")\n",
    "    \n",
    "else:\n",
    "    print(\"❌ Cannot display predictions without evaluation results\")"
   ]
  }
 ],
 "metadata": {
  "kernelspec": {
   "display_name": ".venv",
   "language": "python",
   "name": "python3"
  },
  "language_info": {
   "codemirror_mode": {
    "name": "ipython",
    "version": 3
   },
   "file_extension": ".py",
   "mimetype": "text/x-python",
   "name": "python",
   "nbconvert_exporter": "python",
   "pygments_lexer": "ipython3",
   "version": "3.10.11"
  }
 },
 "nbformat": 4,
 "nbformat_minor": 5
}
