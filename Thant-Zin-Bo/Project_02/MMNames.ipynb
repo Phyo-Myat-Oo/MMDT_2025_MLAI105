{
 "cells": [
  {
   "cell_type": "code",
   "execution_count": 1,
   "metadata": {},
   "outputs": [],
   "source": [
    "#!pip install openpyxl for reading excel"
   ]
  },
  {
   "cell_type": "code",
   "execution_count": 1,
   "metadata": {},
   "outputs": [],
   "source": [
    "import data_cleaning as dc\n",
    "dc.main()"
   ]
  },
  {
   "cell_type": "markdown",
   "metadata": {},
   "source": [
    "The first step in our pipeline involves loading the data into a pandas DataFrame. This is accomplished using the pandas library, which is imported at the beginning of the script."
   ]
  },
  {
   "cell_type": "code",
   "execution_count": 8,
   "metadata": {},
   "outputs": [],
   "source": [
    "# Step 1: Load the data\n",
    "import pandas as pd\n",
    "from tensorflow.keras.callbacks import EarlyStopping\n",
    "\n",
    "df = pd.read_csv('C:/Intro-to-Deep-Learning/chapter2/Project_02/data/MMNames_clean.csv')"
   ]
  },
  {
   "cell_type": "code",
   "execution_count": 13,
   "metadata": {},
   "outputs": [
    {
     "name": "stdout",
     "output_type": "stream",
     "text": [
      "Shape of feature matrix: (19513, 1000)\n",
      "(13659, 1000) (5854, 1000)\n",
      "     (   (e  (ea   (n  (no   (s  (so    a   ai  ain   au    b   ba   be   bo  \\\n",
      "0  0.0  0.0  0.0  0.0  0.0  0.0  0.0  0.0  0.0  0.0  0.0  0.0  0.0  0.0  0.0   \n",
      "1  0.0  0.0  0.0  0.0  0.0  0.0  0.0  0.0  0.0  0.0  0.0  0.0  0.0  0.0  0.0   \n",
      "2  0.0  0.0  0.0  0.0  0.0  0.0  0.0  0.0  0.0  0.0  0.0  0.0  0.0  0.0  0.0   \n",
      "3  0.0  0.0  0.0  0.0  0.0  0.0  0.0  0.0  0.0  0.0  0.0  0.0  0.0  0.0  0.0   \n",
      "4  0.0  0.0  0.0  0.0  0.0  0.0  0.0  0.0  0.0  0.0  0.0  0.0  0.0  0.0  0.0   \n",
      "\n",
      "     c   ch  cha  cho    d  \n",
      "0  0.0  0.0  0.0  0.0  0.0  \n",
      "1  0.0  0.0  0.0  0.0  0.0  \n",
      "2  0.0  0.0  0.0  0.0  0.0  \n",
      "3  0.0  0.0  0.0  0.0  0.0  \n",
      "4  0.0  0.0  0.0  0.0  0.0  \n"
     ]
    }
   ],
   "source": [
    "# Step 2: Prepare the data\n",
    "import data_preprocessing as dp\n",
    "from sklearn.preprocessing import StandardScaler\n",
    "from sklearn.model_selection import train_test_split\n",
    "\n",
    "df = dp.preprocess_category(df,'SR_Name')\n",
    "#df = dp.preprocess_onehot(df,'name')\n",
    "\n",
    "y = df['SR_Name'].values \n",
    "#X = df.drop(columns=['SR_Name']).values\n",
    " #--- CHANGE 1: Using new TF-IDF function ---\n",
    "# This creates features based on character patterns, not identities.\n",
    "X, vectorizer = dp.preprocess_text_features(df, 'name')\n",
    "\n",
    "print(f\"Shape of feature matrix: {X.shape}\") # Should be (num_samples, 1000)\n",
    "X_train, X_test, y_train, y_test = train_test_split(X, y, test_size=0.3, random_state=42)\n",
    "print(X_train.shape, X_test.shape)\n",
    "\n",
    "\n",
    "# Convert sparse TF-IDF matrix X to a DataFrame\n",
    "feature_df = pd.DataFrame(\n",
    "        X, \n",
    "        columns=vectorizer.get_feature_names_out()      # all 1 000 n-gram columns\n",
    ")\n",
    "\n",
    "# Display the first 5 rows and only the first 20 columns\n",
    "print(feature_df.iloc[:5, :20])"
   ]
  },
  {
   "cell_type": "code",
   "execution_count": 19,
   "metadata": {},
   "outputs": [],
   "source": [
    "# Step 3: Build a NN model with TensorFlow\n",
    "import tensorflow as tf\n",
    "\n",
    "def create_classification_model(input_shape, num_classes, params={}):\n",
    "    model = tf.keras.Sequential([\n",
    "        tf.keras.layers.InputLayer(shape=input_shape),\n",
    "        tf.keras.layers.Dense(128, activation='relu'),\n",
    "        tf.keras.layers.Dense(64, activation='relu'),\n",
    "        tf.keras.layers.Dense(32, activation='relu'),\n",
    "        tf.keras.layers.Dense(16, activation='relu'),\n",
    "        tf.keras.layers.Dense(num_classes, activation='softmax')\n",
    "    ])\n",
    "\n",
    "    model.compile(optimizer='adam', loss='sparse_categorical_crossentropy', metrics=['accuracy'])\n",
    "    \n",
    "    return model"
   ]
  },
  {
   "cell_type": "code",
   "execution_count": 20,
   "metadata": {},
   "outputs": [],
   "source": [
    "# Step 4: Create and train the model\n",
    "model = create_classification_model(input_shape=[X_train.shape[1]],num_classes=len(df['SR_Name'].unique()), )\n",
    "history = model.fit(X_train, y_train, epochs=50, batch_size=32, validation_data=(X_test, y_test), verbose=0)\n",
    "\n",
    "# 1. Create an EarlyStopping callback\n",
    "# This will monitor the validation loss and stop training when it stops improving.\n",
    "early_stopping = EarlyStopping(\n",
    "    monitor='val_loss', \n",
    "    patience=10, # Number of epochs with no improvement before stopping\n",
    "    restore_best_weights=True # Restores the model from the epoch with the best val_loss\n",
    ")"
   ]
  },
  {
   "cell_type": "code",
   "execution_count": 21,
   "metadata": {},
   "outputs": [],
   "source": [
    "# Step 5: Evaluate the model\n",
    "\n",
    "from sklearn.metrics import confusion_matrix\n",
    "from sklearn.metrics import classification_report\n",
    "from sklearn.metrics import accuracy_score\n",
    "\n",
    "y_pred = model.predict(X_test, batch_size=32, verbose=0)\n",
    "y_pred = y_pred.argmax(axis=1)\n",
    "report = classification_report(y_test, y_pred, output_dict=True)\n",
    "report_df = pd.DataFrame(report).round(2).transpose()\n",
    "report_df.to_csv('C:/Intro-to-Deep-Learning/chapter2/Project_02/data/cls_report_test_4hidden_ngram.csv', index=False)\n",
    "\n",
    "y_pred = model.predict(X_train, batch_size=32, verbose=0)\n",
    "y_pred = y_pred.argmax(axis=1)\n",
    "report = classification_report(y_train, y_pred, output_dict=True)\n",
    "report_df = pd.DataFrame(report).round(2).transpose()\n",
    "report_df.to_csv('C:/Intro-to-Deep-Learning/chapter2/Project_02/data/cls_report_train_4hidden_ngram.csv', index=False)\n"
   ]
  }
 ],
 "metadata": {
  "kernelspec": {
   "display_name": "Python 3",
   "language": "python",
   "name": "python3"
  },
  "language_info": {
   "codemirror_mode": {
    "name": "ipython",
    "version": 3
   },
   "file_extension": ".py",
   "mimetype": "text/x-python",
   "name": "python",
   "nbconvert_exporter": "python",
   "pygments_lexer": "ipython3",
   "version": "3.12.3"
  }
 },
 "nbformat": 4,
 "nbformat_minor": 2
}
